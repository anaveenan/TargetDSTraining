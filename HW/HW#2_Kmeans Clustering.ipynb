{
 "cells": [
  {
   "cell_type": "markdown",
   "metadata": {},
   "source": [
    "# HW2.0:\n",
    "How do you merge  two sorted  lists/arrays of records of the form [key, value]? Where is this  used in Hadoop MapReduce? [Hint within the shuffle]\n",
    "What is  a combiner function in the context of Hadoop? \n",
    "Give an example where it can be used and justify why it should be used in the context of this problem.\n",
    "What is the Hadoop shuffle?"
   ]
  },
  {
   "cell_type": "markdown",
   "metadata": {},
   "source": [
    "## Answer HW2.0\n",
    "By doing order inversion or value-to-key conversions.  This is used in memory in MapReduce.  Combiner performs further aggregations after the mapper function, thereby reducing the memory needed by the reducer if it is to perform any in-memory processing. \"It worth noting that Combiners can be used in this schema to exclude duplicates from category lists before data will be transmitted to Reducer.\" The Hadoop shuffle is when the partitioners group the keys , value pairs by keys before sending them to the reducer."
   ]
  },
  {
   "cell_type": "code",
   "execution_count": null,
   "metadata": {
    "collapsed": true
   },
   "outputs": [],
   "source": []
  },
  {
   "cell_type": "markdown",
   "metadata": {},
   "source": [
    "# HW2.1: Counters as a debugging aid (and for getting work done, but please use sparingly as they are heavy)\n",
    "\n",
    "Now, let’s use MapReduce Counters to identify the number of complaints pertaining to debt collection, mortgage and other categories (all other categories get lumped into this one) in the consumer complaints dataset. Basically produce the distribution of the Product column in this dataset using counters (limited to 3 counters here).\n",
    "\n",
    "Hadoop offers Job Tracker, an UI tool to determine the status and statistics of all jobs. Using the job tracker UI, developers can view the Counters that have been created. Screenshot your  job tracker UI as your job completes and include it here. Make sure that your user defined counters are visible. "
   ]
  },
  {
   "cell_type": "markdown",
   "metadata": {},
   "source": [
    "## Answer HW#2.1"
   ]
  },
  {
   "cell_type": "code",
   "execution_count": 1,
   "metadata": {
    "collapsed": false
   },
   "outputs": [
    {
     "name": "stdout",
     "output_type": "stream",
     "text": [
      "Overwriting km_hw2_1_counters.py\n"
     ]
    }
   ],
   "source": [
    "%%writefile km_hw2_1_counters.py\n",
    "# MRJob development\n",
    "from mrjob.job import MRJob\n",
    "from mrjob.step import MRStep\n",
    "import csv \n",
    "\n",
    "cols = 'ComplaintID,Product,Sub-product,Issue,Subissue,State,ZIPcode,Submittedvia,Datereceived,Datesent,Company,Companyresponse,Timelyresponse,Consumerdisputed'.split(',')\n",
    "print cols\n",
    "\n",
    "class MRcounters(MRJob):\n",
    "    \n",
    "    def mapper(self, _, line):\n",
    "        row = dict(zip(cols, [ a.strip() for a in csv.reader([line]).next()]))\n",
    "        #self.increment_counter('group', 'Num_mapper_calls', 1)\n",
    "\n",
    "        if row['Product'] == 'Product':\n",
    "            return\n",
    "        \n",
    "        elif row['Product'].lower() == 'debt collection':\n",
    "            self.increment_counter('debt collection' , 'Num_mapper_calls' , 1)\n",
    "                \n",
    "        elif row['Product'].lower() == 'mortgage':\n",
    "            self.increment_counter('mortgage' , 'Num_mapper_calls' , 1)\n",
    "                \n",
    "        else :\n",
    "            self.increment_counter('other' , 'Num_mapper_calls' , 1) \n",
    "\n",
    "if __name__ == \"__main__\":\n",
    "    MRcounters.run()\n"
   ]
  },
  {
   "cell_type": "code",
   "execution_count": 2,
   "metadata": {
    "collapsed": false,
    "scrolled": true
   },
   "outputs": [
    {
     "name": "stdout",
     "output_type": "stream",
     "text": [
      "['ComplaintID', 'Product', 'Sub-product', 'Issue', 'Subissue', 'State', 'ZIPcode', 'Submittedvia', 'Datereceived', 'Datesent', 'Company', 'Companyresponse', 'Timelyresponse', 'Consumerdisputed']\n"
     ]
    },
    {
     "name": "stderr",
     "output_type": "stream",
     "text": [
      "No configs found; falling back on auto-configuration\n",
      "Creating temp directory c:\\users\\z001c9v\\appdata\\local\\temp\\km_hw2_1_counters.z001c9v.20160729.140536.621000\n",
      "Running step 1 of 1...\n",
      "Counters: 3\n",
      "\tdebt collection\n",
      "\t\tNum_mapper_calls=44372\n",
      "\tmortgage\n",
      "\t\tNum_mapper_calls=125752\n",
      "\tother\n",
      "\t\tNum_mapper_calls=142788\n",
      "Streaming final output from c:\\users\\z001c9v\\appdata\\local\\temp\\km_hw2_1_counters.z001c9v.20160729.140536.621000\\output...\n",
      "Removing temp directory c:\\users\\z001c9v\\appdata\\local\\temp\\km_hw2_1_counters.z001c9v.20160729.140536.621000...\n"
     ]
    }
   ],
   "source": [
    "# MRJob rund code\n",
    "!python km_hw2_1_counters.py Consumer_Complaints.csv"
   ]
  },
  {
   "cell_type": "markdown",
   "metadata": {},
   "source": [
    "No configs found; falling back on auto-configuration\n",
    "Creating temp directory c:\\users\\z001c9v\\appdata\\local\\temp\\km_hw2_1_counters.Z001C9V.20160706.040015.428000\n",
    "Running step 1 of 1...\n",
    "\n",
    ">Counters: 3\n",
    "\t1. debt collection\n",
    "\t\tNum_mapper_calls=44372\n",
    "\t2. mortgage\n",
    "\t\tNum_mapper_calls=125752\n",
    "\t3. other\n",
    "\t\tNum_mapper_calls=142788\n",
    "       \n",
    "Streaming final output from c:\\users\\z001c9v\\appdata\\local\\temp\\km_hw2_1_counters.Z001C9V.20160706.040015.428000\\output...\n",
    "Removing temp directory c:\\users\\z001c9v\\appdata\\local\\temp\\km_hw2_1_counters.Z001C9V.20160706.040015.428000..."
   ]
  },
  {
   "cell_type": "markdown",
   "metadata": {},
   "source": [
    "# HW2.2: Analyze the performance of your Mappers, Combiners and Reducers using Counters"
   ]
  },
  {
   "cell_type": "markdown",
   "metadata": {},
   "source": [
    "### Answer HW#2.2 - a\n",
    "Perform a word count analysis of this single record dataset using a Mapper and Reducer based WordCount (i.e., no combiners are used here) using user defined Counters to count up how many time the mapper and reducer are called. What is the value of your user defined Mapper Counter, and Reducer Counter after completing this word count job. The answer  should be 1 and 4 respectively. Please explain."
   ]
  },
  {
   "cell_type": "code",
   "execution_count": 3,
   "metadata": {
    "collapsed": true
   },
   "outputs": [],
   "source": [
    "!echo foo,foo,quux,labs,foo,bar,quux > input_hw_2_2.txt"
   ]
  },
  {
   "cell_type": "code",
   "execution_count": 4,
   "metadata": {
    "collapsed": false
   },
   "outputs": [
    {
     "name": "stdout",
     "output_type": "stream",
     "text": [
      "Overwriting km_hw_2_2_counters_a.py\n"
     ]
    }
   ],
   "source": [
    "%%writefile km_hw_2_2_counters_a.py\n",
    "from mrjob.job import MRJob\n",
    "from mrjob.step import MRStep\n",
    "import csv\n",
    "import string\n",
    "\n",
    "\n",
    "class MRCounter2_2(MRJob):\n",
    "    counter = 0 \n",
    "    def mapper(self, _ , line):\n",
    "        self.increment_counter('group', 'Mapper_Call_Num' , 1) \n",
    "        word = line.strip().lower().split(',')\n",
    "        #word = line.split('\\t')\n",
    "        print (word)\n",
    "        for item in word:\n",
    "            yield (item,1)\n",
    "           \n",
    "    def reducer(self, key, value):\n",
    "        self.increment_counter('group' , 'Reducer_Call_Num' , 1)\n",
    "        yield(key, sum(value))\n",
    "\n",
    "        #for w in word\n",
    "\n",
    "if __name__ == '__main__':\n",
    "    MRCounter2_2.run()"
   ]
  },
  {
   "cell_type": "code",
   "execution_count": 5,
   "metadata": {
    "collapsed": false
   },
   "outputs": [
    {
     "name": "stdout",
     "output_type": "stream",
     "text": [
      "['foo', 'foo', 'quux', 'labs', 'foo', 'bar', 'quux']\n",
      "\"bar\"\t1\n",
      "\"foo\"\t3\n",
      "\"labs\"\t1\n",
      "\"quux\"\t2\n"
     ]
    },
    {
     "name": "stderr",
     "output_type": "stream",
     "text": [
      "No configs found; falling back on auto-configuration\n",
      "Creating temp directory c:\\users\\z001c9v\\appdata\\local\\temp\\km_hw_2_2_counters_a.z001c9v.20160729.140544.778000\n",
      "Running step 1 of 1...\n",
      "Counters: 1\n",
      "\tgroup\n",
      "\t\tMapper_Call_Num=1\n",
      "Counters: 2\n",
      "\tgroup\n",
      "\t\tMapper_Call_Num=1\n",
      "\t\tReducer_Call_Num=4\n",
      "Streaming final output from c:\\users\\z001c9v\\appdata\\local\\temp\\km_hw_2_2_counters_a.z001c9v.20160729.140544.778000\\output...\n",
      "Removing temp directory c:\\users\\z001c9v\\appdata\\local\\temp\\km_hw_2_2_counters_a.z001c9v.20160729.140544.778000...\n"
     ]
    }
   ],
   "source": [
    "!python km_hw_2_2_counters_a.py input_hw_2_2.txt"
   ]
  },
  {
   "cell_type": "code",
   "execution_count": 6,
   "metadata": {
    "collapsed": true
   },
   "outputs": [],
   "source": [
    "# One run through the mapper creates a list that holds 4 keys and 1s.  The reducer receives a list of values one key at a time. \n",
    "# Thus, since there are 4 unique keys(words) in the list, the reducer runs 4 times."
   ]
  },
  {
   "cell_type": "markdown",
   "metadata": {},
   "source": [
    "### Answer HW#2.2 - b\n",
    "Perform a word count analysis of the Issue column of the Consumer Complaints  Dataset using a Mapper and Reducer based WordCount (i.e., no combiners used anywhere)  using user defined Counters to count up how many times the mapper and reducer are called. What is the value of your user defined Mapper Counter, and Reducer Counter after completing your word count job."
   ]
  },
  {
   "cell_type": "code",
   "execution_count": 7,
   "metadata": {
    "collapsed": false
   },
   "outputs": [
    {
     "name": "stdout",
     "output_type": "stream",
     "text": [
      "Overwriting km_hw_2_2_counters_b.py\n"
     ]
    }
   ],
   "source": [
    "%%writefile km_hw_2_2_counters_b.py\n",
    "from mrjob.job import MRJob\n",
    "from mrjob.step import MRStep\n",
    "import csv , string, re\n",
    "\n",
    "\n",
    "class MRCounter2_2(MRJob):\n",
    "    counter = 0 \n",
    "    def mapper(self, _ , line):\n",
    "        self.increment_counter('group', 'Mapper_Call_Num' , 1) \n",
    "        word = line.strip().lower().split(',')\n",
    "        #word = line.split('\\t')\n",
    "        #print (word)\n",
    "        issue = word[3]\n",
    "        #print('issue:', issue)\n",
    "        word2 = issue.split(' ')\n",
    "        #print ('word2:' , word2)\n",
    "        for item in word2:\n",
    "            #print item\n",
    "            yield (item,1)\n",
    "            #break   \n",
    "    def reducer(self, key, value):\n",
    "        self.increment_counter('group' , 'Reducer_Call_Num' , 1)\n",
    "        yield(key, sum(value))\n",
    "\n",
    "if __name__ == '__main__':\n",
    "    MRCounter2_2.run()"
   ]
  },
  {
   "cell_type": "code",
   "execution_count": 8,
   "metadata": {
    "collapsed": false
   },
   "outputs": [
    {
     "name": "stdout",
     "output_type": "stream",
     "text": [
      "\"\"\t12549\n",
      "\"/\"\t12386\n",
      "\"\\\"account\"\t16205\n",
      "\"\\\"application\"\t8625\n",
      "\"\\\"loan\"\t107254\n",
      "\"\\\"making/receiving\"\t3226\n",
      "\"a\"\t3503\n",
      "\"account\"\t4476\n",
      "\"acct\"\t163\n",
      "\"action\"\t2505\n",
      "\"advance\"\t240\n",
      "\"advertising\"\t1193\n",
      "\"amount\"\t98\n",
      "\"amt\"\t71\n",
      "\"an\"\t2505\n",
      "\"and\"\t16448\n",
      "\"application\"\t243\n",
      "\"applied\"\t139\n",
      "\"apply\"\t118\n",
      "\"apr\"\t3431\n",
      "\"arbitration\"\t168\n",
      "\"are\"\t3821\n",
      "\"atm\"\t2422\n",
      "\"attempts\"\t11848\n",
      "\"available\"\t274\n",
      "\"balance\"\t597\n",
      "\"bank\"\t202\n",
      "\"bankruptcy\"\t222\n",
      "\"being\"\t5663\n",
      "\"billing\"\t8158\n",
      "\"by\"\t5663\n",
      "\"can't\"\t1999\n",
      "\"card\"\t4405\n",
      "\"cash\"\t240\n",
      "\"caused\"\t5663\n",
      "\"changes\"\t350\n",
      "\"charged\"\t976\n",
      "\"charges\"\t131\n",
      "\"checks\"\t75\n",
      "\"closing/cancelling\"\t2795\n",
      "\"club\"\t12545\n",
      "\"collect\"\t11848\n",
      "\"collection\"\t1907\n",
      "\"communication\"\t6920\n",
      "\"company's\"\t4858\n",
      "\"cont'd\"\t11848\n",
      "\"contact\"\t3053\n",
      "\"convenience\"\t75\n",
      "\"costs\"\t4350\n",
      "\"credit\"\t50894\n",
      "\"credited\"\t92\n",
      "\"customer\"\t2734\n",
      "\"day\"\t71\n",
      "\"dealing\"\t1944\n",
      "\"debit\"\t2422\n",
      "\"debt\"\t19309\n",
      "\"decision\"\t2774\n",
      "\"delay\"\t243\n",
      "\"delinquent\"\t1061\n",
      "\"deposits\"\t10555\n",
      "\"determination\"\t1490\n",
      "\"didn't\"\t925\n",
      "\"disclosure\"\t5214\n",
      "\"disclosures\"\t64\n",
      "\"dispute\"\t904\n",
      "\"disputes\"\t6938\n",
      "\"embezzlement\"\t3276\n",
      "\"expect\"\t807\n",
      "\"false\"\t2508\n",
      "\"fee\"\t3198\n",
      "\"fees\"\t807\n",
      "\"for\"\t929\n",
      "\"forbearance\"\t350\n",
      "\"fraud\"\t3842\n",
      "\"funds\"\t5663\n",
      "\"get\"\t4357\n",
      "\"getting\"\t291\n",
      "\"health\"\t12545\n",
      "\"i\"\t925\n",
      "\"identity\"\t4729\n",
      "\"illegal\"\t2505\n",
      "\"improper\"\t4309\n",
      "\"incorrect\"\t29069\n",
      "\"incorrect/missing\"\t64\n",
      "\"increase/decrease\"\t1149\n",
      "\"info\"\t2896\n",
      "\"information\"\t29069\n",
      "\"interest\"\t4238\n",
      "\"investigation\"\t4858\n",
      "\"issuance\"\t640\n",
      "\"issue\"\t1099\n",
      "\"issues\"\t538\n",
      "\"late\"\t1797\n",
      "\"lease\"\t6337\n",
      "\"lender\"\t2165\n",
      "\"line\"\t1732\n",
      "\"loan\"\t12237\n",
      "\"loan/did\"\t139\n",
      "\"low\"\t5663\n",
      "\"managing\"\t5006\n",
      "\"marketing\"\t1193\n",
      "\"modification\"\t70487\n",
      "\"money\"\t413\n",
      "\"monitoring\"\t1453\n",
      "\"my\"\t10731\n",
      "\"not\"\t12353\n",
      "\"of\"\t10885\n",
      "\"on\"\t29069\n",
      "\"opening\"\t16205\n",
      "\"or\"\t22533\n",
      "\"other\"\t7886\n",
      "\"out\"\t1242\n",
      "\"overlimit\"\t127\n",
      "\"owed\"\t11848\n",
      "\"pay\"\t3821\n",
      "\"payment\"\t92\n",
      "\"payments\"\t3226\n",
      "\"payoff\"\t1155\n",
      "\"plans\"\t350\n",
      "\"practices\"\t1003\n",
      "\"privacy\"\t240\n",
      "\"problems\"\t9484\n",
      "\"process\"\t5505\n",
      "\"processing\"\t243\n",
      "\"promised\"\t274\n",
      "\"protection\"\t4139\n",
      "\"rate\"\t3431\n",
      "\"receive\"\t139\n",
      "\"received\"\t216\n",
      "\"relations\"\t1367\n",
      "\"repay\"\t1647\n",
      "\"repaying\"\t3844\n",
      "\"report\"\t30546\n",
      "\"report/credit\"\t4357\n",
      "\"reporting\"\t6559\n",
      "\"representation\"\t2508\n",
      "\"rewards\"\t1002\n",
      "\"sale\"\t139\n",
      "\"scam\"\t566\n",
      "\"score\"\t4357\n",
      "\"service\"\t1518\n",
      "\"servicer\"\t1944\n",
      "\"servicing\"\t36767\n",
      "\"settlement\"\t4350\n",
      "\"sharing\"\t2832\n",
      "\"shopping\"\t672\n",
      "\"statement\"\t1220\n",
      "\"statements\"\t2508\n",
      "\"stop\"\t131\n",
      "\"tactics\"\t6920\n",
      "\"taking\"\t1242\n",
      "\"taking/threatening\"\t2505\n",
      "\"terms\"\t350\n",
      "\"the\"\t6248\n",
      "\"theft\"\t3276\n",
      "\"to\"\t8401\n",
      "\"transaction\"\t1485\n",
      "\"transfer\"\t597\n",
      "\"unable\"\t8178\n",
      "\"underwriting\"\t2774\n",
      "\"unsolicited\"\t640\n",
      "\"use\"\t1477\n",
      "\"using\"\t2422\n",
      "\"verification\"\t5214\n",
      "\"was\"\t274\n",
      "\"when\"\t4095\n",
      "\"with\"\t1944\n",
      "\"withdrawals\"\t10555\n",
      "\"workout\"\t350\n",
      "\"wrong\"\t169\n",
      "\"you\"\t3821\n",
      "\"your\"\t3844\n"
     ]
    },
    {
     "name": "stderr",
     "output_type": "stream",
     "text": [
      "No configs found; falling back on auto-configuration\n",
      "Creating temp directory c:\\users\\z001c9v\\appdata\\local\\temp\\km_hw_2_2_counters_b.z001c9v.20160729.140547.766000\n",
      "Running step 1 of 1...\n",
      "Counters: 1\n",
      "\tgroup\n",
      "\t\tMapper_Call_Num=312913\n",
      "Counters: 2\n",
      "\tgroup\n",
      "\t\tMapper_Call_Num=312913\n",
      "\t\tReducer_Call_Num=172\n",
      "Streaming final output from c:\\users\\z001c9v\\appdata\\local\\temp\\km_hw_2_2_counters_b.z001c9v.20160729.140547.766000\\output...\n",
      "Removing temp directory c:\\users\\z001c9v\\appdata\\local\\temp\\km_hw_2_2_counters_b.z001c9v.20160729.140547.766000...\n"
     ]
    }
   ],
   "source": [
    "!python km_hw_2_2_counters_b.py Consumer_Complaints.csv"
   ]
  },
  {
   "cell_type": "markdown",
   "metadata": {},
   "source": [
    "### Output:\n",
    "No configs found; falling back on auto-configuration\n",
    "Creating temp directory c:\\users\\z001c9v\\appdata\\local\\temp\\km_hw_2_2_counters_b.Z001C9V.20160706.162736.861000\n",
    "Running step 1 of 1...\n",
    ">Counters: 1\n",
    "\t1. group\n",
    "\t\tMapper_Call_Num=312913\n",
    ">Counters: 2\n",
    "\t1. group\n",
    "\t\tMapper_Call_Num=312913\n",
    "\t\tReducer_Call_Num=172\n",
    "Streaming final output from c:\\users\\z001c9v\\appdata\\local\\temp\\km_hw_2_2_counters_b.Z001C9V.20160706.162736.861000\\output...\n",
    "Removing temp directory c:\\users\\z001c9v\\appdata\\local\\temp\\km_hw_2_2_counters_b.Z001C9V.20160706.162736.861000...\n"
   ]
  },
  {
   "cell_type": "markdown",
   "metadata": {},
   "source": [
    "### Answer HW#2.2 - c\n",
    "Perform a word count analysis of the Issue column of the Consumer Complaints  Dataset using a Mapper, Reducer, and standalone combiner (i.e., not an in-memory combiner) based WordCount using user defined Counters to count up how many time the mapper, combiner, reducer are called. What is the value of your user defined Mapper Counter, combiner counter, and Reducer Counter after completing your word count job. \n"
   ]
  },
  {
   "cell_type": "code",
   "execution_count": 9,
   "metadata": {
    "collapsed": false
   },
   "outputs": [
    {
     "name": "stdout",
     "output_type": "stream",
     "text": [
      "Overwriting km_hw_2_2_counters_c.py\n"
     ]
    }
   ],
   "source": [
    "%%writefile km_hw_2_2_counters_c.py\n",
    "from mrjob.job import MRJob\n",
    "from mrjob.step import MRStep\n",
    "import csv , string, re\n",
    "\n",
    "\n",
    "class MRCounter2_2(MRJob):\n",
    "    counter = 0 \n",
    "    def mapper(self, _ , line):\n",
    "        self.increment_counter('group', 'Mapper_Call_Num' , 1) \n",
    "        word = line.strip().lower().split(',')\n",
    "        #word = line.split('\\t')\n",
    "        #print (word)\n",
    "        issue = word[3]\n",
    "        #print('issue:', issue)\n",
    "        word2 = issue.split(' ')\n",
    "        #print ('word2:' , word2)\n",
    "        for item in word2:\n",
    "            #print item\n",
    "            yield (item,1)\n",
    "            #break \n",
    "    def combiner(self, key, value):\n",
    "        self.increment_counter('group' , 'Combiner_Call_Num' , 1)\n",
    "        yield (key , sum(value))\n",
    "        \n",
    "    def reducer(self, key, value):\n",
    "        self.increment_counter('group' , 'Reducer_Call_Num' , 1)\n",
    "        yield(key, sum(value))\n",
    "\n",
    "if __name__ == '__main__':\n",
    "    MRCounter2_2.run()"
   ]
  },
  {
   "cell_type": "code",
   "execution_count": 10,
   "metadata": {
    "collapsed": false
   },
   "outputs": [
    {
     "name": "stdout",
     "output_type": "stream",
     "text": [
      "\"\"\t12549\n",
      "\"/\"\t12386\n",
      "\"\\\"account\"\t16205\n",
      "\"\\\"application\"\t8625\n",
      "\"\\\"loan\"\t107254\n",
      "\"\\\"making/receiving\"\t3226\n",
      "\"a\"\t3503\n",
      "\"account\"\t4476\n",
      "\"acct\"\t163\n",
      "\"action\"\t2505\n",
      "\"advance\"\t240\n",
      "\"advertising\"\t1193\n",
      "\"amount\"\t98\n",
      "\"amt\"\t71\n",
      "\"an\"\t2505\n",
      "\"and\"\t16448\n",
      "\"application\"\t243\n",
      "\"applied\"\t139\n",
      "\"apply\"\t118\n",
      "\"apr\"\t3431\n",
      "\"arbitration\"\t168\n",
      "\"are\"\t3821\n",
      "\"atm\"\t2422\n",
      "\"attempts\"\t11848\n",
      "\"available\"\t274\n",
      "\"balance\"\t597\n",
      "\"bank\"\t202\n",
      "\"bankruptcy\"\t222\n",
      "\"being\"\t5663\n",
      "\"billing\"\t8158\n",
      "\"by\"\t5663\n",
      "\"can't\"\t1999\n",
      "\"card\"\t4405\n",
      "\"cash\"\t240\n",
      "\"caused\"\t5663\n",
      "\"changes\"\t350\n",
      "\"charged\"\t976\n",
      "\"charges\"\t131\n",
      "\"checks\"\t75\n",
      "\"closing/cancelling\"\t2795\n",
      "\"club\"\t12545\n",
      "\"collect\"\t11848\n",
      "\"collection\"\t1907\n",
      "\"communication\"\t6920\n",
      "\"company's\"\t4858\n",
      "\"cont'd\"\t11848\n",
      "\"contact\"\t3053\n",
      "\"convenience\"\t75\n",
      "\"costs\"\t4350\n",
      "\"credit\"\t50894\n",
      "\"credited\"\t92\n",
      "\"customer\"\t2734\n",
      "\"day\"\t71\n",
      "\"dealing\"\t1944\n",
      "\"debit\"\t2422\n",
      "\"debt\"\t19309\n",
      "\"decision\"\t2774\n",
      "\"delay\"\t243\n",
      "\"delinquent\"\t1061\n",
      "\"deposits\"\t10555\n",
      "\"determination\"\t1490\n",
      "\"didn't\"\t925\n",
      "\"disclosure\"\t5214\n",
      "\"disclosures\"\t64\n",
      "\"dispute\"\t904\n",
      "\"disputes\"\t6938\n",
      "\"embezzlement\"\t3276\n",
      "\"expect\"\t807\n",
      "\"false\"\t2508\n",
      "\"fee\"\t3198\n",
      "\"fees\"\t807\n",
      "\"for\"\t929\n",
      "\"forbearance\"\t350\n",
      "\"fraud\"\t3842\n",
      "\"funds\"\t5663\n",
      "\"get\"\t4357\n",
      "\"getting\"\t291\n",
      "\"health\"\t12545\n",
      "\"i\"\t925\n",
      "\"identity\"\t4729\n",
      "\"illegal\"\t2505\n",
      "\"improper\"\t4309\n",
      "\"incorrect\"\t29069\n",
      "\"incorrect/missing\"\t64\n",
      "\"increase/decrease\"\t1149\n",
      "\"info\"\t2896\n",
      "\"information\"\t29069\n",
      "\"interest\"\t4238\n",
      "\"investigation\"\t4858\n",
      "\"issuance\"\t640\n",
      "\"issue\"\t1099\n",
      "\"issues\"\t538\n",
      "\"late\"\t1797\n",
      "\"lease\"\t6337\n",
      "\"lender\"\t2165\n",
      "\"line\"\t1732\n",
      "\"loan\"\t12237\n",
      "\"loan/did\"\t139\n",
      "\"low\"\t5663\n",
      "\"managing\"\t5006\n",
      "\"marketing\"\t1193\n",
      "\"modification\"\t70487\n",
      "\"money\"\t413\n",
      "\"monitoring\"\t1453\n",
      "\"my\"\t10731\n",
      "\"not\"\t12353\n",
      "\"of\"\t10885\n",
      "\"on\"\t29069\n",
      "\"opening\"\t16205\n",
      "\"or\"\t22533\n",
      "\"other\"\t7886\n",
      "\"out\"\t1242\n",
      "\"overlimit\"\t127\n",
      "\"owed\"\t11848\n",
      "\"pay\"\t3821\n",
      "\"payment\"\t92\n",
      "\"payments\"\t3226\n",
      "\"payoff\"\t1155\n",
      "\"plans\"\t350\n",
      "\"practices\"\t1003\n",
      "\"privacy\"\t240\n",
      "\"problems\"\t9484\n",
      "\"process\"\t5505\n",
      "\"processing\"\t243\n",
      "\"promised\"\t274\n",
      "\"protection\"\t4139\n",
      "\"rate\"\t3431\n",
      "\"receive\"\t139\n",
      "\"received\"\t216\n",
      "\"relations\"\t1367\n",
      "\"repay\"\t1647\n",
      "\"repaying\"\t3844\n",
      "\"report\"\t30546\n",
      "\"report/credit\"\t4357\n",
      "\"reporting\"\t6559\n",
      "\"representation\"\t2508\n",
      "\"rewards\"\t1002\n",
      "\"sale\"\t139\n",
      "\"scam\"\t566\n",
      "\"score\"\t4357\n",
      "\"service\"\t1518\n",
      "\"servicer\"\t1944\n",
      "\"servicing\"\t36767\n",
      "\"settlement\"\t4350\n",
      "\"sharing\"\t2832\n",
      "\"shopping\"\t672\n",
      "\"statement\"\t1220\n",
      "\"statements\"\t2508\n",
      "\"stop\"\t131\n",
      "\"tactics\"\t6920\n",
      "\"taking\"\t1242\n",
      "\"taking/threatening\"\t2505\n",
      "\"terms\"\t350\n",
      "\"the\"\t6248\n",
      "\"theft\"\t3276\n",
      "\"to\"\t8401\n",
      "\"transaction\"\t1485\n",
      "\"transfer\"\t597\n",
      "\"unable\"\t8178\n",
      "\"underwriting\"\t2774\n",
      "\"unsolicited\"\t640\n",
      "\"use\"\t1477\n",
      "\"using\"\t2422\n",
      "\"verification\"\t5214\n",
      "\"was\"\t274\n",
      "\"when\"\t4095\n",
      "\"with\"\t1944\n",
      "\"withdrawals\"\t10555\n",
      "\"workout\"\t350\n",
      "\"wrong\"\t169\n",
      "\"you\"\t3821\n",
      "\"your\"\t3844\n"
     ]
    },
    {
     "name": "stderr",
     "output_type": "stream",
     "text": [
      "No configs found; falling back on auto-configuration\n",
      "Creating temp directory c:\\users\\z001c9v\\appdata\\local\\temp\\km_hw_2_2_counters_c.z001c9v.20160729.140602.047000\n",
      "Running step 1 of 1...\n",
      "Counters: 2\n",
      "\tgroup\n",
      "\t\tCombiner_Call_Num=319\n",
      "\t\tMapper_Call_Num=312913\n",
      "Counters: 3\n",
      "\tgroup\n",
      "\t\tCombiner_Call_Num=319\n",
      "\t\tMapper_Call_Num=312913\n",
      "\t\tReducer_Call_Num=172\n",
      "Streaming final output from c:\\users\\z001c9v\\appdata\\local\\temp\\km_hw_2_2_counters_c.z001c9v.20160729.140602.047000\\output...\n",
      "Removing temp directory c:\\users\\z001c9v\\appdata\\local\\temp\\km_hw_2_2_counters_c.z001c9v.20160729.140602.047000...\n"
     ]
    }
   ],
   "source": [
    "!python km_hw_2_2_counters_c.py Consumer_Complaints.csv"
   ]
  },
  {
   "cell_type": "markdown",
   "metadata": {},
   "source": [
    "### Output:\n",
    "No configs found; falling back on auto-configuration\n",
    "Creating temp directory c:\\users\\z001c9v\\appdata\\local\\temp\\km_hw_2_2_counters_c.Z001C9V.20160706.164411.857000\n",
    "Running step 1 of 1...\n",
    ">Counters: 2\n",
    "\t1. group\n",
    "\t\tCombiner_Call_Num=319\n",
    "\t\tMapper_Call_Num=312913\n",
    ">Counters: 3\n",
    "\t1. group\n",
    "\t\tCombiner_Call_Num=319\n",
    "\t\tMapper_Call_Num=312913\n",
    "\t\tReducer_Call_Num=172\n",
    "Streaming final output from c:\\users\\z001c9v\\appdata\\local\\temp\\km_hw_2_2_counters_c.Z001C9V.20160706.164411.857000\\output...\n",
    "Removing temp directory c:\\users\\z001c9v\\appdata\\local\\temp\\km_hw_2_2_counters_c.Z001C9V.20160706.164411.857000...\n"
   ]
  },
  {
   "cell_type": "markdown",
   "metadata": {},
   "source": [
    "# Answer HW2.2.1\n",
    "Using a single reducer perform a sort of the words in decreasing order of word counts. Present the top 50 terms and their frequency. If there are ties please sort the tokens in alphanumeric/string order. Present bottom 10 tokens (least frequent items). \n",
    "\n",
    "HINT: You will need a second MRStep for the sort part. Step 1 will be the usual word count, while step 2 will be a sort step. Please use the Hadoop/MRJob framework to perform the sort. Please do NOT use any of the built-in sorts  from  python."
   ]
  },
  {
   "cell_type": "code",
   "execution_count": 11,
   "metadata": {
    "collapsed": false
   },
   "outputs": [
    {
     "name": "stdout",
     "output_type": "stream",
     "text": [
      "Overwriting km_hw_2_2_1_counters.py\n"
     ]
    }
   ],
   "source": [
    "%%writefile km_hw_2_2_1_counters.py\n",
    "from mrjob.job import MRJob\n",
    "from mrjob.step import MRStep\n",
    "import csv , string, re\n",
    "#regex = re.compile('[%s]' % re.escape(string.punctuation))\n",
    "\n",
    "class MRCounter2_2(MRJob):\n",
    "    def steps(self):\n",
    "        return [\n",
    "            MRStep ( mapper = self.mapper , \n",
    "                     combiner = self.combiner , \n",
    "                     reducer = self.reducer ) ,\n",
    "            MRStep ( mapper = self.mapper2 ,\n",
    "                    reducer = self.reducer2 )\n",
    "        ]\n",
    "\n",
    "    def __init__(self , *args, **kargs):\n",
    "        super(MRCounter2_2,self).__init__(*args, **kargs)\n",
    "        \n",
    "    def mapper(self, _ , line):\n",
    "        self.increment_counter('group', 'Mapper_Call_Num' , 1)        \n",
    "        word = line.strip().lower().split(',')\n",
    "        #word = line.split('\\t')\n",
    "        #print (word)\n",
    "        issue = word[3]\n",
    "        issue = re.sub('\\W+',' ',issue) \n",
    "        #print('issue:', issue)\n",
    "        word2 = issue.split(' ')\n",
    "        #print ('word2:' , word2)\n",
    "        for item in word2:\n",
    "            #print item\n",
    "            if item == u' ':\n",
    "                yield 'blankxxxx' , 1\n",
    "            yield (item,1)\n",
    "            #break \n",
    "    def combiner(self, key, value):\n",
    "        self.increment_counter('group' , 'Combiner_Call_Num' , 1)\n",
    "        yield (key , sum(value))\n",
    "        \n",
    "    def reducer(self, key, value):\n",
    "        self.increment_counter('group' , 'Reducer_Call_Num' , 1)\n",
    "        #output = {}\n",
    "        yield key , sum(value)\n",
    "        #output[key] = value\n",
    "        #yield None , output\n",
    "        \n",
    "    def mapper2(self, key , value):\n",
    "        self.increment_counter('group' , 'Mapper2_Call_Num' ,1)\n",
    "        num_int = format(\"%010d\" % value)\n",
    "        #num_sort = num_int + key\n",
    "        #print 'mapper2:' , (num_int , key)\n",
    "        #print '\\n'\n",
    "        #yield 'None' , list(num_int) , key\n",
    "        yield 'None' , (num_int , key)\n",
    "        \n",
    "        # yield None , (key , value)\n",
    "        '''\n",
    "        for word, num in value:\n",
    "            #num_int = format(\"%010d\" % num)\n",
    "            #print(num_int)\n",
    "            yield num , word        \n",
    "        '''\n",
    "\n",
    "        \n",
    "    '''\n",
    "        for number in value:\n",
    "            num_int = str(number)\n",
    "            print( \"'{num_int:0{max_num}d}'.\".format(number=number, max_num=max_num) )\n",
    "            #z10 = \"'{number:0{max_num}d}'\".format(number=number, max_num=max_num)\n",
    "            #z10 = str(z10)\n",
    "            #print number , key \n",
    "    '''\n",
    "    def reducer2(self, key , value):\n",
    "        self.increment_counter('group' , 'Reducer2_Call_Num' , 1)\n",
    "        #for word, num in value:\n",
    "        #    yield num , word\n",
    "        #print 'reducer2:' , (key , list(value) )\n",
    "        final_list = []\n",
    "        for p in value :\n",
    "            final_list.append(p)\n",
    "            final_list_bot = final_list[0:9]\n",
    "            final_list_top = final_list[-51:]\n",
    "        \n",
    "        for num , word in final_list_bot : \n",
    "            yield 'Bottom List:' , (num , word)\n",
    "        for num , word in final_list_top :\n",
    "            yield 'Top List:' , (num , word)\n",
    "            \n",
    "        #yield final_list[-51:]\n",
    "        #yield '\\n'\n",
    "        #yield final_list[0:9]\n",
    "            \n",
    "        #print final_list[-51:]\n",
    "        #print '\\n'\n",
    "        #print final_list[0:9]\n",
    "\n",
    "\n",
    "\n",
    "if __name__ == '__main__':\n",
    "    MRCounter2_2.run()"
   ]
  },
  {
   "cell_type": "code",
   "execution_count": 12,
   "metadata": {
    "collapsed": false
   },
   "outputs": [
    {
     "name": "stdout",
     "output_type": "stream",
     "text": [
      "\"Bottom List:\"\t[\"0000000064\", \"disclosures\"]\n",
      "\"Bottom List:\"\t[\"0000000064\", \"missing\"]\n",
      "\"Bottom List:\"\t[\"0000000071\", \"amt\"]\n",
      "\"Bottom List:\"\t[\"0000000071\", \"day\"]\n",
      "\"Bottom List:\"\t[\"0000000075\", \"checks\"]\n",
      "\"Bottom List:\"\t[\"0000000075\", \"convenience\"]\n",
      "\"Bottom List:\"\t[\"0000000092\", \"credited\"]\n",
      "\"Bottom List:\"\t[\"0000000092\", \"payment\"]\n",
      "\"Bottom List:\"\t[\"0000000098\", \"amount\"]\n",
      "\"Top List:\"\t[\"0000004729\", \"identity\"]\n",
      "\"Top List:\"\t[\"0000004858\", \"company\"]\n",
      "\"Top List:\"\t[\"0000004858\", \"investigation\"]\n",
      "\"Top List:\"\t[\"0000004858\", \"s\"]\n",
      "\"Top List:\"\t[\"0000005006\", \"managing\"]\n",
      "\"Top List:\"\t[\"0000005214\", \"disclosure\"]\n",
      "\"Top List:\"\t[\"0000005214\", \"verification\"]\n",
      "\"Top List:\"\t[\"0000005505\", \"process\"]\n",
      "\"Top List:\"\t[\"0000005663\", \"being\"]\n",
      "\"Top List:\"\t[\"0000005663\", \"by\"]\n",
      "\"Top List:\"\t[\"0000005663\", \"caused\"]\n",
      "\"Top List:\"\t[\"0000005663\", \"funds\"]\n",
      "\"Top List:\"\t[\"0000005663\", \"low\"]\n",
      "\"Top List:\"\t[\"0000006248\", \"the\"]\n",
      "\"Top List:\"\t[\"0000006337\", \"lease\"]\n",
      "\"Top List:\"\t[\"0000006559\", \"reporting\"]\n",
      "\"Top List:\"\t[\"0000006920\", \"communication\"]\n",
      "\"Top List:\"\t[\"0000006920\", \"tactics\"]\n",
      "\"Top List:\"\t[\"0000006938\", \"disputes\"]\n",
      "\"Top List:\"\t[\"0000007886\", \"other\"]\n",
      "\"Top List:\"\t[\"0000008158\", \"billing\"]\n",
      "\"Top List:\"\t[\"0000008178\", \"unable\"]\n",
      "\"Top List:\"\t[\"0000008401\", \"to\"]\n",
      "\"Top List:\"\t[\"0000008868\", \"application\"]\n",
      "\"Top List:\"\t[\"0000009484\", \"problems\"]\n",
      "\"Top List:\"\t[\"0000010555\", \"deposits\"]\n",
      "\"Top List:\"\t[\"0000010555\", \"withdrawals\"]\n",
      "\"Top List:\"\t[\"0000010731\", \"my\"]\n",
      "\"Top List:\"\t[\"0000010885\", \"of\"]\n",
      "\"Top List:\"\t[\"0000011848\", \"attempts\"]\n",
      "\"Top List:\"\t[\"0000011848\", \"collect\"]\n",
      "\"Top List:\"\t[\"0000011848\", \"cont\"]\n",
      "\"Top List:\"\t[\"0000011848\", \"d\"]\n",
      "\"Top List:\"\t[\"0000011848\", \"owed\"]\n",
      "\"Top List:\"\t[\"0000012353\", \"not\"]\n",
      "\"Top List:\"\t[\"0000012545\", \"club\"]\n",
      "\"Top List:\"\t[\"0000012545\", \"health\"]\n",
      "\"Top List:\"\t[\"0000016205\", \"opening\"]\n",
      "\"Top List:\"\t[\"0000016448\", \"and\"]\n",
      "\"Top List:\"\t[\"0000019309\", \"debt\"]\n",
      "\"Top List:\"\t[\"0000020681\", \"account\"]\n",
      "\"Top List:\"\t[\"0000022533\", \"or\"]\n",
      "\"Top List:\"\t[\"0000029069\", \"information\"]\n",
      "\"Top List:\"\t[\"0000029069\", \"on\"]\n",
      "\"Top List:\"\t[\"0000029133\", \"incorrect\"]\n",
      "\"Top List:\"\t[\"0000034903\", \"report\"]\n",
      "\"Top List:\"\t[\"0000036767\", \"servicing\"]\n",
      "\"Top List:\"\t[\"0000055251\", \"credit\"]\n",
      "\"Top List:\"\t[\"0000070487\", \"modification\"]\n",
      "\"Top List:\"\t[\"0000119630\", \"loan\"]\n",
      "\"Top List:\"\t[\"0000147859\", \"\"]\n"
     ]
    },
    {
     "name": "stderr",
     "output_type": "stream",
     "text": [
      "No configs found; falling back on auto-configuration\n",
      "Creating temp directory c:\\users\\z001c9v\\appdata\\local\\temp\\km_hw_2_2_1_counters.z001c9v.20160729.140614.459000\n",
      "Running step 1 of 2...\n",
      "Counters: 2\n",
      "\tgroup\n",
      "\t\tCombiner_Call_Num=320\n",
      "\t\tMapper_Call_Num=312913\n",
      "Counters: 3\n",
      "\tgroup\n",
      "\t\tCombiner_Call_Num=320\n",
      "\t\tMapper_Call_Num=312913\n",
      "\t\tReducer_Call_Num=173\n",
      "Running step 2 of 2...\n",
      "Counters: 1\n",
      "\tgroup\n",
      "\t\tMapper2_Call_Num=173\n",
      "Counters: 2\n",
      "\tgroup\n",
      "\t\tMapper2_Call_Num=173\n",
      "\t\tReducer2_Call_Num=1\n",
      "Streaming final output from c:\\users\\z001c9v\\appdata\\local\\temp\\km_hw_2_2_1_counters.z001c9v.20160729.140614.459000\\output...\n",
      "Removing temp directory c:\\users\\z001c9v\\appdata\\local\\temp\\km_hw_2_2_1_counters.z001c9v.20160729.140614.459000...\n"
     ]
    }
   ],
   "source": [
    "!python km_hw_2_2_1_counters.py Consumer_Complaints.csv"
   ]
  },
  {
   "cell_type": "markdown",
   "metadata": {},
   "source": [
    "### Answer HW2.2.2"
   ]
  },
  {
   "cell_type": "code",
   "execution_count": 13,
   "metadata": {
    "collapsed": false
   },
   "outputs": [
    {
     "name": "stdout",
     "output_type": "stream",
     "text": [
      "\"Bottom List:\"\t[\"0000000064\", \"disclosures\"]\n",
      "\"Bottom List:\"\t[\"0000000064\", \"missing\"]\n",
      "\"Bottom List:\"\t[\"0000000071\", \"amt\"]\n",
      "\"Bottom List:\"\t[\"0000000071\", \"day\"]\n",
      "\"Bottom List:\"\t[\"0000000075\", \"checks\"]\n",
      "\"Bottom List:\"\t[\"0000000075\", \"convenience\"]\n",
      "\"Bottom List:\"\t[\"0000000092\", \"credited\"]\n",
      "\"Bottom List:\"\t[\"0000000092\", \"payment\"]\n",
      "\"Bottom List:\"\t[\"0000000098\", \"amount\"]\n",
      "\"Top List:\"\t[\"0000004729\", \"identity\"]\n",
      "\"Top List:\"\t[\"0000004858\", \"company\"]\n",
      "\"Top List:\"\t[\"0000004858\", \"investigation\"]\n",
      "\"Top List:\"\t[\"0000004858\", \"s\"]\n",
      "\"Top List:\"\t[\"0000005006\", \"managing\"]\n",
      "\"Top List:\"\t[\"0000005214\", \"disclosure\"]\n",
      "\"Top List:\"\t[\"0000005214\", \"verification\"]\n",
      "\"Top List:\"\t[\"0000005505\", \"process\"]\n",
      "\"Top List:\"\t[\"0000005663\", \"being\"]\n",
      "\"Top List:\"\t[\"0000005663\", \"by\"]\n",
      "\"Top List:\"\t[\"0000005663\", \"caused\"]\n",
      "\"Top List:\"\t[\"0000005663\", \"funds\"]\n",
      "\"Top List:\"\t[\"0000005663\", \"low\"]\n",
      "\"Top List:\"\t[\"0000006248\", \"the\"]\n",
      "\"Top List:\"\t[\"0000006337\", \"lease\"]\n",
      "\"Top List:\"\t[\"0000006559\", \"reporting\"]\n",
      "\"Top List:\"\t[\"0000006920\", \"communication\"]\n",
      "\"Top List:\"\t[\"0000006920\", \"tactics\"]\n",
      "\"Top List:\"\t[\"0000006938\", \"disputes\"]\n",
      "\"Top List:\"\t[\"0000007886\", \"other\"]\n",
      "\"Top List:\"\t[\"0000008158\", \"billing\"]\n",
      "\"Top List:\"\t[\"0000008178\", \"unable\"]\n",
      "\"Top List:\"\t[\"0000008401\", \"to\"]\n",
      "\"Top List:\"\t[\"0000008868\", \"application\"]\n",
      "\"Top List:\"\t[\"0000009484\", \"problems\"]\n",
      "\"Top List:\"\t[\"0000010555\", \"deposits\"]\n",
      "\"Top List:\"\t[\"0000010555\", \"withdrawals\"]\n",
      "\"Top List:\"\t[\"0000010731\", \"my\"]\n",
      "\"Top List:\"\t[\"0000010885\", \"of\"]\n",
      "\"Top List:\"\t[\"0000011848\", \"attempts\"]\n",
      "\"Top List:\"\t[\"0000011848\", \"collect\"]\n",
      "\"Top List:\"\t[\"0000011848\", \"cont\"]\n",
      "\"Top List:\"\t[\"0000011848\", \"d\"]\n",
      "\"Top List:\"\t[\"0000011848\", \"owed\"]\n",
      "\"Top List:\"\t[\"0000012353\", \"not\"]\n",
      "\"Top List:\"\t[\"0000012545\", \"club\"]\n",
      "\"Top List:\"\t[\"0000012545\", \"health\"]\n",
      "\"Top List:\"\t[\"0000016205\", \"opening\"]\n",
      "\"Top List:\"\t[\"0000016448\", \"and\"]\n",
      "\"Top List:\"\t[\"0000019309\", \"debt\"]\n",
      "\"Top List:\"\t[\"0000020681\", \"account\"]\n",
      "\"Top List:\"\t[\"0000022533\", \"or\"]\n",
      "\"Top List:\"\t[\"0000029069\", \"information\"]\n",
      "\"Top List:\"\t[\"0000029069\", \"on\"]\n",
      "\"Top List:\"\t[\"0000029133\", \"incorrect\"]\n",
      "\"Top List:\"\t[\"0000034903\", \"report\"]\n",
      "\"Top List:\"\t[\"0000036767\", \"servicing\"]\n",
      "\"Top List:\"\t[\"0000055251\", \"credit\"]\n",
      "\"Top List:\"\t[\"0000070487\", \"modification\"]\n",
      "\"Top List:\"\t[\"0000119630\", \"loan\"]\n",
      "\"Top List:\"\t[\"0000147859\", \"\"]\n"
     ]
    },
    {
     "name": "stderr",
     "output_type": "stream",
     "text": [
      "No configs found; falling back on auto-configuration\n",
      "Creating temp directory c:\\users\\z001c9v\\appdata\\local\\temp\\km_hw_2_2_1_counters.z001c9v.20160729.140645.011000\n",
      "Running step 1 of 2...\n",
      "Counters: 2\n",
      "\tgroup\n",
      "\t\tCombiner_Call_Num=320\n",
      "\t\tMapper_Call_Num=312913\n",
      "Counters: 3\n",
      "\tgroup\n",
      "\t\tCombiner_Call_Num=320\n",
      "\t\tMapper_Call_Num=312913\n",
      "\t\tReducer_Call_Num=173\n",
      "Running step 2 of 2...\n",
      "Counters: 1\n",
      "\tgroup\n",
      "\t\tMapper2_Call_Num=173\n",
      "Counters: 2\n",
      "\tgroup\n",
      "\t\tMapper2_Call_Num=173\n",
      "\t\tReducer2_Call_Num=1\n",
      "Streaming final output from c:\\users\\z001c9v\\appdata\\local\\temp\\km_hw_2_2_1_counters.z001c9v.20160729.140645.011000\\output...\n",
      "Removing temp directory c:\\users\\z001c9v\\appdata\\local\\temp\\km_hw_2_2_1_counters.z001c9v.20160729.140645.011000...\n"
     ]
    }
   ],
   "source": [
    "!python km_hw_2_2_1_counters.py --jobconf mapred.reduce.tasks=3 Consumer_Complaints.csv"
   ]
  },
  {
   "cell_type": "markdown",
   "metadata": {},
   "source": [
    "I see the same answer set as above."
   ]
  },
  {
   "cell_type": "markdown",
   "metadata": {},
   "source": [
    "### Answer HW#2.2.3 - skipped"
   ]
  },
  {
   "cell_type": "markdown",
   "metadata": {},
   "source": [
    "# HW2.3: Shopping Cart Analysis\n",
    "   >Do some exploratory data analysis of this dataset guided by the following questions:. \n",
    "   >How many unique items are available from this supplier?\n",
    "   >Using a single reducer: Report your findings: such as number of unique products; largest basket; report the top 50 most frequently purchased items,  their frequency,   (break ties by sorting the products alphabetical order) etc. using Hadoop Map-Reduce.\n",
    "data: https://www.dropbox.com/s/zlfyiwa70poqg74/ProductPurchaseData.txt?dl=0"
   ]
  },
  {
   "cell_type": "code",
   "execution_count": 14,
   "metadata": {
    "collapsed": false
   },
   "outputs": [
    {
     "name": "stdout",
     "output_type": "stream",
     "text": [
      "Overwriting km_2_3_shoppingcart_top_50.py\n"
     ]
    }
   ],
   "source": [
    "%%writefile km_2_3_shoppingcart_top_50.py \n",
    "from mrjob.job import MRJob\n",
    "from mrjob.step import MRStep\n",
    "import string , re \n",
    "\n",
    "class ShoppingBag_top50(MRJob) :\n",
    "    SORT_VALUES = True\n",
    "    def steps(self):\n",
    "        return [\n",
    "            MRStep ( mapper = self.mapper , \n",
    "                     combiner = self.combiner , \n",
    "                     reducer = self.reducer ) ,\n",
    "            MRStep ( mapper = self.mapper2 ,\n",
    "                    reducer = self.reducer2 )\n",
    "        ]\n",
    "\n",
    "    def __init__(self , *args, **kargs):\n",
    "        super(ShoppingBag_top50,self).__init__(*args, **kargs)\n",
    "\n",
    "    def mapper(self , _ , line) :\n",
    "        self.increment_counter('group' , 'Mapper_Call_Num' , 1)\n",
    "        \n",
    "        bags = line.strip().split(' ')\n",
    "        #basketsize = len(bags)\n",
    "        #print bags , len(bags)\n",
    "        for item in bags:\n",
    "            #print item , 1\n",
    "            yield item , 1\n",
    "            \n",
    "    def combiner(self, key, value):\n",
    "        self.increment_counter('group' , 'Combiner_Call_Num' , 1)\n",
    "        yield (key , sum(value))\n",
    "        \n",
    "    def reducer(self, key, value):\n",
    "        self.increment_counter('group' , 'Reducer_Call_Num' , 1)\n",
    "        #output = {}\n",
    "        yield key , sum(value)\n",
    "        #output[key] = value\n",
    "        #yield None , output\n",
    "        \n",
    "    def mapper2(self, key , value):\n",
    "        self.increment_counter('group' , 'Mapper2_Call_Num' ,1)\n",
    "        num_int = format(\"%010d\" % value)\n",
    "        #num_sort = num_int + key\n",
    "        #print 'mapper2:' , (num_int , key)\n",
    "        #print '\\n'\n",
    "        #yield 'None' , list(num_int) , key\n",
    "        yield 'None' , (num_int , key)\n",
    "        \n",
    "        # yield None , (key , value)\n",
    "\n",
    "\n",
    "    def reducer2(self, key , value):\n",
    "        self.increment_counter('group' , 'Reducer2_Call_Num' , 1)      \n",
    "        #for word, num in value:\n",
    "        #    yield num , word\n",
    "        #print 'reducer2:' , (key , list(value) )\n",
    "        final_list = []\n",
    "        for p in value :\n",
    "            final_list.append(p)\n",
    "            final_list_bot = final_list[0:9]\n",
    "            final_list_top = final_list[-51:]\n",
    "        \n",
    "        for num , word in final_list_bot : \n",
    "            yield 'Bottom List:' , (num , word)\n",
    "        for num , word in final_list_top :\n",
    "            yield 'Top List:' , (num , word)\n",
    "            \n",
    "        #yield final_list[-51:]\n",
    "        #yield '\\n'\n",
    "        #yield final_list[0:9]\n",
    "            \n",
    "        #print final_list[-51:]\n",
    "        #print '\\n'\n",
    "        #print final_list[0:9]\n",
    "\n",
    "       \n",
    "            \n",
    "if __name__ == '__main__' :\n",
    "    ShoppingBag_top50.run()\n",
    "    "
   ]
  },
  {
   "cell_type": "code",
   "execution_count": 15,
   "metadata": {
    "collapsed": false
   },
   "outputs": [
    {
     "name": "stdout",
     "output_type": "stream",
     "text": [
      "\"Bottom List:\"\t[\"0000000001\", \"DAI11257\"]\n",
      "\"Bottom List:\"\t[\"0000000001\", \"DAI11273\"]\n",
      "\"Bottom List:\"\t[\"0000000001\", \"DAI11375\"]\n",
      "\"Bottom List:\"\t[\"0000000001\", \"DAI11582\"]\n",
      "\"Bottom List:\"\t[\"0000000001\", \"DAI11707\"]\n",
      "\"Bottom List:\"\t[\"0000000001\", \"DAI11946\"]\n",
      "\"Bottom List:\"\t[\"0000000001\", \"DAI11995\"]\n",
      "\"Bottom List:\"\t[\"0000000001\", \"DAI12139\"]\n",
      "\"Bottom List:\"\t[\"0000000001\", \"DAI12152\"]\n",
      "\"Top List:\"\t[\"0000001197\", \"ELE92920\"]\n",
      "\"Top List:\"\t[\"0000001214\", \"GRO85051\"]\n",
      "\"Top List:\"\t[\"0000001219\", \"DAI22896\"]\n",
      "\"Top List:\"\t[\"0000001220\", \"GRO81087\"]\n",
      "\"Top List:\"\t[\"0000001261\", \"DAI31081\"]\n",
      "\"Top List:\"\t[\"0000001275\", \"GRO15017\"]\n",
      "\"Top List:\"\t[\"0000001289\", \"ELE91337\"]\n",
      "\"Top List:\"\t[\"0000001290\", \"DAI43223\"]\n",
      "\"Top List:\"\t[\"0000001295\", \"SNA96271\"]\n",
      "\"Top List:\"\t[\"0000001311\", \"ELE59935\"]\n",
      "\"Top List:\"\t[\"0000001316\", \"DAI88807\"]\n",
      "\"Top List:\"\t[\"0000001316\", \"ELE74482\"]\n",
      "\"Top List:\"\t[\"0000001321\", \"GRO61133\"]\n",
      "\"Top List:\"\t[\"0000001345\", \"ELE56788\"]\n",
      "\"Top List:\"\t[\"0000001352\", \"GRO38814\"]\n",
      "\"Top List:\"\t[\"0000001390\", \"SNA90094\"]\n",
      "\"Top List:\"\t[\"0000001407\", \"SNA93860\"]\n",
      "\"Top List:\"\t[\"0000001420\", \"FRO53271\"]\n",
      "\"Top List:\"\t[\"0000001436\", \"FRO35904\"]\n",
      "\"Top List:\"\t[\"0000001489\", \"ELE34057\"]\n",
      "\"Top List:\"\t[\"0000001489\", \"GRO94758\"]\n",
      "\"Top List:\"\t[\"0000001516\", \"ELE99737\"]\n",
      "\"Top List:\"\t[\"0000001531\", \"FRO78087\"]\n",
      "\"Top List:\"\t[\"0000001627\", \"DAI22177\"]\n",
      "\"Top List:\"\t[\"0000001646\", \"SNA55762\"]\n",
      "\"Top List:\"\t[\"0000001697\", \"ELE66810\"]\n",
      "\"Top List:\"\t[\"0000001702\", \"FRO32293\"]\n",
      "\"Top List:\"\t[\"0000001712\", \"DAI83733\"]\n",
      "\"Top List:\"\t[\"0000001713\", \"ELE66600\"]\n",
      "\"Top List:\"\t[\"0000001756\", \"GRO46854\"]\n",
      "\"Top List:\"\t[\"0000001773\", \"DAI63921\"]\n",
      "\"Top List:\"\t[\"0000001784\", \"GRO56726\"]\n",
      "\"Top List:\"\t[\"0000001816\", \"ELE74009\"]\n",
      "\"Top List:\"\t[\"0000001840\", \"GRO30386\"]\n",
      "\"Top List:\"\t[\"0000001918\", \"FRO85978\"]\n",
      "\"Top List:\"\t[\"0000001920\", \"GRO71621\"]\n",
      "\"Top List:\"\t[\"0000002004\", \"GRO59710\"]\n",
      "\"Top List:\"\t[\"0000002083\", \"SNA99873\"]\n",
      "\"Top List:\"\t[\"0000002115\", \"GRO21487\"]\n",
      "\"Top List:\"\t[\"0000002233\", \"FRO80039\"]\n",
      "\"Top List:\"\t[\"0000002292\", \"ELE26917\"]\n",
      "\"Top List:\"\t[\"0000002293\", \"DAI85309\"]\n",
      "\"Top List:\"\t[\"0000002330\", \"FRO31317\"]\n",
      "\"Top List:\"\t[\"0000002455\", \"SNA45677\"]\n",
      "\"Top List:\"\t[\"0000002736\", \"DAI75645\"]\n",
      "\"Top List:\"\t[\"0000002851\", \"ELE32164\"]\n",
      "\"Top List:\"\t[\"0000003044\", \"SNA80324\"]\n",
      "\"Top List:\"\t[\"0000003602\", \"GRO73461\"]\n",
      "\"Top List:\"\t[\"0000003875\", \"ELE17451\"]\n",
      "\"Top List:\"\t[\"0000003881\", \"FRO40251\"]\n",
      "\"Top List:\"\t[\"0000006667\", \"DAI62779\"]\n"
     ]
    },
    {
     "name": "stderr",
     "output_type": "stream",
     "text": [
      "No configs found; falling back on auto-configuration\n",
      "ignoring partitioner keyword arg (requires real Hadoop): 'org.apache.hadoop.mapred.lib.KeyFieldBasedPartitioner'\n",
      "Creating temp directory c:\\users\\z001c9v\\appdata\\local\\temp\\km_2_3_shoppingcart_top_50.z001c9v.20160729.140659.993000\n",
      "Running step 1 of 2...\n",
      "Counters: 2\n",
      "\tgroup\n",
      "\t\tCombiner_Call_Num=17745\n",
      "\t\tMapper_Call_Num=31101\n",
      "Counters: 3\n",
      "\tgroup\n",
      "\t\tCombiner_Call_Num=17745\n",
      "\t\tMapper_Call_Num=31101\n",
      "\t\tReducer_Call_Num=12592\n",
      "Running step 2 of 2...\n",
      "Counters: 1\n",
      "\tgroup\n",
      "\t\tMapper2_Call_Num=12592\n",
      "Counters: 2\n",
      "\tgroup\n",
      "\t\tMapper2_Call_Num=12592\n",
      "\t\tReducer2_Call_Num=1\n",
      "Streaming final output from c:\\users\\z001c9v\\appdata\\local\\temp\\km_2_3_shoppingcart_top_50.z001c9v.20160729.140659.993000\\output...\n",
      "Removing temp directory c:\\users\\z001c9v\\appdata\\local\\temp\\km_2_3_shoppingcart_top_50.z001c9v.20160729.140659.993000...\n"
     ]
    }
   ],
   "source": [
    "!python km_2_3_shoppingcart_top_50.py ProductPurchaseData.txt"
   ]
  },
  {
   "cell_type": "code",
   "execution_count": 16,
   "metadata": {
    "collapsed": false
   },
   "outputs": [
    {
     "name": "stdout",
     "output_type": "stream",
     "text": [
      "Overwriting km_2_3_shoppingcart_uniques.py\n"
     ]
    }
   ],
   "source": [
    "%%writefile km_2_3_shoppingcart_uniques.py \n",
    "from mrjob.job import MRJob\n",
    "from mrjob.step import MRStep\n",
    "import string , re \n",
    "\n",
    "class ShoppingBag_uniques(MRJob) :\n",
    "    def steps(self) :\n",
    "        return [\n",
    "                MRStep( mapper = self.mapper ,\n",
    "                        combiner = self.combiner , \n",
    "                        reducer = self.reducer\n",
    "                      ) \n",
    "            ,\n",
    "                MRStep( mapper = self.mapper2 ,\n",
    "              #          combiner = self.combiner2 , \n",
    "                        reducer = self.reducer2\n",
    "                      )      \n",
    "                ]\n",
    "        \n",
    "    def __init__(self, *args, **kargs) :\n",
    "        super(ShoppingBag_uniques, self).__init__(*args,**kargs)\n",
    "        \n",
    "    def mapper(self , _ , line) :\n",
    "        self.increment_counter(\"group\" , \"Mapper_Call_Num\" , 1)\n",
    "        \n",
    "        bags = line.strip().split(' ')\n",
    "        #basketsize = len(bags)\n",
    "        #print bags , len(bags)\n",
    "        for item in bags:\n",
    "            yield item , 1\n",
    "            \n",
    "    def combiner(self , item , value) :\n",
    "        self.increment_counter(\"group\" , \"Combiner_Call_Num\" , 1)\n",
    "        yield item , sum(value)\n",
    "        \n",
    "    def reducer(self , item , value) :\n",
    "        self.increment_counter(\"group\" , \"Reducer_Call_Num\" , 1)\n",
    "        yield item , sum(value)\n",
    "        yield '*' , 1\n",
    "       \n",
    "    def mapper2(self , item , value) :\n",
    "        self.increment_counter(\"group\" , \"Mapper2_Call_Num:\" , 1) \n",
    "        yield item , value\n",
    "        \n",
    "    def reducer2(self , item , value ) :\n",
    "        self.increment_counter(\"group\" , \"Reducer2_Call_Num:\" , 1)\n",
    "        total = 0\n",
    "        for values in value:\n",
    "            if item == '*' : \n",
    "                total += values\n",
    "            else : return\n",
    "        yield 'Total Uniques:' , total\n",
    "            \n",
    "if __name__ == '__main__' :\n",
    "    ShoppingBag_uniques.run()"
   ]
  },
  {
   "cell_type": "code",
   "execution_count": 17,
   "metadata": {
    "collapsed": false
   },
   "outputs": [
    {
     "name": "stdout",
     "output_type": "stream",
     "text": [
      "\"Total Uniques:\"\t12592\n"
     ]
    },
    {
     "name": "stderr",
     "output_type": "stream",
     "text": [
      "No configs found; falling back on auto-configuration\n",
      "Creating temp directory c:\\users\\z001c9v\\appdata\\local\\temp\\km_2_3_shoppingcart_uniques.z001c9v.20160729.140705.030000\n",
      "Running step 1 of 2...\n",
      "Counters: 2\n",
      "\tgroup\n",
      "\t\tCombiner_Call_Num=17745\n",
      "\t\tMapper_Call_Num=31101\n",
      "Counters: 3\n",
      "\tgroup\n",
      "\t\tCombiner_Call_Num=17745\n",
      "\t\tMapper_Call_Num=31101\n",
      "\t\tReducer_Call_Num=12592\n",
      "Running step 2 of 2...\n",
      "Counters: 1\n",
      "\tgroup\n",
      "\t\tMapper2_Call_Num:=25184\n",
      "Counters: 2\n",
      "\tgroup\n",
      "\t\tMapper2_Call_Num:=25184\n",
      "\t\tReducer2_Call_Num:=12593\n",
      "Streaming final output from c:\\users\\z001c9v\\appdata\\local\\temp\\km_2_3_shoppingcart_uniques.z001c9v.20160729.140705.030000\\output...\n",
      "Removing temp directory c:\\users\\z001c9v\\appdata\\local\\temp\\km_2_3_shoppingcart_uniques.z001c9v.20160729.140705.030000...\n"
     ]
    }
   ],
   "source": [
    "!python km_2_3_shoppingcart_uniques.py ProductPurchaseData.txt"
   ]
  },
  {
   "cell_type": "code",
   "execution_count": 18,
   "metadata": {
    "collapsed": false
   },
   "outputs": [
    {
     "name": "stdout",
     "output_type": "stream",
     "text": [
      "Overwriting km_2_3_shoppingcart_largest.py\n"
     ]
    }
   ],
   "source": [
    "%%writefile km_2_3_shoppingcart_largest.py \n",
    "from mrjob.job import MRJob\n",
    "from mrjob.step import MRStep\n",
    "import string , re \n",
    "\n",
    "class ShoppingBag_largest(MRJob) :\n",
    "    #def step(self) :\n",
    "    def __init__(self, *args, **kargs) :\n",
    "        super(ShoppingBag_largest, self).__init__(*args,**kargs)\n",
    "        self.maxvalue = ['' , 0]\n",
    "        \n",
    "    def mapper(self , _ , line) :\n",
    "        self.increment_counter('group' , 'Mapper_Call_Num' , 1)\n",
    "        \n",
    "        bags = line.strip().split(' ')\n",
    "        basketsize = len(bags)\n",
    "        #print bags , len(bags)\n",
    "        yield bags , basketsize\n",
    "        #for item in bags:\n",
    "         #   print item , 1\n",
    "            \n",
    "    def reducer(self , key , value) :\n",
    "        self.increment_counter(\"group\" , \"Reducer_Call_Num\" , 1)\n",
    "        test = 0\n",
    "        #maxvalue = ['',0]\n",
    "        for v in value:\n",
    "            test = v \n",
    "            #print self.maxvalue[1]\n",
    "            if test <= self.maxvalue[1] :\n",
    "                return\n",
    "            else :\n",
    "                self.maxvalue[0] = key\n",
    "                self.maxvalue[1] = test\n",
    "            \n",
    "        yield 'Largest Basket:' , self.maxvalue\n",
    "\n",
    "\n",
    "            \n",
    "if __name__ == '__main__' :\n",
    "    ShoppingBag_largest.run()"
   ]
  },
  {
   "cell_type": "code",
   "execution_count": 19,
   "metadata": {
    "collapsed": false
   },
   "outputs": [
    {
     "name": "stdout",
     "output_type": "stream",
     "text": [
      "\"Largest Basket:\"\t[[\"DAI11223\", \"ELE54102\", \"SNA56249\", \"SNA30755\", \"FRO80039\", \"SNA53220\"], 6]\n",
      "\"Largest Basket:\"\t[[\"DAI11238\", \"SNA82274\", \"SNA96466\", \"GRO88324\", \"SNA43409\", \"FRO35729\", \"GRO83463\", \"GRO30912\", \"ELE34234\", \"ELE26753\", \"ELE45560\", \"ELE99887\", \"ELE23393\", \"SNA31446\", \"SNA40784\", \"GRO71621\"], 16]\n",
      "\"Largest Basket:\"\t[[\"DAI11927\", \"FRO60829\", \"FRO75586\", \"ELE49863\", \"SNA91739\", \"GRO76157\", \"FRO73019\", \"SNA66583\", \"ELE30182\", \"DAI22240\", \"GRO91660\", \"DAI91705\", \"GRO81087\", \"SNA92303\", \"DAI50189\", \"GRO48219\", \"GRO61273\"], 17]\n",
      "\"Largest Basket:\"\t[[\"DAI12680\", \"FRO91015\", \"ELE53126\", \"SNA56249\", \"ELE37770\", \"DAI70456\", \"SNA63157\", \"FRO14026\", \"DAI55911\", \"SNA37803\", \"GRO19500\", \"GRO46854\", \"FRO40251\", \"FRO77785\", \"ELE62598\", \"DAI75981\", \"SNA80324\", \"FRO75586\"], 18]\n",
      "\"Largest Basket:\"\t[[\"DAI13776\", \"SNA90094\", \"GRO44993\", \"DAI43868\", \"SNA82528\", \"FRO73056\", \"GRO30386\", \"FRO98184\", \"SNA96271\", \"GRO16201\", \"SNA87654\", \"SNA61957\", \"GRO50132\", \"GRO64900\", \"FRO62184\", \"DAI62779\", \"DAI83948\", \"ELE26917\", \"SNA12663\", \"DAI31081\"], 20]\n",
      "\"Largest Basket:\"\t[[\"DAI13902\", \"SNA13853\", \"FRO19671\", \"GRO48971\", \"SNA78555\", \"GRO48048\", \"DAI63627\", \"ELE69750\", \"ELE11375\", \"FRO78087\", \"DAI87590\", \"GRO39357\", \"GRO31086\", \"SNA80192\", \"FRO38366\", \"FRO58136\", \"SNA45677\", \"ELE26917\", \"ELE52966\", \"GRO99222\", \"DAI62779\", \"ELE12792\"], 22]\n",
      "\"Largest Basket:\"\t[[\"DAI14125\", \"ELE30911\", \"SNA81242\", \"GRO46854\", \"FRO70489\", \"DAI16732\", \"DAI54444\", \"FRO78087\", \"FRO85978\", \"ELE59028\", \"DAI62779\", \"FRO80039\", \"ELE78156\", \"ELE38536\", \"SNA15103\", \"GRO56726\", \"ELE53448\", \"ELE60742\", \"FRO79022\", \"DAI50895\", \"FRO95670\", \"ELE49861\", \"DAI29159\", \"SNA93860\"], 24]\n",
      "\"Largest Basket:\"\t[[\"DAI20585\", \"FRO70936\", \"DAI83948\", \"DAI46250\", \"SNA47306\", \"SNA45677\", \"FRO53005\", \"DAI83733\", \"DAI42493\", \"FRO80039\", \"DAI55259\", \"SNA99873\", \"ELE87456\", \"ELE53126\", \"DAI75645\", \"ELE74482\", \"GRO21487\", \"FRO57082\", \"SNA80324\", \"SNA67745\", \"DAI88807\", \"FRO16142\", \"DAI55911\", \"SNA31580\", \"ELE12792\", \"DAI62779\"], 26]\n",
      "\"Largest Basket:\"\t[[\"DAI22177\", \"ELE49801\", \"DAI46755\", \"FRO81176\", \"SNA37284\", \"FRO44046\", \"GRO73461\", \"GRO46839\", \"GRO88511\", \"SNA35625\", \"ELE17451\", \"DAI85309\", \"DAI22896\", \"GRO38814\", \"GRO68067\", \"ELE20196\", \"DAI49199\", \"GRO58055\", \"SNA72163\", \"SNA59903\", \"GRO71621\", \"SNA99873\", \"ELE33118\", \"FRO15390\", \"DAI54320\", \"SNA20554\", \"SNA96271\", \"DAI95860\", \"DAI38936\"], 29]\n",
      "\"Largest Basket:\"\t[[\"DAI22177\", \"SNA65489\", \"FRO85978\", \"DAI87448\", \"ELE38504\", \"GRO73461\", \"FRO19671\", \"DAI50913\", \"ELE24180\", \"ELE74009\", \"DAI75645\", \"SNA80324\", \"GRO94758\", \"GRO32086\", \"DAI93865\", \"FRO40251\", \"SNA90161\", \"ELE35632\", \"ELE36890\", \"SNA55762\", \"ELE20847\", \"SNA61380\", \"ELE87243\", \"FRO84868\", \"SNA99873\", \"ELE14422\", \"ELE81346\", \"GRO61133\", \"FRO84460\", \"DAI73122\", \"GRO69543\", \"FRO64787\", \"FRO87415\", \"ELE49801\"], 34]\n",
      "\"Largest Basket:\"\t[[\"DAI88807\", \"SNA63534\", \"DAI31081\", \"ELE64231\", \"FRO24098\", \"ELE22574\", \"GRO36567\", \"SNA45677\", \"SNA59903\", \"ELE20196\", \"ELE88263\", \"ELE11909\", \"DAI34472\", \"GRO88824\", \"SNA90258\", \"SNA30924\", \"FRO48038\", \"GRO30912\", \"GRO44993\", \"SNA12663\", \"FRO99372\", \"DAI47529\", \"ELE18198\", \"FRO18565\", \"FRO79022\", \"GRO24416\", \"FRO99783\", \"GRO21487\", \"DAI63921\", \"DAI65067\", \"DAI37350\", \"SNA57913\", \"ELE37798\", \"ELE74482\", \"FRO78994\"], 35]\n",
      "\"Largest Basket:\"\t[[\"ELE28123\", \"GRO46854\", \"ELE37798\", \"ELE14589\", \"GRO83463\", \"ELE66810\", \"GRO97641\", \"GRO64900\", \"SNA90258\", \"SNA93860\", \"ELE34387\", \"GRO12935\", \"DAI26390\", \"ELE87456\", \"SNA18183\", \"SNA72135\", \"SNA52393\", \"DAI59508\", \"GRO99222\", \"ELE56788\", \"ELE41565\", \"FRO68800\", \"DAI66473\", \"FRO77427\", \"ELE82555\", \"GRO34288\", \"DAI22896\", \"ELE16954\", \"FRO79420\", \"FRO73019\", \"FRO18274\", \"DAI32480\", \"FRO19671\", \"FRO44973\", \"SNA95666\", \"DAI95741\"], 36]\n",
      "\"Largest Basket:\"\t[[\"FRO31317\", \"DAI94514\", \"FRO49726\", \"FRO83352\", \"FRO61354\", \"GRO35122\", \"GRO82670\", \"GRO63683\", \"GRO73461\", \"GRO15017\", \"GRO61133\", \"FRO78087\", \"SNA26649\", \"GRO71615\", \"ELE28573\", \"FRO47962\", \"GRO59710\", \"ELE12516\", \"GRO39357\", \"SNA56073\", \"GRO87006\", \"ELE25172\", \"GRO93333\", \"ELE20847\", \"FRO75586\", \"FRO16142\", \"FRO94733\", \"FRO32801\", \"SNA11790\", \"FRO45082\", \"ELE66600\", \"DAI43223\", \"GRO50832\", \"FRO40251\", \"GRO38636\", \"GRO38814\", \"FRO33870\"], 37]\n",
      "\"Largest Basket:\"\t[[\"FRO53271\", \"FRO45628\", \"ELE15428\", \"FRO80039\", \"DAI67621\", \"GRO84328\", \"GRO12298\", \"SNA89670\"], 8]\n",
      "\"Largest Basket:\"\t[[\"FRO53271\", \"FRO54365\", \"ELE49863\", \"FRO87724\", \"DAI75645\", \"GRO67806\", \"SNA50789\", \"ELE49856\", \"DAI59508\"], 9]\n",
      "\"Largest Basket:\"\t[[\"FRO53271\", \"FRO56080\", \"DAI51880\", \"FRO84868\", \"SNA55952\", \"GRO21487\", \"SNA31619\", \"FRO80633\", \"SNA96271\", \"DAI91290\", \"FRO74324\", \"ELE12808\", \"FRO94722\", \"FRO26776\", \"DAI83478\"], 15]\n",
      "\"Largest Basket:\"\t[[\"FRO53271\", \"FRO69371\", \"DAI83948\", \"DAI78781\", \"FRO35904\", \"ELE20847\", \"SNA96271\", \"FRO48038\", \"GRO21487\", \"GRO85051\", \"FRO40251\", \"DAI42493\", \"SNA18336\", \"ELE92920\", \"DAI62779\", \"DAI23334\", \"ELE32164\", \"SNA63534\"], 18]\n",
      "\"Largest Basket:\"\t[[\"FRO53271\", \"FRO73056\", \"DAI11223\", \"SNA47306\", \"FRO92511\", \"GRO21487\", \"SNA66979\", \"DAI23844\", \"GRO32086\", \"ELE65859\", \"SNA74012\", \"ELE66810\", \"ELE88583\", \"SNA24799\", \"FRO35729\", \"SNA55617\", \"DAI29159\", \"DAI55911\", \"GRO57027\", \"GRO44993\", \"SNA19378\"], 21]\n",
      "\"Largest Basket:\"\t[[\"FRO53271\", \"FRO77084\", \"SNA67313\", \"FRO55832\", \"SNA55762\", \"DAI75645\", \"GRO50832\", \"ELE53126\", \"GRO12935\", \"GRO32086\", \"ELE66600\", \"SNA14713\", \"ELE55848\", \"ELE65859\", \"ELE18157\", \"SNA69327\", \"GRO93979\", \"GRO86016\", \"ELE26917\", \"FRO40251\", \"GRO85051\", \"DAI83948\"], 22]\n",
      "\"Largest Basket:\"\t[[\"FRO53271\", \"FRO78994\", \"ELE36333\", \"ELE26917\", \"SNA72163\", \"DAI67621\", \"FRO53088\", \"GRO32086\", \"ELE81346\", \"ELE24180\", \"DAI88807\", \"FRO22809\", \"SNA55762\", \"DAI83733\", \"SNA80324\", \"SNA79852\", \"ELE12792\", \"DAI41952\", \"DAI75645\", \"SNA59903\", \"SNA20815\", \"GRO21487\", \"FRO40251\", \"DAI93865\", \"FRO89565\", \"FRO37380\"], 26]\n",
      "\"Largest Basket:\"\t[[\"FRO53271\", \"SNA80324\", \"ELE15527\", \"GRO56726\", \"DAI35798\", \"GRO32086\", \"GRO65522\", \"GRO67739\", \"SNA52816\", \"DAI89219\", \"ELE20847\", \"ELE20196\", \"SNA43319\", \"DAI87594\", \"DAI75645\", \"GRO74344\", \"SNA93860\", \"DAI22896\", \"SNA72163\", \"GRO38814\", \"GRO18468\", \"FRO35729\", \"ELE87710\", \"FRO40251\", \"FRO92469\", \"SNA37803\", \"DAI22240\", \"FRO99372\"], 28]\n",
      "\"Largest Basket:\"\t[[\"FRO60203\", \"FRO64059\", \"DAI83733\", \"FRO57542\", \"GRO46854\", \"ELE49801\", \"FRO31317\", \"SNA55762\", \"ELE75961\", \"SNA65005\", \"FRO85978\", \"GRO73461\", \"DAI73122\", \"ELE32164\", \"SNA42528\", \"GRO56726\", \"ELE48131\", \"GRO30386\", \"DAI83948\", \"GRO88511\", \"SNA50789\", \"ELE92629\", \"DAI56158\", \"ELE36333\", \"ELE76310\", \"DAI32836\", \"FRO57082\", \"DAI59283\", \"FRO35904\", \"FRO91114\", \"ELE45162\", \"SNA38046\", \"ELE72949\"], 33]\n",
      "\"Largest Basket:\"\t[[\"FRO92469\", \"FRO91449\", \"DAI53152\", \"SNA90094\", \"DAI62779\", \"SNA90258\", \"DAI48891\", \"SNA93177\", \"DAI83733\", \"SNA55762\", \"DAI75645\", \"FRO40251\", \"SNA80324\", \"SNA37284\", \"ELE30196\", \"SNA19397\", \"DAI54499\", \"GRO91660\", \"DAI98653\", \"ELE87710\", \"FRO17734\", \"ELE28189\", \"DAI66473\", \"FRO68800\", \"DAI15681\", \"ELE63685\", \"DAI73122\", \"DAI22240\", \"FRO89565\", \"ELE62598\", \"ELE17451\", \"DAI92253\", \"SNA96271\", \"ELE41924\", \"ELE60182\", \"DAI12720\"], 36]\n",
      "\"Largest Basket:\"\t[[\"GRO21487\", \"FRO85978\", \"DAI89320\", \"SNA53220\", \"SNA55762\", \"GRO46854\", \"ELE38511\", \"SNA66583\", \"FRO79579\", \"FRO92469\", \"FRO40251\", \"GRO97448\", \"DAI35347\", \"FRO31317\", \"FRO87622\", \"SNA42518\", \"ELE53126\", \"ELE17451\", \"GRO32086\", \"ELE30327\", \"DAI58206\", \"DAI38969\", \"ELE16038\", \"DAI75645\", \"DAI55148\", \"GRO94173\", \"ELE43952\", \"FRO69613\", \"GRO81647\", \"GRO73461\", \"FRO24098\", \"ELE96667\", \"GRO88324\", \"GRO82670\", \"GRO12815\", \"SNA37475\", \"ELE24369\"], 37]\n"
     ]
    },
    {
     "name": "stderr",
     "output_type": "stream",
     "text": [
      "No configs found; falling back on auto-configuration\n",
      "Creating temp directory c:\\users\\z001c9v\\appdata\\local\\temp\\km_2_3_shoppingcart_largest.z001c9v.20160729.140710.462000\n",
      "Running step 1 of 1...\n",
      "Counters: 1\n",
      "\tgroup\n",
      "\t\tMapper_Call_Num=31101\n",
      "Counters: 2\n",
      "\tgroup\n",
      "\t\tMapper_Call_Num=31101\n",
      "\t\tReducer_Call_Num=30697\n",
      "Streaming final output from c:\\users\\z001c9v\\appdata\\local\\temp\\km_2_3_shoppingcart_largest.z001c9v.20160729.140710.462000\\output...\n",
      "Removing temp directory c:\\users\\z001c9v\\appdata\\local\\temp\\km_2_3_shoppingcart_largest.z001c9v.20160729.140710.462000...\n"
     ]
    }
   ],
   "source": [
    "!python km_2_3_shoppingcart_largest.py ProductPurchaseData.txt"
   ]
  },
  {
   "cell_type": "markdown",
   "metadata": {},
   "source": [
    "## 2.3.1 OPTIONAL \n",
    "Using 2 reducers:  Report your findings such as number of unique products; largest basket; report the top 50 most frequently purchased items,  their frequency,  and their frequency (break ties by sorting the products alphabetical order) etc. using Hadoop Map-Reduce. \n"
   ]
  },
  {
   "cell_type": "code",
   "execution_count": 20,
   "metadata": {
    "collapsed": false
   },
   "outputs": [
    {
     "name": "stdout",
     "output_type": "stream",
     "text": [
      "\"Bottom List:\"\t[\"0000000001\", \"DAI11257\"]\n",
      "\"Bottom List:\"\t[\"0000000001\", \"DAI11273\"]\n",
      "\"Bottom List:\"\t[\"0000000001\", \"DAI11375\"]\n",
      "\"Bottom List:\"\t[\"0000000001\", \"DAI11582\"]\n",
      "\"Bottom List:\"\t[\"0000000001\", \"DAI11707\"]\n",
      "\"Bottom List:\"\t[\"0000000001\", \"DAI11946\"]\n",
      "\"Bottom List:\"\t[\"0000000001\", \"DAI11995\"]\n",
      "\"Bottom List:\"\t[\"0000000001\", \"DAI12139\"]\n",
      "\"Bottom List:\"\t[\"0000000001\", \"DAI12152\"]\n",
      "\"Top List:\"\t[\"0000001197\", \"ELE92920\"]\n",
      "\"Top List:\"\t[\"0000001214\", \"GRO85051\"]\n",
      "\"Top List:\"\t[\"0000001219\", \"DAI22896\"]\n",
      "\"Top List:\"\t[\"0000001220\", \"GRO81087\"]\n",
      "\"Top List:\"\t[\"0000001261\", \"DAI31081\"]\n",
      "\"Top List:\"\t[\"0000001275\", \"GRO15017\"]\n",
      "\"Top List:\"\t[\"0000001289\", \"ELE91337\"]\n",
      "\"Top List:\"\t[\"0000001290\", \"DAI43223\"]\n",
      "\"Top List:\"\t[\"0000001295\", \"SNA96271\"]\n",
      "\"Top List:\"\t[\"0000001311\", \"ELE59935\"]\n",
      "\"Top List:\"\t[\"0000001316\", \"DAI88807\"]\n",
      "\"Top List:\"\t[\"0000001316\", \"ELE74482\"]\n",
      "\"Top List:\"\t[\"0000001321\", \"GRO61133\"]\n",
      "\"Top List:\"\t[\"0000001345\", \"ELE56788\"]\n",
      "\"Top List:\"\t[\"0000001352\", \"GRO38814\"]\n",
      "\"Top List:\"\t[\"0000001390\", \"SNA90094\"]\n",
      "\"Top List:\"\t[\"0000001407\", \"SNA93860\"]\n",
      "\"Top List:\"\t[\"0000001420\", \"FRO53271\"]\n",
      "\"Top List:\"\t[\"0000001436\", \"FRO35904\"]\n",
      "\"Top List:\"\t[\"0000001489\", \"ELE34057\"]\n",
      "\"Top List:\"\t[\"0000001489\", \"GRO94758\"]\n",
      "\"Top List:\"\t[\"0000001516\", \"ELE99737\"]\n",
      "\"Top List:\"\t[\"0000001531\", \"FRO78087\"]\n",
      "\"Top List:\"\t[\"0000001627\", \"DAI22177\"]\n",
      "\"Top List:\"\t[\"0000001646\", \"SNA55762\"]\n",
      "\"Top List:\"\t[\"0000001697\", \"ELE66810\"]\n",
      "\"Top List:\"\t[\"0000001702\", \"FRO32293\"]\n",
      "\"Top List:\"\t[\"0000001712\", \"DAI83733\"]\n",
      "\"Top List:\"\t[\"0000001713\", \"ELE66600\"]\n",
      "\"Top List:\"\t[\"0000001756\", \"GRO46854\"]\n",
      "\"Top List:\"\t[\"0000001773\", \"DAI63921\"]\n",
      "\"Top List:\"\t[\"0000001784\", \"GRO56726\"]\n",
      "\"Top List:\"\t[\"0000001816\", \"ELE74009\"]\n",
      "\"Top List:\"\t[\"0000001840\", \"GRO30386\"]\n",
      "\"Top List:\"\t[\"0000001918\", \"FRO85978\"]\n",
      "\"Top List:\"\t[\"0000001920\", \"GRO71621\"]\n",
      "\"Top List:\"\t[\"0000002004\", \"GRO59710\"]\n",
      "\"Top List:\"\t[\"0000002083\", \"SNA99873\"]\n",
      "\"Top List:\"\t[\"0000002115\", \"GRO21487\"]\n",
      "\"Top List:\"\t[\"0000002233\", \"FRO80039\"]\n",
      "\"Top List:\"\t[\"0000002292\", \"ELE26917\"]\n",
      "\"Top List:\"\t[\"0000002293\", \"DAI85309\"]\n",
      "\"Top List:\"\t[\"0000002330\", \"FRO31317\"]\n",
      "\"Top List:\"\t[\"0000002455\", \"SNA45677\"]\n",
      "\"Top List:\"\t[\"0000002736\", \"DAI75645\"]\n",
      "\"Top List:\"\t[\"0000002851\", \"ELE32164\"]\n",
      "\"Top List:\"\t[\"0000003044\", \"SNA80324\"]\n",
      "\"Top List:\"\t[\"0000003602\", \"GRO73461\"]\n",
      "\"Top List:\"\t[\"0000003875\", \"ELE17451\"]\n",
      "\"Top List:\"\t[\"0000003881\", \"FRO40251\"]\n",
      "\"Top List:\"\t[\"0000006667\", \"DAI62779\"]\n"
     ]
    },
    {
     "name": "stderr",
     "output_type": "stream",
     "text": [
      "No configs found; falling back on auto-configuration\n",
      "ignoring partitioner keyword arg (requires real Hadoop): 'org.apache.hadoop.mapred.lib.KeyFieldBasedPartitioner'\n",
      "Creating temp directory c:\\users\\z001c9v\\appdata\\local\\temp\\km_2_3_shoppingcart_top_50.z001c9v.20160729.140733.870000\n",
      "Running step 1 of 2...\n",
      "Counters: 2\n",
      "\tgroup\n",
      "\t\tCombiner_Call_Num=17745\n",
      "\t\tMapper_Call_Num=31101\n",
      "Counters: 3\n",
      "\tgroup\n",
      "\t\tCombiner_Call_Num=17745\n",
      "\t\tMapper_Call_Num=31101\n",
      "\t\tReducer_Call_Num=12592\n",
      "Running step 2 of 2...\n",
      "Counters: 1\n",
      "\tgroup\n",
      "\t\tMapper2_Call_Num=12592\n",
      "Counters: 2\n",
      "\tgroup\n",
      "\t\tMapper2_Call_Num=12592\n",
      "\t\tReducer2_Call_Num=1\n",
      "Streaming final output from c:\\users\\z001c9v\\appdata\\local\\temp\\km_2_3_shoppingcart_top_50.z001c9v.20160729.140733.870000\\output...\n",
      "Removing temp directory c:\\users\\z001c9v\\appdata\\local\\temp\\km_2_3_shoppingcart_top_50.z001c9v.20160729.140733.870000...\n"
     ]
    }
   ],
   "source": [
    "!python km_2_3_shoppingcart_top_50.py --jobconf mapred.reduce.tasks=2 ProductPurchaseData.txt"
   ]
  },
  {
   "cell_type": "code",
   "execution_count": 21,
   "metadata": {
    "collapsed": false
   },
   "outputs": [
    {
     "name": "stdout",
     "output_type": "stream",
     "text": [
      "\"Total Uniques:\"\t12592\n"
     ]
    },
    {
     "name": "stderr",
     "output_type": "stream",
     "text": [
      "No configs found; falling back on auto-configuration\n",
      "Creating temp directory c:\\users\\z001c9v\\appdata\\local\\temp\\km_2_3_shoppingcart_uniques.z001c9v.20160729.140739.077000\n",
      "Running step 1 of 2...\n",
      "Counters: 2\n",
      "\tgroup\n",
      "\t\tCombiner_Call_Num=17745\n",
      "\t\tMapper_Call_Num=31101\n",
      "Counters: 3\n",
      "\tgroup\n",
      "\t\tCombiner_Call_Num=17745\n",
      "\t\tMapper_Call_Num=31101\n",
      "\t\tReducer_Call_Num=12592\n",
      "Running step 2 of 2...\n",
      "Counters: 1\n",
      "\tgroup\n",
      "\t\tMapper2_Call_Num:=25184\n",
      "Counters: 2\n",
      "\tgroup\n",
      "\t\tMapper2_Call_Num:=25184\n",
      "\t\tReducer2_Call_Num:=12593\n",
      "Streaming final output from c:\\users\\z001c9v\\appdata\\local\\temp\\km_2_3_shoppingcart_uniques.z001c9v.20160729.140739.077000\\output...\n",
      "Removing temp directory c:\\users\\z001c9v\\appdata\\local\\temp\\km_2_3_shoppingcart_uniques.z001c9v.20160729.140739.077000...\n"
     ]
    }
   ],
   "source": [
    "!python km_2_3_shoppingcart_uniques.py --jobconf mapred.reduce.tasks=2 ProductPurchaseData.txt"
   ]
  },
  {
   "cell_type": "code",
   "execution_count": 22,
   "metadata": {
    "collapsed": false
   },
   "outputs": [
    {
     "name": "stdout",
     "output_type": "stream",
     "text": [
      "\"Largest Basket:\"\t[[\"DAI11223\", \"ELE54102\", \"SNA56249\", \"SNA30755\", \"FRO80039\", \"SNA53220\"], 6]\n",
      "\"Largest Basket:\"\t[[\"DAI11238\", \"SNA82274\", \"SNA96466\", \"GRO88324\", \"SNA43409\", \"FRO35729\", \"GRO83463\", \"GRO30912\", \"ELE34234\", \"ELE26753\", \"ELE45560\", \"ELE99887\", \"ELE23393\", \"SNA31446\", \"SNA40784\", \"GRO71621\"], 16]\n",
      "\"Largest Basket:\"\t[[\"DAI11927\", \"FRO60829\", \"FRO75586\", \"ELE49863\", \"SNA91739\", \"GRO76157\", \"FRO73019\", \"SNA66583\", \"ELE30182\", \"DAI22240\", \"GRO91660\", \"DAI91705\", \"GRO81087\", \"SNA92303\", \"DAI50189\", \"GRO48219\", \"GRO61273\"], 17]\n",
      "\"Largest Basket:\"\t[[\"DAI12680\", \"FRO91015\", \"ELE53126\", \"SNA56249\", \"ELE37770\", \"DAI70456\", \"SNA63157\", \"FRO14026\", \"DAI55911\", \"SNA37803\", \"GRO19500\", \"GRO46854\", \"FRO40251\", \"FRO77785\", \"ELE62598\", \"DAI75981\", \"SNA80324\", \"FRO75586\"], 18]\n",
      "\"Largest Basket:\"\t[[\"DAI13776\", \"SNA90094\", \"GRO44993\", \"DAI43868\", \"SNA82528\", \"FRO73056\", \"GRO30386\", \"FRO98184\", \"SNA96271\", \"GRO16201\", \"SNA87654\", \"SNA61957\", \"GRO50132\", \"GRO64900\", \"FRO62184\", \"DAI62779\", \"DAI83948\", \"ELE26917\", \"SNA12663\", \"DAI31081\"], 20]\n",
      "\"Largest Basket:\"\t[[\"DAI13902\", \"SNA13853\", \"FRO19671\", \"GRO48971\", \"SNA78555\", \"GRO48048\", \"DAI63627\", \"ELE69750\", \"ELE11375\", \"FRO78087\", \"DAI87590\", \"GRO39357\", \"GRO31086\", \"SNA80192\", \"FRO38366\", \"FRO58136\", \"SNA45677\", \"ELE26917\", \"ELE52966\", \"GRO99222\", \"DAI62779\", \"ELE12792\"], 22]\n",
      "\"Largest Basket:\"\t[[\"DAI14125\", \"ELE30911\", \"SNA81242\", \"GRO46854\", \"FRO70489\", \"DAI16732\", \"DAI54444\", \"FRO78087\", \"FRO85978\", \"ELE59028\", \"DAI62779\", \"FRO80039\", \"ELE78156\", \"ELE38536\", \"SNA15103\", \"GRO56726\", \"ELE53448\", \"ELE60742\", \"FRO79022\", \"DAI50895\", \"FRO95670\", \"ELE49861\", \"DAI29159\", \"SNA93860\"], 24]\n",
      "\"Largest Basket:\"\t[[\"DAI20585\", \"FRO70936\", \"DAI83948\", \"DAI46250\", \"SNA47306\", \"SNA45677\", \"FRO53005\", \"DAI83733\", \"DAI42493\", \"FRO80039\", \"DAI55259\", \"SNA99873\", \"ELE87456\", \"ELE53126\", \"DAI75645\", \"ELE74482\", \"GRO21487\", \"FRO57082\", \"SNA80324\", \"SNA67745\", \"DAI88807\", \"FRO16142\", \"DAI55911\", \"SNA31580\", \"ELE12792\", \"DAI62779\"], 26]\n",
      "\"Largest Basket:\"\t[[\"DAI22177\", \"ELE49801\", \"DAI46755\", \"FRO81176\", \"SNA37284\", \"FRO44046\", \"GRO73461\", \"GRO46839\", \"GRO88511\", \"SNA35625\", \"ELE17451\", \"DAI85309\", \"DAI22896\", \"GRO38814\", \"GRO68067\", \"ELE20196\", \"DAI49199\", \"GRO58055\", \"SNA72163\", \"SNA59903\", \"GRO71621\", \"SNA99873\", \"ELE33118\", \"FRO15390\", \"DAI54320\", \"SNA20554\", \"SNA96271\", \"DAI95860\", \"DAI38936\"], 29]\n",
      "\"Largest Basket:\"\t[[\"DAI22177\", \"SNA65489\", \"FRO85978\", \"DAI87448\", \"ELE38504\", \"GRO73461\", \"FRO19671\", \"DAI50913\", \"ELE24180\", \"ELE74009\", \"DAI75645\", \"SNA80324\", \"GRO94758\", \"GRO32086\", \"DAI93865\", \"FRO40251\", \"SNA90161\", \"ELE35632\", \"ELE36890\", \"SNA55762\", \"ELE20847\", \"SNA61380\", \"ELE87243\", \"FRO84868\", \"SNA99873\", \"ELE14422\", \"ELE81346\", \"GRO61133\", \"FRO84460\", \"DAI73122\", \"GRO69543\", \"FRO64787\", \"FRO87415\", \"ELE49801\"], 34]\n",
      "\"Largest Basket:\"\t[[\"DAI88807\", \"SNA63534\", \"DAI31081\", \"ELE64231\", \"FRO24098\", \"ELE22574\", \"GRO36567\", \"SNA45677\", \"SNA59903\", \"ELE20196\", \"ELE88263\", \"ELE11909\", \"DAI34472\", \"GRO88824\", \"SNA90258\", \"SNA30924\", \"FRO48038\", \"GRO30912\", \"GRO44993\", \"SNA12663\", \"FRO99372\", \"DAI47529\", \"ELE18198\", \"FRO18565\", \"FRO79022\", \"GRO24416\", \"FRO99783\", \"GRO21487\", \"DAI63921\", \"DAI65067\", \"DAI37350\", \"SNA57913\", \"ELE37798\", \"ELE74482\", \"FRO78994\"], 35]\n",
      "\"Largest Basket:\"\t[[\"ELE28123\", \"GRO46854\", \"ELE37798\", \"ELE14589\", \"GRO83463\", \"ELE66810\", \"GRO97641\", \"GRO64900\", \"SNA90258\", \"SNA93860\", \"ELE34387\", \"GRO12935\", \"DAI26390\", \"ELE87456\", \"SNA18183\", \"SNA72135\", \"SNA52393\", \"DAI59508\", \"GRO99222\", \"ELE56788\", \"ELE41565\", \"FRO68800\", \"DAI66473\", \"FRO77427\", \"ELE82555\", \"GRO34288\", \"DAI22896\", \"ELE16954\", \"FRO79420\", \"FRO73019\", \"FRO18274\", \"DAI32480\", \"FRO19671\", \"FRO44973\", \"SNA95666\", \"DAI95741\"], 36]\n",
      "\"Largest Basket:\"\t[[\"FRO31317\", \"DAI94514\", \"FRO49726\", \"FRO83352\", \"FRO61354\", \"GRO35122\", \"GRO82670\", \"GRO63683\", \"GRO73461\", \"GRO15017\", \"GRO61133\", \"FRO78087\", \"SNA26649\", \"GRO71615\", \"ELE28573\", \"FRO47962\", \"GRO59710\", \"ELE12516\", \"GRO39357\", \"SNA56073\", \"GRO87006\", \"ELE25172\", \"GRO93333\", \"ELE20847\", \"FRO75586\", \"FRO16142\", \"FRO94733\", \"FRO32801\", \"SNA11790\", \"FRO45082\", \"ELE66600\", \"DAI43223\", \"GRO50832\", \"FRO40251\", \"GRO38636\", \"GRO38814\", \"FRO33870\"], 37]\n",
      "\"Largest Basket:\"\t[[\"FRO53271\", \"FRO45628\", \"ELE15428\", \"FRO80039\", \"DAI67621\", \"GRO84328\", \"GRO12298\", \"SNA89670\"], 8]\n",
      "\"Largest Basket:\"\t[[\"FRO53271\", \"FRO54365\", \"ELE49863\", \"FRO87724\", \"DAI75645\", \"GRO67806\", \"SNA50789\", \"ELE49856\", \"DAI59508\"], 9]\n",
      "\"Largest Basket:\"\t[[\"FRO53271\", \"FRO56080\", \"DAI51880\", \"FRO84868\", \"SNA55952\", \"GRO21487\", \"SNA31619\", \"FRO80633\", \"SNA96271\", \"DAI91290\", \"FRO74324\", \"ELE12808\", \"FRO94722\", \"FRO26776\", \"DAI83478\"], 15]\n",
      "\"Largest Basket:\"\t[[\"FRO53271\", \"FRO69371\", \"DAI83948\", \"DAI78781\", \"FRO35904\", \"ELE20847\", \"SNA96271\", \"FRO48038\", \"GRO21487\", \"GRO85051\", \"FRO40251\", \"DAI42493\", \"SNA18336\", \"ELE92920\", \"DAI62779\", \"DAI23334\", \"ELE32164\", \"SNA63534\"], 18]\n",
      "\"Largest Basket:\"\t[[\"FRO53271\", \"FRO73056\", \"DAI11223\", \"SNA47306\", \"FRO92511\", \"GRO21487\", \"SNA66979\", \"DAI23844\", \"GRO32086\", \"ELE65859\", \"SNA74012\", \"ELE66810\", \"ELE88583\", \"SNA24799\", \"FRO35729\", \"SNA55617\", \"DAI29159\", \"DAI55911\", \"GRO57027\", \"GRO44993\", \"SNA19378\"], 21]\n",
      "\"Largest Basket:\"\t[[\"FRO53271\", \"FRO77084\", \"SNA67313\", \"FRO55832\", \"SNA55762\", \"DAI75645\", \"GRO50832\", \"ELE53126\", \"GRO12935\", \"GRO32086\", \"ELE66600\", \"SNA14713\", \"ELE55848\", \"ELE65859\", \"ELE18157\", \"SNA69327\", \"GRO93979\", \"GRO86016\", \"ELE26917\", \"FRO40251\", \"GRO85051\", \"DAI83948\"], 22]\n",
      "\"Largest Basket:\"\t[[\"FRO53271\", \"FRO78994\", \"ELE36333\", \"ELE26917\", \"SNA72163\", \"DAI67621\", \"FRO53088\", \"GRO32086\", \"ELE81346\", \"ELE24180\", \"DAI88807\", \"FRO22809\", \"SNA55762\", \"DAI83733\", \"SNA80324\", \"SNA79852\", \"ELE12792\", \"DAI41952\", \"DAI75645\", \"SNA59903\", \"SNA20815\", \"GRO21487\", \"FRO40251\", \"DAI93865\", \"FRO89565\", \"FRO37380\"], 26]\n",
      "\"Largest Basket:\"\t[[\"FRO53271\", \"SNA80324\", \"ELE15527\", \"GRO56726\", \"DAI35798\", \"GRO32086\", \"GRO65522\", \"GRO67739\", \"SNA52816\", \"DAI89219\", \"ELE20847\", \"ELE20196\", \"SNA43319\", \"DAI87594\", \"DAI75645\", \"GRO74344\", \"SNA93860\", \"DAI22896\", \"SNA72163\", \"GRO38814\", \"GRO18468\", \"FRO35729\", \"ELE87710\", \"FRO40251\", \"FRO92469\", \"SNA37803\", \"DAI22240\", \"FRO99372\"], 28]\n",
      "\"Largest Basket:\"\t[[\"FRO60203\", \"FRO64059\", \"DAI83733\", \"FRO57542\", \"GRO46854\", \"ELE49801\", \"FRO31317\", \"SNA55762\", \"ELE75961\", \"SNA65005\", \"FRO85978\", \"GRO73461\", \"DAI73122\", \"ELE32164\", \"SNA42528\", \"GRO56726\", \"ELE48131\", \"GRO30386\", \"DAI83948\", \"GRO88511\", \"SNA50789\", \"ELE92629\", \"DAI56158\", \"ELE36333\", \"ELE76310\", \"DAI32836\", \"FRO57082\", \"DAI59283\", \"FRO35904\", \"FRO91114\", \"ELE45162\", \"SNA38046\", \"ELE72949\"], 33]\n",
      "\"Largest Basket:\"\t[[\"FRO92469\", \"FRO91449\", \"DAI53152\", \"SNA90094\", \"DAI62779\", \"SNA90258\", \"DAI48891\", \"SNA93177\", \"DAI83733\", \"SNA55762\", \"DAI75645\", \"FRO40251\", \"SNA80324\", \"SNA37284\", \"ELE30196\", \"SNA19397\", \"DAI54499\", \"GRO91660\", \"DAI98653\", \"ELE87710\", \"FRO17734\", \"ELE28189\", \"DAI66473\", \"FRO68800\", \"DAI15681\", \"ELE63685\", \"DAI73122\", \"DAI22240\", \"FRO89565\", \"ELE62598\", \"ELE17451\", \"DAI92253\", \"SNA96271\", \"ELE41924\", \"ELE60182\", \"DAI12720\"], 36]\n",
      "\"Largest Basket:\"\t[[\"GRO21487\", \"FRO85978\", \"DAI89320\", \"SNA53220\", \"SNA55762\", \"GRO46854\", \"ELE38511\", \"SNA66583\", \"FRO79579\", \"FRO92469\", \"FRO40251\", \"GRO97448\", \"DAI35347\", \"FRO31317\", \"FRO87622\", \"SNA42518\", \"ELE53126\", \"ELE17451\", \"GRO32086\", \"ELE30327\", \"DAI58206\", \"DAI38969\", \"ELE16038\", \"DAI75645\", \"DAI55148\", \"GRO94173\", \"ELE43952\", \"FRO69613\", \"GRO81647\", \"GRO73461\", \"FRO24098\", \"ELE96667\", \"GRO88324\", \"GRO82670\", \"GRO12815\", \"SNA37475\", \"ELE24369\"], 37]\n"
     ]
    },
    {
     "name": "stderr",
     "output_type": "stream",
     "text": [
      "No configs found; falling back on auto-configuration\n",
      "Creating temp directory c:\\users\\z001c9v\\appdata\\local\\temp\\km_2_3_shoppingcart_largest.z001c9v.20160729.140744.732000\n",
      "Running step 1 of 1...\n",
      "Counters: 1\n",
      "\tgroup\n",
      "\t\tMapper_Call_Num=31101\n",
      "Counters: 2\n",
      "\tgroup\n",
      "\t\tMapper_Call_Num=31101\n",
      "\t\tReducer_Call_Num=30697\n",
      "Streaming final output from c:\\users\\z001c9v\\appdata\\local\\temp\\km_2_3_shoppingcart_largest.z001c9v.20160729.140744.732000\\output...\n",
      "Removing temp directory c:\\users\\z001c9v\\appdata\\local\\temp\\km_2_3_shoppingcart_largest.z001c9v.20160729.140744.732000...\n"
     ]
    }
   ],
   "source": [
    "!python km_2_3_shoppingcart_largest.py --jobconf mapred.reduce.tasks=2 ProductPurchaseData.txt"
   ]
  },
  {
   "cell_type": "code",
   "execution_count": null,
   "metadata": {
    "collapsed": true
   },
   "outputs": [],
   "source": [
    "# Results: No difference in the run process for part #1, part #2, part#3 using 2 reducers."
   ]
  },
  {
   "cell_type": "markdown",
   "metadata": {},
   "source": [
    "# HW2.4. (Computationally prohibitive but then again Hadoop can handle this) Pairs\n"
   ]
  },
  {
   "cell_type": "code",
   "execution_count": 23,
   "metadata": {
    "collapsed": false
   },
   "outputs": [
    {
     "name": "stdout",
     "output_type": "stream",
     "text": [
      "This is the total number of item pairs:79279232\n"
     ]
    }
   ],
   "source": [
    "# Calculating the total number of pairs for the ProductPurchaseData.txt data set.\n",
    "import math\n",
    "\n",
    "def item_combo(n):\n",
    "    pairs = n**2 / 2\n",
    "    return pairs\n",
    "\n",
    "num_pairs = item_combo(12592)\n",
    "print \"This is the total number of item pairs:\" + str(num_pairs)    \n",
    "    "
   ]
  },
  {
   "cell_type": "markdown",
   "metadata": {},
   "source": [
    "### Task: pg.195 Minin of Massive Data Sets:\n",
    "> \"For each basket we use a double loop to generate all the pairs.  Each time we generate a pair, we add 1 to its count. At the end, we examine all pairs and see which have counts that exceed the suppor theshold s; these are the frequent pairs.\n",
    "\n",
    "**Support Threshold = 100**"
   ]
  },
  {
   "cell_type": "code",
   "execution_count": 24,
   "metadata": {
    "collapsed": false
   },
   "outputs": [],
   "source": [
    "\n",
    "add = open(\"PPD_shortlist.txt\" , 'w')\n",
    "base = open(\"ProductPurchaseData.txt\" , 'r')\n",
    "counter = 0 \n",
    "  \n",
    "for line in base:\n",
    "    counter += 1\n",
    "    if counter < 100 :\n",
    "        add.write(line)\n",
    "\n",
    "add.close()\n",
    "base.close()"
   ]
  },
  {
   "cell_type": "code",
   "execution_count": 25,
   "metadata": {
    "collapsed": false
   },
   "outputs": [
    {
     "name": "stdout",
     "output_type": "stream",
     "text": [
      "Overwriting km_hw_2_4_Apriori.py\n"
     ]
    }
   ],
   "source": [
    "%%writefile km_hw_2_4_Apriori.py \n",
    "from mrjob.job import MRJob\n",
    "from mrjob.step import MRStep\n",
    "import string , re\n",
    "\n",
    "counter = 0\n",
    "\n",
    "class Apriori_itemsets(MRJob):\n",
    "    \n",
    "    '''\n",
    "    def steps(self):\n",
    "        return [\n",
    "            MRStep ( mapper = self.mapper , \n",
    "                     combiner = self.combiner , \n",
    "                     reducer = self.reducer ) ,\n",
    "            MRStep ( mapper = self.mapper2 \n",
    "                   )\n",
    "        ]\n",
    "        \n",
    "    '''#,\n",
    "    #                reducer = self.reducer2 \n",
    "\n",
    "    def __init__(self, *args, **kargs) :\n",
    "        super(Apriori_itemsets,self).__init__(*args, **kargs)\n",
    "        self.L1 = {}\n",
    "        self.L2 = {}\n",
    "        self.item_list = {}\n",
    "        self.bags = []\n",
    "\n",
    "\n",
    "    def mapper(self , _ , line) :\n",
    "        self.increment_counter('group' , 'Mapper_Call_Num' , 1)\n",
    "        \n",
    "        bags = line.strip().split(' ') \n",
    "        #basketsize = len(bags)\n",
    "        #print bags , len(bags)\n",
    "        #for item in bags:\n",
    "         #   #print item , 1\n",
    "        #  yield item , 1\n",
    "        for i in bags:\n",
    "            # i not in self.item_list.keys() : return\n",
    "            #counter = 0 \n",
    "            for j in bags:\n",
    "                #counter += 1\n",
    "                #if counter > 5 : break\n",
    "                #if j not in self.item_list.keys() : return\n",
    "                while i <> j:\n",
    "                    #self.L2[i+j] += 1\n",
    "                    yield i+j , 1         \n",
    "            \n",
    "    def combiner(self, key, value):\n",
    "        self.increment_counter('group' , 'Combiner_Call_Num' , 1)\n",
    "        yield (key , sum(value))\n",
    "    \n",
    "    def reducer(self, key, value):\n",
    "        #print key , sum(value)\n",
    "        self.increment_counter('group' , 'Reducer_Call_Num' , 1)\n",
    "        total = sum(value)\n",
    "        #print key , total\n",
    "        if total >= 10 : \n",
    "            #print key , total\n",
    "            self.item_list[key] = total\n",
    "        yield 'None' , self.item_list\n",
    "\n",
    "            \n",
    "    '''\n",
    "    def mapper2(self, key , line):\n",
    "        self.increment_counter('group' , 'Mapper2_Call_Num' ,1)\n",
    "        print  key , line\n",
    "        print '\\n'\n",
    "        #bags = line.strip().split(' ')\n",
    "        #basketsize = len(bags)\n",
    "        #print self.item_list\n",
    "\n",
    "        for i in bags:\n",
    "            if i not in self.item_list.keys() : return\n",
    "            counter = 0 \n",
    "            for j in bags:\n",
    "                if counter > 5 : break\n",
    "                if j not in self.item_list.keys() : return\n",
    "                while i <> j:\n",
    "                    self.L2[i+j] +1\n",
    "                    print i+j , 1 \n",
    "            #print item , 1\n",
    "            #yield item , 1\n",
    "\n",
    "        # yield None , (key , value)\n",
    "        \n",
    "    \n",
    "    def reducer2(self, key , value):\n",
    "        self.increment_counter('group' , 'Reducer2_Call_Num' , 1)      \n",
    "        #for word, num in value:\n",
    "        #    yield num , word\n",
    "        #print 'reducer2:' , (key , list(value) )\n",
    "        final_list = []\n",
    "        for p in value :\n",
    "            final_list.append(p)\n",
    "            final_list_bot = final_list[0:9]\n",
    "            final_list_top = final_list[-51:]\n",
    "        \n",
    "        for num , word in final_list_bot : \n",
    "            yield 'Bottom List:' , (num , word)\n",
    "        for num , word in final_list_top :\n",
    "            yield 'Top List:' , (num , word)\n",
    "            \n",
    "        #yield final_list[-51:]\n",
    "        #yield '\\n'\n",
    "        #yield final_list[0:9]\n",
    "            \n",
    "        #print final_list[-51:]\n",
    "        #print '\\n'\n",
    "        #print final_list[0:9]\n",
    "    '''\n",
    "               \n",
    "        \n",
    "if __name__ == \"__main__\" :\n",
    "    Apriori_itemsets.run()\n"
   ]
  },
  {
   "cell_type": "code",
   "execution_count": null,
   "metadata": {
    "collapsed": false
   },
   "outputs": [],
   "source": [
    "!python km_hw_2_4_Apriori.py ProductPurchaseData.txt "
   ]
  },
  {
   "cell_type": "code",
   "execution_count": null,
   "metadata": {
    "collapsed": true
   },
   "outputs": [],
   "source": []
  }
 ],
 "metadata": {
  "kernelspec": {
   "display_name": "Python 2",
   "language": "python",
   "name": "python2"
  },
  "language_info": {
   "codemirror_mode": {
    "name": "ipython",
    "version": 2
   },
   "file_extension": ".py",
   "mimetype": "text/x-python",
   "name": "python",
   "nbconvert_exporter": "python",
   "pygments_lexer": "ipython2",
   "version": "2.7.11"
  }
 },
 "nbformat": 4,
 "nbformat_minor": 0
}
