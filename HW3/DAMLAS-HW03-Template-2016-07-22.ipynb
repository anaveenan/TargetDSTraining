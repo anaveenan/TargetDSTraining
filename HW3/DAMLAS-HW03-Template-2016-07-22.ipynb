{
 "cells": [
  {
   "cell_type": "code",
   "execution_count": 1,
   "metadata": {
    "collapsed": false
   },
   "outputs": [
    {
     "data": {
      "application/javascript": [
       "/**********************************************************************************************\n",
       "Known Mathjax Issue with Chrome - a rounding issue adds a border to the right of mathjax markup\n",
       "https://github.com/mathjax/MathJax/issues/1300\n",
       "A quick hack to fix this based on stackoverflow discussions: \n",
       "http://stackoverflow.com/questions/34277967/chrome-rendering-mathjax-equations-with-a-trailing-vertical-line\n",
       "**********************************************************************************************/\n",
       "\n",
       "$('.math>span').css(\"border-left-color\",\"transparent\")"
      ],
      "text/plain": [
       "<IPython.core.display.Javascript object>"
      ]
     },
     "metadata": {},
     "output_type": "display_data"
    }
   ],
   "source": [
    "%%javascript\n",
    "/**********************************************************************************************\n",
    "Known Mathjax Issue with Chrome - a rounding issue adds a border to the right of mathjax markup\n",
    "https://github.com/mathjax/MathJax/issues/1300\n",
    "A quick hack to fix this based on stackoverflow discussions: \n",
    "http://stackoverflow.com/questions/34277967/chrome-rendering-mathjax-equations-with-a-trailing-vertical-line\n",
    "**********************************************************************************************/\n",
    "\n",
    "$('.math>span').css(\"border-left-color\",\"transparent\")"
   ]
  },
  {
   "cell_type": "code",
   "execution_count": 2,
   "metadata": {
    "collapsed": true
   },
   "outputs": [],
   "source": [
    "%reload_ext autoreload\n",
    "%autoreload 2"
   ]
  },
  {
   "cell_type": "code",
   "execution_count": 3,
   "metadata": {
    "collapsed": false
   },
   "outputs": [
    {
     "name": "stdout",
     "output_type": "stream",
     "text": [
      "DAMLAS-HW03-Template-2016-07-22.ipynb  readme.md\r\n"
     ]
    }
   ],
   "source": [
    "!dir"
   ]
  },
  {
   "cell_type": "code",
   "execution_count": 1,
   "metadata": {
    "collapsed": false
   },
   "outputs": [
    {
     "name": "stdout",
     "output_type": "stream",
     "text": [
      "Python 2.7.12 :: Continuum Analytics, Inc.\r\n"
     ]
    }
   ],
   "source": [
    "!python --version"
   ]
  },
  {
   "cell_type": "code",
   "execution_count": 5,
   "metadata": {
    "collapsed": false
   },
   "outputs": [
    {
     "name": "stdout",
     "output_type": "stream",
     "text": [
      "('APACHE_SPARK_VERSION', '1.6.1')\n",
      "('R_LIBS_USER', '/usr/local/spark/R/lib')\n",
      "('MESOS_NATIVE_LIBRARY', '/usr/local/lib/libmesos.so')\n",
      "('SPARK_HOME', '/usr/local/spark')\n",
      "('PATH', '/opt/conda/envs/python2/bin:/opt/conda/bin:/usr/local/sbin:/usr/local/bin:/usr/sbin:/usr/bin:/sbin:/bin')\n",
      "('HOME', '/home/jovyan')\n",
      "('PS1', '(python2) ')\n",
      "('LANG', 'en_US.UTF-8')\n",
      "('TERM', 'xterm-color')\n",
      "('SHELL', '/bin/bash')\n",
      "('LANGUAGE', 'en_US.UTF-8')\n",
      "('SHLVL', '1')\n",
      "('CONDA_PREFIX', '/opt/conda/envs/python2')\n",
      "('CONDA_PS1_BACKUP', '')\n",
      "('CONDA_DEFAULT_ENV', 'python2')\n",
      "('DEBIAN_FRONTEND', 'noninteractive')\n",
      "('NB_UID', '1000')\n",
      "('NB_USER', 'jovyan')\n",
      "('JPY_PARENT_PID', '58')\n",
      "('PYTHONPATH', '/usr/local/spark/python:/usr/local/spark/python/lib/py4j-0.9-src.zip')\n",
      "('GIT_PAGER', 'cat')\n",
      "('LC_ALL', 'en_US.UTF-8')\n",
      "('_', '/opt/conda/envs/python2/bin/jupyter-notebook')\n",
      "('CONDA_DIR', '/opt/conda')\n",
      "('SPARK_OPTS', '--driver-java-options=-Xms1024M --driver-java-options=-Xmx4096M --driver-java-options=-Dlog4j.logLevel=info')\n",
      "('HOSTNAME', '9b9a422ef679')\n",
      "('CLICOLOR', '1')\n",
      "('PWD', '/home/jovyan/work')\n",
      "('PAGER', 'cat')\n",
      "('CONDA_PATH_BACKUP', '/opt/conda/bin:/usr/local/sbin:/usr/local/bin:/usr/sbin:/usr/bin:/sbin:/bin')\n"
     ]
    }
   ],
   "source": [
    "import os\n",
    "\n",
    "for key, value in os.environ.items():\n",
    "    print(key, value)"
   ]
  },
  {
   "cell_type": "markdown",
   "metadata": {},
   "source": [
    "# DAMLAS - Machine Learning At Scale\n",
    "## Assignment - HW3\n",
    "Data Analytics and Machine Learning at Scale\n",
    "Target, Minneapolis\n",
    "\n",
    "---\n",
    "__Name:__  *Alfredo Marquez*   \n",
    "__Class:__ DAMLAS (Section *Your Section Goes Here*, e.g., Summer 2016)     \n",
    "__Email:__  *alfredo.marquez2*@Target.com     \n",
    "__Week:__   03"
   ]
  },
  {
   "cell_type": "markdown",
   "metadata": {},
   "source": [
    "# Table of Contents <a name=\"TOC\"></a> \n",
    "\n",
    "1.  [HW Introduction](#1)   \n",
    "2.  [HW References](#2)\n",
    "3.  [HW Problems](#3)   \n",
    "    3.0.  [Short Answer Questions](#HW3.0)    \n",
    "    3.1.  [Word Count plus sorting](#HW3.1)   \n",
    "    3.2.  [MLlib-centric Kmeans](#HW3.2)    \n",
    "    3.3.  [Homegrown KMeans in Spark](#HW3.3)    \n",
    "    3.4.  [Making Homegrown KMeans more efficient](#HW3.4)  \n",
    "    3.5.  [OPTIONAL Weighted KMeans](#HW3.5)  \n",
    "    3.6.  [OPTIONAL Linear Regression](#HW3.6)  \n",
    "    3.7.  [OPTIONAL Error surfaces](#HW3.7)\n"
   ]
  },
  {
   "cell_type": "markdown",
   "metadata": {},
   "source": [
    "\n",
    "<a name=\"1\">\n",
    "# 1 Instructions\n",
    "[Back to Table of Contents](#TOC)\n",
    "* Homework submissions are due by Tueday, 08/02/2016 at 11AM (CT).\n",
    "\n",
    "\n",
    "* Prepare a single Jupyter note, please include questions, and question numbers in the questions and in the responses.\n",
    "Submit your homework notebook via the following form:\n",
    "\n",
    "   + [Submission Link - Google Form](http://goo.gl/forms/er3OFr5eCMWDngB72)\n",
    "\n",
    "\n",
    "### Documents:\n",
    "* IPython Notebook, published and viewable online.\n",
    "* PDF export of IPython Notebook.\n",
    "    \n",
    "<a name=\"2\">\n",
    "# 2 Useful References\n",
    "[Back to Table of Contents](#TOC)\n",
    "\n",
    "* Karau, Holden, Konwinski, Andy, Wendell, Patrick, & Zaharia, Matei. (2015). Learning Spark: Lightning-fast big data analysis. Sebastopol, CA: O’Reilly Publishers.\n",
    "* Hastie, Trevor, Tibshirani, Robert, & Friedman, Jerome. (2009). The elements of statistical learning: Data mining, inference, and prediction (2nd ed.). Stanford, CA: Springer Science+Business Media. __(Download for free [here](http://statweb.stanford.edu/~tibs/ElemStatLearn/printings/ESLII_print10.pdf))__\n",
    "* Ryza, Sandy, Laserson, Uri, Owen, Sean, & Wills, Josh. (2015). Advanced analytics with Spark: Patterns for learning from data at scale. Sebastopol, CA: O’Reilly Publishers.\n",
    "---\n",
    "* [Slides for Supervised-ML-Classification-via-GradientDescent](https://www.dropbox.com/s/uzoch1dwft8kaqw/Lecture-15-Supervised-ML-Classification-via-GradientDescent.pdf?dl=0)\n",
    "* [Slides from High Entropy Friday]( https://www.dropbox.com/s/0dlvsff3660vvbk/Lecture-High-Entropy-Friday.pdf?dl=0)\n",
    "\n",
    "---"
   ]
  },
  {
   "cell_type": "markdown",
   "metadata": {},
   "source": [
    "<a name=\"HW3\">\n",
    "# 3 HW Problems\n",
    "[Back to Table of Contents](#TOC)"
   ]
  },
  {
   "cell_type": "code",
   "execution_count": null,
   "metadata": {
    "collapsed": false,
    "scrolled": true
   },
   "outputs": [],
   "source": [
    "# Initiate Spark on Local:  ** Do not run this on Docker **\n",
    "import sys #current as of 9/26/2015\n",
    "\n",
    "# spark_home = os.environ['SPARK_HOME'] = '/Users/jshanahan/Dropbox/Lectures-UC-Berkeley-ML-Class-2015/spark-1.6.1-bin-hadoop2.6/'\n",
    "spark_home = os.environ['SPARK_HOME'] = 'C:\\Apps\\Apache\\Spark-1.6.1'\n",
    "if not spark_home:\n",
    "    raise ValueError('SPARK_HOME enviroment variable is not set')\n",
    "sys.path.insert(0,os.path.join(spark_home,'python'))\n",
    "sys.path.insert(0,os.path.join(spark_home,'python/lib/py4j-0.9-src.zip'))\n",
    "\n",
    "# First, we initialize the Spark environment\n",
    "\n",
    "#import findspark\n",
    "#findspark.init()\n",
    "\n",
    "import pyspark\n",
    "from pyspark.sql import SQLContext\n",
    "\n",
    "# We can give a name to our app (to find it in Spark WebUI) and configure execution mode\n",
    "# In this case, it is local multicore execution with \"local[*]\"\n",
    "app_name = \"example-logs\"\n",
    "master = \"local[*]\"\n",
    "conf = pyspark.SparkConf().setAppName(app_name).setMaster(master)\n",
    "sc = pyspark.SparkContext(conf=conf)\n",
    "sqlContext = SQLContext(sc)\n",
    "\n",
    "\n",
    "print(sc)\n",
    "print(sqlContext)\n",
    "\n",
    "\n",
    "# Import some libraries to work with dates\n",
    "import dateutil.parser\n",
    "import dateutil.relativedelta as dateutil_rd"
   ]
  },
  {
   "cell_type": "code",
   "execution_count": 16,
   "metadata": {
    "collapsed": false
   },
   "outputs": [
    {
     "ename": "IOError",
     "evalue": "[Errno 2] No such file or directory: '/bin/pyspark.py'",
     "output_type": "error",
     "traceback": [
      "\u001b[1;31m\u001b[0m",
      "\u001b[1;31mIOError\u001b[0mTraceback (most recent call last)",
      "\u001b[1;32m<ipython-input-16-f32e4c88b102>\u001b[0m in \u001b[0;36m<module>\u001b[1;34m()\u001b[0m\n\u001b[0;32m     14\u001b[0m \u001b[1;31m#execfile(os.path.join(spark_home,'python/pyspark/shell.py'))\u001b[0m\u001b[1;33m\u001b[0m\u001b[1;33m\u001b[0m\u001b[0m\n\u001b[0;32m     15\u001b[0m \u001b[1;31m#execfile(os.path.join(spark_home,'C:/Apps/Apache/Spark-1.6.1/bin/pyspark.py'))\u001b[0m\u001b[1;33m\u001b[0m\u001b[1;33m\u001b[0m\u001b[0m\n\u001b[1;32m---> 16\u001b[1;33m \u001b[0mexecfile\u001b[0m\u001b[1;33m(\u001b[0m\u001b[0mos\u001b[0m\u001b[1;33m.\u001b[0m\u001b[0mpath\u001b[0m\u001b[1;33m.\u001b[0m\u001b[0mjoin\u001b[0m\u001b[1;33m(\u001b[0m\u001b[0mspark_home\u001b[0m\u001b[1;33m,\u001b[0m\u001b[1;34m'/bin/pyspark.py'\u001b[0m\u001b[1;33m)\u001b[0m\u001b[1;33m)\u001b[0m\u001b[1;33m\u001b[0m\u001b[0m\n\u001b[0m",
      "\u001b[1;31mIOError\u001b[0m: [Errno 2] No such file or directory: '/bin/pyspark.py'"
     ]
    }
   ],
   "source": [
    "# Spark Initialization: Worked on old local spark install.\n",
    "import os\n",
    "import sys\n",
    "#Escape L for line numbers\n",
    "#spark_home = os.environ['SPARK_HOME'] = '/Users/liang/Downloads/spark-1.4.1-bin-hadoop2.6/'\n",
    "#spark_home = os.environ['SPARK_HOME'] = '/Users/jshanahan/Dropbox/Lectures-UC-Berkeley-ML-Class-2015/spark-1.5.0-bin-hadoop2.6/'\n",
    "#spark_home = os.environ['SPARK_HOME'] = '/Users/james.shanahan/Dropbox/Lectures-UC-Berkeley-ML-Class-2015/spark-1.5.0-bin-hadoop2.6/'\n",
    "#spark_home = os.environ['SPARK_HOME'] = '/Users/liang/Downloads/spark-1.3.0-bin-hadoop2.4/'\n",
    "#spark_home = os.environ['SPARK_HOME'] = 'C:\\Apps\\Apache\\Spark-1.6.1'\n",
    "spark_home = os.environ['SPARK_HOME'] = 'C:/Apps/Apache/Spark-1.6.1'\n",
    "if not spark_home:\n",
    "    raise ValueError('SPARK_HOME enviroment variable is not set')\n",
    "#sys.path.insert(0,os.path.join(spark_home,'python'))\n",
    "#sys.path.insert(0,os.path.join(spark_home,'python/lib/py4j-0.8.2.1-src.zip'))\n",
    "#execfile(os.path.join(spark_home,'python/pyspark/shell.py'))\n",
    "#execfile(os.path.join(spark_home,'C:/Apps/Apache/Spark-1.6.1/bin/pyspark.py'))\n",
    "execfile(os.path.join(spark_home,'/bin/pyspark.py'))"
   ]
  },
  {
   "cell_type": "code",
   "execution_count": 2,
   "metadata": {
    "collapsed": false
   },
   "outputs": [
    {
     "name": "stdout",
     "output_type": "stream",
     "text": [
      "<pyspark.context.SparkContext object at 0x7f13bae93c10>\n",
      "<pyspark.sql.context.SQLContext object at 0x7f13ba478150>\n"
     ]
    }
   ],
   "source": [
    "# Spark Initialization: DOCKER \n",
    "import pyspark\n",
    "from pyspark.sql import SQLContext\n",
    "\n",
    "# We can give a name to our app (to find it in Spark WebUI) and configure execution mode\n",
    "# In this case, it is local multicore execution with \"local[*]\"\n",
    "app_name = \"example-logs\"\n",
    "master = \"local[*]\"\n",
    "conf = pyspark.SparkConf().setAppName(app_name).setMaster(master)\n",
    "sc = pyspark.SparkContext(conf=conf)\n",
    "sqlContext = SQLContext(sc)\n",
    "\n",
    "\n",
    "print(sc)\n",
    "print(sqlContext)\n",
    "\n",
    "\n",
    "# Import some libraries to work with dates\n",
    "import dateutil.parser\n",
    "import dateutil.relativedelta as dateutil_rd"
   ]
  },
  {
   "cell_type": "markdown",
   "metadata": {},
   "source": [
    "<a name=\"3.0\"></a><h2 style=\"color:darkblue\"> HW3.0: Short answer questions </h2>\n",
    "[Back to Table of Contents](#TOC)\n",
    "\n",
    "\n",
    "__What is Apache Spark and how is it different to Apache Hadoop? __\n",
    "\n",
    "**Answer #1**\n",
    "> \"Apache Spark is a cluster computing platform desinged to be fast and gernal-purpose.\" (pg.1, Learning Spark).  The speed allows for interactive data analysis, and the general purpose allows for \"a wide range of workloads that previously required separate dstiributd systems, icluding batch applications, iterative algorithms, interactive queries, and streaming. (pg.1 , Learning Spark).\n",
    "Hadoop is a file distributed system that is designed for storing data.  API's can reach out to Hadoop to access and perform ETL on the data.  Map Reduce was the process for which to drive operations in hadoop, but Map Reduce was very inefficient and not as interactive as Spark. (pgs. 6-7, Learning Spark)\n",
    "\n",
    "<hr> \n",
    "\n",
    "__Fill in the blanks:\n",
    "Spark API consists of interfaces to develop applications based on it in Java, __Scala, Python__ languages (list languages). __\n",
    "\n",
    "**Answer #2** \n",
    ">Scala, Python, SQL, and R. (pg.1 Learning Spark). \n",
    "\n",
    "<hr>\n",
    "\n",
    "__Using Spark, resource management can be done either in a single server instance or using a framework such as Mesos or YARN in a distributed manner. __\n",
    "\n",
    "**Answer #3** Spark's Stand Alone Scheduler, APACHE Mesos, HADOOP YARN for the cluster; Local for single server/machine.\n",
    "\n",
    "<hr>\n",
    "\n",
    "__What is an RDD and show a fun example of creating one and bringing the first element back to the driver program. __\n",
    "\n",
    "**Answer #4: see below** From the Spark website.\n",
    ">Resilient Distributed Datasets (RDDs)\n",
    "\"Spark revolves around the concept of a resilient distributed dataset (RDD), which is a fault-tolerant collection of elements that can be operated on in parallel. There are two ways to create RDDs: parallelizing an existing collection in your driver program, or referencing a dataset in an external storage system, such as a shared filesystem, HDFS, HBase, or any data source offering a Hadoop InputFormat.\"\n",
    "\n",
    "<hr>\n"
   ]
  },
  {
   "cell_type": "code",
   "execution_count": 9,
   "metadata": {
    "collapsed": false
   },
   "outputs": [
    {
     "data": {
      "text/plain": [
       "1"
      ]
     },
     "execution_count": 9,
     "metadata": {},
     "output_type": "execute_result"
    }
   ],
   "source": [
    "# Answer #4:\n",
    "rdd20 = sc.parallelize(range(1,20,1))\n",
    "rdd20.first()"
   ]
  },
  {
   "cell_type": "markdown",
   "metadata": {},
   "source": [
    "<a name=\"HW3.1\"> <h2 style=\"color:darkgreen\">HW3.1 WordCount plus sorting </h2>\n",
    "[Back to Table of Contents](#TOC)\n",
    "\n",
    "The following notebooks will be useful to jumpstart this collection of Homework exercises:\n",
    "\n",
    "\n",
    "* [Example Notebook with Debugging tactics in Spark](http://nbviewer.jupyter.org/urls/dl.dropbox.com/s/jqjllp8kmf1eolk/WordCountDebugging-Example.ipynb)\n",
    "* [Word Count Quiz](http://nbviewer.jupyter.org/urls/dl.dropbox.com/s/vgmpivsi4rvqz0s/WordCountQuiz.ipynb)\n",
    "* [Work Count Solution](http://nbviewer.jupyter.org/urls/dl.dropbox.com/s/dxv3dmp1vluuo8i/WordCountQuiz-Solution.ipynb)\n",
    "\n",
    "---\n",
    "In Spark write the code to count how often each word appears in a text document (or set of documents). Please use this homework document (with no solutions in it) as a the example document to run an experiment.  Report the following: \n",
    "* provide a sorted list of tokens in decreasing order of frequency of occurence limited to [top 20 most frequent only] and [bottom 10 least frequent]. \n",
    "\n",
    "\n",
    "__OPTIONAL__ \n",
    "Feel free to do a secondary sort where words with the same frequncy are sorted alphanumerically increasing. Plseas refer to the [following notebook](http://nbviewer.jupyter.org/urls/dl.dropbox.com/s/uu5afr3ufpm9fy8/SecondarySort.ipynb)\n",
    " for examples of secondary sorts in Spark. Please provide the following [top 20 most frequent terms only] and [bottom 10 least frequent terms]\n",
    "\n",
    "__NOTE__ [Please incorporate all referenced notebooks directly into this master notebook as cells for HW submission. I.e., HW submissions should comprise of just one notebook]__\n",
    "\n",
    "**Online References: http://stackoverflow.com/questions/30787635/takeordered-descending-pyspark\n",
    "**"
   ]
  },
  {
   "cell_type": "code",
   "execution_count": 26,
   "metadata": {
    "collapsed": false
   },
   "outputs": [
    {
     "name": "stdout",
     "output_type": "stream",
     "text": [
      "('Top 20 occurences:', [(u'the', 71), (u'', 68), (u'of', 49), (u'and', 40), (u'to', 33), (u'in', 32), (u'##', 27), (u'a', 23), (u'this', 17), (u'Contents', 17), (u'Table', 17), (u'for', 17), (u'Back', 16), (u'with', 14), (u'as', 13), (u'&', 12), (u'data', 12), (u'KMeans', 12), (u'code', 11), (u'here', 11)])\n",
      "('Bottom 10 occurences:', [(u'limited', 1), (u'forget', 1), (u'Here@Target.com', 1), (u'consists', 1), (u'inverse', 1), (u'terms', 1), (u'HW3.1', 1), (u'graph', 1), (u'HW3.7', 1), (u'HW3.6', 1)])\n"
     ]
    }
   ],
   "source": [
    "## Code goes here\n",
    "data = sc.textFile('HW3.txt')\n",
    "#data.take(10)\n",
    "words = data.flatMap(lambda x: x.split(' ')) \\\n",
    "        .map(lambda word: (word, 1)) \\\n",
    "        .reduceByKey(lambda x,y: (x+y))\n",
    "\n",
    "        \n",
    "print ('Top 20 occurences:' , words.takeOrdered(20, key = lambda x: -x[1]) )\n",
    "print ('Bottom 10 occurences:' , words.takeOrdered(10, key = lambda x: x[1]) )"
   ]
  },
  {
   "cell_type": "code",
   "execution_count": null,
   "metadata": {
    "collapsed": true
   },
   "outputs": [],
   "source": [
    "## Drivers & Runners"
   ]
  },
  {
   "cell_type": "code",
   "execution_count": null,
   "metadata": {
    "collapsed": true
   },
   "outputs": [],
   "source": [
    "## Run Scripts, S3 Sync"
   ]
  },
  {
   "cell_type": "markdown",
   "metadata": {},
   "source": [
    "<a name=\"HW3.1.1\"><h2 style=\"color:darkgreen\">HW3.1.1 </h2>\n",
    "[Back to Table of Contents](#TOC)\n",
    "\n",
    "Modify the above word count code to count words that begin with lower case letters (a-z) and report your findings. Again sort the output words in decreasing order of frequency.\n"
   ]
  },
  {
   "cell_type": "code",
   "execution_count": 28,
   "metadata": {
    "collapsed": false
   },
   "outputs": [
    {
     "name": "stdout",
     "output_type": "stream",
     "text": [
      "('Top 20 occurences:', [(u'the', 71), (u'of', 49), (u'and', 40), (u'to', 33), (u'in', 32), (u'a', 23), (u'this', 17), (u'Contents', 17), (u'Table', 17), (u'for', 17), (u'Back', 16), (u'with', 14), (u'as', 13), (u'data', 12), (u'KMeans', 12), (u'code', 11), (u'here', 11), (u'model', 11), (u'plot', 10), (u'Run', 10)])\n",
      "('Bottom 10 occurences:', [(u'sameModel', 1), (u'limited', 1), (u'forget', 1), (u'consists', 1), (u'inverse', 1), (u'graph', 1), (u'languages', 1), (u'include', 1), (u'stackoverflow', 1), (u'bringing', 1)])\n"
     ]
    }
   ],
   "source": [
    "## Code goes here\n",
    "data = sc.textFile('HW3.txt')\n",
    "#data.take(10)\n",
    "words = data.flatMap(lambda x: x.split(' ')) \\\n",
    "        .filter(lambda x: x.isalpha() ) \\\n",
    "        .map(lambda word: (word, 1)) \\\n",
    "        .reduceByKey(lambda x,y: (x+y))\n",
    "\n",
    "        \n",
    "print ('Top 20 occurences:' , words.takeOrdered(20, key = lambda x: -x[1]) )\n",
    "print ('Bottom 10 occurences:' , words.takeOrdered(10, key = lambda x: x[1]) )"
   ]
  },
  {
   "cell_type": "code",
   "execution_count": null,
   "metadata": {
    "collapsed": true
   },
   "outputs": [],
   "source": [
    "## Drivers & Runners"
   ]
  },
  {
   "cell_type": "code",
   "execution_count": null,
   "metadata": {
    "collapsed": true
   },
   "outputs": [],
   "source": [
    "## Run Scripts, S3 Sync"
   ]
  },
  {
   "cell_type": "markdown",
   "metadata": {},
   "source": [
    "<a name=\"HW3.2\"> <h2 style=\"color:darkblue\"> HW3.2: MLlib-centric KMeans</h2>\n",
    "[Back to Table of Contents](#TOC)\n",
    "\n",
    "Using the following  MLlib-centric KMeans code snippet: \n",
    "\n",
    "<pre>\n",
    "from pyspark.mllib.clustering import KMeans, KMeansModel\n",
    "from numpy import array\n",
    "from math import sqrt\n",
    "\n",
    "\n",
    "# Load and parse the data\n",
    "# NOTE  kmeans_data.txt is available here \n",
    "#          https://www.dropbox.com/s/q85t0ytb9apggnh/kmeans_data.txt?dl=0 \n",
    "data = sc.textFile(\"kmeans_data.txt\")  \n",
    "parsedData = data.map(lambda line: array([float(x) for x in line.split(' ')]))\n",
    "\n",
    "# Build the model (cluster the data)\n",
    "clusters = KMeans.train(parsedData, 2, maxIterations=10,\n",
    "        runs=10, initializationMode=\"random\")\n",
    "\n",
    "# Evaluate clustering by computing Within Set Sum of Squared Errors\n",
    "def error(point):\n",
    "    center = clusters.centers[clusters.predict(point)]\n",
    "    return sqrt(sum([x**2 for x in (point - center)]))\n",
    "\n",
    "WSSSE = parsedData.map(lambda point: error(point)).reduce(lambda x, y: x + y)\n",
    "print(\"Within Set Sum of Squared Error = \" + str(WSSSE))\n",
    "\n",
    "# Save and load model\n",
    "clusters.save(sc, \"myModelPath\")\n",
    "sameModel = KMeansModel.load(sc, \"myModelPath\")\n",
    "\n",
    "</pre>\n",
    "\n",
    "__NOTE__ <p> The  __kmeans_data.txt__ is available here https://www.dropbox.com/s/q85t0ytb9apggnh/kmeans_data.txt?dl=0 \n",
    "\n",
    "__TASKS__\n",
    "* Run this code snippet and list the clusters that your find.\n",
    "* compute the Within Set Sum of Squared Errors for the found clusters. Comment on your findings."
   ]
  },
  {
   "cell_type": "code",
   "execution_count": 43,
   "metadata": {
    "collapsed": false
   },
   "outputs": [
    {
     "name": "stdout",
     "output_type": "stream",
     "text": [
      "0.0 0.0 0.0\r\n",
      "0.1 0.1 0.1\r\n",
      "0.2 0.2 0.2\r\n",
      "9.0 9.0 9.0\r\n",
      "9.1 9.1 9.1\r\n",
      "9.2 9.2 9.2\r\n"
     ]
    }
   ],
   "source": [
    "!cat kmeans_data.txt"
   ]
  },
  {
   "cell_type": "code",
   "execution_count": 49,
   "metadata": {
    "collapsed": false
   },
   "outputs": [
    {
     "name": "stdout",
     "output_type": "stream",
     "text": [
      "('Points:', [array([ 0.,  0.,  0.]), array([ 0.1,  0.1,  0.1]), array([ 0.2,  0.2,  0.2]), array([ 9.,  9.,  9.]), array([ 9.1,  9.1,  9.1]), array([ 9.2,  9.2,  9.2])])\n",
      "('Centers: ', [array([ 9.1,  9.1,  9.1]), array([ 0.1,  0.1,  0.1])])\n",
      "Within Set Sum of Squared Error = 0.692820323028\n"
     ]
    }
   ],
   "source": [
    "## Code goes here\n",
    "from pyspark.mllib.clustering import KMeans, KMeansModel\n",
    "from numpy import array\n",
    "from math import sqrt\n",
    "\n",
    "\n",
    "# Load and parse the data\n",
    "# NOTE  kmeans_data.txt is available here \n",
    "#          https://www.dropbox.com/s/q85t0ytb9apggnh/kmeans_data.txt?dl=0 \n",
    "data = sc.textFile(\"kmeans_data.txt\")  \n",
    "parsedData = data.map(lambda line: array([float(x) for x in line.split(' ')]))\n",
    "print ('Points:' , parsedData.collect())\n",
    "\n",
    "# Build the model (cluster the data)\n",
    "clusters = KMeans.train(parsedData, 2, maxIterations=10,\n",
    "        runs=10, initializationMode=\"random\")\n",
    "print ('Centers: ' , clusters.centers)\n",
    "# Evaluate clustering by computing Within Set Sum of Squared Errors\n",
    "def error(point):\n",
    "    center = clusters.centers[clusters.predict(point)] # predicts/classifies into cluster 1 or cluster 2\n",
    "    return sqrt(sum([x**2 for x in (point - center)]))\n",
    "\n",
    "WSSSE = parsedData.map(lambda point: error(point)).reduce(lambda x, y: x + y)\n",
    "print(\"Within Set Sum of Squared Error = \" + str(WSSSE))\n",
    "\n",
    "# Save and load model\n",
    "#clusters.save(sc, \"myModelPath\")\n",
    "#sameModel = KMeansModel.load(sc, \"myModelPath\")"
   ]
  },
  {
   "cell_type": "code",
   "execution_count": null,
   "metadata": {
    "collapsed": true
   },
   "outputs": [],
   "source": [
    "#recreated in R:\n",
    "> (0.0 - 0.1)^2 + (0.0 - 0.1)^2  + (0.0 - 0.1)^2  \n",
    "[1] 0.03\n",
    "> sqrt(0.03)\n",
    "[1] 0.1732051\n",
    "> 0.1732051*4\n",
    "[1] 0.6928204\n",
    "> \n",
    "\n",
    "# the error turns out to be exactly the same for each point, 0.1732051, except for 2 where the error is 0.  \n",
    "# because the difference between the points and the centers are so small, you get a small WSSSE."
   ]
  },
  {
   "cell_type": "code",
   "execution_count": null,
   "metadata": {
    "collapsed": true
   },
   "outputs": [],
   "source": [
    "## Drivers & Runners"
   ]
  },
  {
   "cell_type": "code",
   "execution_count": null,
   "metadata": {
    "collapsed": true
   },
   "outputs": [],
   "source": [
    "## Run Scripts, S3 Sync"
   ]
  },
  {
   "cell_type": "markdown",
   "metadata": {},
   "source": [
    "<a name=\"HW3.3\"><h2 style=\"color:darkgreen\"> HW3.3: Homegrown KMeans in Spark </h2>\n",
    "[Back to Table of Contents](#TOC)\n",
    "\n",
    "Download the following KMeans [notebook](http://nbviewer.jupyter.org/urls/dl.dropbox.com/s/3nsthvp8g2rrrdh/EM-Kmeans.ipynb).\n",
    "\n",
    "Generate 3 clusters with 100 (one hundred) data points per cluster (using the code provided). Plot the data.\n",
    "Then run MLlib's Kmean implementation on this data  and report your results as follows:\n",
    "\n",
    "* plot the resulting clusters after 1 iteration, 10 iterations, after 20 iterations, after 100 iterations.\n",
    "* in each plot please report the Within Set Sum of Squared Errors for the found clusters (as part of the title WSSSE). Comment on the progress of this measure as  the KMEans algorithms runs for more iterations. \n",
    "* Then plot the WSSSE as a function of the iteration (1, 10, 20, 30, 40, 50, 100).\n",
    "\n",
    "**Online References: \n",
    "http://spark.apache.org/docs/latest/mllib-clustering.html\n",
    "**"
   ]
  },
  {
   "cell_type": "code",
   "execution_count": 42,
   "metadata": {
    "collapsed": false
   },
   "outputs": [],
   "source": [
    "## Code goes here\n",
    "%matplotlib inline\n",
    "import numpy as np\n",
    "import pylab \n",
    "import json\n",
    "size1 = size2 = size3 = 100\n",
    "samples1 = np.random.multivariate_normal([4, 0], [[1, 0],[0, 1]], size1)\n",
    "data = samples1\n",
    "samples2 = np.random.multivariate_normal([6, 6], [[1, 0],[0, 1]], size2)\n",
    "data = np.append(data,samples2, axis=0)\n",
    "samples3 = np.random.multivariate_normal([0, 4], [[1, 0],[0, 1]], size3)\n",
    "data = np.append(data,samples3, axis=0)\n",
    "# Randomlize data\n",
    "data = data[np.random.permutation(size1+size2+size3),]\n",
    "np.savetxt('data3_3.csv',data,delimiter = ',')"
   ]
  },
  {
   "cell_type": "code",
   "execution_count": 43,
   "metadata": {
    "collapsed": false
   },
   "outputs": [
    {
     "data": {
      "image/png": "[encoded data removed]",
      "text/plain": [
       "<matplotlib.figure.Figure at 0x7f13a24e07d0>"
      ]
     },
     "metadata": {},
     "output_type": "display_data"
    }
   ],
   "source": [
    "pylab.plot(samples1[:, 0], samples1[:, 1],'*', color = 'red')\n",
    "pylab.plot(samples2[:, 0], samples2[:, 1],'o',color = 'blue')\n",
    "pylab.plot(samples3[:, 0], samples3[:, 1],'+',color = 'green')\n",
    "pylab.show()"
   ]
  },
  {
   "cell_type": "code",
   "execution_count": 73,
   "metadata": {
    "collapsed": true
   },
   "outputs": [],
   "source": [
    "import numpy as np\n",
    "\n",
    "#Calculate which class each data point belongs to\n",
    "def nearest_centroid(line):\n",
    "    x = np.array([float(f) for f in line.split(',')])\n",
    "    closest_centroid_idx = np.sum((x - centroids)**2, axis=1).argmin()\n",
    "    return (closest_centroid_idx,(x,1))\n",
    "\n",
    "#plot centroids and data points for each iteration\n",
    "def plot_iteration(means):\n",
    "    pylab.plot(samples1[:, 0], samples1[:, 1], '.', color = 'blue')\n",
    "    pylab.plot(samples2[:, 0], samples2[:, 1], '.', color = 'blue')\n",
    "    pylab.plot(samples3[:, 0], samples3[:, 1],'.', color = 'blue')\n",
    "    pylab.plot(means[0][0], means[0][1],'*',markersize =10,color = 'red')\n",
    "    pylab.plot(means[1][0], means[1][1],'*',markersize =10,color = 'red')\n",
    "    pylab.plot(means[2][0], means[2][1],'*',markersize =10,color = 'red')\n",
    "    pylab.show()"
   ]
  },
  {
   "cell_type": "code",
   "execution_count": 49,
   "metadata": {
    "collapsed": false,
    "scrolled": false
   },
   "outputs": [
    {
     "name": "stdout",
     "output_type": "stream",
     "text": [
      "('Iteration:', 1)\n"
     ]
    },
    {
     "name": "stderr",
     "output_type": "stream",
     "text": [
      "/usr/local/spark/python/pyspark/mllib/clustering.py:176: UserWarning: Support for runs is deprecated in 1.6.0. This param will have no effect in 1.7.0.\n",
      "  \"Support for runs is deprecated in 1.6.0. This param will have no effect in 1.7.0.\")\n"
     ]
    },
    {
     "name": "stdout",
     "output_type": "stream",
     "text": [
      "('Centers: ', [array([ 3.99161955,  0.08749763]), array([ 5.07192652,  5.89846617]), array([-0.41258556,  3.78930352])])\n",
      "Within Set Sum of Squared Error = 408.431946713\n"
     ]
    },
    {
     "data": {
      "image/png": "[encoded data removed]",
      "text/plain": [
       "<matplotlib.figure.Figure at 0x7f1399a53ad0>"
      ]
     },
     "metadata": {},
     "output_type": "display_data"
    },
    {
     "name": "stdout",
     "output_type": "stream",
     "text": [
      "('Iteration:', 10)\n",
      "('Centers: ', [array([ 6.07237948,  6.0868025 ]), array([-0.11205806,  4.01663716]), array([ 3.91966766, -0.01739399])])\n",
      "Within Set Sum of Squared Error = 372.465278153\n"
     ]
    },
    {
     "data": {
      "image/png": "[encoded data removed]",
      "text/plain": [
       "<matplotlib.figure.Figure at 0x7f1399a313d0>"
      ]
     },
     "metadata": {},
     "output_type": "display_data"
    },
    {
     "name": "stdout",
     "output_type": "stream",
     "text": [
      "('Iteration:', 20)\n",
      "('Centers: ', [array([ 3.91966766, -0.01739399]), array([ 6.07237948,  6.0868025 ]), array([-0.11205806,  4.01663716])])\n",
      "Within Set Sum of Squared Error = 372.465278153\n"
     ]
    },
    {
     "data": {
      "image/png": "[encoded data removed]",
      "text/plain": [
       "<matplotlib.figure.Figure at 0x7f139963a590>"
      ]
     },
     "metadata": {},
     "output_type": "display_data"
    },
    {
     "name": "stdout",
     "output_type": "stream",
     "text": [
      "('Iteration:', 30)\n",
      "('Centers: ', [array([-0.11205806,  4.01663716]), array([ 3.91966766, -0.01739399]), array([ 6.07237948,  6.0868025 ])])\n",
      "Within Set Sum of Squared Error = 372.465278153\n"
     ]
    },
    {
     "data": {
      "image/png": "[encoded data removed]",
      "text/plain": [
       "<matplotlib.figure.Figure at 0x7f1399cee190>"
      ]
     },
     "metadata": {},
     "output_type": "display_data"
    },
    {
     "name": "stdout",
     "output_type": "stream",
     "text": [
      "('Iteration:', 40)\n",
      "('Centers: ', [array([ 6.07237948,  6.0868025 ]), array([-0.11205806,  4.01663716]), array([ 3.91966766, -0.01739399])])\n",
      "Within Set Sum of Squared Error = 372.465278153\n"
     ]
    },
    {
     "data": {
      "image/png": "[encoded data removed]",
      "text/plain": [
       "<matplotlib.figure.Figure at 0x7f1399cee950>"
      ]
     },
     "metadata": {},
     "output_type": "display_data"
    },
    {
     "name": "stdout",
     "output_type": "stream",
     "text": [
      "('Iteration:', 50)\n",
      "('Centers: ', [array([ 3.91966766, -0.01739399]), array([-0.11205806,  4.01663716]), array([ 6.07237948,  6.0868025 ])])\n",
      "Within Set Sum of Squared Error = 372.465278153\n"
     ]
    },
    {
     "data": {
      "image/png": "[encoded data removed]",
      "text/plain": [
       "<matplotlib.figure.Figure at 0x7f1399aef250>"
      ]
     },
     "metadata": {},
     "output_type": "display_data"
    },
    {
     "name": "stdout",
     "output_type": "stream",
     "text": [
      "('Iteration:', 100)\n",
      "('Centers: ', [array([ 6.07237948,  6.0868025 ]), array([-0.11205806,  4.01663716]), array([ 3.91966766, -0.01739399])])\n",
      "Within Set Sum of Squared Error = 372.465278153\n"
     ]
    },
    {
     "data": {
      "image/png": "[encoded data removed]",
      "text/plain": [
       "<matplotlib.figure.Figure at 0x7f13999f2fd0>"
      ]
     },
     "metadata": {},
     "output_type": "display_data"
    },
    {
     "name": "stdout",
     "output_type": "stream",
     "text": [
      "('ScreePlot Data:', {1: 408.4319467127224, 100: 372.4652781527718, 40: 372.4652781527718, 10: 372.4652781527718, 50: 372.4652781527718, 20: 372.4652781527718, 30: 372.4652781527718})\n"
     ]
    }
   ],
   "source": [
    "from pyspark.mllib.clustering import KMeans, KMeansModel\n",
    "from numpy import array\n",
    "from math import sqrt\n",
    "\n",
    "\n",
    "# Load and parse the data\n",
    "# NOTE  kmeans_data.txt is available here \n",
    "#          https://www.dropbox.com/s/q85t0ytb9apggnh/kmeans_data.txt?dl=0 \n",
    "data = sc.textFile(\"data3_3.csv\")  \n",
    "parsedData = data.map(lambda line: array([float(x) for x in line.split(',')]))\n",
    "#print ('Points:' , parsedData.collect())\n",
    "\n",
    "ScreePlot = {}\n",
    "for i in (1,10,20,30,40,50,100) : \n",
    "    print (\"Iteration:\" , i)\n",
    "    # Build the model (cluster the data)\n",
    "    clusters = KMeans.train(parsedData, 3, maxIterations=i,\n",
    "            runs=10, initializationMode=\"random\")\n",
    "\n",
    "    print ('Centers: ' , clusters.centers)\n",
    "\n",
    "    # Evaluate clustering by computing Within Set Sum of Squared Errors\n",
    "    def error(point):\n",
    "        center = clusters.centers[clusters.predict(point)] # predicts/classifies into cluster 1 or cluster 2\n",
    "        return sqrt(sum([x**2 for x in (point - center)]))\n",
    "\n",
    "    WSSSE = parsedData.map(lambda point: error(point)).reduce(lambda x, y: x + y)\n",
    "    ScreePlot[i]= WSSSE\n",
    "    print(\"Within Set Sum of Squared Error = \" + str(WSSSE))\n",
    "    plot_iteration(clusters.centers)\n",
    "\n",
    "print ('ScreePlot Data:' , ScreePlot)\n",
    "\n",
    "# Save and load model\n",
    "#clusters.save(sc, \"myModelPath3_3\")\n",
    "#sameModel = KMeansModel.load(sc, \"myModelPath3_3\")"
   ]
  },
  {
   "cell_type": "code",
   "execution_count": 50,
   "metadata": {
    "collapsed": false
   },
   "outputs": [
    {
     "name": "stdout",
     "output_type": "stream",
     "text": [
      "[1, 408.4319467127224]\n",
      "[100, 372.4652781527718]\n",
      "[40, 372.4652781527718]\n",
      "[10, 372.4652781527718]\n",
      "[50, 372.4652781527718]\n",
      "[20, 372.4652781527718]\n",
      "[30, 372.4652781527718]\n",
      "[1, 100, 40, 10, 50, 20, 30]\n",
      "[408.4319467127224, 372.4652781527718, 372.4652781527718, 372.4652781527718, 372.4652781527718, 372.4652781527718, 372.4652781527718]\n"
     ]
    },
    {
     "data": {
      "image/png": "[encoded data removed]",
      "text/plain": [
       "<matplotlib.figure.Figure at 0x7f13999f1c10>"
      ]
     },
     "metadata": {},
     "output_type": "display_data"
    }
   ],
   "source": [
    "Iterations = []\n",
    "WSSSE_list = []\n",
    "for key, value in ScreePlot.items():\n",
    "    Iterations.append(key)\n",
    "    WSSSE_list.append(value)\n",
    "    print [key, value]\n",
    "\n",
    "print Iterations\n",
    "print WSSSE_list\n",
    "pylab.plot(Iterations, WSSSE_list,'o',color = 'green')\n",
    "pylab.show()"
   ]
  },
  {
   "cell_type": "markdown",
   "metadata": {},
   "source": [
    "# Answer:\n",
    "> The WSSSE drops quick between the 1st and 10th iteration, then elbows, then it remains stable or flat as the more iterations\n",
    "are conducted.  For a dataset this small one would expect convergence to rather quickly, but data sets at scale may take many more\n",
    "iterations to converge."
   ]
  },
  {
   "cell_type": "code",
   "execution_count": null,
   "metadata": {
    "collapsed": true
   },
   "outputs": [],
   "source": [
    "## Drivers & Runners"
   ]
  },
  {
   "cell_type": "code",
   "execution_count": null,
   "metadata": {
    "collapsed": true
   },
   "outputs": [],
   "source": [
    "## Run Scripts, S3 Sync"
   ]
  },
  {
   "cell_type": "markdown",
   "metadata": {},
   "source": [
    "<a name=\"HW3.4\"><h2 style=\"color:darkblue\"> HW3.4: KMeans Experiments  </h2>\n",
    "[Back to Table of Contents](#TOC)\n",
    "\n",
    "Using this provided [homegrown Kmeans code](http://nbviewer.jupyter.org/urls/dl.dropbox.com/s/3nsthvp8g2rrrdh/EM-Kmeans.ipynb)   repeat the experiments in HW3.3. Explain any differences between the results in HW3.3 and HW3.4. "
   ]
  },
  {
   "cell_type": "code",
   "execution_count": 60,
   "metadata": {
    "collapsed": true
   },
   "outputs": [],
   "source": [
    "## Code goes here"
   ]
  },
  {
   "cell_type": "code",
   "execution_count": 75,
   "metadata": {
    "collapsed": false,
    "scrolled": false
   },
   "outputs": [
    {
     "name": "stdout",
     "output_type": "stream",
     "text": [
      "centroidsnew:\n",
      "[[0, array([ 0.79596844,  0.68609998])], [1, array([ 4.01474397,  2.69914556])], [2, array([ 1.90033532,  5.6615767 ])]]\n",
      "centroidrdd:\n",
      "[array([ 0.79596844,  0.68609998]), array([ 4.01474397,  2.69914556]), array([ 1.90033532,  5.6615767 ])]\n",
      "WSSSE_pts\n",
      "(0, (array([-0.81098336,  2.35304528]), array([ 0.79596844,  0.68609998])))\n",
      "WSSSE_sum:\n",
      "976.000748794\n",
      "('ScreePlot:', {0: 976.0007487938594})\n",
      "Iteration0\n",
      "[[ 0.79596844  0.68609998]\n",
      " [ 4.01474397  2.69914556]\n",
      " [ 1.90033532  5.6615767 ]]\n"
     ]
    },
    {
     "data": {
      "image/png": "[encoded data removed]",
      "text/plain": [
       "<matplotlib.figure.Figure at 0x7f1399acc210>"
      ]
     },
     "metadata": {},
     "output_type": "display_data"
    },
    {
     "name": "stdout",
     "output_type": "stream",
     "text": [
      "Within Set Sum of Squared Error = 976.000748794\n",
      "\n",
      "\n",
      "Next Iteration:\n",
      "centroidsnew:\n",
      "[[0, array([ 1.39296223,  1.07884152])], [1, array([ 5.35578926,  2.9599148 ])], [2, array([ 1.88791271,  5.33642902])]]\n",
      "centroidrdd:\n",
      "[array([ 1.39296223,  1.07884152]), array([ 5.35578926,  2.9599148 ]), array([ 1.88791271,  5.33642902])]\n",
      "WSSSE_pts\n",
      "(0, (array([ 3.09170799, -0.84372778]), array([ 1.39296223,  1.07884152])))\n",
      "WSSSE_sum:\n",
      "850.277425833\n",
      "('ScreePlot:', {0: 976.0007487938594, 1: 850.2774258331406})\n",
      "Iteration1\n",
      "[[ 1.39296223  1.07884152]\n",
      " [ 5.35578926  2.9599148 ]\n",
      " [ 1.88791271  5.33642902]]\n"
     ]
    },
    {
     "data": {
      "image/png": "[encoded data removed]",
      "text/plain": [
       "<matplotlib.figure.Figure at 0x7f1399888050>"
      ]
     },
     "metadata": {},
     "output_type": "display_data"
    },
    {
     "name": "stdout",
     "output_type": "stream",
     "text": [
      "Within Set Sum of Squared Error = 850.277425833\n",
      "\n",
      "\n",
      "Next Iteration:\n",
      "centroidsnew:\n",
      "[[0, array([ 2.41618042,  0.63253809])], [1, array([ 5.95285144,  4.52526253])], [2, array([ 0.76592312,  4.89897291])]]\n",
      "centroidrdd:\n",
      "[array([ 2.41618042,  0.63253809]), array([ 5.95285144,  4.52526253]), array([ 0.76592312,  4.89897291])]\n",
      "WSSSE_pts\n",
      "(0, (array([ 3.09170799, -0.84372778]), array([ 2.41618042,  0.63253809])))\n",
      "WSSSE_sum:\n",
      "652.891972675\n",
      "('ScreePlot:', {0: 976.0007487938594, 1: 850.2774258331406, 2: 652.8919726745921})\n",
      "Iteration2\n",
      "[[ 2.41618042  0.63253809]\n",
      " [ 5.95285144  4.52526253]\n",
      " [ 0.76592312  4.89897291]]\n"
     ]
    },
    {
     "data": {
      "image/png": "[encoded data removed]",
      "text/plain": [
       "<matplotlib.figure.Figure at 0x7f13a24070d0>"
      ]
     },
     "metadata": {},
     "output_type": "display_data"
    },
    {
     "name": "stdout",
     "output_type": "stream",
     "text": [
      "Within Set Sum of Squared Error = 652.891972675\n",
      "\n",
      "\n",
      "Next Iteration:\n",
      "centroidsnew:\n",
      "[[0, array([ 3.76196259,  0.01593953])], [1, array([ 6.08317096,  5.99602619])], [2, array([-0.1043458 ,  4.13793907])]]\n",
      "centroidrdd:\n",
      "[array([ 3.76196259,  0.01593953]), array([ 6.08317096,  5.99602619]), array([-0.1043458 ,  4.13793907])]\n",
      "WSSSE_pts\n",
      "(0, (array([ 3.09170799, -0.84372778]), array([ 3.76196259,  0.01593953])))\n",
      "WSSSE_sum:\n",
      "383.100375952\n",
      "('ScreePlot:', {0: 976.0007487938594, 1: 850.2774258331406, 2: 652.8919726745921, 3: 383.1003759516303})\n",
      "Iteration3\n",
      "[[ 3.76196259  0.01593953]\n",
      " [ 6.08317096  5.99602619]\n",
      " [-0.1043458   4.13793907]]\n"
     ]
    },
    {
     "data": {
      "image/png": "[encoded data removed]",
      "text/plain": [
       "<matplotlib.figure.Figure at 0x7f13997bc2d0>"
      ]
     },
     "metadata": {},
     "output_type": "display_data"
    },
    {
     "name": "stdout",
     "output_type": "stream",
     "text": [
      "Within Set Sum of Squared Error = 383.100375952\n",
      "\n",
      "\n",
      "Next Iteration:\n",
      "centroidsnew:\n",
      "[[0, array([ 3.91966766, -0.01739399])], [1, array([ 6.07237948,  6.0868025 ])], [2, array([-0.11205806,  4.01663716])]]\n",
      "centroidrdd:\n",
      "[array([ 3.91966766, -0.01739399]), array([ 6.07237948,  6.0868025 ]), array([-0.11205806,  4.01663716])]\n",
      "WSSSE_pts\n",
      "(0, (array([ 3.09170799, -0.84372778]), array([ 3.91966766, -0.01739399])))\n",
      "WSSSE_sum:\n",
      "372.465278153\n",
      "('ScreePlot:', {0: 976.0007487938594, 1: 850.2774258331406, 2: 652.8919726745921, 3: 383.1003759516303, 4: 372.46527815277193})\n",
      "Iteration4\n",
      "[[ 3.91966766 -0.01739399]\n",
      " [ 6.07237948  6.0868025 ]\n",
      " [-0.11205806  4.01663716]]\n"
     ]
    },
    {
     "data": {
      "image/png": "[encoded data removed]",
      "text/plain": [
       "<matplotlib.figure.Figure at 0x7f13996d3250>"
      ]
     },
     "metadata": {},
     "output_type": "display_data"
    },
    {
     "name": "stdout",
     "output_type": "stream",
     "text": [
      "Within Set Sum of Squared Error = 372.465278153\n",
      "\n",
      "\n",
      "Next Iteration:\n",
      "Final Results:\n",
      "[[ 3.91966766 -0.01739399]\n",
      " [ 6.07237948  6.0868025 ]\n",
      " [-0.11205806  4.01663716]]\n"
     ]
    }
   ],
   "source": [
    "import numpy as np\n",
    "from numpy import array\n",
    "from math import sqrt\n",
    "import pylab \n",
    "\n",
    "K = 3\n",
    "# Initialization: initialization of parameter is fixed to show an example\n",
    "centroids = np.array([[0.0,0.0],[2.0,2.0],[0.0,7.0]])\n",
    "\n",
    "D = sc.textFile(\"./data3_3.csv\").cache()\n",
    "iter_num = 0\n",
    "ScreePlot = {}\n",
    "for i in (range(10)): \n",
    "    res = D.map(nearest_centroid).reduceByKey(lambda x,y : (x[0]+y[0],x[1]+y[1])).collect()\n",
    "    #print ('res:')\n",
    "    #print (res)\n",
    "    \n",
    "    #res [(0, (array([  2.66546663e+00,   3.94844436e+03]), 1001)  ), \n",
    "    #     (2, (array([ 6023.84995923,  5975.48511018]), 1000)), \n",
    "    #     (1, (array([ 3986.85984761,    15.93153464]), 999))]\n",
    "    # res[1][1] returns 1000 here\n",
    "    res = sorted(res,key = lambda x : x[0])  #sort based on clusted ID\n",
    "    centroids_new = np.array([x[1][0]/x[1][1] for x in res])  #divide by cluster size\n",
    "    #print (res[0] , centroids_new)\n",
    "    if np.sum(np.absolute(centroids_new-centroids))<0.005:\n",
    "        break\n",
    "    \n",
    "    centroidsnew = []\n",
    "    for j in range(3):\n",
    "        centroidsnew.append([j ,centroids_new[j]])\n",
    "    \n",
    "    #centroidsnew = dict(centroidsnew)\n",
    "    print (\"centroidsnew:\")\n",
    "    print centroidsnew\n",
    "    centroidrdd = sc.parallelize(centroidsnew)\n",
    "    print (\"centroidrdd:\")\n",
    "    print centroidrdd.values().collect()\n",
    "    \n",
    "#     WSSSE_pts = D.map(nearest_centroid).collect()\n",
    "#     #print ('WSSSE:' , WSSSE)\n",
    "    \n",
    "#     for i, j in WSSSE_pts[:5]:\n",
    "#         print i, j \n",
    "\n",
    "  \n",
    "\n",
    "            # Evaluate clustering by computing Within Set Sum of Squared Errors\n",
    "    def error(point):\n",
    "        center = point[1][1]\n",
    "        points = point[1][0]\n",
    "        diff = point[1][0]-point[1][1]\n",
    "        #return points, center, diff\n",
    "        #return np.substract(point , center)\n",
    "        #center = clusters.centers[clusters.predict(point)] # centroids_new # predicts/classifies into cluster 1 or cluster 2\n",
    "        return sqrt(sum([x**2 for x in (point[1][0]-point[1][1])]))\n",
    "        \n",
    "    WSSSE_pts = D.map(nearest_centroid) \\\n",
    "                .map(lambda x: (x[0], (x[1][0]))) \\\n",
    "                .join(centroidrdd) \\\n",
    "                .sortByKey() \\\n",
    "                .persist() \\\n",
    "                #.collectAsMap()\n",
    "    \n",
    "    print (\"WSSSE_pts\")\n",
    "    print WSSSE_pts.first()\n",
    "    #print WSSSE_pts.mapValues(lambda point: error(point)).collectAsMap()\n",
    "    \n",
    "#     WSSSE_sum = WSSSE_pts.map(lambda x: (x[0], (sum(x[1][0] - x[1][1])**2))) \\\n",
    "#                          #.reduceByKey(lambda x,y: (x + y))\n",
    "    WSSSE = WSSSE_pts.map(lambda x: error(x)).reduce(lambda x, y: x + y)   \n",
    "    print ('WSSSE_sum:')\n",
    "    print WSSSE\n",
    "    \n",
    "    ScreePlot[i]= WSSSE\n",
    "    print ('ScreePlot:' , ScreePlot)\n",
    "\n",
    "    #plot_iteration(clusters.centers)\n",
    "    \n",
    "    print \"Iteration\" + str(iter_num)\n",
    "    iter_num = iter_num + 1 \n",
    "    centroids = centroids_new\n",
    "    print centroids\n",
    "    plot_iteration(centroids)\n",
    "    print(\"Within Set Sum of Squared Error = \" + str(WSSSE))\n",
    "    print '\\n'\n",
    "    print 'Next Iteration:'\n",
    "    \n",
    "print \"Final Results:\"\n",
    "print centroids"
   ]
  },
  {
   "cell_type": "code",
   "execution_count": null,
   "metadata": {
    "collapsed": true
   },
   "outputs": [],
   "source": [
    "## ('Centers: ', [array([ 6.07237948,  6.0868025 ]), array([-0.11205806,  4.01663716]), array([ 3.91966766, -0.01739399])])"
   ]
  },
  {
   "cell_type": "code",
   "execution_count": 56,
   "metadata": {
    "collapsed": false
   },
   "outputs": [
    {
     "name": "stdout",
     "output_type": "stream",
     "text": [
      "[0, 976.0007487938594]\n",
      "[1, 850.2774258331406]\n",
      "[2, 652.8919726745921]\n",
      "[3, 383.1003759516303]\n",
      "[4, 372.46527815277193]\n",
      "[0, 1, 2, 3, 4]\n",
      "[976.0007487938594, 850.2774258331406, 652.8919726745921, 383.1003759516303, 372.46527815277193]\n"
     ]
    },
    {
     "data": {
      "image/png": "[encoded data removed]",
      "text/plain": [
       "<matplotlib.figure.Figure at 0x7f13a2430890>"
      ]
     },
     "metadata": {},
     "output_type": "display_data"
    }
   ],
   "source": [
    "Iterations = []\n",
    "WSSSE_list = []\n",
    "for key, value in ScreePlot.items():\n",
    "    Iterations.append(key)\n",
    "    WSSSE_list.append(value)\n",
    "    print [key, value]\n",
    "\n",
    "print Iterations\n",
    "print WSSSE_list\n",
    "pylab.plot(Iterations, WSSSE_list,'o',color = 'green')\n",
    "pylab.show()"
   ]
  },
  {
   "cell_type": "markdown",
   "metadata": {},
   "source": [
    "# Answer :\n",
    "> The first difference is that you can clearly see that the K-means algoritm converges in the 4th iteration.  This was our \n",
    "expectatoin from the previous experiment.  Also, you can see the WSSSE decreasing with each iteration very clearly, while in the \n",
    "previous example you only saw the drop from the first iteration to the 10th.\n",
    "Finally, the end resuls are exactly the same down to many decimal points, or extreme precision."
   ]
  },
  {
   "cell_type": "code",
   "execution_count": null,
   "metadata": {
    "collapsed": true
   },
   "outputs": [],
   "source": [
    "## Drivers & Runners"
   ]
  },
  {
   "cell_type": "code",
   "execution_count": null,
   "metadata": {
    "collapsed": true
   },
   "outputs": [],
   "source": [
    "## Run Scripts, S3 Sync"
   ]
  },
  {
   "cell_type": "markdown",
   "metadata": {},
   "source": [
    "<a name=\"HW3.4.1\"><h2 style=\"color:darkblue\"> HW3.4.1: Making Homegrown KMeans more efficient  </h2>\n",
    "[Back to Table of Contents](#TOC)\n",
    "\n",
    "The above provided homegrown KMeans implentation in not the most efficient. How can you make it more efficient? Make this change in the code and show it work and comment on the gains you achieve. "
   ]
  },
  {
   "cell_type": "markdown",
   "metadata": {},
   "source": [
    "### HINT: have a look at  [this linear regression notebook](    http://nbviewer.jupyter.org/urls/dl.dropbox.com/s/atzqkc0p1eajuz6/LinearRegression-Notebook-Challenge.ipynb)"
   ]
  },
  {
   "cell_type": "code",
   "execution_count": 78,
   "metadata": {
    "collapsed": false,
    "scrolled": false
   },
   "outputs": [
    {
     "name": "stdout",
     "output_type": "stream",
     "text": [
      "broadcast centroids:\n",
      "[[ 0.  0.]\n",
      " [ 2.  2.]\n",
      " [ 0.  7.]]\n",
      "centroidsnew:\n",
      "[[0, array([ 0.79596844,  0.68609998])], [1, array([ 4.01474397,  2.69914556])], [2, array([ 1.90033532,  5.6615767 ])]]\n",
      "centroidrdd:\n",
      "[array([ 0.79596844,  0.68609998]), array([ 4.01474397,  2.69914556]), array([ 1.90033532,  5.6615767 ])]\n",
      "WSSSE_pts\n",
      "(0, (array([-0.81098336,  2.35304528]), array([ 0.79596844,  0.68609998])))\n",
      "WSSSE_sum:\n",
      "976.000748794\n",
      "('ScreePlot:', {0: 976.0007487938594})\n",
      "Iteration0\n",
      "[[ 0.79596844  0.68609998]\n",
      " [ 4.01474397  2.69914556]\n",
      " [ 1.90033532  5.6615767 ]]\n"
     ]
    },
    {
     "data": {
      "image/png": "[encoded data removed]",
      "text/plain": [
       "<matplotlib.figure.Figure at 0x7f1399694810>"
      ]
     },
     "metadata": {},
     "output_type": "display_data"
    },
    {
     "name": "stdout",
     "output_type": "stream",
     "text": [
      "Within Set Sum of Squared Error = 976.000748794\n",
      "\n",
      "\n",
      "Next Iteration:\n",
      "broadcast centroids:\n",
      "[[ 0.79596844  0.68609998]\n",
      " [ 4.01474397  2.69914556]\n",
      " [ 1.90033532  5.6615767 ]]\n",
      "centroidsnew:\n",
      "[[0, array([ 1.39296223,  1.07884152])], [1, array([ 5.35578926,  2.9599148 ])], [2, array([ 1.88791271,  5.33642902])]]\n",
      "centroidrdd:\n",
      "[array([ 1.39296223,  1.07884152]), array([ 5.35578926,  2.9599148 ]), array([ 1.88791271,  5.33642902])]\n",
      "WSSSE_pts\n",
      "(0, (array([ 3.09170799, -0.84372778]), array([ 1.39296223,  1.07884152])))\n",
      "WSSSE_sum:\n",
      "850.277425833\n",
      "('ScreePlot:', {0: 976.0007487938594, 1: 850.2774258331406})\n",
      "Iteration1\n",
      "[[ 1.39296223  1.07884152]\n",
      " [ 5.35578926  2.9599148 ]\n",
      " [ 1.88791271  5.33642902]]\n"
     ]
    },
    {
     "data": {
      "image/png": "[encoded data removed]",
      "text/plain": [
       "<matplotlib.figure.Figure at 0x7f13a23f9610>"
      ]
     },
     "metadata": {},
     "output_type": "display_data"
    },
    {
     "name": "stdout",
     "output_type": "stream",
     "text": [
      "Within Set Sum of Squared Error = 850.277425833\n",
      "\n",
      "\n",
      "Next Iteration:\n",
      "broadcast centroids:\n",
      "[[ 1.39296223  1.07884152]\n",
      " [ 5.35578926  2.9599148 ]\n",
      " [ 1.88791271  5.33642902]]\n",
      "centroidsnew:\n",
      "[[0, array([ 2.41618042,  0.63253809])], [1, array([ 5.95285144,  4.52526253])], [2, array([ 0.76592312,  4.89897291])]]\n",
      "centroidrdd:\n",
      "[array([ 2.41618042,  0.63253809]), array([ 5.95285144,  4.52526253]), array([ 0.76592312,  4.89897291])]\n",
      "WSSSE_pts\n",
      "(0, (array([ 3.09170799, -0.84372778]), array([ 2.41618042,  0.63253809])))\n",
      "WSSSE_sum:\n",
      "652.891972675\n",
      "('ScreePlot:', {0: 976.0007487938594, 1: 850.2774258331406, 2: 652.8919726745921})\n",
      "Iteration2\n",
      "[[ 2.41618042  0.63253809]\n",
      " [ 5.95285144  4.52526253]\n",
      " [ 0.76592312  4.89897291]]\n"
     ]
    },
    {
     "data": {
      "image/png": "[encoded data removed]",
      "text/plain": [
       "<matplotlib.figure.Figure at 0x7f1399b7d110>"
      ]
     },
     "metadata": {},
     "output_type": "display_data"
    },
    {
     "name": "stdout",
     "output_type": "stream",
     "text": [
      "Within Set Sum of Squared Error = 652.891972675\n",
      "\n",
      "\n",
      "Next Iteration:\n",
      "broadcast centroids:\n",
      "[[ 2.41618042  0.63253809]\n",
      " [ 5.95285144  4.52526253]\n",
      " [ 0.76592312  4.89897291]]\n",
      "centroidsnew:\n",
      "[[0, array([ 3.76196259,  0.01593953])], [1, array([ 6.08317096,  5.99602619])], [2, array([-0.1043458 ,  4.13793907])]]\n",
      "centroidrdd:\n",
      "[array([ 3.76196259,  0.01593953]), array([ 6.08317096,  5.99602619]), array([-0.1043458 ,  4.13793907])]\n",
      "WSSSE_pts\n",
      "(0, (array([ 3.09170799, -0.84372778]), array([ 3.76196259,  0.01593953])))\n",
      "WSSSE_sum:\n",
      "383.100375952\n",
      "('ScreePlot:', {0: 976.0007487938594, 1: 850.2774258331406, 2: 652.8919726745921, 3: 383.1003759516303})\n",
      "Iteration3\n",
      "[[ 3.76196259  0.01593953]\n",
      " [ 6.08317096  5.99602619]\n",
      " [-0.1043458   4.13793907]]\n"
     ]
    },
    {
     "data": {
      "image/png": "[encoded data removed]",
      "text/plain": [
       "<matplotlib.figure.Figure at 0x7f1399c978d0>"
      ]
     },
     "metadata": {},
     "output_type": "display_data"
    },
    {
     "name": "stdout",
     "output_type": "stream",
     "text": [
      "Within Set Sum of Squared Error = 383.100375952\n",
      "\n",
      "\n",
      "Next Iteration:\n",
      "broadcast centroids:\n",
      "[[ 3.76196259  0.01593953]\n",
      " [ 6.08317096  5.99602619]\n",
      " [-0.1043458   4.13793907]]\n",
      "centroidsnew:\n",
      "[[0, array([ 3.91966766, -0.01739399])], [1, array([ 6.07237948,  6.0868025 ])], [2, array([-0.11205806,  4.01663716])]]\n",
      "centroidrdd:\n",
      "[array([ 3.91966766, -0.01739399]), array([ 6.07237948,  6.0868025 ]), array([-0.11205806,  4.01663716])]\n",
      "WSSSE_pts\n",
      "(0, (array([ 3.09170799, -0.84372778]), array([ 3.91966766, -0.01739399])))\n",
      "WSSSE_sum:\n",
      "372.465278153\n",
      "('ScreePlot:', {0: 976.0007487938594, 1: 850.2774258331406, 2: 652.8919726745921, 3: 383.1003759516303, 4: 372.46527815277193})\n",
      "Iteration4\n",
      "[[ 3.91966766 -0.01739399]\n",
      " [ 6.07237948  6.0868025 ]\n",
      " [-0.11205806  4.01663716]]\n"
     ]
    },
    {
     "data": {
      "image/png": "[encoded data removed]",
      "text/plain": [
       "<matplotlib.figure.Figure at 0x7f1399c4bb90>"
      ]
     },
     "metadata": {},
     "output_type": "display_data"
    },
    {
     "name": "stdout",
     "output_type": "stream",
     "text": [
      "Within Set Sum of Squared Error = 372.465278153\n",
      "\n",
      "\n",
      "Next Iteration:\n",
      "broadcast centroids:\n",
      "[[ 3.91966766 -0.01739399]\n",
      " [ 6.07237948  6.0868025 ]\n",
      " [-0.11205806  4.01663716]]\n",
      "Final Results:\n",
      "[[ 3.91966766 -0.01739399]\n",
      " [ 6.07237948  6.0868025 ]\n",
      " [-0.11205806  4.01663716]]\n"
     ]
    }
   ],
   "source": [
    "## Code goes here\n",
    "import numpy as np\n",
    "from numpy import array\n",
    "from math import sqrt\n",
    "import pylab \n",
    "\n",
    "K = 3\n",
    "# Initialization: initialization of parameter is fixed to show an example\n",
    "centroids = np.array([[0.0,0.0],[2.0,2.0],[0.0,7.0]])\n",
    "#centroids = sc.broadcast(centroids)\n",
    "D = sc.textFile(\"./data3_3.csv\").cache()\n",
    "iter_num = 0\n",
    "ScreePlot = {}\n",
    "for i in (range(10)):\n",
    "    centroids = sc.broadcast(centroids)\n",
    "    centroids = centroids.value\n",
    "    print ('broadcast centroids:')\n",
    "    print centroids\n",
    "    res = D.map(nearest_centroid).reduceByKey(lambda x,y : (x[0]+y[0],x[1]+y[1])).collect()\n",
    "    #print ('res:')\n",
    "    #print (res)\n",
    "    \n",
    "    #res [(0, (array([  2.66546663e+00,   3.94844436e+03]), 1001)  ), \n",
    "    #     (2, (array([ 6023.84995923,  5975.48511018]), 1000)), \n",
    "    #     (1, (array([ 3986.85984761,    15.93153464]), 999))]\n",
    "    # res[1][1] returns 1000 here\n",
    "    res = sorted(res,key = lambda x : x[0])  #sort based on clusted ID\n",
    "    centroids_new = np.array([x[1][0]/x[1][1] for x in res])  #divide by cluster size\n",
    "    #print (res[0] , centroids_new)\n",
    "    if np.sum(np.absolute(centroids_new-centroids))<0.005:\n",
    "        break\n",
    "    \n",
    "    centroidsnew = []\n",
    "    for j in range(3):\n",
    "        centroidsnew.append([j ,centroids_new[j]])\n",
    "    \n",
    "    #centroidsnew = dict(centroidsnew)\n",
    "    print (\"centroidsnew:\")\n",
    "    print centroidsnew\n",
    "    centroidrdd = sc.parallelize(centroidsnew)\n",
    "    print (\"centroidrdd:\")\n",
    "    print centroidrdd.values().collect()\n",
    "    \n",
    "#     WSSSE_pts = D.map(nearest_centroid).collect()\n",
    "#     #print ('WSSSE:' , WSSSE)\n",
    "    \n",
    "#     for i, j in WSSSE_pts[:5]:\n",
    "#         print i, j \n",
    "\n",
    "  \n",
    "\n",
    "            # Evaluate clustering by computing Within Set Sum of Squared Errors\n",
    "    def error(point):\n",
    "        center = point[1][1]\n",
    "        points = point[1][0]\n",
    "        diff = point[1][0]-point[1][1]\n",
    "        #return points, center, diff\n",
    "        #return np.substract(point , center)\n",
    "        #center = clusters.centers[clusters.predict(point)] # centroids_new # predicts/classifies into cluster 1 or cluster 2\n",
    "        return sqrt(sum([x**2 for x in (point[1][0]-point[1][1])]))\n",
    "        \n",
    "    WSSSE_pts = D.map(nearest_centroid) \\\n",
    "                .map(lambda x: (x[0], (x[1][0]))) \\\n",
    "                .join(centroidrdd) \\\n",
    "                .sortByKey() \\\n",
    "                .persist() \\\n",
    "                #.collectAsMap()\n",
    "    \n",
    "    print (\"WSSSE_pts\")\n",
    "    print WSSSE_pts.first()\n",
    "    #print WSSSE_pts.mapValues(lambda point: error(point)).collectAsMap()\n",
    "    \n",
    "#     WSSSE_sum = WSSSE_pts.map(lambda x: (x[0], (sum(x[1][0] - x[1][1])**2))) \\\n",
    "#                          #.reduceByKey(lambda x,y: (x + y))\n",
    "    WSSSE = WSSSE_pts.map(lambda x: error(x)).reduce(lambda x, y: x + y)   \n",
    "    print ('WSSSE_sum:')\n",
    "    print WSSSE\n",
    "    \n",
    "    ScreePlot[i]= WSSSE\n",
    "    print ('ScreePlot:' , ScreePlot)\n",
    "\n",
    "    #plot_iteration(clusters.centers)\n",
    "    \n",
    "    print \"Iteration\" + str(iter_num)\n",
    "    iter_num = iter_num + 1 \n",
    "    centroids = centroids_new\n",
    "    print centroids\n",
    "    plot_iteration(centroids)\n",
    "    print(\"Within Set Sum of Squared Error = \" + str(WSSSE))\n",
    "    print '\\n'\n",
    "    print 'Next Iteration:'\n",
    "    \n",
    "print \"Final Results:\"\n",
    "print centroids"
   ]
  },
  {
   "cell_type": "code",
   "execution_count": 79,
   "metadata": {
    "collapsed": false,
    "scrolled": true
   },
   "outputs": [
    {
     "name": "stdout",
     "output_type": "stream",
     "text": [
      "[0, 976.0007487938594]\n",
      "[1, 850.2774258331406]\n",
      "[2, 652.8919726745921]\n",
      "[3, 383.1003759516303]\n",
      "[4, 372.46527815277193]\n",
      "[0, 1, 2, 3, 4]\n",
      "[976.0007487938594, 850.2774258331406, 652.8919726745921, 383.1003759516303, 372.46527815277193]\n"
     ]
    },
    {
     "data": {
      "image/png": "[encoded data removed]",
      "text/plain": [
       "<matplotlib.figure.Figure at 0x7f1399c4ba10>"
      ]
     },
     "metadata": {},
     "output_type": "display_data"
    }
   ],
   "source": [
    "Iterations = []\n",
    "WSSSE_list = []\n",
    "for key, value in ScreePlot.items():\n",
    "    Iterations.append(key)\n",
    "    WSSSE_list.append(value)\n",
    "    print [key, value]\n",
    "\n",
    "print Iterations\n",
    "print WSSSE_list\n",
    "pylab.plot(Iterations, WSSSE_list,'o',color = 'green')\n",
    "pylab.show()"
   ]
  },
  {
   "cell_type": "markdown",
   "metadata": {},
   "source": [
    "# Answer:\n",
    "> We can make it more efficient by broadcasting the cluster centers to the executors. \n",
    "I could not determine any differences from using the sc.broadcast() vs. not using them. The answers/outcomes remained the same.  \n",
    "I can see a case when there dozens of clusters where it would be more beneficial to broadcasts the cluster centers across \n",
    "the executors."
   ]
  },
  {
   "cell_type": "code",
   "execution_count": null,
   "metadata": {
    "collapsed": true
   },
   "outputs": [],
   "source": [
    "## Drivers & Runners"
   ]
  },
  {
   "cell_type": "code",
   "execution_count": null,
   "metadata": {
    "collapsed": true
   },
   "outputs": [],
   "source": [
    "## Run Scripts, S3 Sync"
   ]
  },
  {
   "cell_type": "markdown",
   "metadata": {},
   "source": [
    "<a name=\"HW3.5\"><h2 style=\"color:darkgreen\"> HW3.5: OPTIONAL Weighted KMeans  </h2>\n",
    "[Back to Table of Contents](#TOC)\n",
    "\n",
    "Using this provided [homegrown Kmeans code](http://nbviewer.jupyter.org/urls/dl.dropbox.com/s/3nsthvp8g2rrrdh/EM-Kmeans.ipynb), modify it to do a weighted KMeans and repeat the experiements in HW3.3. Explain  any differences between the results in HW3.3 and HW3.5.\n",
    "\n",
    "NOTE: Weight each example as follows using the inverse vector length (Euclidean norm): \n",
    "\n",
    "> weight(X)= 1/||X||, \n",
    "\n",
    "where ||X|| = SQRT(X.X)= SQRT(X1^2 + X2^2)\n",
    "\n",
    "Here X is vector made up of two values X1 and X2.\n",
    "\n",
    "__[Please incorporate all referenced notebooks directly into this master notebook as cells for HW submission. I.e., HW submissions should comprise of just one notebook]__"
   ]
  },
  {
   "cell_type": "code",
   "execution_count": null,
   "metadata": {
    "collapsed": true
   },
   "outputs": [],
   "source": [
    "## Code goes here"
   ]
  },
  {
   "cell_type": "code",
   "execution_count": null,
   "metadata": {
    "collapsed": true
   },
   "outputs": [],
   "source": [
    "## Drivers & Runners"
   ]
  },
  {
   "cell_type": "code",
   "execution_count": null,
   "metadata": {
    "collapsed": true
   },
   "outputs": [],
   "source": [
    "## Run Scripts, S3 Sync"
   ]
  },
  {
   "cell_type": "markdown",
   "metadata": {},
   "source": [
    "<a name=\"HW3.6\"><h2 style=\"color:darkblue\"> HW3.6 OPTIONAL Linear Regression</h2>\n",
    "[Back to Table of Contents](#TOC)\n",
    "<a name=\"HW3.6.1\"><h2 style=\"color:darkblue\"> HW3.6.1 OPTIONAL Linear Regression</h2>\n",
    "[Back to Table of Contents](#TOC)\n",
    "\n",
    "Using [this linear regression notebook](    http://nbviewer.jupyter.org/urls/dl.dropbox.com/s/atzqkc0p1eajuz6/LinearRegression-Notebook-Challenge.ipynb):\n",
    "\n",
    "\n",
    "* Generate 2 sets of data with 100 data points using the data generation code provided and plot each in separate plots. Call one the training set and the other the testing set.\n",
    "\n",
    "* Using MLLib's LinearRegressionWithSGD train up a linear regression model with the training dataset and evaluate with the testing set. What a good number of iterations for training the linear regression model? Justify with plots (e.g., plot MSE as a function of the number of iterations) and words. \n"
   ]
  },
  {
   "cell_type": "markdown",
   "metadata": {},
   "source": [
    "<a name=\"HW3.6.2\"><h2 style=\"color:darkblue\"> HW3.6.2 OPTIONAL Linear Regression</h2>\n",
    "[Back to Table of Contents](#TOC)\n",
    "\n",
    "In the notebook provided above, in the cell labeled \"Gradient descent (regularization)\".\n",
    "\n",
    "* Fill in the blanks and get this code to work for LASS0 and RIDGE linear regression.\n",
    "\n",
    "* Using the data from 3.6.1 tune the hyper parameters of your LASS0 and RIDGE regression. Report your findings with words and plots."
   ]
  },
  {
   "cell_type": "code",
   "execution_count": null,
   "metadata": {
    "collapsed": true
   },
   "outputs": [],
   "source": [
    "## Code goes here"
   ]
  },
  {
   "cell_type": "code",
   "execution_count": null,
   "metadata": {
    "collapsed": true
   },
   "outputs": [],
   "source": [
    "## Drivers & Runners"
   ]
  },
  {
   "cell_type": "code",
   "execution_count": null,
   "metadata": {
    "collapsed": true
   },
   "outputs": [],
   "source": [
    "## Run Scripts, S3 Sync"
   ]
  },
  {
   "cell_type": "markdown",
   "metadata": {},
   "source": [
    "<a name=\"HW3.7\"><h2 style=\"color:darkgreen\"> HW3.7 OPTIONAL Error surfaces </h2>\n",
    "[Back to Table of Contents](#TOC)\n",
    "\n",
    "Here is a link to R code with 1 test drivers that plots the linear regression model in  model space and in the domain space:\n",
    "\n",
    "> https://www.dropbox.com/s/3xc3kwda6d254l5/PlotModelAndDomainSpaces.R?dl=0\n",
    "\n",
    "Here is a sample output from this script: \n",
    "      \n",
    "> https://www.dropbox.com/s/my3tnhxx7fr5qs0/image%20%281%29.png?dl=0\n",
    "\n",
    "Please use this as inspiration and code a equivalent error surface and heatmap (with isolines) in Spark and show the trajectory of learning taken during gradient descent(after each n-iterations of Gradient Descent):\n",
    "\n",
    "\n",
    "Using Spark and  Python (using the above R Script as inspiration), plot the error surface for the linear regression model using a heatmap and contour plot. \n",
    "Also plot the current model in the original domain space for every 10th iteration.  Plot them side by side if possible  for each iteration: lefthand side plot is the model space(w0 and w01) and the righthand side plot is domain space (plot the corresponding model and training data in the problem domain space) with a final pair of graphs showing the entire trajectory in the model and domain space. Make sure to label your plots with iteration numbers, function, model space versus original domain space, MSE on the training data etc.\n",
    "\n",
    "Also plot the MSE as a function of each iteration (possibly every 10th iteration). Dont forget to label both axis and the graph also. __[Please incorporate all referenced notebooks directly into this master notebook as cells for HW submission. I.e., HW submissions should comprise of just one notebook]__\n",
    "\n",
    "\n",
    "\n"
   ]
  },
  {
   "cell_type": "code",
   "execution_count": null,
   "metadata": {
    "collapsed": true
   },
   "outputs": [],
   "source": [
    "## Code goes here"
   ]
  },
  {
   "cell_type": "code",
   "execution_count": null,
   "metadata": {
    "collapsed": true
   },
   "outputs": [],
   "source": [
    "## Drivers & Runners"
   ]
  },
  {
   "cell_type": "code",
   "execution_count": null,
   "metadata": {
    "collapsed": true
   },
   "outputs": [],
   "source": [
    "## Run Scripts, S3 Sync"
   ]
  },
  {
   "cell_type": "markdown",
   "metadata": {},
   "source": [
    "[Back to Table of Contents](#TOC)\n",
    "<center><div class='jumbotron'><h2 style='color:green'>-------  END OF HWK 9 --------</h2></div></center>"
   ]
  }
 ],
 "metadata": {
  "kernelspec": {
   "display_name": "Python 2",
   "language": "python",
   "name": "python2"
  },
  "language_info": {
   "codemirror_mode": {
    "name": "ipython",
    "version": 2
   },
   "file_extension": ".py",
   "mimetype": "text/x-python",
   "name": "python",
   "nbconvert_exporter": "python",
   "pygments_lexer": "ipython2",
   "version": "2.7.11"
  }
 },
 "nbformat": 4,
 "nbformat_minor": 0
}
