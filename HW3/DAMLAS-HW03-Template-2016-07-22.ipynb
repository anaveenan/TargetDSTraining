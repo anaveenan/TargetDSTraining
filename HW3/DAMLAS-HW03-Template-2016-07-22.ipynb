{
 "cells": [
  {
   "cell_type": "code",
   "execution_count": 1,
   "metadata": {
    "collapsed": false
   },
   "outputs": [
    {
     "data": {
      "application/javascript": [
       "/**********************************************************************************************\n",
       "Known Mathjax Issue with Chrome - a rounding issue adds a border to the right of mathjax markup\n",
       "https://github.com/mathjax/MathJax/issues/1300\n",
       "A quick hack to fix this based on stackoverflow discussions: \n",
       "http://stackoverflow.com/questions/34277967/chrome-rendering-mathjax-equations-with-a-trailing-vertical-line\n",
       "**********************************************************************************************/\n",
       "\n",
       "$('.math>span').css(\"border-left-color\",\"transparent\")"
      ],
      "text/plain": [
       "<IPython.core.display.Javascript object>"
      ]
     },
     "metadata": {},
     "output_type": "display_data"
    }
   ],
   "source": [
    "%%javascript\n",
    "/**********************************************************************************************\n",
    "Known Mathjax Issue with Chrome - a rounding issue adds a border to the right of mathjax markup\n",
    "https://github.com/mathjax/MathJax/issues/1300\n",
    "A quick hack to fix this based on stackoverflow discussions: \n",
    "http://stackoverflow.com/questions/34277967/chrome-rendering-mathjax-equations-with-a-trailing-vertical-line\n",
    "**********************************************************************************************/\n",
    "\n",
    "$('.math>span').css(\"border-left-color\",\"transparent\")"
   ]
  },
  {
   "cell_type": "code",
   "execution_count": 2,
   "metadata": {
    "collapsed": true
   },
   "outputs": [],
   "source": [
    "%reload_ext autoreload\n",
    "%autoreload 2"
   ]
  },
  {
   "cell_type": "code",
   "execution_count": 3,
   "metadata": {
    "collapsed": false
   },
   "outputs": [
    {
     "name": "stdout",
     "output_type": "stream",
     "text": [
      "DAMLAS-HW03-Template-2016-07-22.ipynb  readme.md\r\n"
     ]
    }
   ],
   "source": [
    "!dir"
   ]
  },
  {
   "cell_type": "code",
   "execution_count": 4,
   "metadata": {
    "collapsed": false
   },
   "outputs": [
    {
     "name": "stdout",
     "output_type": "stream",
     "text": [
      "Python 2.7.12 :: Continuum Analytics, Inc.\r\n"
     ]
    }
   ],
   "source": [
    "!python --version"
   ]
  },
  {
   "cell_type": "code",
   "execution_count": 5,
   "metadata": {
    "collapsed": false
   },
   "outputs": [
    {
     "name": "stdout",
     "output_type": "stream",
     "text": [
      "('APACHE_SPARK_VERSION', '1.6.1')\n",
      "('R_LIBS_USER', '/usr/local/spark/R/lib')\n",
      "('MESOS_NATIVE_LIBRARY', '/usr/local/lib/libmesos.so')\n",
      "('SPARK_HOME', '/usr/local/spark')\n",
      "('PATH', '/opt/conda/envs/python2/bin:/opt/conda/bin:/usr/local/sbin:/usr/local/bin:/usr/sbin:/usr/bin:/sbin:/bin')\n",
      "('HOME', '/home/jovyan')\n",
      "('PS1', '(python2) ')\n",
      "('LANG', 'en_US.UTF-8')\n",
      "('TERM', 'xterm-color')\n",
      "('SHELL', '/bin/bash')\n",
      "('LANGUAGE', 'en_US.UTF-8')\n",
      "('SHLVL', '1')\n",
      "('CONDA_PREFIX', '/opt/conda/envs/python2')\n",
      "('CONDA_PS1_BACKUP', '')\n",
      "('CONDA_DEFAULT_ENV', 'python2')\n",
      "('DEBIAN_FRONTEND', 'noninteractive')\n",
      "('NB_UID', '1000')\n",
      "('NB_USER', 'jovyan')\n",
      "('JPY_PARENT_PID', '58')\n",
      "('PYTHONPATH', '/usr/local/spark/python:/usr/local/spark/python/lib/py4j-0.9-src.zip')\n",
      "('GIT_PAGER', 'cat')\n",
      "('LC_ALL', 'en_US.UTF-8')\n",
      "('_', '/opt/conda/envs/python2/bin/jupyter-notebook')\n",
      "('CONDA_DIR', '/opt/conda')\n",
      "('SPARK_OPTS', '--driver-java-options=-Xms1024M --driver-java-options=-Xmx4096M --driver-java-options=-Dlog4j.logLevel=info')\n",
      "('HOSTNAME', '9b9a422ef679')\n",
      "('CLICOLOR', '1')\n",
      "('PWD', '/home/jovyan/work')\n",
      "('PAGER', 'cat')\n",
      "('CONDA_PATH_BACKUP', '/opt/conda/bin:/usr/local/sbin:/usr/local/bin:/usr/sbin:/usr/bin:/sbin:/bin')\n"
     ]
    }
   ],
   "source": [
    "import os\n",
    "\n",
    "for key, value in os.environ.items():\n",
    "    print(key, value)"
   ]
  },
  {
   "cell_type": "markdown",
   "metadata": {},
   "source": [
    "# DAMLAS - Machine Learning At Scale\n",
    "## Assignment - HW3\n",
    "Data Analytics and Machine Learning at Scale\n",
    "Target, Minneapolis\n",
    "\n",
    "---\n",
    "__Name:__  *Alfredo Marquez*   \n",
    "__Class:__ DAMLAS (Section *Your Section Goes Here*, e.g., Summer 2016)     \n",
    "__Email:__  *alfredo.marquez2*@Target.com     \n",
    "__Week:__   03"
   ]
  },
  {
   "cell_type": "markdown",
   "metadata": {},
   "source": [
    "# Table of Contents <a name=\"TOC\"></a> \n",
    "\n",
    "1.  [HW Introduction](#1)   \n",
    "2.  [HW References](#2)\n",
    "3.  [HW Problems](#3)   \n",
    "    3.0.  [Short Answer Questions](#HW3.0)    \n",
    "    3.1.  [Word Count plus sorting](#HW3.1)   \n",
    "    3.2.  [MLlib-centric Kmeans](#HW3.2)    \n",
    "    3.3.  [Homegrown KMeans in Spark](#HW3.3)    \n",
    "    3.4.  [Making Homegrown KMeans more efficient](#HW3.4)  \n",
    "    3.5.  [OPTIONAL Weighted KMeans](#HW3.5)  \n",
    "    3.6.  [OPTIONAL Linear Regression](#HW3.6)  \n",
    "    3.7.  [OPTIONAL Error surfaces](#HW3.7)\n"
   ]
  },
  {
   "cell_type": "markdown",
   "metadata": {},
   "source": [
    "\n",
    "<a name=\"1\">\n",
    "# 1 Instructions\n",
    "[Back to Table of Contents](#TOC)\n",
    "* Homework submissions are due by Tueday, 08/02/2016 at 11AM (CT).\n",
    "\n",
    "\n",
    "* Prepare a single Jupyter note, please include questions, and question numbers in the questions and in the responses.\n",
    "Submit your homework notebook via the following form:\n",
    "\n",
    "   + [Submission Link - Google Form](http://goo.gl/forms/er3OFr5eCMWDngB72)\n",
    "\n",
    "\n",
    "### Documents:\n",
    "* IPython Notebook, published and viewable online.\n",
    "* PDF export of IPython Notebook.\n",
    "    \n",
    "<a name=\"2\">\n",
    "# 2 Useful References\n",
    "[Back to Table of Contents](#TOC)\n",
    "\n",
    "* Karau, Holden, Konwinski, Andy, Wendell, Patrick, & Zaharia, Matei. (2015). Learning Spark: Lightning-fast big data analysis. Sebastopol, CA: O’Reilly Publishers.\n",
    "* Hastie, Trevor, Tibshirani, Robert, & Friedman, Jerome. (2009). The elements of statistical learning: Data mining, inference, and prediction (2nd ed.). Stanford, CA: Springer Science+Business Media. __(Download for free [here](http://statweb.stanford.edu/~tibs/ElemStatLearn/printings/ESLII_print10.pdf))__\n",
    "* Ryza, Sandy, Laserson, Uri, Owen, Sean, & Wills, Josh. (2015). Advanced analytics with Spark: Patterns for learning from data at scale. Sebastopol, CA: O’Reilly Publishers.\n",
    "---\n",
    "* [Slides for Supervised-ML-Classification-via-GradientDescent](https://www.dropbox.com/s/uzoch1dwft8kaqw/Lecture-15-Supervised-ML-Classification-via-GradientDescent.pdf?dl=0)\n",
    "* [Slides from High Entropy Friday]( https://www.dropbox.com/s/0dlvsff3660vvbk/Lecture-High-Entropy-Friday.pdf?dl=0)\n",
    "\n",
    "---"
   ]
  },
  {
   "cell_type": "markdown",
   "metadata": {},
   "source": [
    "<a name=\"HW3\">\n",
    "# 3 HW Problems\n",
    "[Back to Table of Contents](#TOC)"
   ]
  },
  {
   "cell_type": "code",
   "execution_count": 7,
   "metadata": {
    "collapsed": true
   },
   "outputs": [
    {
     "ename": "OSError",
     "evalue": "[Errno 2] No such file or directory",
     "output_type": "error",
     "traceback": [
      "\u001b[1;31m\u001b[0m",
      "\u001b[1;31mOSError\u001b[0mTraceback (most recent call last)",
      "\u001b[1;32m<ipython-input-7-cb6b5d8d45f7>\u001b[0m in \u001b[0;36m<module>\u001b[1;34m()\u001b[0m\n\u001b[0;32m     21\u001b[0m \u001b[0mapp_name\u001b[0m \u001b[1;33m=\u001b[0m \u001b[1;34m\"example-logs\"\u001b[0m\u001b[1;33m\u001b[0m\u001b[0m\n\u001b[0;32m     22\u001b[0m \u001b[0mmaster\u001b[0m \u001b[1;33m=\u001b[0m \u001b[1;34m\"local[*]\"\u001b[0m\u001b[1;33m\u001b[0m\u001b[0m\n\u001b[1;32m---> 23\u001b[1;33m \u001b[0mconf\u001b[0m \u001b[1;33m=\u001b[0m \u001b[0mpyspark\u001b[0m\u001b[1;33m.\u001b[0m\u001b[0mSparkConf\u001b[0m\u001b[1;33m(\u001b[0m\u001b[1;33m)\u001b[0m\u001b[1;33m.\u001b[0m\u001b[0msetAppName\u001b[0m\u001b[1;33m(\u001b[0m\u001b[0mapp_name\u001b[0m\u001b[1;33m)\u001b[0m\u001b[1;33m.\u001b[0m\u001b[0msetMaster\u001b[0m\u001b[1;33m(\u001b[0m\u001b[0mmaster\u001b[0m\u001b[1;33m)\u001b[0m\u001b[1;33m\u001b[0m\u001b[0m\n\u001b[0m\u001b[0;32m     24\u001b[0m \u001b[0msc\u001b[0m \u001b[1;33m=\u001b[0m \u001b[0mpyspark\u001b[0m\u001b[1;33m.\u001b[0m\u001b[0mSparkContext\u001b[0m\u001b[1;33m(\u001b[0m\u001b[0mconf\u001b[0m\u001b[1;33m=\u001b[0m\u001b[0mconf\u001b[0m\u001b[1;33m)\u001b[0m\u001b[1;33m\u001b[0m\u001b[0m\n\u001b[0;32m     25\u001b[0m \u001b[0msqlContext\u001b[0m \u001b[1;33m=\u001b[0m \u001b[0mSQLContext\u001b[0m\u001b[1;33m(\u001b[0m\u001b[0msc\u001b[0m\u001b[1;33m)\u001b[0m\u001b[1;33m\u001b[0m\u001b[0m\n",
      "\u001b[1;32m/usr/local/spark/python/pyspark/conf.py\u001b[0m in \u001b[0;36m__init__\u001b[1;34m(self, loadDefaults, _jvm, _jconf)\u001b[0m\n\u001b[0;32m    102\u001b[0m         \u001b[1;32melse\u001b[0m\u001b[1;33m:\u001b[0m\u001b[1;33m\u001b[0m\u001b[0m\n\u001b[0;32m    103\u001b[0m             \u001b[1;32mfrom\u001b[0m \u001b[0mpyspark\u001b[0m\u001b[1;33m.\u001b[0m\u001b[0mcontext\u001b[0m \u001b[1;32mimport\u001b[0m \u001b[0mSparkContext\u001b[0m\u001b[1;33m\u001b[0m\u001b[0m\n\u001b[1;32m--> 104\u001b[1;33m             \u001b[0mSparkContext\u001b[0m\u001b[1;33m.\u001b[0m\u001b[0m_ensure_initialized\u001b[0m\u001b[1;33m(\u001b[0m\u001b[1;33m)\u001b[0m\u001b[1;33m\u001b[0m\u001b[0m\n\u001b[0m\u001b[0;32m    105\u001b[0m             \u001b[0m_jvm\u001b[0m \u001b[1;33m=\u001b[0m \u001b[0m_jvm\u001b[0m \u001b[1;32mor\u001b[0m \u001b[0mSparkContext\u001b[0m\u001b[1;33m.\u001b[0m\u001b[0m_jvm\u001b[0m\u001b[1;33m\u001b[0m\u001b[0m\n\u001b[0;32m    106\u001b[0m             \u001b[0mself\u001b[0m\u001b[1;33m.\u001b[0m\u001b[0m_jconf\u001b[0m \u001b[1;33m=\u001b[0m \u001b[0m_jvm\u001b[0m\u001b[1;33m.\u001b[0m\u001b[0mSparkConf\u001b[0m\u001b[1;33m(\u001b[0m\u001b[0mloadDefaults\u001b[0m\u001b[1;33m)\u001b[0m\u001b[1;33m\u001b[0m\u001b[0m\n",
      "\u001b[1;32m/usr/local/spark/python/pyspark/context.py\u001b[0m in \u001b[0;36m_ensure_initialized\u001b[1;34m(cls, instance, gateway)\u001b[0m\n\u001b[0;32m    243\u001b[0m         \u001b[1;32mwith\u001b[0m \u001b[0mSparkContext\u001b[0m\u001b[1;33m.\u001b[0m\u001b[0m_lock\u001b[0m\u001b[1;33m:\u001b[0m\u001b[1;33m\u001b[0m\u001b[0m\n\u001b[0;32m    244\u001b[0m             \u001b[1;32mif\u001b[0m \u001b[1;32mnot\u001b[0m \u001b[0mSparkContext\u001b[0m\u001b[1;33m.\u001b[0m\u001b[0m_gateway\u001b[0m\u001b[1;33m:\u001b[0m\u001b[1;33m\u001b[0m\u001b[0m\n\u001b[1;32m--> 245\u001b[1;33m                 \u001b[0mSparkContext\u001b[0m\u001b[1;33m.\u001b[0m\u001b[0m_gateway\u001b[0m \u001b[1;33m=\u001b[0m \u001b[0mgateway\u001b[0m \u001b[1;32mor\u001b[0m \u001b[0mlaunch_gateway\u001b[0m\u001b[1;33m(\u001b[0m\u001b[1;33m)\u001b[0m\u001b[1;33m\u001b[0m\u001b[0m\n\u001b[0m\u001b[0;32m    246\u001b[0m                 \u001b[0mSparkContext\u001b[0m\u001b[1;33m.\u001b[0m\u001b[0m_jvm\u001b[0m \u001b[1;33m=\u001b[0m \u001b[0mSparkContext\u001b[0m\u001b[1;33m.\u001b[0m\u001b[0m_gateway\u001b[0m\u001b[1;33m.\u001b[0m\u001b[0mjvm\u001b[0m\u001b[1;33m\u001b[0m\u001b[0m\n\u001b[0;32m    247\u001b[0m \u001b[1;33m\u001b[0m\u001b[0m\n",
      "\u001b[1;32m/usr/local/spark/python/pyspark/java_gateway.py\u001b[0m in \u001b[0;36mlaunch_gateway\u001b[1;34m()\u001b[0m\n\u001b[0;32m     74\u001b[0m             \u001b[1;32mdef\u001b[0m \u001b[0mpreexec_func\u001b[0m\u001b[1;33m(\u001b[0m\u001b[1;33m)\u001b[0m\u001b[1;33m:\u001b[0m\u001b[1;33m\u001b[0m\u001b[0m\n\u001b[0;32m     75\u001b[0m                 \u001b[0msignal\u001b[0m\u001b[1;33m.\u001b[0m\u001b[0msignal\u001b[0m\u001b[1;33m(\u001b[0m\u001b[0msignal\u001b[0m\u001b[1;33m.\u001b[0m\u001b[0mSIGINT\u001b[0m\u001b[1;33m,\u001b[0m \u001b[0msignal\u001b[0m\u001b[1;33m.\u001b[0m\u001b[0mSIG_IGN\u001b[0m\u001b[1;33m)\u001b[0m\u001b[1;33m\u001b[0m\u001b[0m\n\u001b[1;32m---> 76\u001b[1;33m             \u001b[0mproc\u001b[0m \u001b[1;33m=\u001b[0m \u001b[0mPopen\u001b[0m\u001b[1;33m(\u001b[0m\u001b[0mcommand\u001b[0m\u001b[1;33m,\u001b[0m \u001b[0mstdin\u001b[0m\u001b[1;33m=\u001b[0m\u001b[0mPIPE\u001b[0m\u001b[1;33m,\u001b[0m \u001b[0mpreexec_fn\u001b[0m\u001b[1;33m=\u001b[0m\u001b[0mpreexec_func\u001b[0m\u001b[1;33m,\u001b[0m \u001b[0menv\u001b[0m\u001b[1;33m=\u001b[0m\u001b[0menv\u001b[0m\u001b[1;33m)\u001b[0m\u001b[1;33m\u001b[0m\u001b[0m\n\u001b[0m\u001b[0;32m     77\u001b[0m         \u001b[1;32melse\u001b[0m\u001b[1;33m:\u001b[0m\u001b[1;33m\u001b[0m\u001b[0m\n\u001b[0;32m     78\u001b[0m             \u001b[1;31m# preexec_fn not supported on Windows\u001b[0m\u001b[1;33m\u001b[0m\u001b[1;33m\u001b[0m\u001b[0m\n",
      "\u001b[1;32m/opt/conda/envs/python2/lib/python2.7/subprocess.pyc\u001b[0m in \u001b[0;36m__init__\u001b[1;34m(self, args, bufsize, executable, stdin, stdout, stderr, preexec_fn, close_fds, shell, cwd, env, universal_newlines, startupinfo, creationflags)\u001b[0m\n\u001b[0;32m    709\u001b[0m                                 \u001b[0mp2cread\u001b[0m\u001b[1;33m,\u001b[0m \u001b[0mp2cwrite\u001b[0m\u001b[1;33m,\u001b[0m\u001b[1;33m\u001b[0m\u001b[0m\n\u001b[0;32m    710\u001b[0m                                 \u001b[0mc2pread\u001b[0m\u001b[1;33m,\u001b[0m \u001b[0mc2pwrite\u001b[0m\u001b[1;33m,\u001b[0m\u001b[1;33m\u001b[0m\u001b[0m\n\u001b[1;32m--> 711\u001b[1;33m                                 errread, errwrite)\n\u001b[0m\u001b[0;32m    712\u001b[0m         \u001b[1;32mexcept\u001b[0m \u001b[0mException\u001b[0m\u001b[1;33m:\u001b[0m\u001b[1;33m\u001b[0m\u001b[0m\n\u001b[0;32m    713\u001b[0m             \u001b[1;31m# Preserve original exception in case os.close raises.\u001b[0m\u001b[1;33m\u001b[0m\u001b[1;33m\u001b[0m\u001b[0m\n",
      "\u001b[1;32m/opt/conda/envs/python2/lib/python2.7/subprocess.pyc\u001b[0m in \u001b[0;36m_execute_child\u001b[1;34m(self, args, executable, preexec_fn, close_fds, cwd, env, universal_newlines, startupinfo, creationflags, shell, to_close, p2cread, p2cwrite, c2pread, c2pwrite, errread, errwrite)\u001b[0m\n\u001b[0;32m   1341\u001b[0m                         \u001b[1;32mraise\u001b[0m\u001b[1;33m\u001b[0m\u001b[0m\n\u001b[0;32m   1342\u001b[0m                 \u001b[0mchild_exception\u001b[0m \u001b[1;33m=\u001b[0m \u001b[0mpickle\u001b[0m\u001b[1;33m.\u001b[0m\u001b[0mloads\u001b[0m\u001b[1;33m(\u001b[0m\u001b[0mdata\u001b[0m\u001b[1;33m)\u001b[0m\u001b[1;33m\u001b[0m\u001b[0m\n\u001b[1;32m-> 1343\u001b[1;33m                 \u001b[1;32mraise\u001b[0m \u001b[0mchild_exception\u001b[0m\u001b[1;33m\u001b[0m\u001b[0m\n\u001b[0m\u001b[0;32m   1344\u001b[0m \u001b[1;33m\u001b[0m\u001b[0m\n\u001b[0;32m   1345\u001b[0m \u001b[1;33m\u001b[0m\u001b[0m\n",
      "\u001b[1;31mOSError\u001b[0m: [Errno 2] No such file or directory"
     ]
    }
   ],
   "source": [
    "# Initiate Spark on Local:  ** Do not run this on Docker **\n",
    "import sys #current as of 9/26/2015\n",
    "\n",
    "# spark_home = os.environ['SPARK_HOME'] = '/Users/jshanahan/Dropbox/Lectures-UC-Berkeley-ML-Class-2015/spark-1.6.1-bin-hadoop2.6/'\n",
    "spark_home = os.environ['SPARK_HOME'] = 'C:\\Apps\\Apache\\Spark-1.6.1'\n",
    "if not spark_home:\n",
    "    raise ValueError('SPARK_HOME enviroment variable is not set')\n",
    "sys.path.insert(0,os.path.join(spark_home,'python'))\n",
    "sys.path.insert(0,os.path.join(spark_home,'python/lib/py4j-0.9-src.zip'))\n",
    "\n",
    "# First, we initialize the Spark environment\n",
    "\n",
    "#import findspark\n",
    "#findspark.init()\n",
    "\n",
    "import pyspark\n",
    "from pyspark.sql import SQLContext\n",
    "\n",
    "# We can give a name to our app (to find it in Spark WebUI) and configure execution mode\n",
    "# In this case, it is local multicore execution with \"local[*]\"\n",
    "app_name = \"example-logs\"\n",
    "master = \"local[*]\"\n",
    "conf = pyspark.SparkConf().setAppName(app_name).setMaster(master)\n",
    "sc = pyspark.SparkContext(conf=conf)\n",
    "sqlContext = SQLContext(sc)\n",
    "\n",
    "\n",
    "print(sc)\n",
    "print(sqlContext)\n",
    "\n",
    "\n",
    "# Import some libraries to work with dates\n",
    "import dateutil.parser\n",
    "import dateutil.relativedelta as dateutil_rd"
   ]
  },
  {
   "cell_type": "code",
   "execution_count": 16,
   "metadata": {
    "collapsed": true
   },
   "outputs": [
    {
     "ename": "IOError",
     "evalue": "[Errno 2] No such file or directory: '/bin/pyspark.py'",
     "output_type": "error",
     "traceback": [
      "\u001b[1;31m\u001b[0m",
      "\u001b[1;31mIOError\u001b[0mTraceback (most recent call last)",
      "\u001b[1;32m<ipython-input-16-f32e4c88b102>\u001b[0m in \u001b[0;36m<module>\u001b[1;34m()\u001b[0m\n\u001b[0;32m     14\u001b[0m \u001b[1;31m#execfile(os.path.join(spark_home,'python/pyspark/shell.py'))\u001b[0m\u001b[1;33m\u001b[0m\u001b[1;33m\u001b[0m\u001b[0m\n\u001b[0;32m     15\u001b[0m \u001b[1;31m#execfile(os.path.join(spark_home,'C:/Apps/Apache/Spark-1.6.1/bin/pyspark.py'))\u001b[0m\u001b[1;33m\u001b[0m\u001b[1;33m\u001b[0m\u001b[0m\n\u001b[1;32m---> 16\u001b[1;33m \u001b[0mexecfile\u001b[0m\u001b[1;33m(\u001b[0m\u001b[0mos\u001b[0m\u001b[1;33m.\u001b[0m\u001b[0mpath\u001b[0m\u001b[1;33m.\u001b[0m\u001b[0mjoin\u001b[0m\u001b[1;33m(\u001b[0m\u001b[0mspark_home\u001b[0m\u001b[1;33m,\u001b[0m\u001b[1;34m'/bin/pyspark.py'\u001b[0m\u001b[1;33m)\u001b[0m\u001b[1;33m)\u001b[0m\u001b[1;33m\u001b[0m\u001b[0m\n\u001b[0m",
      "\u001b[1;31mIOError\u001b[0m: [Errno 2] No such file or directory: '/bin/pyspark.py'"
     ]
    }
   ],
   "source": [
    "# Spark Initialization: Worked on old local spark install.\n",
    "import os\n",
    "import sys\n",
    "#Escape L for line numbers\n",
    "#spark_home = os.environ['SPARK_HOME'] = '/Users/liang/Downloads/spark-1.4.1-bin-hadoop2.6/'\n",
    "#spark_home = os.environ['SPARK_HOME'] = '/Users/jshanahan/Dropbox/Lectures-UC-Berkeley-ML-Class-2015/spark-1.5.0-bin-hadoop2.6/'\n",
    "#spark_home = os.environ['SPARK_HOME'] = '/Users/james.shanahan/Dropbox/Lectures-UC-Berkeley-ML-Class-2015/spark-1.5.0-bin-hadoop2.6/'\n",
    "#spark_home = os.environ['SPARK_HOME'] = '/Users/liang/Downloads/spark-1.3.0-bin-hadoop2.4/'\n",
    "#spark_home = os.environ['SPARK_HOME'] = 'C:\\Apps\\Apache\\Spark-1.6.1'\n",
    "spark_home = os.environ['SPARK_HOME'] = 'C:/Apps/Apache/Spark-1.6.1'\n",
    "if not spark_home:\n",
    "    raise ValueError('SPARK_HOME enviroment variable is not set')\n",
    "#sys.path.insert(0,os.path.join(spark_home,'python'))\n",
    "#sys.path.insert(0,os.path.join(spark_home,'python/lib/py4j-0.8.2.1-src.zip'))\n",
    "#execfile(os.path.join(spark_home,'python/pyspark/shell.py'))\n",
    "#execfile(os.path.join(spark_home,'C:/Apps/Apache/Spark-1.6.1/bin/pyspark.py'))\n",
    "execfile(os.path.join(spark_home,'/bin/pyspark.py'))"
   ]
  },
  {
   "cell_type": "code",
   "execution_count": 6,
   "metadata": {
    "collapsed": false
   },
   "outputs": [
    {
     "name": "stdout",
     "output_type": "stream",
     "text": [
      "<pyspark.context.SparkContext object at 0x7faaa03f39d0>\n",
      "<pyspark.sql.context.SQLContext object at 0x7faa9217bc50>\n"
     ]
    }
   ],
   "source": [
    "# Spark Initialization: DOCKER \n",
    "import pyspark\n",
    "from pyspark.sql import SQLContext\n",
    "\n",
    "# We can give a name to our app (to find it in Spark WebUI) and configure execution mode\n",
    "# In this case, it is local multicore execution with \"local[*]\"\n",
    "app_name = \"example-logs\"\n",
    "master = \"local[*]\"\n",
    "conf = pyspark.SparkConf().setAppName(app_name).setMaster(master)\n",
    "sc = pyspark.SparkContext(conf=conf)\n",
    "sqlContext = SQLContext(sc)\n",
    "\n",
    "\n",
    "print(sc)\n",
    "print(sqlContext)\n",
    "\n",
    "\n",
    "# Import some libraries to work with dates\n",
    "import dateutil.parser\n",
    "import dateutil.relativedelta as dateutil_rd"
   ]
  },
  {
   "cell_type": "markdown",
   "metadata": {},
   "source": [
    "<a name=\"3.0\"></a><h2 style=\"color:darkblue\"> HW3.0: Short answer questions </h2>\n",
    "[Back to Table of Contents](#TOC)\n",
    "\n",
    "\n",
    "__What is Apache Spark and how is it different to Apache Hadoop? __\n",
    "\n",
    "**Answer #1**\n",
    "\n",
    "<hr> \n",
    "\n",
    "__Fill in the blanks:\n",
    "Spark API consists of interfaces to develop applications based on it in Java, __Scala, Python__ languages (list languages). __\n",
    "\n",
    "**Answer #2**\n",
    "\n",
    "<hr>\n",
    "\n",
    "__Using Spark, resource management can be done either in a single server instance or using a framework such as Mesos or YARN in a distributed manner. __\n",
    "\n",
    "**Answer #3**\n",
    "\n",
    "<hr>\n",
    "\n",
    "__What is an RDD and show a fun example of creating one and bringing the first element back to the driver program. __\n",
    "\n",
    "**Answer #4: see below**\n",
    "\n",
    "<hr>\n"
   ]
  },
  {
   "cell_type": "code",
   "execution_count": 9,
   "metadata": {
    "collapsed": false
   },
   "outputs": [
    {
     "data": {
      "text/plain": [
       "1"
      ]
     },
     "execution_count": 9,
     "metadata": {},
     "output_type": "execute_result"
    }
   ],
   "source": [
    "# Answer #4:\n",
    "rdd20 = sc.parallelize(range(1,20,1))\n",
    "rdd20.first()"
   ]
  },
  {
   "cell_type": "markdown",
   "metadata": {},
   "source": [
    "<a name=\"HW3.1\"> <h2 style=\"color:darkgreen\">HW3.1 WordCount plus sorting </h2>\n",
    "[Back to Table of Contents](#TOC)\n",
    "\n",
    "The following notebooks will be useful to jumpstart this collection of Homework exercises:\n",
    "\n",
    "\n",
    "* [Example Notebook with Debugging tactics in Spark](http://nbviewer.jupyter.org/urls/dl.dropbox.com/s/jqjllp8kmf1eolk/WordCountDebugging-Example.ipynb)\n",
    "* [Word Count Quiz](http://nbviewer.jupyter.org/urls/dl.dropbox.com/s/vgmpivsi4rvqz0s/WordCountQuiz.ipynb)\n",
    "* [Work Count Solution](http://nbviewer.jupyter.org/urls/dl.dropbox.com/s/dxv3dmp1vluuo8i/WordCountQuiz-Solution.ipynb)\n",
    "\n",
    "---\n",
    "In Spark write the code to count how often each word appears in a text document (or set of documents). Please use this homework document (with no solutions in it) as a the example document to run an experiment.  Report the following: \n",
    "* provide a sorted list of tokens in decreasing order of frequency of occurence limited to [top 20 most frequent only] and [bottom 10 least frequent]. \n",
    "\n",
    "\n",
    "__OPTIONAL__ \n",
    "Feel free to do a secondary sort where words with the same frequncy are sorted alphanumerically increasing. Plseas refer to the [following notebook](http://nbviewer.jupyter.org/urls/dl.dropbox.com/s/uu5afr3ufpm9fy8/SecondarySort.ipynb)\n",
    " for examples of secondary sorts in Spark. Please provide the following [top 20 most frequent terms only] and [bottom 10 least frequent terms]\n",
    "\n",
    "__NOTE__ [Please incorporate all referenced notebooks directly into this master notebook as cells for HW submission. I.e., HW submissions should comprise of just one notebook]__\n",
    "\n",
    "**Online References: http://stackoverflow.com/questions/30787635/takeordered-descending-pyspark\n",
    "**"
   ]
  },
  {
   "cell_type": "code",
   "execution_count": 26,
   "metadata": {
    "collapsed": false
   },
   "outputs": [
    {
     "name": "stdout",
     "output_type": "stream",
     "text": [
      "('Top 20 occurences:', [(u'the', 71), (u'', 68), (u'of', 49), (u'and', 40), (u'to', 33), (u'in', 32), (u'##', 27), (u'a', 23), (u'this', 17), (u'Contents', 17), (u'Table', 17), (u'for', 17), (u'Back', 16), (u'with', 14), (u'as', 13), (u'&', 12), (u'data', 12), (u'KMeans', 12), (u'code', 11), (u'here', 11)])\n",
      "('Bottom 10 occurences:', [(u'limited', 1), (u'forget', 1), (u'Here@Target.com', 1), (u'consists', 1), (u'inverse', 1), (u'terms', 1), (u'HW3.1', 1), (u'graph', 1), (u'HW3.7', 1), (u'HW3.6', 1)])\n"
     ]
    }
   ],
   "source": [
    "## Code goes here\n",
    "data = sc.textFile('HW3.txt')\n",
    "#data.take(10)\n",
    "words = data.flatMap(lambda x: x.split(' ')) \\\n",
    "        .map(lambda word: (word, 1)) \\\n",
    "        .reduceByKey(lambda x,y: (x+y))\n",
    "\n",
    "        \n",
    "print ('Top 20 occurences:' , words.takeOrdered(20, key = lambda x: -x[1]) )\n",
    "print ('Bottom 10 occurences:' , words.takeOrdered(10, key = lambda x: x[1]) )"
   ]
  },
  {
   "cell_type": "code",
   "execution_count": null,
   "metadata": {
    "collapsed": true
   },
   "outputs": [],
   "source": [
    "## Drivers & Runners"
   ]
  },
  {
   "cell_type": "code",
   "execution_count": null,
   "metadata": {
    "collapsed": true
   },
   "outputs": [],
   "source": [
    "## Run Scripts, S3 Sync"
   ]
  },
  {
   "cell_type": "markdown",
   "metadata": {},
   "source": [
    "<a name=\"HW3.1.1\"><h2 style=\"color:darkgreen\">HW3.1.1 </h2>\n",
    "[Back to Table of Contents](#TOC)\n",
    "\n",
    "Modify the above word count code to count words that begin with lower case letters (a-z) and report your findings. Again sort the output words in decreasing order of frequency.\n"
   ]
  },
  {
   "cell_type": "code",
   "execution_count": 28,
   "metadata": {
    "collapsed": false
   },
   "outputs": [
    {
     "name": "stdout",
     "output_type": "stream",
     "text": [
      "('Top 20 occurences:', [(u'the', 71), (u'of', 49), (u'and', 40), (u'to', 33), (u'in', 32), (u'a', 23), (u'this', 17), (u'Contents', 17), (u'Table', 17), (u'for', 17), (u'Back', 16), (u'with', 14), (u'as', 13), (u'data', 12), (u'KMeans', 12), (u'code', 11), (u'here', 11), (u'model', 11), (u'plot', 10), (u'Run', 10)])\n",
      "('Bottom 10 occurences:', [(u'sameModel', 1), (u'limited', 1), (u'forget', 1), (u'consists', 1), (u'inverse', 1), (u'graph', 1), (u'languages', 1), (u'include', 1), (u'stackoverflow', 1), (u'bringing', 1)])\n"
     ]
    }
   ],
   "source": [
    "## Code goes here\n",
    "data = sc.textFile('HW3.txt')\n",
    "#data.take(10)\n",
    "words = data.flatMap(lambda x: x.split(' ')) \\\n",
    "        .filter(lambda x: x.isalpha() ) \\\n",
    "        .map(lambda word: (word, 1)) \\\n",
    "        .reduceByKey(lambda x,y: (x+y))\n",
    "\n",
    "        \n",
    "print ('Top 20 occurences:' , words.takeOrdered(20, key = lambda x: -x[1]) )\n",
    "print ('Bottom 10 occurences:' , words.takeOrdered(10, key = lambda x: x[1]) )"
   ]
  },
  {
   "cell_type": "code",
   "execution_count": null,
   "metadata": {
    "collapsed": true
   },
   "outputs": [],
   "source": [
    "## Drivers & Runners"
   ]
  },
  {
   "cell_type": "code",
   "execution_count": null,
   "metadata": {
    "collapsed": true
   },
   "outputs": [],
   "source": [
    "## Run Scripts, S3 Sync"
   ]
  },
  {
   "cell_type": "markdown",
   "metadata": {},
   "source": [
    "<a name=\"HW3.2\"> <h2 style=\"color:darkblue\"> HW3.2: MLlib-centric KMeans</h2>\n",
    "[Back to Table of Contents](#TOC)\n",
    "\n",
    "Using the following  MLlib-centric KMeans code snippet: \n",
    "\n",
    "<pre>\n",
    "from pyspark.mllib.clustering import KMeans, KMeansModel\n",
    "from numpy import array\n",
    "from math import sqrt\n",
    "\n",
    "\n",
    "# Load and parse the data\n",
    "# NOTE  kmeans_data.txt is available here \n",
    "#          https://www.dropbox.com/s/q85t0ytb9apggnh/kmeans_data.txt?dl=0 \n",
    "data = sc.textFile(\"kmeans_data.txt\")  \n",
    "parsedData = data.map(lambda line: array([float(x) for x in line.split(' ')]))\n",
    "\n",
    "# Build the model (cluster the data)\n",
    "clusters = KMeans.train(parsedData, 2, maxIterations=10,\n",
    "        runs=10, initializationMode=\"random\")\n",
    "\n",
    "# Evaluate clustering by computing Within Set Sum of Squared Errors\n",
    "def error(point):\n",
    "    center = clusters.centers[clusters.predict(point)]\n",
    "    return sqrt(sum([x**2 for x in (point - center)]))\n",
    "\n",
    "WSSSE = parsedData.map(lambda point: error(point)).reduce(lambda x, y: x + y)\n",
    "print(\"Within Set Sum of Squared Error = \" + str(WSSSE))\n",
    "\n",
    "# Save and load model\n",
    "clusters.save(sc, \"myModelPath\")\n",
    "sameModel = KMeansModel.load(sc, \"myModelPath\")\n",
    "\n",
    "</pre>\n",
    "\n",
    "__NOTE__ <p> The  __kmeans_data.txt__ is available here https://www.dropbox.com/s/q85t0ytb9apggnh/kmeans_data.txt?dl=0 \n",
    "\n",
    "__TASKS__\n",
    "* Run this code snippet and list the clusters that your find.\n",
    "* compute the Within Set Sum of Squared Errors for the found clusters. Comment on your findings."
   ]
  },
  {
   "cell_type": "code",
   "execution_count": 43,
   "metadata": {
    "collapsed": false
   },
   "outputs": [
    {
     "name": "stdout",
     "output_type": "stream",
     "text": [
      "0.0 0.0 0.0\r\n",
      "0.1 0.1 0.1\r\n",
      "0.2 0.2 0.2\r\n",
      "9.0 9.0 9.0\r\n",
      "9.1 9.1 9.1\r\n",
      "9.2 9.2 9.2\r\n"
     ]
    }
   ],
   "source": [
    "!cat kmeans_data.txt"
   ]
  },
  {
   "cell_type": "code",
   "execution_count": 49,
   "metadata": {
    "collapsed": false
   },
   "outputs": [
    {
     "name": "stdout",
     "output_type": "stream",
     "text": [
      "('Points:', [array([ 0.,  0.,  0.]), array([ 0.1,  0.1,  0.1]), array([ 0.2,  0.2,  0.2]), array([ 9.,  9.,  9.]), array([ 9.1,  9.1,  9.1]), array([ 9.2,  9.2,  9.2])])\n",
      "('Centers: ', [array([ 9.1,  9.1,  9.1]), array([ 0.1,  0.1,  0.1])])\n",
      "Within Set Sum of Squared Error = 0.692820323028\n"
     ]
    }
   ],
   "source": [
    "## Code goes here\n",
    "from pyspark.mllib.clustering import KMeans, KMeansModel\n",
    "from numpy import array\n",
    "from math import sqrt\n",
    "\n",
    "\n",
    "# Load and parse the data\n",
    "# NOTE  kmeans_data.txt is available here \n",
    "#          https://www.dropbox.com/s/q85t0ytb9apggnh/kmeans_data.txt?dl=0 \n",
    "data = sc.textFile(\"kmeans_data.txt\")  \n",
    "parsedData = data.map(lambda line: array([float(x) for x in line.split(' ')]))\n",
    "print ('Points:' , parsedData.collect())\n",
    "\n",
    "# Build the model (cluster the data)\n",
    "clusters = KMeans.train(parsedData, 2, maxIterations=10,\n",
    "        runs=10, initializationMode=\"random\")\n",
    "print ('Centers: ' , clusters.centers)\n",
    "# Evaluate clustering by computing Within Set Sum of Squared Errors\n",
    "def error(point):\n",
    "    center = clusters.centers[clusters.predict(point)] # predicts/classifies into cluster 1 or cluster 2\n",
    "    return sqrt(sum([x**2 for x in (point - center)]))\n",
    "\n",
    "WSSSE = parsedData.map(lambda point: error(point)).reduce(lambda x, y: x + y)\n",
    "print(\"Within Set Sum of Squared Error = \" + str(WSSSE))\n",
    "\n",
    "# Save and load model\n",
    "#clusters.save(sc, \"myModelPath\")\n",
    "#sameModel = KMeansModel.load(sc, \"myModelPath\")"
   ]
  },
  {
   "cell_type": "code",
   "execution_count": null,
   "metadata": {
    "collapsed": true
   },
   "outputs": [],
   "source": [
    "#recreated in R:\n",
    "> (0.0 - 0.1)^2 + (0.0 - 0.1)^2  + (0.0 - 0.1)^2  \n",
    "[1] 0.03\n",
    "> sqrt(0.03)\n",
    "[1] 0.1732051\n",
    "> 0.1732051*4\n",
    "[1] 0.6928204\n",
    "> \n",
    "\n",
    "# the error turns out to be exactly the same for each point, 0.1732051, except for 2 where the error is 0.  \n",
    "# because the difference between the points and the centers are so small, you get a small WSSSE."
   ]
  },
  {
   "cell_type": "code",
   "execution_count": null,
   "metadata": {
    "collapsed": true
   },
   "outputs": [],
   "source": [
    "## Drivers & Runners"
   ]
  },
  {
   "cell_type": "code",
   "execution_count": null,
   "metadata": {
    "collapsed": true
   },
   "outputs": [],
   "source": [
    "## Run Scripts, S3 Sync"
   ]
  },
  {
   "cell_type": "markdown",
   "metadata": {},
   "source": [
    "<a name=\"HW3.3\"><h2 style=\"color:darkgreen\"> HW3.3: Homegrown KMeans in Spark </h2>\n",
    "[Back to Table of Contents](#TOC)\n",
    "\n",
    "Download the following KMeans [notebook](http://nbviewer.jupyter.org/urls/dl.dropbox.com/s/3nsthvp8g2rrrdh/EM-Kmeans.ipynb).\n",
    "\n",
    "Generate 3 clusters with 100 (one hundred) data points per cluster (using the code provided). Plot the data.\n",
    "Then run MLlib's Kmean implementation on this data  and report your results as follows:\n",
    "\n",
    "* plot the resulting clusters after 1 iteration, 10 iterations, after 20 iterations, after 100 iterations.\n",
    "* in each plot please report the Within Set Sum of Squared Errors for the found clusters (as part of the title WSSSE). Comment on the progress of this measure as  the KMEans algorithms runs for more iterations. \n",
    "* Then plot the WSSSE as a function of the iteration (1, 10, 20, 30, 40, 50, 100).\n",
    "\n",
    "**Online References: \n",
    "http://spark.apache.org/docs/latest/mllib-clustering.html\n",
    "**"
   ]
  },
  {
   "cell_type": "code",
   "execution_count": 51,
   "metadata": {
    "collapsed": false
   },
   "outputs": [
    {
     "name": "stderr",
     "output_type": "stream",
     "text": [
      "/opt/conda/envs/python2/lib/python2.7/site-packages/matplotlib/font_manager.py:273: UserWarning: Matplotlib is building the font cache using fc-list. This may take a moment.\n",
      "  warnings.warn('Matplotlib is building the font cache using fc-list. This may take a moment.')\n"
     ]
    }
   ],
   "source": [
    "## Code goes here\n",
    "%matplotlib inline\n",
    "import numpy as np\n",
    "import pylab \n",
    "import json\n",
    "size1 = size2 = size3 = 100\n",
    "samples1 = np.random.multivariate_normal([4, 0], [[1, 0],[0, 1]], size1)\n",
    "data = samples1\n",
    "samples2 = np.random.multivariate_normal([6, 6], [[1, 0],[0, 1]], size2)\n",
    "data = np.append(data,samples2, axis=0)\n",
    "samples3 = np.random.multivariate_normal([0, 4], [[1, 0],[0, 1]], size3)\n",
    "data = np.append(data,samples3, axis=0)\n",
    "# Randomlize data\n",
    "data = data[np.random.permutation(size1+size2+size3),]\n",
    "np.savetxt('data3_3.csv',data,delimiter = ',')"
   ]
  },
  {
   "cell_type": "code",
   "execution_count": 52,
   "metadata": {
    "collapsed": false
   },
   "outputs": [
    {
     "data": {
      "image/png": "[encoded data removed]",
      "text/plain": [
       "<matplotlib.figure.Figure at 0x7faa79ff7f90>"
      ]
     },
     "metadata": {},
     "output_type": "display_data"
    }
   ],
   "source": [
    "pylab.plot(samples1[:, 0], samples1[:, 1],'*', color = 'red')\n",
    "pylab.plot(samples2[:, 0], samples2[:, 1],'o',color = 'blue')\n",
    "pylab.plot(samples3[:, 0], samples3[:, 1],'+',color = 'green')\n",
    "pylab.show()"
   ]
  },
  {
   "cell_type": "code",
   "execution_count": 55,
   "metadata": {
    "collapsed": true
   },
   "outputs": [],
   "source": [
    "import numpy as np\n",
    "\n",
    "#Calculate which class each data point belongs to\n",
    "def nearest_centroid(line):\n",
    "    x = np.array([float(f) for f in line.split(',')])\n",
    "    closest_centroid_idx = np.sum((x - centroids)**2, axis=1).argmin()\n",
    "    return (closest_centroid_idx,(x,1))\n",
    "\n",
    "#plot centroids and data points for each iteration\n",
    "def plot_iteration(means):\n",
    "    pylab.plot(samples1[:, 0], samples1[:, 1], '.', color = 'blue')\n",
    "    pylab.plot(samples2[:, 0], samples2[:, 1], '.', color = 'blue')\n",
    "    pylab.plot(samples3[:, 0], samples3[:, 1],'.', color = 'blue')\n",
    "    pylab.plot(means[0][0], means[0][1],'*',markersize =10,color = 'red')\n",
    "    pylab.plot(means[1][0], means[1][1],'*',markersize =10,color = 'red')\n",
    "    pylab.plot(means[2][0], means[2][1],'*',markersize =10,color = 'red')\n",
    "    pylab.show()"
   ]
  },
  {
   "cell_type": "code",
   "execution_count": 105,
   "metadata": {
    "collapsed": false
   },
   "outputs": [
    {
     "name": "stdout",
     "output_type": "stream",
     "text": [
      "('Iteration:', 1)\n",
      "('Centers: ', [array([ 0.01519866,  3.96146558]), array([ 6.04672907,  5.81161379]), array([ 3.87588415,  0.11923099])])\n",
      "Within Set Sum of Squared Error = 360.781252064\n"
     ]
    },
    {
     "data": {
      "image/png": "[encoded data removed]",
      "text/plain": [
       "<matplotlib.figure.Figure at 0x7faa707b7ed0>"
      ]
     },
     "metadata": {},
     "output_type": "display_data"
    },
    {
     "name": "stdout",
     "output_type": "stream",
     "text": [
      "('Iteration:', 10)\n",
      "('Centers: ', [array([ 0.01519866,  3.96146558]), array([ 6.03238807,  5.7844975 ]), array([ 3.86858964,  0.08971858])])\n",
      "Within Set Sum of Squared Error = 360.967906421\n"
     ]
    },
    {
     "data": {
      "image/png": "[encoded data removed]",
      "text/plain": [
       "<matplotlib.figure.Figure at 0x7faa70117790>"
      ]
     },
     "metadata": {},
     "output_type": "display_data"
    },
    {
     "name": "stdout",
     "output_type": "stream",
     "text": [
      "('Iteration:', 20)\n",
      "('Centers: ', [array([ 6.03238807,  5.7844975 ]), array([ 0.01519866,  3.96146558]), array([ 3.86858964,  0.08971858])])\n",
      "Within Set Sum of Squared Error = 360.967906421\n"
     ]
    },
    {
     "data": {
      "image/png": "[encoded data removed]",
      "text/plain": [
       "<matplotlib.figure.Figure at 0x7faa70307dd0>"
      ]
     },
     "metadata": {},
     "output_type": "display_data"
    },
    {
     "name": "stdout",
     "output_type": "stream",
     "text": [
      "('Iteration:', 30)\n",
      "('Centers: ', [array([ 3.86858964,  0.08971858]), array([ 0.01519866,  3.96146558]), array([ 6.03238807,  5.7844975 ])])\n",
      "Within Set Sum of Squared Error = 360.967906421\n"
     ]
    },
    {
     "data": {
      "image/png": "[encoded data removed]",
      "text/plain": [
       "<matplotlib.figure.Figure at 0x7faa701efa50>"
      ]
     },
     "metadata": {},
     "output_type": "display_data"
    },
    {
     "name": "stdout",
     "output_type": "stream",
     "text": [
      "('Iteration:', 40)\n",
      "('Centers: ', [array([ 0.01519866,  3.96146558]), array([ 3.86858964,  0.08971858]), array([ 6.03238807,  5.7844975 ])])\n",
      "Within Set Sum of Squared Error = 360.967906421\n"
     ]
    },
    {
     "data": {
      "image/png": "[encoded data removed]",
      "text/plain": [
       "<matplotlib.figure.Figure at 0x7faa6fdb7310>"
      ]
     },
     "metadata": {},
     "output_type": "display_data"
    },
    {
     "name": "stdout",
     "output_type": "stream",
     "text": [
      "('Iteration:', 50)\n",
      "('Centers: ', [array([ 6.03238807,  5.7844975 ]), array([ 0.01519866,  3.96146558]), array([ 3.86858964,  0.08971858])])\n",
      "Within Set Sum of Squared Error = 360.967906421\n"
     ]
    },
    {
     "data": {
      "image/png": "[encoded data removed]",
      "text/plain": [
       "<matplotlib.figure.Figure at 0x7faa6fe50390>"
      ]
     },
     "metadata": {},
     "output_type": "display_data"
    },
    {
     "name": "stdout",
     "output_type": "stream",
     "text": [
      "('Iteration:', 100)\n",
      "('Centers: ', [array([ 3.86858964,  0.08971858]), array([ 6.03238807,  5.7844975 ]), array([ 0.01519866,  3.96146558])])\n",
      "Within Set Sum of Squared Error = 360.967906421\n"
     ]
    },
    {
     "data": {
      "image/png": "[encoded data removed]",
      "text/plain": [
       "<matplotlib.figure.Figure at 0x7faa6ffbec50>"
      ]
     },
     "metadata": {},
     "output_type": "display_data"
    },
    {
     "name": "stdout",
     "output_type": "stream",
     "text": [
      "('ScreePlot Data:', {1: 360.7812520639193, 100: 360.9679064206966, 40: 360.9679064206966, 10: 360.9679064206966, 50: 360.9679064206966, 20: 360.9679064206966, 30: 360.9679064206966})\n"
     ]
    }
   ],
   "source": [
    "from pyspark.mllib.clustering import KMeans, KMeansModel\n",
    "from numpy import array\n",
    "from math import sqrt\n",
    "\n",
    "\n",
    "# Load and parse the data\n",
    "# NOTE  kmeans_data.txt is available here \n",
    "#          https://www.dropbox.com/s/q85t0ytb9apggnh/kmeans_data.txt?dl=0 \n",
    "data = sc.textFile(\"data3_3.csv\")  \n",
    "parsedData = data.map(lambda line: array([float(x) for x in line.split(',')]))\n",
    "#print ('Points:' , parsedData.collect())\n",
    "\n",
    "ScreePlot = {}\n",
    "for i in (1,10,20,30,40,50,100) : \n",
    "    print (\"Iteration:\" , i)\n",
    "    # Build the model (cluster the data)\n",
    "    clusters = KMeans.train(parsedData, 3, maxIterations=i,\n",
    "            runs=10, initializationMode=\"random\")\n",
    "\n",
    "    print ('Centers: ' , clusters.centers)\n",
    "\n",
    "    # Evaluate clustering by computing Within Set Sum of Squared Errors\n",
    "    def error(point):\n",
    "        center = clusters.centers[clusters.predict(point)] # predicts/classifies into cluster 1 or cluster 2\n",
    "        return sqrt(sum([x**2 for x in (point - center)]))\n",
    "\n",
    "    WSSSE = parsedData.map(lambda point: error(point)).reduce(lambda x, y: x + y)\n",
    "    ScreePlot[i]= WSSSE\n",
    "    print(\"Within Set Sum of Squared Error = \" + str(WSSSE))\n",
    "    plot_iteration(clusters.centers)\n",
    "\n",
    "print ('ScreePlot Data:' , ScreePlot)\n",
    "\n",
    "# Save and load model\n",
    "#clusters.save(sc, \"myModelPath3_3\")\n",
    "#sameModel = KMeansModel.load(sc, \"myModelPath3_3\")"
   ]
  },
  {
   "cell_type": "code",
   "execution_count": 104,
   "metadata": {
    "collapsed": false
   },
   "outputs": [
    {
     "name": "stdout",
     "output_type": "stream",
     "text": [
      "[1, 361.5421460270967]\n",
      "[100, 360.9679064206966]\n",
      "[40, 360.9679064206966]\n",
      "[10, 360.9679064206966]\n",
      "[50, 360.9679064206966]\n",
      "[20, 360.9679064206966]\n",
      "[30, 360.9679064206966]\n",
      "[1, 100, 40, 10, 50, 20, 30]\n",
      "[361.5421460270967, 360.9679064206966, 360.9679064206966, 360.9679064206966, 360.9679064206966, 360.9679064206966, 360.9679064206966]\n"
     ]
    },
    {
     "data": {
      "image/png": "[encoded data removed]",
      "text/plain": [
       "<matplotlib.figure.Figure at 0x7faa705051d0>"
      ]
     },
     "metadata": {},
     "output_type": "display_data"
    }
   ],
   "source": [
    "Iterations = []\n",
    "WSSSE_list = []\n",
    "for key, value in ScreePlot.items():\n",
    "    Iterations.append(key)\n",
    "    WSSSE_list.append(value)\n",
    "    print [key, value]\n",
    "\n",
    "print Iterations\n",
    "print WSSSE_list\n",
    "pylab.plot(Iterations, WSSSE_list,'o',color = 'green')\n",
    "pylab.show()"
   ]
  },
  {
   "cell_type": "code",
   "execution_count": null,
   "metadata": {
    "collapsed": true
   },
   "outputs": [],
   "source": [
    "## Drivers & Runners"
   ]
  },
  {
   "cell_type": "code",
   "execution_count": null,
   "metadata": {
    "collapsed": true
   },
   "outputs": [],
   "source": [
    "## Run Scripts, S3 Sync"
   ]
  },
  {
   "cell_type": "markdown",
   "metadata": {},
   "source": [
    "<a name=\"HW3.4\"><h2 style=\"color:darkblue\"> HW3.4: KMeans Experiments  </h2>\n",
    "[Back to Table of Contents](#TOC)\n",
    "\n",
    "Using this provided [homegrown Kmeans code](http://nbviewer.jupyter.org/urls/dl.dropbox.com/s/3nsthvp8g2rrrdh/EM-Kmeans.ipynb)   repeat the experiments in HW3.3. Explain any differences between the results in HW3.3 and HW3.4. "
   ]
  },
  {
   "cell_type": "code",
   "execution_count": null,
   "metadata": {
    "collapsed": true
   },
   "outputs": [],
   "source": [
    "## Code goes here\n",
    "## ('Centers: ', [array([ 3.86858964,  0.08971858]), array([ 6.03238807,  5.7844975 ]), array([ 0.01519866,  3.96146558])])"
   ]
  },
  {
   "cell_type": "code",
   "execution_count": 155,
   "metadata": {
    "collapsed": false,
    "scrolled": false
   },
   "outputs": [
    {
     "name": "stdout",
     "output_type": "stream",
     "text": [
      "[[1, array([ 1.35687483, -0.3060512 ])], [2, array([ 3.89153088,  2.71738186])], [3, array([ 1.86185456,  5.50244699])]]\n",
      "[(1, array([ 3.58565714,  0.11425661])), (1, array([ 0.6819265 ,  3.90933113])), (1, array([ 4.06058491, -0.09824035])), (2, array([ 6.6189244 ,  6.75420485])), (1, array([ 3.23470584,  0.50716231])), (1, array([ 2.1429836 ,  4.81146449])), (1, array([ 4.71139387, -0.95660988])), (1, array([ 4.39742827,  0.27947211])), (1, array([ 3.65087086, -0.24095186])), (2, array([ 7.0078831 ,  7.26165279])), (1, array([ 6.41588094,  4.57914537])), (1, array([ 2.86343327, -0.77881144])), (2, array([ 5.42823891,  6.54393337])), (1, array([ 4.41508923,  5.78290178])), (1, array([ 3.73148727,  0.23037688])), (1, array([ 5.68361415,  5.6356404 ])), (1, array([ 0.19125588,  4.06062569])), (1, array([ 0.19714002,  2.07259675])), (1, array([ 6.87807897,  6.33481373])), (1, array([ 1.40156494,  3.4569869 ])), (2, array([ 4.46093988,  6.20138035])), (1, array([ 0.96585258,  3.89051925])), (1, array([ 5.86286298,  5.44145307])), (1, array([ 4.20907399, -0.52567654])), (2, array([ 6.89723645,  8.03532804])), (1, array([ 4.8113262 , -0.50991746])), (1, array([ 0.99029449,  3.68915099])), (1, array([ 1.86030232,  1.91907649])), (1, array([ 6.74116235,  5.03616223])), (2, array([ 0.62506553,  5.69223695])), (2, array([ 0.27278735,  4.60290416])), (2, array([ 1.35942657,  4.85249677])), (2, array([ 0.37674286,  4.64073692])), (1, array([ 5.37972612,  0.31646134])), (1, array([ 3.62787441, -1.2732225 ])), (1, array([ 4.98994941,  1.03730609])), (1, array([ 2.56731079,  0.33437386])), (1, array([ 0.94480918,  3.66656692])), (2, array([-1.93747448,  4.83467227])), (1, array([ 5.99604302,  5.21185744])), (2, array([ 0.46404568,  4.29527076])), (2, array([ 0.43980354,  5.19710828])), (1, array([ 3.45399839,  0.10661329])), (1, array([ 8.30904572,  5.3623467 ])), (1, array([ 4.95853203, -0.6066748 ])), (2, array([ 0.56597992,  4.95823998])), (1, array([ 6.80509257,  5.92218408])), (2, array([ 5.47876072,  6.70334901])), (0, array([ 1.51187007, -0.75997653])), (1, array([ 3.65896795,  0.86693096])), (1, array([ 7.31857741,  5.34966094])), (1, array([ 1.01214845,  2.75503475])), (2, array([-1.11382938,  4.55407599])), (2, array([ 5.48671054,  7.39455628])), (1, array([ 3.84960621,  0.40675385])), (1, array([ 4.45002443,  5.53959078])), (1, array([ 4.50849475,  0.66693841])), (2, array([ 6.95576336,  7.23521423])), (2, array([ 4.93393052,  6.62654789])), (1, array([ 5.45179321,  4.35668807])), (1, array([ 4.84273418,  5.60091349])), (1, array([ 4.33245952,  0.23969267])), (1, array([ 5.76149244,  5.53445194])), (1, array([ 7.4339593 ,  5.40962859])), (1, array([ 3.27382513, -0.69789737])), (1, array([ 0.22145178,  3.22678372])), (1, array([ 3.27077897, -0.13862597])), (1, array([ 4.65230355,  0.1086968 ])), (1, array([ 7.10263642,  4.88676901])), (1, array([ 3.35039279,  0.32463901])), (1, array([ 4.52241961,  0.70821947])), (1, array([-0.12046827,  3.46561302])), (1, array([ 5.13030124,  0.27104365])), (1, array([ 2.94077184, -0.4049744 ])), (1, array([ 4.5938176 ,  0.88991461])), (1, array([ 6.23726298,  5.50862294])), (2, array([ 5.04286135,  6.96533707])), (2, array([ 4.08709478,  5.75962795])), (1, array([ 3.6500036 ,  0.69715156])), (1, array([ 4.69204476,  4.41943638])), (1, array([ 4.87970765,  2.11134581])), (1, array([ 2.64362306,  0.15152786])), (1, array([ 0.39491036,  3.04125649])), (1, array([ 6.79216943,  4.8378169 ])), (1, array([ 3.41955755,  1.19818905])), (1, array([ 0.49885071,  3.42493074])), (2, array([-1.15910814,  3.72977896])), (1, array([ 6.00530576,  5.77817536])), (1, array([ 4.98949013,  1.16506835])), (1, array([ 0.15399423,  3.91925107])), (2, array([ 5.72402816,  6.92285737])), (1, array([ 6.26864193,  6.21884345])), (1, array([ 1.08302265,  3.79529244])), (1, array([ 0.3497376 ,  2.92920264])), (1, array([-1.08830834,  3.34653224])), (1, array([ 3.71757542, -0.67604366])), (2, array([ 6.23252386,  6.65911063])), (1, array([ 3.17959533,  1.17270653])), (1, array([ 4.88845554,  5.06345875])), (1, array([-0.90526922,  3.26758355])), (1, array([ 4.81837429,  5.25104229])), (1, array([ 0.68478265,  3.73622102])), (1, array([-0.32183913,  3.76459574])), (1, array([ 4.75172677,  4.14787586])), (1, array([ 6.80918908,  5.72339104])), (2, array([ 1.7932423 ,  5.16167099])), (1, array([ 6.31374277,  5.00649774])), (1, array([ 6.6698193 ,  6.09221028])), (2, array([-2.29264229,  4.67106428])), (1, array([ 0.22554393,  2.86953359])), (1, array([ 3.31661468,  0.50722266])), (1, array([ 4.04741694,  0.45899594])), (1, array([ 3.78895267,  0.98184568])), (1, array([ 5.15086449,  4.20117949])), (1, array([ 4.21001889, -1.01067205])), (2, array([ 0.74314123,  5.27170809])), (1, array([ 4.96911069,  0.24701362])), (1, array([ 3.07227581, -0.33392783])), (1, array([ 4.16583734,  1.0238913 ])), (1, array([ 2.26515977,  0.68421186])), (1, array([-1.17181723,  3.41038768])), (0, array([ 3.79923495, -1.91939747])), (1, array([ 3.40955759,  0.43673107])), (1, array([ 4.63724125,  1.69664602])), (1, array([ 7.45015883,  6.72838863])), (1, array([ 5.26274622,  4.65123452])), (1, array([ 4.04413335, -1.07941837])), (1, array([ 2.48219549, -0.08144904])), (1, array([-0.84810605,  3.65743696])), (1, array([ 1.71378039,  2.96850832])), (1, array([ 7.47365378,  6.40198038])), (1, array([ 0.2920989 ,  3.79033648])), (1, array([ 1.43435036,  4.4252763 ])), (1, array([ 4.68717103, -0.87939697])), (1, array([ 3.76051797, -0.33938781])), (1, array([ 5.11910079,  6.09575155])), (1, array([ 3.06171421,  0.03803569])), (1, array([ 3.12144803,  0.8215356 ])), (1, array([ 4.72282198, -0.6907933 ])), (1, array([ 0.24280993,  3.77779398])), (0, array([ 1.77732722, -0.27719628])), (1, array([ 6.30501574,  6.48873079])), (1, array([-0.49518933,  3.35407683])), (2, array([ 0.50603663,  5.65118468])), (1, array([ 4.15339328, -0.0786078 ])), (1, array([ 5.81769438,  5.96278542])), (1, array([ 7.33326531,  5.56353545])), (0, array([ 3.30377644, -2.254581  ])), (1, array([ 5.1597737,  0.9702303])), (1, array([ 6.08449537,  6.23141524])), (2, array([-0.04016304,  4.20192009])), (2, array([-2.15447684,  3.51791699])), (2, array([ 0.34593854,  5.25748657])), (2, array([-1.07665786,  3.69239352])), (2, array([-0.42540503,  4.37625007])), (2, array([-1.07323412,  4.08187771])), (1, array([ 4.55892951, -0.96074121])), (1, array([ 4.61262934,  3.09998428])), (1, array([ 6.41233419,  4.09526489])), (2, array([ 7.02009885,  6.95015212])), (1, array([ 4.11828847, -0.21000866])), (1, array([ 0.65738813,  3.36394436])), (1, array([ 6.20718424,  5.87842597])), (1, array([ 4.52169546, -1.90922194])), (1, array([ 3.47944084,  1.51877227])), (1, array([ 7.94235648,  6.15549381])), (1, array([ 6.32426875,  4.55217113])), (2, array([ 0.26586633,  4.23604286])), (1, array([ 6.16406668,  6.17524039])), (1, array([ 2.82804048, -0.60462925])), (1, array([-1.27815172,  3.55948779])), (2, array([ 1.17968819,  4.77759992])), (2, array([-0.44597035,  5.25663553])), (1, array([ 0.98042675,  3.23184556])), (0, array([-1.63641141,  1.86811668])), (1, array([ 7.53912135,  6.00377685])), (1, array([ 0.55261088,  3.88040281])), (1, array([ 4.06870285,  0.17223572])), (2, array([ 0.51521389,  4.34564136])), (2, array([ 0.58519323,  4.43673584])), (1, array([ 2.65013698,  0.48239701])), (2, array([ 5.48000868,  7.32916007])), (1, array([ 6.20524176,  5.1655429 ])), (1, array([ 5.12247331,  1.30186919])), (2, array([-1.27306379,  4.0901082 ])), (2, array([-0.03228093,  4.1066421 ])), (1, array([ 4.46740199, -1.27005505])), (1, array([ 4.46220551, -1.2209504 ])), (2, array([ 3.49381728,  7.36721904])), (1, array([ 4.05418176,  1.73862458])), (1, array([ 4.88624231,  0.61537968])), (1, array([ 6.10343925,  5.20096755])), (1, array([ 5.22442238,  1.26599391])), (1, array([ 4.24931566,  0.45123378])), (1, array([ 5.20832734, -1.04306096])), (1, array([ 0.00755955,  2.7528519 ])), (1, array([-0.74922555,  2.76762538])), (1, array([ 6.93786106,  6.28749901])), (1, array([ 1.33722437,  0.82877148])), (1, array([ 0.02405636,  3.73533354])), (1, array([ 4.09973636, -0.09106291])), (1, array([ 6.31606211,  5.85926233])), (1, array([ 6.36000318,  5.98681918])), (1, array([-0.06897412,  2.54805779])), (0, array([-1.19752964,  1.82352466])), (1, array([ 0.80491637,  3.58975615])), (2, array([-0.85176795,  4.58199495])), (1, array([ 4.54516245,  5.91151364])), (2, array([ 0.70384681,  5.62224422])), (1, array([ 6.01390281,  4.31840079])), (2, array([ 5.17997566,  6.74823534])), (1, array([ 6.05503397,  5.94495388])), (1, array([ 1.20176077,  4.11329536])), (1, array([ 0.50120921,  2.63891548])), (2, array([-0.63315314,  4.25189337])), (2, array([ 5.50571565,  6.88142813])), (1, array([ 7.0007761 ,  4.76922705])), (1, array([ 6.95410074,  3.45401762])), (1, array([ 5.62791776, -0.39128388])), (1, array([ 5.49553171,  5.48507974])), (1, array([ 6.17153511,  0.59173984])), (2, array([-0.61888219,  5.59622252])), (1, array([ 6.87294522,  6.32980239])), (0, array([ 1.39491727,  0.02924934])), (1, array([ 4.17383934,  1.15432417])), (2, array([ 0.58597514,  5.23362388])), (2, array([-1.71439833,  4.43922244])), (2, array([-0.69859737,  4.78140675])), (1, array([ 3.44418517,  0.85610003])), (2, array([ 0.37000708,  5.04391636])), (1, array([ 5.94888859,  6.03520117])), (1, array([-0.01401834,  3.69154812])), (1, array([ 4.37827127,  0.43008532])), (1, array([ 5.70816086,  4.96095521])), (2, array([-1.17526219,  4.80293738])), (1, array([ 0.98423799,  2.57628212])), (2, array([ 7.2360394 ,  7.61814832])), (1, array([ 1.80464813,  3.994754  ])), (2, array([ 6.8366825,  7.2096191])), (1, array([ 4.30485559,  0.58657646])), (1, array([ 3.35059205,  0.93050186])), (2, array([-0.05037974,  5.83711884])), (1, array([-0.09376769,  3.80677978])), (1, array([ 4.76727063,  5.14280387])), (1, array([ 2.88729629,  0.52687083])), (1, array([ 3.73539377,  1.13731854])), (1, array([ 4.96200964, -0.20640624])), (1, array([-0.08808991,  2.18848512])), (1, array([-0.19827634,  3.89378334])), (1, array([ 7.67045701,  5.23629515])), (1, array([ 4.33608831, -0.56559743])), (1, array([ 0.87444206,  2.144018  ])), (1, array([ 6.90042269,  5.24911852])), (1, array([ 7.71593701,  5.24523146])), (1, array([ 6.25404664,  4.90714586])), (1, array([ 4.26996095, -0.03973586])), (2, array([-0.96463472,  4.34408688])), (2, array([-0.81790281,  5.75199316])), (2, array([-1.0604339 ,  4.04894119])), (1, array([ 0.96630335,  2.67973082])), (1, array([ 5.10710191,  5.19737415])), (2, array([-0.60344932,  4.75239338])), (2, array([ 1.44639957,  4.95111522])), (1, array([ 6.28236078,  5.60205863])), (1, array([ 5.03743702,  4.97287456])), (1, array([ 6.95756039,  5.89649939])), (1, array([ 3.35892596,  0.39712435])), (1, array([ 4.42546075,  0.74639346])), (1, array([ 4.66720696,  1.07966552])), (1, array([ 4.60499825, -0.89491699])), (1, array([ 6.32166893,  6.07563898])), (0, array([ 2.60556254, -1.72729445])), (1, array([ 3.96699225,  0.93632449])), (2, array([-0.93200189,  3.87182528])), (1, array([ 4.48890937, -1.31623987])), (0, array([ 3.16282405, -3.40644556])), (2, array([ 6.68098888,  7.01020468])), (2, array([ 5.47065765,  6.85622277])), (1, array([ 6.59238511,  5.00746138])), (1, array([ 1.65544605,  2.40132855])), (1, array([ 3.48530238,  0.29859031])), (1, array([ 3.65912705,  1.55493939])), (1, array([ 3.9037822 , -1.65313274])), (2, array([ 6.96337177,  7.65292757])), (2, array([-2.07232944,  4.74433505])), (2, array([-1.29419916,  4.30548059])), (1, array([ 6.51130762,  4.81153539])), (1, array([ 5.58996753,  5.43278656])), (1, array([ 5.26773655,  4.54334127])), (2, array([ 5.94315367,  7.21456659])), (2, array([ 0.79552514,  5.18496087])), (1, array([ 4.26463554,  5.63677407])), (0, array([ 1.89992328, -0.13654827])), (2, array([ 4.59804037,  6.13664092])), (1, array([ 5.22338087,  6.05164305])), (1, array([ 4.93938136,  5.4832516 ])), (1, array([-0.1905981 ,  3.23964107])), (1, array([ 5.64141738,  5.89411175])), (1, array([-0.59996253,  3.18259604])), (0, array([-1.69587162,  3.39398572]))]\n",
      "[[1, array([ 1.35687483, -0.3060512 ])], [2, array([ 3.89153088,  2.71738186])], [3, array([ 1.86185456,  5.50244699])]]\n",
      "[(1, array([ 3.58565714,  0.11425661])), (1, array([ 0.6819265 ,  3.90933113])), (1, array([ 4.06058491, -0.09824035])), (2, array([ 6.6189244 ,  6.75420485])), (1, array([ 3.23470584,  0.50716231])), (1, array([ 2.1429836 ,  4.81146449])), (1, array([ 4.71139387, -0.95660988])), (1, array([ 4.39742827,  0.27947211])), (1, array([ 3.65087086, -0.24095186])), (2, array([ 7.0078831 ,  7.26165279])), (1, array([ 6.41588094,  4.57914537])), (1, array([ 2.86343327, -0.77881144])), (2, array([ 5.42823891,  6.54393337])), (1, array([ 4.41508923,  5.78290178])), (1, array([ 3.73148727,  0.23037688])), (1, array([ 5.68361415,  5.6356404 ])), (1, array([ 0.19125588,  4.06062569])), (1, array([ 0.19714002,  2.07259675])), (1, array([ 6.87807897,  6.33481373])), (1, array([ 1.40156494,  3.4569869 ])), (2, array([ 4.46093988,  6.20138035])), (1, array([ 0.96585258,  3.89051925])), (1, array([ 5.86286298,  5.44145307])), (1, array([ 4.20907399, -0.52567654])), (2, array([ 6.89723645,  8.03532804])), (1, array([ 4.8113262 , -0.50991746])), (1, array([ 0.99029449,  3.68915099])), (1, array([ 1.86030232,  1.91907649])), (1, array([ 6.74116235,  5.03616223])), (2, array([ 0.62506553,  5.69223695])), (2, array([ 0.27278735,  4.60290416])), (2, array([ 1.35942657,  4.85249677])), (2, array([ 0.37674286,  4.64073692])), (1, array([ 5.37972612,  0.31646134])), (1, array([ 3.62787441, -1.2732225 ])), (1, array([ 4.98994941,  1.03730609])), (1, array([ 2.56731079,  0.33437386])), (1, array([ 0.94480918,  3.66656692])), (2, array([-1.93747448,  4.83467227])), (1, array([ 5.99604302,  5.21185744])), (2, array([ 0.46404568,  4.29527076])), (2, array([ 0.43980354,  5.19710828])), (1, array([ 3.45399839,  0.10661329])), (1, array([ 8.30904572,  5.3623467 ])), (1, array([ 4.95853203, -0.6066748 ])), (2, array([ 0.56597992,  4.95823998])), (1, array([ 6.80509257,  5.92218408])), (2, array([ 5.47876072,  6.70334901])), (0, array([ 1.51187007, -0.75997653])), (1, array([ 3.65896795,  0.86693096])), (1, array([ 7.31857741,  5.34966094])), (1, array([ 1.01214845,  2.75503475])), (2, array([-1.11382938,  4.55407599])), (2, array([ 5.48671054,  7.39455628])), (1, array([ 3.84960621,  0.40675385])), (1, array([ 4.45002443,  5.53959078])), (1, array([ 4.50849475,  0.66693841])), (2, array([ 6.95576336,  7.23521423])), (2, array([ 4.93393052,  6.62654789])), (1, array([ 5.45179321,  4.35668807])), (1, array([ 4.84273418,  5.60091349])), (1, array([ 4.33245952,  0.23969267])), (1, array([ 5.76149244,  5.53445194])), (1, array([ 7.4339593 ,  5.40962859])), (1, array([ 3.27382513, -0.69789737])), (1, array([ 0.22145178,  3.22678372])), (1, array([ 3.27077897, -0.13862597])), (1, array([ 4.65230355,  0.1086968 ])), (1, array([ 7.10263642,  4.88676901])), (1, array([ 3.35039279,  0.32463901])), (1, array([ 4.52241961,  0.70821947])), (1, array([-0.12046827,  3.46561302])), (1, array([ 5.13030124,  0.27104365])), (1, array([ 2.94077184, -0.4049744 ])), (1, array([ 4.5938176 ,  0.88991461])), (1, array([ 6.23726298,  5.50862294])), (2, array([ 5.04286135,  6.96533707])), (2, array([ 4.08709478,  5.75962795])), (1, array([ 3.6500036 ,  0.69715156])), (1, array([ 4.69204476,  4.41943638])), (1, array([ 4.87970765,  2.11134581])), (1, array([ 2.64362306,  0.15152786])), (1, array([ 0.39491036,  3.04125649])), (1, array([ 6.79216943,  4.8378169 ])), (1, array([ 3.41955755,  1.19818905])), (1, array([ 0.49885071,  3.42493074])), (2, array([-1.15910814,  3.72977896])), (1, array([ 6.00530576,  5.77817536])), (1, array([ 4.98949013,  1.16506835])), (1, array([ 0.15399423,  3.91925107])), (2, array([ 5.72402816,  6.92285737])), (1, array([ 6.26864193,  6.21884345])), (1, array([ 1.08302265,  3.79529244])), (1, array([ 0.3497376 ,  2.92920264])), (1, array([-1.08830834,  3.34653224])), (1, array([ 3.71757542, -0.67604366])), (2, array([ 6.23252386,  6.65911063])), (1, array([ 3.17959533,  1.17270653])), (1, array([ 4.88845554,  5.06345875])), (1, array([-0.90526922,  3.26758355])), (1, array([ 4.81837429,  5.25104229])), (1, array([ 0.68478265,  3.73622102])), (1, array([-0.32183913,  3.76459574])), (1, array([ 4.75172677,  4.14787586])), (1, array([ 6.80918908,  5.72339104])), (2, array([ 1.7932423 ,  5.16167099])), (1, array([ 6.31374277,  5.00649774])), (1, array([ 6.6698193 ,  6.09221028])), (2, array([-2.29264229,  4.67106428])), (1, array([ 0.22554393,  2.86953359])), (1, array([ 3.31661468,  0.50722266])), (1, array([ 4.04741694,  0.45899594])), (1, array([ 3.78895267,  0.98184568])), (1, array([ 5.15086449,  4.20117949])), (1, array([ 4.21001889, -1.01067205])), (2, array([ 0.74314123,  5.27170809])), (1, array([ 4.96911069,  0.24701362])), (1, array([ 3.07227581, -0.33392783])), (1, array([ 4.16583734,  1.0238913 ])), (1, array([ 2.26515977,  0.68421186])), (1, array([-1.17181723,  3.41038768])), (0, array([ 3.79923495, -1.91939747])), (1, array([ 3.40955759,  0.43673107])), (1, array([ 4.63724125,  1.69664602])), (1, array([ 7.45015883,  6.72838863])), (1, array([ 5.26274622,  4.65123452])), (1, array([ 4.04413335, -1.07941837])), (1, array([ 2.48219549, -0.08144904])), (1, array([-0.84810605,  3.65743696])), (1, array([ 1.71378039,  2.96850832])), (1, array([ 7.47365378,  6.40198038])), (1, array([ 0.2920989 ,  3.79033648])), (1, array([ 1.43435036,  4.4252763 ])), (1, array([ 4.68717103, -0.87939697])), (1, array([ 3.76051797, -0.33938781])), (1, array([ 5.11910079,  6.09575155])), (1, array([ 3.06171421,  0.03803569])), (1, array([ 3.12144803,  0.8215356 ])), (1, array([ 4.72282198, -0.6907933 ])), (1, array([ 0.24280993,  3.77779398])), (0, array([ 1.77732722, -0.27719628])), (1, array([ 6.30501574,  6.48873079])), (1, array([-0.49518933,  3.35407683])), (2, array([ 0.50603663,  5.65118468])), (1, array([ 4.15339328, -0.0786078 ])), (1, array([ 5.81769438,  5.96278542])), (1, array([ 7.33326531,  5.56353545])), (0, array([ 3.30377644, -2.254581  ])), (1, array([ 5.1597737,  0.9702303])), (1, array([ 6.08449537,  6.23141524])), (2, array([-0.04016304,  4.20192009])), (2, array([-2.15447684,  3.51791699])), (2, array([ 0.34593854,  5.25748657])), (2, array([-1.07665786,  3.69239352])), (2, array([-0.42540503,  4.37625007])), (2, array([-1.07323412,  4.08187771])), (1, array([ 4.55892951, -0.96074121])), (1, array([ 4.61262934,  3.09998428])), (1, array([ 6.41233419,  4.09526489])), (2, array([ 7.02009885,  6.95015212])), (1, array([ 4.11828847, -0.21000866])), (1, array([ 0.65738813,  3.36394436])), (1, array([ 6.20718424,  5.87842597])), (1, array([ 4.52169546, -1.90922194])), (1, array([ 3.47944084,  1.51877227])), (1, array([ 7.94235648,  6.15549381])), (1, array([ 6.32426875,  4.55217113])), (2, array([ 0.26586633,  4.23604286])), (1, array([ 6.16406668,  6.17524039])), (1, array([ 2.82804048, -0.60462925])), (1, array([-1.27815172,  3.55948779])), (2, array([ 1.17968819,  4.77759992])), (2, array([-0.44597035,  5.25663553])), (1, array([ 0.98042675,  3.23184556])), (0, array([-1.63641141,  1.86811668])), (1, array([ 7.53912135,  6.00377685])), (1, array([ 0.55261088,  3.88040281])), (1, array([ 4.06870285,  0.17223572])), (2, array([ 0.51521389,  4.34564136])), (2, array([ 0.58519323,  4.43673584])), (1, array([ 2.65013698,  0.48239701])), (2, array([ 5.48000868,  7.32916007])), (1, array([ 6.20524176,  5.1655429 ])), (1, array([ 5.12247331,  1.30186919])), (2, array([-1.27306379,  4.0901082 ])), (2, array([-0.03228093,  4.1066421 ])), (1, array([ 4.46740199, -1.27005505])), (1, array([ 4.46220551, -1.2209504 ])), (2, array([ 3.49381728,  7.36721904])), (1, array([ 4.05418176,  1.73862458])), (1, array([ 4.88624231,  0.61537968])), (1, array([ 6.10343925,  5.20096755])), (1, array([ 5.22442238,  1.26599391])), (1, array([ 4.24931566,  0.45123378])), (1, array([ 5.20832734, -1.04306096])), (1, array([ 0.00755955,  2.7528519 ])), (1, array([-0.74922555,  2.76762538])), (1, array([ 6.93786106,  6.28749901])), (1, array([ 1.33722437,  0.82877148])), (1, array([ 0.02405636,  3.73533354])), (1, array([ 4.09973636, -0.09106291])), (1, array([ 6.31606211,  5.85926233])), (1, array([ 6.36000318,  5.98681918])), (1, array([-0.06897412,  2.54805779])), (0, array([-1.19752964,  1.82352466])), (1, array([ 0.80491637,  3.58975615])), (2, array([-0.85176795,  4.58199495])), (1, array([ 4.54516245,  5.91151364])), (2, array([ 0.70384681,  5.62224422])), (1, array([ 6.01390281,  4.31840079])), (2, array([ 5.17997566,  6.74823534])), (1, array([ 6.05503397,  5.94495388])), (1, array([ 1.20176077,  4.11329536])), (1, array([ 0.50120921,  2.63891548])), (2, array([-0.63315314,  4.25189337])), (2, array([ 5.50571565,  6.88142813])), (1, array([ 7.0007761 ,  4.76922705])), (1, array([ 6.95410074,  3.45401762])), (1, array([ 5.62791776, -0.39128388])), (1, array([ 5.49553171,  5.48507974])), (1, array([ 6.17153511,  0.59173984])), (2, array([-0.61888219,  5.59622252])), (1, array([ 6.87294522,  6.32980239])), (0, array([ 1.39491727,  0.02924934])), (1, array([ 4.17383934,  1.15432417])), (2, array([ 0.58597514,  5.23362388])), (2, array([-1.71439833,  4.43922244])), (2, array([-0.69859737,  4.78140675])), (1, array([ 3.44418517,  0.85610003])), (2, array([ 0.37000708,  5.04391636])), (1, array([ 5.94888859,  6.03520117])), (1, array([-0.01401834,  3.69154812])), (1, array([ 4.37827127,  0.43008532])), (1, array([ 5.70816086,  4.96095521])), (2, array([-1.17526219,  4.80293738])), (1, array([ 0.98423799,  2.57628212])), (2, array([ 7.2360394 ,  7.61814832])), (1, array([ 1.80464813,  3.994754  ])), (2, array([ 6.8366825,  7.2096191])), (1, array([ 4.30485559,  0.58657646])), (1, array([ 3.35059205,  0.93050186])), (2, array([-0.05037974,  5.83711884])), (1, array([-0.09376769,  3.80677978])), (1, array([ 4.76727063,  5.14280387])), (1, array([ 2.88729629,  0.52687083])), (1, array([ 3.73539377,  1.13731854])), (1, array([ 4.96200964, -0.20640624])), (1, array([-0.08808991,  2.18848512])), (1, array([-0.19827634,  3.89378334])), (1, array([ 7.67045701,  5.23629515])), (1, array([ 4.33608831, -0.56559743])), (1, array([ 0.87444206,  2.144018  ])), (1, array([ 6.90042269,  5.24911852])), (1, array([ 7.71593701,  5.24523146])), (1, array([ 6.25404664,  4.90714586])), (1, array([ 4.26996095, -0.03973586])), (2, array([-0.96463472,  4.34408688])), (2, array([-0.81790281,  5.75199316])), (2, array([-1.0604339 ,  4.04894119])), (1, array([ 0.96630335,  2.67973082])), (1, array([ 5.10710191,  5.19737415])), (2, array([-0.60344932,  4.75239338])), (2, array([ 1.44639957,  4.95111522])), (1, array([ 6.28236078,  5.60205863])), (1, array([ 5.03743702,  4.97287456])), (1, array([ 6.95756039,  5.89649939])), (1, array([ 3.35892596,  0.39712435])), (1, array([ 4.42546075,  0.74639346])), (1, array([ 4.66720696,  1.07966552])), (1, array([ 4.60499825, -0.89491699])), (1, array([ 6.32166893,  6.07563898])), (0, array([ 2.60556254, -1.72729445])), (1, array([ 3.96699225,  0.93632449])), (2, array([-0.93200189,  3.87182528])), (1, array([ 4.48890937, -1.31623987])), (0, array([ 3.16282405, -3.40644556])), (2, array([ 6.68098888,  7.01020468])), (2, array([ 5.47065765,  6.85622277])), (1, array([ 6.59238511,  5.00746138])), (1, array([ 1.65544605,  2.40132855])), (1, array([ 3.48530238,  0.29859031])), (1, array([ 3.65912705,  1.55493939])), (1, array([ 3.9037822 , -1.65313274])), (2, array([ 6.96337177,  7.65292757])), (2, array([-2.07232944,  4.74433505])), (2, array([-1.29419916,  4.30548059])), (1, array([ 6.51130762,  4.81153539])), (1, array([ 5.58996753,  5.43278656])), (1, array([ 5.26773655,  4.54334127])), (2, array([ 5.94315367,  7.21456659])), (2, array([ 0.79552514,  5.18496087])), (1, array([ 4.26463554,  5.63677407])), (0, array([ 1.89992328, -0.13654827])), (2, array([ 4.59804037,  6.13664092])), (1, array([ 5.22338087,  6.05164305])), (1, array([ 4.93938136,  5.4832516 ])), (1, array([-0.1905981 ,  3.23964107])), (1, array([ 5.64141738,  5.89411175])), (1, array([-0.59996253,  3.18259604])), (0, array([-1.69587162,  3.39398572]))]\n",
      "[[1, array([ 1.35687483, -0.3060512 ])], [2, array([ 3.89153088,  2.71738186])], [3, array([ 1.86185456,  5.50244699])]]\n",
      "[(1, array([ 3.58565714,  0.11425661])), (1, array([ 0.6819265 ,  3.90933113])), (1, array([ 4.06058491, -0.09824035])), (2, array([ 6.6189244 ,  6.75420485])), (1, array([ 3.23470584,  0.50716231])), (1, array([ 2.1429836 ,  4.81146449])), (1, array([ 4.71139387, -0.95660988])), (1, array([ 4.39742827,  0.27947211])), (1, array([ 3.65087086, -0.24095186])), (2, array([ 7.0078831 ,  7.26165279])), (1, array([ 6.41588094,  4.57914537])), (1, array([ 2.86343327, -0.77881144])), (2, array([ 5.42823891,  6.54393337])), (1, array([ 4.41508923,  5.78290178])), (1, array([ 3.73148727,  0.23037688])), (1, array([ 5.68361415,  5.6356404 ])), (1, array([ 0.19125588,  4.06062569])), (1, array([ 0.19714002,  2.07259675])), (1, array([ 6.87807897,  6.33481373])), (1, array([ 1.40156494,  3.4569869 ])), (2, array([ 4.46093988,  6.20138035])), (1, array([ 0.96585258,  3.89051925])), (1, array([ 5.86286298,  5.44145307])), (1, array([ 4.20907399, -0.52567654])), (2, array([ 6.89723645,  8.03532804])), (1, array([ 4.8113262 , -0.50991746])), (1, array([ 0.99029449,  3.68915099])), (1, array([ 1.86030232,  1.91907649])), (1, array([ 6.74116235,  5.03616223])), (2, array([ 0.62506553,  5.69223695])), (2, array([ 0.27278735,  4.60290416])), (2, array([ 1.35942657,  4.85249677])), (2, array([ 0.37674286,  4.64073692])), (1, array([ 5.37972612,  0.31646134])), (1, array([ 3.62787441, -1.2732225 ])), (1, array([ 4.98994941,  1.03730609])), (1, array([ 2.56731079,  0.33437386])), (1, array([ 0.94480918,  3.66656692])), (2, array([-1.93747448,  4.83467227])), (1, array([ 5.99604302,  5.21185744])), (2, array([ 0.46404568,  4.29527076])), (2, array([ 0.43980354,  5.19710828])), (1, array([ 3.45399839,  0.10661329])), (1, array([ 8.30904572,  5.3623467 ])), (1, array([ 4.95853203, -0.6066748 ])), (2, array([ 0.56597992,  4.95823998])), (1, array([ 6.80509257,  5.92218408])), (2, array([ 5.47876072,  6.70334901])), (0, array([ 1.51187007, -0.75997653])), (1, array([ 3.65896795,  0.86693096])), (1, array([ 7.31857741,  5.34966094])), (1, array([ 1.01214845,  2.75503475])), (2, array([-1.11382938,  4.55407599])), (2, array([ 5.48671054,  7.39455628])), (1, array([ 3.84960621,  0.40675385])), (1, array([ 4.45002443,  5.53959078])), (1, array([ 4.50849475,  0.66693841])), (2, array([ 6.95576336,  7.23521423])), (2, array([ 4.93393052,  6.62654789])), (1, array([ 5.45179321,  4.35668807])), (1, array([ 4.84273418,  5.60091349])), (1, array([ 4.33245952,  0.23969267])), (1, array([ 5.76149244,  5.53445194])), (1, array([ 7.4339593 ,  5.40962859])), (1, array([ 3.27382513, -0.69789737])), (1, array([ 0.22145178,  3.22678372])), (1, array([ 3.27077897, -0.13862597])), (1, array([ 4.65230355,  0.1086968 ])), (1, array([ 7.10263642,  4.88676901])), (1, array([ 3.35039279,  0.32463901])), (1, array([ 4.52241961,  0.70821947])), (1, array([-0.12046827,  3.46561302])), (1, array([ 5.13030124,  0.27104365])), (1, array([ 2.94077184, -0.4049744 ])), (1, array([ 4.5938176 ,  0.88991461])), (1, array([ 6.23726298,  5.50862294])), (2, array([ 5.04286135,  6.96533707])), (2, array([ 4.08709478,  5.75962795])), (1, array([ 3.6500036 ,  0.69715156])), (1, array([ 4.69204476,  4.41943638])), (1, array([ 4.87970765,  2.11134581])), (1, array([ 2.64362306,  0.15152786])), (1, array([ 0.39491036,  3.04125649])), (1, array([ 6.79216943,  4.8378169 ])), (1, array([ 3.41955755,  1.19818905])), (1, array([ 0.49885071,  3.42493074])), (2, array([-1.15910814,  3.72977896])), (1, array([ 6.00530576,  5.77817536])), (1, array([ 4.98949013,  1.16506835])), (1, array([ 0.15399423,  3.91925107])), (2, array([ 5.72402816,  6.92285737])), (1, array([ 6.26864193,  6.21884345])), (1, array([ 1.08302265,  3.79529244])), (1, array([ 0.3497376 ,  2.92920264])), (1, array([-1.08830834,  3.34653224])), (1, array([ 3.71757542, -0.67604366])), (2, array([ 6.23252386,  6.65911063])), (1, array([ 3.17959533,  1.17270653])), (1, array([ 4.88845554,  5.06345875])), (1, array([-0.90526922,  3.26758355])), (1, array([ 4.81837429,  5.25104229])), (1, array([ 0.68478265,  3.73622102])), (1, array([-0.32183913,  3.76459574])), (1, array([ 4.75172677,  4.14787586])), (1, array([ 6.80918908,  5.72339104])), (2, array([ 1.7932423 ,  5.16167099])), (1, array([ 6.31374277,  5.00649774])), (1, array([ 6.6698193 ,  6.09221028])), (2, array([-2.29264229,  4.67106428])), (1, array([ 0.22554393,  2.86953359])), (1, array([ 3.31661468,  0.50722266])), (1, array([ 4.04741694,  0.45899594])), (1, array([ 3.78895267,  0.98184568])), (1, array([ 5.15086449,  4.20117949])), (1, array([ 4.21001889, -1.01067205])), (2, array([ 0.74314123,  5.27170809])), (1, array([ 4.96911069,  0.24701362])), (1, array([ 3.07227581, -0.33392783])), (1, array([ 4.16583734,  1.0238913 ])), (1, array([ 2.26515977,  0.68421186])), (1, array([-1.17181723,  3.41038768])), (0, array([ 3.79923495, -1.91939747])), (1, array([ 3.40955759,  0.43673107])), (1, array([ 4.63724125,  1.69664602])), (1, array([ 7.45015883,  6.72838863])), (1, array([ 5.26274622,  4.65123452])), (1, array([ 4.04413335, -1.07941837])), (1, array([ 2.48219549, -0.08144904])), (1, array([-0.84810605,  3.65743696])), (1, array([ 1.71378039,  2.96850832])), (1, array([ 7.47365378,  6.40198038])), (1, array([ 0.2920989 ,  3.79033648])), (1, array([ 1.43435036,  4.4252763 ])), (1, array([ 4.68717103, -0.87939697])), (1, array([ 3.76051797, -0.33938781])), (1, array([ 5.11910079,  6.09575155])), (1, array([ 3.06171421,  0.03803569])), (1, array([ 3.12144803,  0.8215356 ])), (1, array([ 4.72282198, -0.6907933 ])), (1, array([ 0.24280993,  3.77779398])), (0, array([ 1.77732722, -0.27719628])), (1, array([ 6.30501574,  6.48873079])), (1, array([-0.49518933,  3.35407683])), (2, array([ 0.50603663,  5.65118468])), (1, array([ 4.15339328, -0.0786078 ])), (1, array([ 5.81769438,  5.96278542])), (1, array([ 7.33326531,  5.56353545])), (0, array([ 3.30377644, -2.254581  ])), (1, array([ 5.1597737,  0.9702303])), (1, array([ 6.08449537,  6.23141524])), (2, array([-0.04016304,  4.20192009])), (2, array([-2.15447684,  3.51791699])), (2, array([ 0.34593854,  5.25748657])), (2, array([-1.07665786,  3.69239352])), (2, array([-0.42540503,  4.37625007])), (2, array([-1.07323412,  4.08187771])), (1, array([ 4.55892951, -0.96074121])), (1, array([ 4.61262934,  3.09998428])), (1, array([ 6.41233419,  4.09526489])), (2, array([ 7.02009885,  6.95015212])), (1, array([ 4.11828847, -0.21000866])), (1, array([ 0.65738813,  3.36394436])), (1, array([ 6.20718424,  5.87842597])), (1, array([ 4.52169546, -1.90922194])), (1, array([ 3.47944084,  1.51877227])), (1, array([ 7.94235648,  6.15549381])), (1, array([ 6.32426875,  4.55217113])), (2, array([ 0.26586633,  4.23604286])), (1, array([ 6.16406668,  6.17524039])), (1, array([ 2.82804048, -0.60462925])), (1, array([-1.27815172,  3.55948779])), (2, array([ 1.17968819,  4.77759992])), (2, array([-0.44597035,  5.25663553])), (1, array([ 0.98042675,  3.23184556])), (0, array([-1.63641141,  1.86811668])), (1, array([ 7.53912135,  6.00377685])), (1, array([ 0.55261088,  3.88040281])), (1, array([ 4.06870285,  0.17223572])), (2, array([ 0.51521389,  4.34564136])), (2, array([ 0.58519323,  4.43673584])), (1, array([ 2.65013698,  0.48239701])), (2, array([ 5.48000868,  7.32916007])), (1, array([ 6.20524176,  5.1655429 ])), (1, array([ 5.12247331,  1.30186919])), (2, array([-1.27306379,  4.0901082 ])), (2, array([-0.03228093,  4.1066421 ])), (1, array([ 4.46740199, -1.27005505])), (1, array([ 4.46220551, -1.2209504 ])), (2, array([ 3.49381728,  7.36721904])), (1, array([ 4.05418176,  1.73862458])), (1, array([ 4.88624231,  0.61537968])), (1, array([ 6.10343925,  5.20096755])), (1, array([ 5.22442238,  1.26599391])), (1, array([ 4.24931566,  0.45123378])), (1, array([ 5.20832734, -1.04306096])), (1, array([ 0.00755955,  2.7528519 ])), (1, array([-0.74922555,  2.76762538])), (1, array([ 6.93786106,  6.28749901])), (1, array([ 1.33722437,  0.82877148])), (1, array([ 0.02405636,  3.73533354])), (1, array([ 4.09973636, -0.09106291])), (1, array([ 6.31606211,  5.85926233])), (1, array([ 6.36000318,  5.98681918])), (1, array([-0.06897412,  2.54805779])), (0, array([-1.19752964,  1.82352466])), (1, array([ 0.80491637,  3.58975615])), (2, array([-0.85176795,  4.58199495])), (1, array([ 4.54516245,  5.91151364])), (2, array([ 0.70384681,  5.62224422])), (1, array([ 6.01390281,  4.31840079])), (2, array([ 5.17997566,  6.74823534])), (1, array([ 6.05503397,  5.94495388])), (1, array([ 1.20176077,  4.11329536])), (1, array([ 0.50120921,  2.63891548])), (2, array([-0.63315314,  4.25189337])), (2, array([ 5.50571565,  6.88142813])), (1, array([ 7.0007761 ,  4.76922705])), (1, array([ 6.95410074,  3.45401762])), (1, array([ 5.62791776, -0.39128388])), (1, array([ 5.49553171,  5.48507974])), (1, array([ 6.17153511,  0.59173984])), (2, array([-0.61888219,  5.59622252])), (1, array([ 6.87294522,  6.32980239])), (0, array([ 1.39491727,  0.02924934])), (1, array([ 4.17383934,  1.15432417])), (2, array([ 0.58597514,  5.23362388])), (2, array([-1.71439833,  4.43922244])), (2, array([-0.69859737,  4.78140675])), (1, array([ 3.44418517,  0.85610003])), (2, array([ 0.37000708,  5.04391636])), (1, array([ 5.94888859,  6.03520117])), (1, array([-0.01401834,  3.69154812])), (1, array([ 4.37827127,  0.43008532])), (1, array([ 5.70816086,  4.96095521])), (2, array([-1.17526219,  4.80293738])), (1, array([ 0.98423799,  2.57628212])), (2, array([ 7.2360394 ,  7.61814832])), (1, array([ 1.80464813,  3.994754  ])), (2, array([ 6.8366825,  7.2096191])), (1, array([ 4.30485559,  0.58657646])), (1, array([ 3.35059205,  0.93050186])), (2, array([-0.05037974,  5.83711884])), (1, array([-0.09376769,  3.80677978])), (1, array([ 4.76727063,  5.14280387])), (1, array([ 2.88729629,  0.52687083])), (1, array([ 3.73539377,  1.13731854])), (1, array([ 4.96200964, -0.20640624])), (1, array([-0.08808991,  2.18848512])), (1, array([-0.19827634,  3.89378334])), (1, array([ 7.67045701,  5.23629515])), (1, array([ 4.33608831, -0.56559743])), (1, array([ 0.87444206,  2.144018  ])), (1, array([ 6.90042269,  5.24911852])), (1, array([ 7.71593701,  5.24523146])), (1, array([ 6.25404664,  4.90714586])), (1, array([ 4.26996095, -0.03973586])), (2, array([-0.96463472,  4.34408688])), (2, array([-0.81790281,  5.75199316])), (2, array([-1.0604339 ,  4.04894119])), (1, array([ 0.96630335,  2.67973082])), (1, array([ 5.10710191,  5.19737415])), (2, array([-0.60344932,  4.75239338])), (2, array([ 1.44639957,  4.95111522])), (1, array([ 6.28236078,  5.60205863])), (1, array([ 5.03743702,  4.97287456])), (1, array([ 6.95756039,  5.89649939])), (1, array([ 3.35892596,  0.39712435])), (1, array([ 4.42546075,  0.74639346])), (1, array([ 4.66720696,  1.07966552])), (1, array([ 4.60499825, -0.89491699])), (1, array([ 6.32166893,  6.07563898])), (0, array([ 2.60556254, -1.72729445])), (1, array([ 3.96699225,  0.93632449])), (2, array([-0.93200189,  3.87182528])), (1, array([ 4.48890937, -1.31623987])), (0, array([ 3.16282405, -3.40644556])), (2, array([ 6.68098888,  7.01020468])), (2, array([ 5.47065765,  6.85622277])), (1, array([ 6.59238511,  5.00746138])), (1, array([ 1.65544605,  2.40132855])), (1, array([ 3.48530238,  0.29859031])), (1, array([ 3.65912705,  1.55493939])), (1, array([ 3.9037822 , -1.65313274])), (2, array([ 6.96337177,  7.65292757])), (2, array([-2.07232944,  4.74433505])), (2, array([-1.29419916,  4.30548059])), (1, array([ 6.51130762,  4.81153539])), (1, array([ 5.58996753,  5.43278656])), (1, array([ 5.26773655,  4.54334127])), (2, array([ 5.94315367,  7.21456659])), (2, array([ 0.79552514,  5.18496087])), (1, array([ 4.26463554,  5.63677407])), (0, array([ 1.89992328, -0.13654827])), (2, array([ 4.59804037,  6.13664092])), (1, array([ 5.22338087,  6.05164305])), (1, array([ 4.93938136,  5.4832516 ])), (1, array([-0.1905981 ,  3.23964107])), (1, array([ 5.64141738,  5.89411175])), (1, array([-0.59996253,  3.18259604])), (0, array([-1.69587162,  3.39398572]))]\n",
      "Final Results:\n",
      "[[ 0.  0.]\n",
      " [ 2.  2.]\n",
      " [ 0.  7.]]\n"
     ]
    }
   ],
   "source": [
    "K = 3\n",
    "# Initialization: initialization of parameter is fixed to show an example\n",
    "centroids = np.array([[0.0,0.0],[2.0,2.0],[0.0,7.0]])\n",
    "\n",
    "D = sc.textFile(\"./data3_3.csv\").cache()\n",
    "iter_num = 0\n",
    "ScreePlot = {}\n",
    "for i in (range(3)):  \n",
    "    res = D.map(nearest_centroid).reduceByKey(lambda x,y : (x[0]+y[0],x[1]+y[1])).collect()\n",
    "    #print ('res:')\n",
    "    #print (res)\n",
    "    \n",
    "    #res [(0, (array([  2.66546663e+00,   3.94844436e+03]), 1001)  ), \n",
    "    #     (2, (array([ 6023.84995923,  5975.48511018]), 1000)), \n",
    "    #     (1, (array([ 3986.85984761,    15.93153464]), 999))]\n",
    "    # res[1][1] returns 1000 here\n",
    "    res = sorted(res,key = lambda x : x[0])  #sort based on clusted ID\n",
    "    centroids_new = np.array([x[1][0]/x[1][1] for x in res])  #divide by cluster size\n",
    "    #print (res[0] , centroids_new)\n",
    "    if np.sum(np.absolute(centroids_new-centroids))<0.01:\n",
    "        break\n",
    "    \n",
    "    centroidsnew = []\n",
    "    for i in range(3):\n",
    "        centroidsnew.append([i + 1,centroids_new[i]])\n",
    "        \n",
    "    print centroidsnew\n",
    "    \n",
    "#     WSSSE_pts = D.map(nearest_centroid).collect()\n",
    "#     #print ('WSSSE:' , WSSSE)\n",
    "    \n",
    "#     for i, j in WSSSE_pts[:5]:\n",
    "#         print i, j \n",
    "\n",
    "    WSSSE_pts = D.map(nearest_centroid) \\\n",
    "                .map(lambda x: (x[0], (x[1][0]))) \\\n",
    "                .persist() \\\n",
    "                #.collect()\n",
    "    print WSSSE_pts    \n",
    "    \n",
    "            # Evaluate clustering by computing Within Set Sum of Squared Errors\n",
    "    def error(point, curr_center):\n",
    "        #for nearest_cluster, point, cnt in\n",
    "        if curr_center\n",
    "        center = clusters.centers[clusters.predict(point)] # centroids_new # predicts/classifies into cluster 1 or cluster 2\n",
    "        return sqrt(sum([x**2 for x in (point - centroidsnew)]))\n",
    "    '''\n",
    "    WSSSE = WSSSE_pts.map(lambda curr_center , point: error(point, curr_center)).reduce(lambda x, y: x + y)\n",
    "    ScreePlot[i]= WSSSE\n",
    "    print WSSSE\n",
    "    '''\n",
    "    '''\n",
    "    #plot_iteration(clusters.centers)\n",
    "    \n",
    "    print \"Iteration\" + str(iter_num)\n",
    "    iter_num = iter_num + 1 \n",
    "    centroids = centroids_new\n",
    "    print centroids\n",
    "    plot_iteration(centroids)\n",
    "    print(\"Within Set Sum of Squared Error = \" + str(WSSSE))\n",
    "    '''\n",
    "    \n",
    "print \"Final Results:\"\n",
    "print centroids"
   ]
  },
  {
   "cell_type": "code",
   "execution_count": null,
   "metadata": {
    "collapsed": true
   },
   "outputs": [],
   "source": [
    "#Calculate which class each data point belongs to\n",
    "def nearest_centroid2(line):\n",
    "    x = np.array([float(f) for f in line.split(',')])\n",
    "    \n",
    "    closest_centroid_idx = np.sum((x - centroids)**2, axis=1).argmin()\n",
    "    return (closest_centroid_idx,(x,1))"
   ]
  },
  {
   "cell_type": "markdown",
   "metadata": {},
   "source": [
    "('WSSSE:', [(1, (array([ 3.58565714,  0.11425661]), 1)), (1, (array([ 0.6819265 ,  3.90933113]), 1)), (1, (array([ 4.06058491, -0.09824035]), 1)), (2, (array([ 6.6189244 ,  6.75420485]), 1)), (1, (array([ 3.23470584,  0.50716231]), 1)), (1, (array([ 2.1429836 ,  4.81146449]), 1)), (1, (array([ 4.71139387, -0.95660988]), 1)), (1, (array([ 4.39742827,  0.27947211]), 1)), (1, (array([ 3.65087086, -0.24095186]), 1)), (2, (array([ 7.0078831 ,  7.26165279]), 1)), (1, (array([ 6.41588094,  4.57914537]), 1)),"
   ]
  },
  {
   "cell_type": "code",
   "execution_count": null,
   "metadata": {
    "collapsed": true
   },
   "outputs": [],
   "source": [
    "## Drivers & Runners"
   ]
  },
  {
   "cell_type": "code",
   "execution_count": null,
   "metadata": {
    "collapsed": true
   },
   "outputs": [],
   "source": [
    "## Run Scripts, S3 Sync"
   ]
  },
  {
   "cell_type": "markdown",
   "metadata": {},
   "source": [
    "<a name=\"HW3.4.1\"><h2 style=\"color:darkblue\"> HW3.4.1: Making Homegrown KMeans more efficient  </h2>\n",
    "[Back to Table of Contents](#TOC)\n",
    "\n",
    "The above provided homegrown KMeans implentation in not the most efficient. How can you make it more efficient? Make this change in the code and show it work and comment on the gains you achieve. "
   ]
  },
  {
   "cell_type": "markdown",
   "metadata": {},
   "source": [
    "### HINT: have a look at  [this linear regression notebook](    http://nbviewer.jupyter.org/urls/dl.dropbox.com/s/atzqkc0p1eajuz6/LinearRegression-Notebook-Challenge.ipynb)"
   ]
  },
  {
   "cell_type": "code",
   "execution_count": null,
   "metadata": {
    "collapsed": true
   },
   "outputs": [],
   "source": [
    "## Code goes here"
   ]
  },
  {
   "cell_type": "code",
   "execution_count": null,
   "metadata": {
    "collapsed": true
   },
   "outputs": [],
   "source": [
    "## Drivers & Runners"
   ]
  },
  {
   "cell_type": "code",
   "execution_count": null,
   "metadata": {
    "collapsed": true
   },
   "outputs": [],
   "source": [
    "## Run Scripts, S3 Sync"
   ]
  },
  {
   "cell_type": "markdown",
   "metadata": {},
   "source": [
    "<a name=\"HW3.5\"><h2 style=\"color:darkgreen\"> HW3.5: OPTIONAL Weighted KMeans  </h2>\n",
    "[Back to Table of Contents](#TOC)\n",
    "\n",
    "Using this provided [homegrown Kmeans code](http://nbviewer.jupyter.org/urls/dl.dropbox.com/s/3nsthvp8g2rrrdh/EM-Kmeans.ipynb), modify it to do a weighted KMeans and repeat the experiements in HW3.3. Explain  any differences between the results in HW3.3 and HW3.5.\n",
    "\n",
    "NOTE: Weight each example as follows using the inverse vector length (Euclidean norm): \n",
    "\n",
    "> weight(X)= 1/||X||, \n",
    "\n",
    "where ||X|| = SQRT(X.X)= SQRT(X1^2 + X2^2)\n",
    "\n",
    "Here X is vector made up of two values X1 and X2.\n",
    "\n",
    "__[Please incorporate all referenced notebooks directly into this master notebook as cells for HW submission. I.e., HW submissions should comprise of just one notebook]__"
   ]
  },
  {
   "cell_type": "code",
   "execution_count": null,
   "metadata": {
    "collapsed": true
   },
   "outputs": [],
   "source": [
    "## Code goes here"
   ]
  },
  {
   "cell_type": "code",
   "execution_count": null,
   "metadata": {
    "collapsed": true
   },
   "outputs": [],
   "source": [
    "## Drivers & Runners"
   ]
  },
  {
   "cell_type": "code",
   "execution_count": null,
   "metadata": {
    "collapsed": true
   },
   "outputs": [],
   "source": [
    "## Run Scripts, S3 Sync"
   ]
  },
  {
   "cell_type": "markdown",
   "metadata": {},
   "source": [
    "<a name=\"HW3.6\"><h2 style=\"color:darkblue\"> HW3.6 OPTIONAL Linear Regression</h2>\n",
    "[Back to Table of Contents](#TOC)\n",
    "<a name=\"HW3.6.1\"><h2 style=\"color:darkblue\"> HW3.6.1 OPTIONAL Linear Regression</h2>\n",
    "[Back to Table of Contents](#TOC)\n",
    "\n",
    "Using [this linear regression notebook](    http://nbviewer.jupyter.org/urls/dl.dropbox.com/s/atzqkc0p1eajuz6/LinearRegression-Notebook-Challenge.ipynb):\n",
    "\n",
    "\n",
    "* Generate 2 sets of data with 100 data points using the data generation code provided and plot each in separate plots. Call one the training set and the other the testing set.\n",
    "\n",
    "* Using MLLib's LinearRegressionWithSGD train up a linear regression model with the training dataset and evaluate with the testing set. What a good number of iterations for training the linear regression model? Justify with plots (e.g., plot MSE as a function of the number of iterations) and words. \n"
   ]
  },
  {
   "cell_type": "markdown",
   "metadata": {},
   "source": [
    "<a name=\"HW3.6.2\"><h2 style=\"color:darkblue\"> HW3.6.2 OPTIONAL Linear Regression</h2>\n",
    "[Back to Table of Contents](#TOC)\n",
    "\n",
    "In the notebook provided above, in the cell labeled \"Gradient descent (regularization)\".\n",
    "\n",
    "* Fill in the blanks and get this code to work for LASS0 and RIDGE linear regression.\n",
    "\n",
    "* Using the data from 3.6.1 tune the hyper parameters of your LASS0 and RIDGE regression. Report your findings with words and plots."
   ]
  },
  {
   "cell_type": "code",
   "execution_count": null,
   "metadata": {
    "collapsed": true
   },
   "outputs": [],
   "source": [
    "## Code goes here"
   ]
  },
  {
   "cell_type": "code",
   "execution_count": null,
   "metadata": {
    "collapsed": true
   },
   "outputs": [],
   "source": [
    "## Drivers & Runners"
   ]
  },
  {
   "cell_type": "code",
   "execution_count": null,
   "metadata": {
    "collapsed": true
   },
   "outputs": [],
   "source": [
    "## Run Scripts, S3 Sync"
   ]
  },
  {
   "cell_type": "markdown",
   "metadata": {},
   "source": [
    "<a name=\"HW3.7\"><h2 style=\"color:darkgreen\"> HW3.7 OPTIONAL Error surfaces </h2>\n",
    "[Back to Table of Contents](#TOC)\n",
    "\n",
    "Here is a link to R code with 1 test drivers that plots the linear regression model in  model space and in the domain space:\n",
    "\n",
    "> https://www.dropbox.com/s/3xc3kwda6d254l5/PlotModelAndDomainSpaces.R?dl=0\n",
    "\n",
    "Here is a sample output from this script: \n",
    "      \n",
    "> https://www.dropbox.com/s/my3tnhxx7fr5qs0/image%20%281%29.png?dl=0\n",
    "\n",
    "Please use this as inspiration and code a equivalent error surface and heatmap (with isolines) in Spark and show the trajectory of learning taken during gradient descent(after each n-iterations of Gradient Descent):\n",
    "\n",
    "\n",
    "Using Spark and  Python (using the above R Script as inspiration), plot the error surface for the linear regression model using a heatmap and contour plot. \n",
    "Also plot the current model in the original domain space for every 10th iteration.  Plot them side by side if possible  for each iteration: lefthand side plot is the model space(w0 and w01) and the righthand side plot is domain space (plot the corresponding model and training data in the problem domain space) with a final pair of graphs showing the entire trajectory in the model and domain space. Make sure to label your plots with iteration numbers, function, model space versus original domain space, MSE on the training data etc.\n",
    "\n",
    "Also plot the MSE as a function of each iteration (possibly every 10th iteration). Dont forget to label both axis and the graph also. __[Please incorporate all referenced notebooks directly into this master notebook as cells for HW submission. I.e., HW submissions should comprise of just one notebook]__\n",
    "\n",
    "\n",
    "\n"
   ]
  },
  {
   "cell_type": "code",
   "execution_count": null,
   "metadata": {
    "collapsed": true
   },
   "outputs": [],
   "source": [
    "## Code goes here"
   ]
  },
  {
   "cell_type": "code",
   "execution_count": null,
   "metadata": {
    "collapsed": true
   },
   "outputs": [],
   "source": [
    "## Drivers & Runners"
   ]
  },
  {
   "cell_type": "code",
   "execution_count": null,
   "metadata": {
    "collapsed": true
   },
   "outputs": [],
   "source": [
    "## Run Scripts, S3 Sync"
   ]
  },
  {
   "cell_type": "markdown",
   "metadata": {},
   "source": [
    "[Back to Table of Contents](#TOC)\n",
    "<center><div class='jumbotron'><h2 style='color:green'>-------  END OF HWK 9 --------</h2></div></center>"
   ]
  }
 ],
 "metadata": {
  "kernelspec": {
   "display_name": "Python 2",
   "language": "python",
   "name": "python2"
  },
  "language_info": {
   "codemirror_mode": {
    "name": "ipython",
    "version": 2
   },
   "file_extension": ".py",
   "mimetype": "text/x-python",
   "name": "python",
   "nbconvert_exporter": "python",
   "pygments_lexer": "ipython2",
   "version": "2.7.12"
  }
 },
 "nbformat": 4,
 "nbformat_minor": 0
}
