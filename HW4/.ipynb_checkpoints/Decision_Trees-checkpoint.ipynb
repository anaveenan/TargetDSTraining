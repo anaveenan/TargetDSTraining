{
 "cells": [
  {
   "cell_type": "markdown",
   "metadata": {},
   "source": [
    "# Decision Trees for Classification (over discrete input variables)\n",
    "\n",
    "- Loosely based on  from Chapter 17 of [Data Science From Scratch](https://www.safaribooksonline.com/library/view/data-science-from/9781491901410/) by Joel Grus   \n",
    "- Code Source adopted from: https://github.com/joelgrus/data-science-from-scratch/blob/master/code/decision_trees.py"
   ]
  },
  {
   "cell_type": "markdown",
   "metadata": {},
   "source": [
    "## Table of Contents <a name=\"TOC\"></a> \n",
    "\n",
    "1.  [Introduction](#1)\n",
    "2.  [Entropy](#2)\n",
    "3.  [The Entropy of a Partition](#3)\n",
    "4.  [Creating a Decision Tree](#4)   \n",
    "5.  [Putting It All Together](#5)\n",
    "6.  [Random Forests](#6)\n",
    "7.  [For Further Exploration](#7)"
   ]
  },
  {
   "cell_type": "code",
   "execution_count": 1,
   "metadata": {
    "collapsed": false
   },
   "outputs": [
    {
     "name": "stdout",
     "output_type": "stream",
     "text": [
      " Volume in drive C is OSDisk\n",
      " Volume Serial Number is 56A0-1A81\n",
      "\n",
      " Directory of C:\\Users\\z001c9v\\Documents\\Target DS Training 2016\\TargetDSTraining\\HW4\n",
      "\n",
      "08/12/2016  10:05 PM    <DIR>          .\n",
      "08/12/2016  10:05 PM    <DIR>          ..\n",
      "08/07/2016  09:25 PM    <DIR>          .ipynb_checkpoints\n",
      "08/12/2016  10:13 AM               470 dataset.txt\n",
      "08/12/2016  10:05 PM           141,810 Decision_Trees.ipynb\n",
      "08/10/2016  11:33 PM            28,629 titanic_test.csv\n",
      "08/10/2016  11:33 PM            61,194 titanic_train.csv\n",
      "               4 File(s)        232,103 bytes\n",
      "               3 Dir(s)  355,592,691,712 bytes free\n"
     ]
    },
    {
     "name": "stderr",
     "output_type": "stream",
     "text": [
      "'pwd' is not recognized as an internal or external command,\n",
      "operable program or batch file.\n"
     ]
    }
   ],
   "source": [
    "# Pre - Processing\n",
    "%reload_ext autoreload\n",
    "%autoreload 2\n",
    "!dir\n",
    "!pwd"
   ]
  },
  {
   "cell_type": "code",
   "execution_count": 2,
   "metadata": {
    "collapsed": false
   },
   "outputs": [
    {
     "name": "stderr",
     "output_type": "stream",
     "text": [
      "Python 2.7.11 :: Anaconda 4.0.0 (64-bit)\n"
     ]
    }
   ],
   "source": [
    "!python --version"
   ]
  },
  {
   "cell_type": "code",
   "execution_count": 3,
   "metadata": {
    "collapsed": false
   },
   "outputs": [
    {
     "name": "stdout",
     "output_type": "stream",
     "text": [
      "('TMP', 'C:\\\\Users\\\\z001c9v\\\\AppData\\\\Local\\\\Temp')\n",
      "('COMPUTERNAME', '9XK2R72')\n",
      "('PROCESSOR_LEVEL', '6')\n",
      "('LIB', ';C:\\\\PROGRA~1\\\\IBM\\\\SQLLIB\\\\LIB')\n",
      "('USERDOMAIN', 'DHC')\n",
      "('SPARK_HOME', 'C:\\\\Apps\\\\Apache\\\\spark-2.0.0\\\\')\n",
      "('PSMODULEPATH', 'C:\\\\WINDOWS\\\\system32\\\\WindowsPowerShell\\\\v1.0\\\\Modules\\\\')\n",
      "('COMMONPROGRAMFILES', 'C:\\\\Program Files\\\\Common Files')\n",
      "('PROCESSOR_IDENTIFIER', 'Intel64 Family 6 Model 94 Stepping 3, GenuineIntel')\n",
      "('VBOX_MSI_INSTALL_PATH', 'C:\\\\Program Files\\\\Oracle\\\\VirtualBox\\\\')\n",
      "('PROGRAMFILES', 'C:\\\\Program Files')\n",
      "('PROCESSOR_REVISION', '5e03')\n",
      "('DATACONNECTORLIBPATH', 'C:\\\\Program Files (x86)\\\\Teradata\\\\Client\\\\15.00\\\\bin\\\\')\n",
      "('SYSTEMROOT', 'C:\\\\WINDOWS')\n",
      "('CLICOLOR', '1')\n",
      "('PROGRAMFILES(X86)', 'C:\\\\Program Files (x86)')\n",
      "('COMSPEC', 'C:\\\\WINDOWS\\\\system32\\\\cmd.exe')\n",
      "('TERM', 'xterm-color')\n",
      "('DOCKER_TOOLBOX_INSTALL_PATH', 'C:\\\\Apps\\\\Docker Toolbox')\n",
      "('WINDOWS_TRACING_LOGFILE', 'C:\\\\BVTBin\\\\Tests\\\\installpackage\\\\csilogfile.log')\n",
      "('DB2INSTANCE', 'DB2')\n",
      "('PROCESSOR_ARCHITECTURE', 'AMD64')\n",
      "('ALLUSERSPROFILE', 'C:\\\\ProgramData')\n",
      "('SCCMNORDCDOWNLOAD', '1')\n",
      "('LOCALAPPDATA', 'C:\\\\Users\\\\z001c9v\\\\AppData\\\\Local')\n",
      "('HOMEPATH', '\\\\')\n",
      "('USERDOMAIN_ROAMINGPROFILE', 'DHC')\n",
      "('JAVA_HOME', 'C:\\\\Program Files\\\\Java\\\\jre1.8.0_101\\\\')\n",
      "('JPY_INTERRUPT_EVENT', '896')\n",
      "('PROGRAMW6432', 'C:\\\\Program Files')\n",
      "('USERNAME', 'Z001C9V')\n",
      "('COPLIB', 'C:\\\\Program Files (x86)\\\\Teradata\\\\Client\\\\15.00\\\\bin\\\\')\n",
      "('LOGONSERVER', '\\\\\\\\TETTSDCC10P')\n",
      "('PROMPT', '$P$G')\n",
      "('WINDOWS_TRACING_FLAGS', '3')\n",
      "('JPY_PARENT_PID', '912')\n",
      "('PROGRAMDATA', 'C:\\\\ProgramData')\n",
      "('PYTHONPATH', 'C:\\\\Apps\\\\Anaconda2\\\\;C:\\\\Apps\\\\Anaconda2\\\\Scripts;$SPARK_HOME/python:$SPARK_HOME/python/lib/py4j-0.10.1-src.zip;')\n",
      "('CLASSPATH', 'C:\\\\Program Files (x86)\\\\Teradata\\\\Client\\\\15.00\\\\bin\\\\;C:\\\\Program Files (x86)\\\\Teradata\\\\Client\\\\15.00\\\\bin\\\\tdgeospatial.jar;C:\\\\Program Files (x86)\\\\Teradata\\\\Client\\\\15.00\\\\bin\\\\;C:\\\\Program Files (x86)\\\\Teradata\\\\Client\\\\15.00\\\\bin\\\\jmsam.jar;.;C:\\\\PROGRA~1\\\\IBM\\\\SQLLIB\\\\java\\\\db2java.zip;C:\\\\PROGRA~1\\\\IBM\\\\SQLLIB\\\\java\\\\db2jcc.jar;C:\\\\PROGRA~1\\\\IBM\\\\SQLLIB\\\\java\\\\sqlj.zip;C:\\\\PROGRA~1\\\\IBM\\\\SQLLIB\\\\java\\\\db2jcc_license_cu.jar;C:\\\\PROGRA~1\\\\IBM\\\\SQLLIB\\\\bin;C:\\\\PROGRA~1\\\\IBM\\\\SQLLIB\\\\java\\\\common.jar')\n",
      "('PATH', 'C:\\\\Apps\\\\Anaconda2\\\\Library\\\\bin;C:\\\\Apps\\\\Anaconda2\\\\Library\\\\bin;C:\\\\Apps\\\\Anaconda2\\\\Library\\\\bin;C:\\\\ProgramData\\\\Oracle\\\\Java\\\\javapath;C:\\\\Apps\\\\R\\\\Rtools\\\\bin;C:\\\\Apps\\\\R\\\\Rtools\\\\gcc-4.6.3\\\\bin;C:\\\\Program Files (x86)\\\\Teradata\\\\Teradata Performance Monitor Object 15.00\\\\;C:\\\\Program Files (x86)\\\\Teradata\\\\client\\\\15.00\\\\Teradata Parallel Transporter\\\\bin;C:\\\\Program Files (x86)\\\\Teradata\\\\client\\\\15.00\\\\Teradata Parallel Transporter\\\\msg;C:\\\\Program Files (x86)\\\\Teradata\\\\Client\\\\15.00\\\\ODBC Driver for Teradata\\\\Lib;C:\\\\Program Files (x86)\\\\Teradata\\\\Client\\\\15.00\\\\bin;C:\\\\Program Files (x86)\\\\Teradata\\\\Client\\\\15.00\\\\bin\\\\;C:\\\\WINDOWS\\\\system32;C:\\\\WINDOWS\\\\System32\\\\Wbem;C:\\\\WINDOWS\\\\System32\\\\WindowsPowerShell\\\\v1.0\\\\;C:\\\\WINDOWS\\\\System32\\\\WindowsPowerShell\\\\v1.0\\\\;C:\\\\Program Files\\\\SAS94\\\\x86\\\\Secure\\\\ccme4;C:\\\\Program Files\\\\SAS94\\\\Secure\\\\ccme4;C:\\\\Program Files (x86)\\\\Teradata\\\\Client\\\\15.00\\\\tdwallet\\\\nt-i386\\\\;C:\\\\Program Files (x86)\\\\Microsoft Application Virtualization Client;C:\\\\Program Files\\\\Git\\\\cmd;C:\\\\Program Files\\\\Java\\\\jre1.8.0_101\\\\\\\\bin\\\\;C:\\\\WINDOWS\\\\SysWOW64\\\\;C:\\\\WINDOWS;C:\\\\WINDOWS\\\\SysWOW64\\\\Wbem;C:\\\\WINDOWS\\\\SysWOW64\\\\WindowsPowerShell\\\\v1.0;C:\\\\Program Files (x86)\\\\AdminStudio\\\\9.5\\\\Common;C:\\\\PROGRA~1\\\\SQLLIB\\\\BIN;C:\\\\PROGRA~1\\\\SQLLIB\\\\FUNCTION;C:\\\\PROGRA~1\\\\SQLLIB\\\\SAMPLES\\\\REPL;C:\\\\Program Files\\\\Java\\\\jre1.8.0_101\\\\\\\\bin;C:\\\\Program Files\\\\ibm\\\\gsk8\\\\lib64;C:\\\\Program Files (x86)\\\\ibm\\\\gsk8\\\\lib;C:\\\\PROGRA~1\\\\IBM\\\\SQLLIB\\\\BIN;C:\\\\PROGRA~1\\\\IBM\\\\SQLLIB\\\\FUNCTION;C:\\\\PROGRA~1\\\\IBM\\\\SQLLIB\\\\SAMPLES\\\\REPL;C:\\\\Apps\\\\Anaconda2;C:\\\\Apps\\\\Anaconda2\\\\Scripts;C:\\\\Apps\\\\Anaconda2\\\\Library\\\\bin;C:\\\\Apps\\\\Anaconda3;C:\\\\Apps\\\\Anaconda3\\\\Scripts;C:\\\\Apps\\\\Anaconda3\\\\Library\\\\bin;C:\\\\Program Files\\\\Java\\\\jre1.8.0_101\\\\\\\\bin;C:\\\\Apps\\\\Anaconda2\\\\;C:\\\\Apps\\\\Anaconda2\\\\Scripts;$SPARK_HOME/python:$SPARK_HOME/python/lib/py4j-0.10.1-src.zip;;C:\\\\Apps\\\\Docker Toolbox;C:\\\\Program Files (x86)\\\\IBM\\\\SQLLIB\\\\BIN;C:\\\\Apps\\\\Apache\\\\spark-2.0.0\\\\;C:\\\\Apps\\\\Apache\\\\hadoop-2.7.2;')\n",
      "('HOMESHARE', '\\\\\\\\corp.target.com\\\\dfsroot\\\\HomeDirs\\\\HQ02\\\\59808964')\n",
      "('GIT_PAGER', 'cat')\n",
      "('UATDATA', 'C:\\\\WINDOWS\\\\CCM\\\\UATData\\\\D9F8C395-CAB8-491d-B8AC-179A1FE1BE77')\n",
      "('PATHEXT', '.COM;.EXE;.BAT;.CMD;.VBS;.VBE;.JS;.JSE;.WSF;.WSH;.MSC')\n",
      "('INCLUDE', 'C:\\\\PROGRA~1\\\\IBM\\\\SQLLIB\\\\INCLUDE;C:\\\\PROGRA~1\\\\IBM\\\\SQLLIB\\\\LIB')\n",
      "('SESSIONNAME', 'Console')\n",
      "('FP_NO_HOST_CHECK', 'NO')\n",
      "('WINDIR', 'C:\\\\WINDOWS')\n",
      "('TEMP', 'C:\\\\Users\\\\z001c9v\\\\AppData\\\\Local\\\\Temp')\n",
      "('HOMEDRIVE', 'H:')\n",
      "('OS', 'Windows_NT')\n",
      "('SYSTEMDRIVE', 'C:')\n",
      "('PUBLIC', 'C:\\\\Users\\\\Public')\n",
      "('NUMBER_OF_PROCESSORS', '8')\n",
      "('APPDATA', 'C:\\\\Users\\\\z001c9v\\\\AppData\\\\Roaming')\n",
      "('USERDNSDOMAIN', 'CORP.TARGET.COM')\n",
      "('IBMDB2', 'C:\\\\Program Files (x86)\\\\IBM\\\\SQLLIB\\\\BIN')\n",
      "('PAGER', 'cat')\n",
      "('COMMONPROGRAMW6432', 'C:\\\\Program Files\\\\Common Files')\n",
      "('HADOOP_HOME', 'C:\\\\Apps\\\\Apache\\\\hadoop-2.7.2')\n",
      "('COMMONPROGRAMFILES(X86)', 'C:\\\\Program Files (x86)\\\\Common Files')\n",
      "('IPY_INTERRUPT_EVENT', '896')\n",
      "('USERPROFILE', 'C:\\\\Users\\\\z001c9v')\n"
     ]
    }
   ],
   "source": [
    "import os\n",
    "\n",
    "for key, value in os.environ.items():\n",
    "    print(key, value)"
   ]
  },
  {
   "cell_type": "code",
   "execution_count": 4,
   "metadata": {
    "collapsed": false
   },
   "outputs": [
    {
     "ename": "ImportError",
     "evalue": "No module named pyspark",
     "output_type": "error",
     "traceback": [
      "\u001b[1;31m---------------------------------------------------------------------------\u001b[0m",
      "\u001b[1;31mImportError\u001b[0m                               Traceback (most recent call last)",
      "\u001b[1;32m<ipython-input-4-27bcafd806d9>\u001b[0m in \u001b[0;36m<module>\u001b[1;34m()\u001b[0m\n\u001b[0;32m      1\u001b[0m \u001b[1;31m# Spark Initialization: DOCKER\u001b[0m\u001b[1;33m\u001b[0m\u001b[1;33m\u001b[0m\u001b[0m\n\u001b[1;32m----> 2\u001b[1;33m \u001b[1;32mimport\u001b[0m \u001b[0mpyspark\u001b[0m\u001b[1;33m\u001b[0m\u001b[0m\n\u001b[0m\u001b[0;32m      3\u001b[0m \u001b[1;32mfrom\u001b[0m \u001b[0mpyspark\u001b[0m\u001b[1;33m.\u001b[0m\u001b[0msql\u001b[0m \u001b[1;32mimport\u001b[0m \u001b[0mSQLContext\u001b[0m\u001b[1;33m\u001b[0m\u001b[0m\n\u001b[0;32m      4\u001b[0m \u001b[1;33m\u001b[0m\u001b[0m\n\u001b[0;32m      5\u001b[0m \u001b[1;31m# We can give a name to our app (to find it in Spark WebUI) and configure execution mode\u001b[0m\u001b[1;33m\u001b[0m\u001b[1;33m\u001b[0m\u001b[0m\n",
      "\u001b[1;31mImportError\u001b[0m: No module named pyspark"
     ]
    }
   ],
   "source": [
    "# Spark Initialization: DOCKER \n",
    "import pyspark\n",
    "from pyspark.sql import SQLContext\n",
    "\n",
    "# We can give a name to our app (to find it in Spark WebUI) and configure execution mode\n",
    "# In this case, it is local multicore execution with \"local[*]\"\n",
    "app_name = \"example-logs\"\n",
    "master = \"local[*]\"\n",
    "conf = pyspark.SparkConf().setAppName(app_name).setMaster(master)\n",
    "sc = pyspark.SparkContext(conf=conf)\n",
    "sqlContext = SQLContext(sc)\n",
    "\n",
    "\n",
    "print(sc)\n",
    "print(sqlContext)\n",
    "\n",
    "\n",
    "# Import some libraries to work with dates\n",
    "import dateutil.parser\n",
    "import dateutil.relativedelta as dateutil_rd"
   ]
  },
  {
   "cell_type": "code",
   "execution_count": 11,
   "metadata": {
    "collapsed": false
   },
   "outputs": [
    {
     "name": "stdout",
     "output_type": "stream",
     "text": [
      "C:\\Apps\\Anaconda2\\;C:\\Apps\\Anaconda2\\Scripts;$SPARK_HOME/python:$SPARK_HOME/python/lib/py4j-0.10.1-src.zip;\n",
      "<pyspark.context.SparkContext object at 0x0000000003FD50B8>\n",
      "<pyspark.sql.context.SQLContext object at 0x0000000003F2A7F0>\n"
     ]
    }
   ],
   "source": [
    "# Initiate Spark on Local:  ** Do not run this on Docker **\n",
    "import sys #current as of 9/26/2015\n",
    "\n",
    "# spark_home = os.environ['SPARK_HOME'] = '/Users/jshanahan/Dropbox/Lectures-UC-Berkeley-ML-Class-2015/spark-1.6.1-bin-hadoop2.6/'\n",
    "spark_home = os.environ['SPARK_HOME'] = 'C:\\\\Apps\\\\Apache\\\\spark-2.0.0\\\\'\n",
    "if not spark_home:\n",
    "    raise ValueError('SPARK_HOME enviroment variable is not set')\n",
    "sys.path.insert(0,os.path.join(spark_home,'python'))\n",
    "sys.path.insert(0,os.path.join(spark_home,'python\\\\lib\\\\py4j-0.10.1-src.zip')) #Note, this needs to be in PYTHONPATH env variable.\n",
    "\n",
    "\n",
    "print(os.environ['PYTHONPATH'])\n",
    "# First, we initialize the Spark environment\n",
    "\n",
    "#import findspark\n",
    "#findspark.init()\n",
    "\n",
    "import pyspark\n",
    "from pyspark.sql import SQLContext\n",
    "\n",
    "# We can give a name to our app (to find it in Spark WebUI) and configure execution mode\n",
    "# In this case, it is local multicore execution with \"local[*]\"\n",
    "app_name = \"MyApp\"\n",
    "master = \"local[*]\"\n",
    "conf = pyspark.SparkConf().setAppName(app_name).setMaster(master)\n",
    "sc = pyspark.SparkContext(conf=conf)\n",
    "sqlContext = SQLContext(sc)\n",
    "\n",
    "\n",
    "print(sc)\n",
    "print(sqlContext)\n",
    "\n",
    "\n",
    "# Import some libraries to work with dates\n",
    "import dateutil.parser\n",
    "import dateutil.relativedelta as dateutil_rd"
   ]
  },
  {
   "cell_type": "code",
   "execution_count": 8,
   "metadata": {
    "collapsed": true
   },
   "outputs": [],
   "source": [
    "sc.stop()"
   ]
  },
  {
   "cell_type": "markdown",
   "metadata": {},
   "source": [
    "## 1.  Introduction <a name=\"1\"></a>\n",
    "[Back to Table of Contents](#TOC)\n",
    "\n",
    "\"A decision tree uses a tree structure to represent a number of possible *decision paths* and an outcome for each path.\n",
    "\n",
    "If you have ever played the game Twenty Questions, then it turns out you are familiar with decision trees.\n",
    "\n",
    "<img src=\"https://dl.dropbox.com/s/huzi4ffo0ooxu32/DecisionTreeAnimal.png\" width=\"600\" height=\"600\" />\n",
    "\n",
    "Finding an 'optimal' decision tree for a set of training data is computationally a very hard problem. (We will get around this by trying to build a good-enough tree rather than an optimal one, although for large data sets this can still be alot of work.) More important, it is very easy (and very bad) to build decision trees that are *overfitted* to the training data, and that don’t generalize well to unseen data.\n",
    "\n",
    "Most people divide decision trees into *classification trees* (which produce categorical outputs) and *regression trees* (which produce numeric outputs).\""
   ]
  },
  {
   "cell_type": "markdown",
   "metadata": {},
   "source": [
    "## 2.  Entropy <a name=\"2\"></a>\n",
    "[Back to Table of Contents](#TOC)\n",
    "\n",
    "\"In order to build a decision tree, we will need to decide what questions to ask and in what order. At each stage of the tree there are some possibilities we’ve eliminated and some that we haven’t. After learning that an animal doesn’t have more than five legs, we’ve eliminated the possibility that it’s a grasshopper. We haven’t eliminated the possibility that it’s a duck. Every possible question partitions the remaining possibilities according to their answers.  \n",
    "\n",
    "Ideally, we’d like to choose questions whose answers give a lot of information about what our tree should predict. If there’s a single yes/no question for which 'yes' answers always correspond to True outputs and 'no' answers to False outputs (or vice versa), this would be an awesome question to pick. Conversely, a yes/no question for which neither answer gives you much new information about what the prediction should be is probably not a good choice.\n",
    "\n",
    "We capture this notion of 'how much information' with *entropy*. You have probably heard this used to mean disorder. We use it to represent the uncertainty associated with data.\n",
    "\n",
    "Imagine that we have a set $S$ of data, each member of which is labeled as belonging to one of a finite number of classes $C_1, \\dots , C_n$. If all the data points belong to a single class, then there is no real uncertainty, which means we’d like there to be low entropy.  If the data points are evenly spread across the classes, there is a lot of uncertainty and we’d like there to be high entropy.  \n",
    "\n",
    "In math terms, if $p_i$ is the proportion of data labeled as class $c_i$, we define the entropy as: \n",
    "\n",
    "\\begin{equation}\n",
    "H(S)=  −p_1 log_2(p_1) − \\dots − p_n log_2(p_n)\n",
    "\\end{equation}\n",
    "\n",
    "with the (standard) convention that $0 log 0 = 0$.\n",
    "\n",
    "Without worrying too much about the grisly details, each term $−p_i log_2(p_i)$ is non-negative and is close to zero precisely when $p_i$ is either close to zero or close to one (Figure 17-2).\n",
    "\n",
    "<img src=\"https://dl.dropbox.com/s/txnatys7w6u5mor/plogp.png\" width=\"600\" height=\"600\" />\n",
    "\n",
    "This means the entropy will be small when every $p_i$ is close to 0 or 1 (i.e., when most of the data is in a single class), and it will be larger when many of the $p_i$’s are not close to 0 (i.e., when the data is spread across multiple classes). This is exactly the behavior we desire.  It is easy enough to roll all of this into a function:"
   ]
  },
  {
   "cell_type": "code",
   "execution_count": 46,
   "metadata": {
    "collapsed": true
   },
   "outputs": [],
   "source": [
    "from __future__ import division\n",
    "from collections import Counter, defaultdict\n",
    "from functools import partial\n",
    "import math, random"
   ]
  },
  {
   "cell_type": "code",
   "execution_count": 47,
   "metadata": {
    "collapsed": true
   },
   "outputs": [],
   "source": [
    "def entropy(class_probabilities):\n",
    "    \"\"\"given a list of class probabilities, compute the entropy\"\"\"\n",
    "    return sum(-p * math.log(p, 2) for p in class_probabilities if p)"
   ]
  },
  {
   "cell_type": "markdown",
   "metadata": {},
   "source": [
    "\"Our data will consist of pairs (input, label), which means that we’ll need to compute the class probabilities ourselves. Observe that we don’t actually care which label is associated with each probability, only what the probabilities are:"
   ]
  },
  {
   "cell_type": "code",
   "execution_count": 48,
   "metadata": {
    "collapsed": true
   },
   "outputs": [],
   "source": [
    "def class_probabilities(labels):\n",
    "    total_count = len(labels)\n",
    "    return [count/total_count for count in Counter(labels).values()]\n",
    "\n",
    "def data_entropy(labeled_data):        \n",
    "    labels = [label for _, label in labeled_data]\n",
    "    probabilities = class_probabilities(labels)\n",
    "    return entropy(probabilities)"
   ]
  },
  {
   "cell_type": "markdown",
   "metadata": {},
   "source": [
    "## 3.  The Entropy of a Partition <a name=\"3\"></a>\n",
    "[Back to Table of Contents](#TOC)\n",
    "\n",
    "\"What we’ve done so far is compute the entropy (think 'uncertainty') of a single set of labeled data. Now, each stage of a decision tree involves asking a question whose answer partitions data into one or (hopefully) more subsets. For instance, our 'does it have more than five legs?' question partitions animals into those who have more than five legs (e.g., spiders) and those that don’t (e.g., echidnas).\n",
    "\n",
    "Correspondingly, we’d like some notion of the entropy that results from partitioning a set of data in a certain way. We want a partition to have low entropy if it splits the data into subsets that themselves have low entropy (i.e., are highly certain), and high entropy if it contains subsets that (are large and) have high entropy (i.e., are highly uncertain).\n",
    "\n",
    "For example, my 'Australian five-cent coin' question was pretty dumb (albeit pretty lucky!), as it partitioned the remaining animals at that point into $S_1$ = {echidna} and $S_2$ = {everything else}, where $S_2$ is both large and high-entropy. ($S_1$ has no entropy but it represents a small fraction of the remaining 'classes.')  \n",
    "\n",
    "Mathematically, if we partition our data $S$ into subsets $S_1, \\dots , S_m$ containing proportions $q_1, \\dots , q_m$ of the data, then we compute the entropy of the partition as a weighted sum: \n",
    "\n",
    "\\begin{equation}\n",
    "H = q_1H(S_1) + \\dots + q_mH(S_m)\n",
    "\\end{equation}\n",
    "\n",
    "which we can implement as:"
   ]
  },
  {
   "cell_type": "code",
   "execution_count": 53,
   "metadata": {
    "collapsed": false
   },
   "outputs": [
    {
     "name": "stdout",
     "output_type": "stream",
     "text": [
      "\n"
     ]
    }
   ],
   "source": [
    "def partition_entropy(subsets):\n",
    "    \"\"\"find the entropy from this partition of data into subsets\"\"\"\n",
    "    total_count = sum(len(subset) for subset in subsets)    \n",
    "    return sum(data_entropy(subset)*len(subset)/total_count for subset in subsets )"
   ]
  },
  {
   "cell_type": "markdown",
   "metadata": {},
   "source": [
    "\"One problem with this approach is that partitioning by an attribute with many different values will result in a very low entropy due to overfitting. For example, imagine you work for a bank and are trying to build a decision tree to predict which of your customers are likely to default on their mortgages, using some historical data as your training set. Imagine further that the data set contains each customer’s Social Security number. Partitioning on SSN will produce one-person subsets, each of which necessarily has zero entropy. But a model that relies on SSN is certain not to generalize beyond the training set. For this reason, you should probably try to avoid (or bucket, if appropriate) attributes with large numbers of possible values when creating decision trees.\""
   ]
  },
  {
   "cell_type": "markdown",
   "metadata": {},
   "source": [
    "## 4.  Creating a Decision Tree <a name=\"4\"></a>\n",
    "[Back to Table of Contents](#TOC)\n",
    "\n",
    "\"The VP provides you with the interviewee data, consisting of (per your specification) pairs (input, label), where each input is a *dict* of candidate attributes, and each label is either True (the candidate interviewed well) or False (the candidate inter‐viewed poorly). In particular, you are provided with each candidate’s level, her preferred language, whether she is active on Twitter, and whether she has a PhD:"
   ]
  },
  {
   "cell_type": "code",
   "execution_count": 49,
   "metadata": {
    "collapsed": true
   },
   "outputs": [],
   "source": [
    "inputs = [\n",
    "          ({'level':'Senior','lang':'Java','tweets':'no','phd':'no'},   False),\n",
    "          ({'level':'Senior','lang':'Java','tweets':'no','phd':'yes'},  False),\n",
    "          ({'level':'Mid','lang':'Python','tweets':'no','phd':'no'},     True),\n",
    "          ({'level':'Junior','lang':'Python','tweets':'no','phd':'no'},  True),\n",
    "          ({'level':'Junior','lang':'R','tweets':'yes','phd':'no'},      True),\n",
    "          ({'level':'Junior','lang':'R','tweets':'yes','phd':'yes'},    False),\n",
    "          ({'level':'Mid','lang':'R','tweets':'yes','phd':'yes'},        True),\n",
    "          ({'level':'Senior','lang':'Python','tweets':'no','phd':'no'}, False),\n",
    "          ({'level':'Senior','lang':'R','tweets':'yes','phd':'no'},      True),\n",
    "          ({'level':'Junior','lang':'Python','tweets':'yes','phd':'no'}, True),\n",
    "          ({'level':'Senior','lang':'Python','tweets':'yes','phd':'yes'},True),\n",
    "          ({'level':'Mid','lang':'Python','tweets':'no','phd':'yes'},    True),\n",
    "          ({'level':'Mid','lang':'Java','tweets':'yes','phd':'no'},      True),\n",
    "          ({'level':'Junior','lang':'Python','tweets':'no','phd':'yes'},False)\n",
    "         ]"
   ]
  },
  {
   "cell_type": "markdown",
   "metadata": {},
   "source": [
    "\"Our tree will consist of *decision nodes* (which ask a question and direct us differently depending on the answer) and *leaf nodes* (which give us a prediction). We will build it using the relatively simple ID3 algorithm, which operates in the following manner.  Let’s say we’re given some labeled data, and a list of attributes to consider branching on.\n",
    "\n",
    "- If the data all have the same label, then create a leaf node that predicts that label and then stop.\n",
    "- If the list of attributes is empty (i.e., there are no more possible questions to ask), then create a leaf node that predicts the most common label and then stop.\n",
    "- Otherwise, try partitioning the data by each of the attributes\n",
    "- Choose the partition with the lowest partition entropy\n",
    "- Add a decision node based on the chosen attribute\n",
    "- Recur on each partitioned subset using the remaining attributes\n",
    "\n",
    "This is what’s known as a 'greedy' algorithm because, at each step, it chooses the most immediately best option. Given a data set, there may be a better tree with a worse-looking first move. If so, this algorithm won’t find it. Nonetheless, it is relatively easy to understand and implement, which makes it a good place to begin exploring decision trees.\n",
    "\n",
    "Let’s manually go through these steps on the interviewee data set. The data set has both `True` and `False` labels, and we have four attributes we can split on. So our first step will be to find the partition with the least entropy. We’ll start by writing a function that does the partitioning:"
   ]
  },
  {
   "cell_type": "code",
   "execution_count": 50,
   "metadata": {
    "collapsed": true
   },
   "outputs": [],
   "source": [
    "def group_by(items, key_fn):\n",
    "    \"\"\"returns a defaultdict(list), where each input item \n",
    "    is in the list whose key is key_fn(item)\"\"\"\n",
    "    groups = defaultdict(list)\n",
    "    for item in items:\n",
    "        key = key_fn(item)\n",
    "        groups[key].append(item)\n",
    "    return groups\n",
    "    \n",
    "def partition_by(inputs, attribute):\n",
    "    \"\"\"returns a dict of inputs partitioned by the attribute\n",
    "    each input is a pair (attribute_dict, label)\"\"\"\n",
    "    return group_by(inputs, lambda x: x[0][attribute]) "
   ]
  },
  {
   "cell_type": "markdown",
   "metadata": {},
   "source": [
    "\"and one that uses it to compute entropy:"
   ]
  },
  {
   "cell_type": "code",
   "execution_count": 54,
   "metadata": {
    "collapsed": true
   },
   "outputs": [],
   "source": [
    "def partition_entropy_by(inputs, attribute):\n",
    "    \"\"\"computes the entropy corresponding to the given partition\"\"\"        \n",
    "    partitions = partition_by(inputs, attribute)\n",
    "    return partition_entropy(partitions.values())"
   ]
  },
  {
   "cell_type": "markdown",
   "metadata": {},
   "source": [
    "\"Then we just need to find the minimum-entropy partition for the whole data set:"
   ]
  },
  {
   "cell_type": "code",
   "execution_count": 55,
   "metadata": {
    "collapsed": false
   },
   "outputs": [
    {
     "name": "stdout",
     "output_type": "stream",
     "text": [
      "level 0.693536138896\n",
      "lang 0.860131712855\n",
      "tweets 0.788450457308\n",
      "phd 0.892158928262\n"
     ]
    }
   ],
   "source": [
    "for key in['level','lang','tweets','phd']:\n",
    "    print key, partition_entropy_by(inputs, key)"
   ]
  },
  {
   "cell_type": "markdown",
   "metadata": {},
   "source": [
    "> level 0.693536138896  \n",
    "> lang 0.860131712855  \n",
    "> tweets 0.788450457308  \n",
    "> phd 0.892158928262  "
   ]
  },
  {
   "cell_type": "markdown",
   "metadata": {},
   "source": [
    "\"The lowest entropy comes from splitting on level, so we’ll need to make a subtree for each possible level value. Every Mid candidate is labeled True, which means that the Mid subtree is simply a leaf node predicting True. For Senior candidates, we have a mix of Trues and Falses, so we need to split again:"
   ]
  },
  {
   "cell_type": "code",
   "execution_count": 56,
   "metadata": {
    "collapsed": false
   },
   "outputs": [
    {
     "name": "stdout",
     "output_type": "stream",
     "text": [
      "lang 0.4\n",
      "tweets 0.0\n",
      "phd 0.950977500433\n"
     ]
    }
   ],
   "source": [
    "senior_inputs = [(input, label) for input, label in inputs if input[\"level\"] == \"Senior\"]\n",
    "\n",
    "for key in ['lang', 'tweets', 'phd']:\n",
    "    print key, partition_entropy_by(senior_inputs, key)"
   ]
  },
  {
   "cell_type": "markdown",
   "metadata": {},
   "source": [
    "> lang 0.4  \n",
    "> tweets 0.0  \n",
    "> phd 0.950977500433 "
   ]
  },
  {
   "cell_type": "markdown",
   "metadata": {},
   "source": [
    "\"This shows us that our next split should be on tweets, which results in a zero-entropy partition. For these Senior-level candidates, 'yes' tweets always result in True while 'no' tweets always result in False.\n",
    "\n",
    "Finally, if we do the same thing for the Junior candidates, we end up splitting on phd, after which we find that no PhD always results in True and PhD always results in False.\"\n",
    "\n",
    "<img src=\"https://dl.dropbox.com/s/sglzar089hb5rfg/DecisionTreeHiring.png\" width=\"600\" height=\"600\" />"
   ]
  },
  {
   "cell_type": "markdown",
   "metadata": {},
   "source": [
    "## 5.  Putting It All Together <a name=\"5\"></a>\n",
    "[Back to Table of Contents](#TOC)\n",
    "\n",
    "\"Now that we’ve seen how the algorithm works, we would like to implement it more generally. This means we need to decide how we want to represent trees. We’ll use pretty much the most lightweight representation possible. We define a *tree* to be one of the following:\n",
    "\n",
    "- `True`\n",
    "- `False`\n",
    "- `a tuple (attribute, subtree_dict)`\n",
    "\n",
    "Here `True` represents a leaf node that returns `True` for any input, `False` represents a leaf node that returns False for any input, and a tuple represents a decision node that, for any input, finds its `attribute` value, and classifies the input using the corresponding subtree.  With this representation, our hiring tree would look like:\n",
    "\n",
    "`('level',  \n",
    "  {'Junior':('phd',{'no':True,'yes':False}),  \n",
    "   'Mid': True,  \n",
    "   'Senior':('tweets',{'no':False,'yes':True})})`  \n",
    "\n",
    "There’s still the question of what to do if we encounter an unexpected (or missing) attribute value. What should our hiring tree do if it encounters a candidate whose `level` is “Intern”? We’ll handle this case by adding a `None` key that just predicts the most common label. (Although this would be a bad idea if `None` is actually a value that appears in the data.)\n",
    "\n",
    "Given such a representation, we can classify an input with:"
   ]
  },
  {
   "cell_type": "code",
   "execution_count": 57,
   "metadata": {
    "collapsed": false
   },
   "outputs": [],
   "source": [
    "def classify(tree, input):\n",
    "    \"\"\"classify the input using the given decision tree\"\"\"\n",
    "    \n",
    "    # if this is a leaf node, return its value\n",
    "    if tree in [True, False]:\n",
    "        return tree\n",
    "   \n",
    "    # otherwise find the correct subtree\n",
    "    attribute, subtree_dict = tree\n",
    "    \n",
    "    subtree_key = input.get(attribute)  # None if input is missing attribute\n",
    "\n",
    "    if subtree_key not in subtree_dict: # if no subtree for key,\n",
    "        subtree_key = None              # we'll use the None subtree\n",
    "    \n",
    "    subtree = subtree_dict[subtree_key] # choose the appropriate subtree\n",
    "    return classify(subtree, input)     # and use it to classify the input"
   ]
  },
  {
   "cell_type": "markdown",
   "metadata": {},
   "source": [
    "\"All that’s left is to build the tree representation from our training data:"
   ]
  },
  {
   "cell_type": "code",
   "execution_count": 58,
   "metadata": {
    "collapsed": false
   },
   "outputs": [
    {
     "name": "stdout",
     "output_type": "stream",
     "text": [
      "building the tree\n",
      "('level', {None: True, 'Senior': ('tweets', {'yes': True, None: False, 'no': False}), 'Mid': True, 'Junior': ('phd', {'yes': False, None: True, 'no': True})})\n"
     ]
    }
   ],
   "source": [
    "def build_tree_id3(inputs, split_candidates=None):\n",
    "\n",
    "    # if this is our first pass, \n",
    "    # all keys of the first input are split candidates\n",
    "    if split_candidates is None:\n",
    "        split_candidates = inputs[0][0].keys()\n",
    "\n",
    "    # count Trues and Falses in the inputs\n",
    "    num_inputs = len(inputs)\n",
    "    num_trues = len([label for item, label in inputs if label])\n",
    "    num_falses = num_inputs - num_trues\n",
    "    \n",
    "    if num_trues == 0:                  # if only Falses are left\n",
    "        return False                    # return a \"False\" leaf\n",
    "        \n",
    "    if num_falses == 0:                 # if only Trues are left\n",
    "        return True                     # return a \"True\" leaf\n",
    "\n",
    "    if not split_candidates:            # if no split candidates left\n",
    "        return num_trues >= num_falses  # return the majority leaf\n",
    "                            \n",
    "    # otherwise, split on the best attribute\n",
    "    best_attribute = min(split_candidates,\n",
    "        key=partial(partition_entropy_by, inputs))\n",
    "\n",
    "    partitions = partition_by(inputs, best_attribute)\n",
    "    new_candidates = [a for a in split_candidates \n",
    "                      if a != best_attribute]\n",
    "    \n",
    "    # recursively build the subtrees\n",
    "    subtrees = { attribute : build_tree_id3(subset, new_candidates)\n",
    "                 for attribute, subset in partitions.iteritems() }\n",
    "\n",
    "    subtrees[None] = num_trues > num_falses # default case\n",
    "\n",
    "    return (best_attribute, subtrees)\n",
    "\n",
    "print \"building the tree\"\n",
    "tree = build_tree_id3(inputs)\n",
    "print tree"
   ]
  },
  {
   "cell_type": "markdown",
   "metadata": {},
   "source": [
    "\"In the tree we built, every leaf consisted entirely of `True` inputs or entirely of `False` inputs. This means that the tree predicts perfectly on the training data set. But we can also apply it to new data that wasn’t in the training set:"
   ]
  },
  {
   "cell_type": "code",
   "execution_count": 59,
   "metadata": {
    "collapsed": false
   },
   "outputs": [
    {
     "name": "stdout",
     "output_type": "stream",
     "text": [
      "Junior / Java / tweets / no phd:  True\n",
      "Junior / Java / tweets / phd:  False\n"
     ]
    }
   ],
   "source": [
    "print ( \"Junior / Java / tweets / no phd: \" ) , classify(tree, \n",
    "     {\"level\" : \"Junior\", \n",
    "      \"lang\" : \"Java\", \n",
    "      \"tweets\" : \"yes\", \n",
    "      \"phd\" : \"no\"})  \n",
    "\n",
    "print ( \"Junior / Java / tweets / phd: \" ) , classify(tree, \n",
    "    {\"level\" : \"Junior\", \n",
    "     \"lang\" : \"Java\", \n",
    "     \"tweets\" : \"yes\", \n",
    "     \"phd\" : \"yes\"})"
   ]
  },
  {
   "cell_type": "markdown",
   "metadata": {},
   "source": [
    "\"And also to data with missing or unexpected values:"
   ]
  },
  {
   "cell_type": "code",
   "execution_count": 60,
   "metadata": {
    "collapsed": false
   },
   "outputs": [
    {
     "name": "stdout",
     "output_type": "stream",
     "text": [
      "Intern:  True\n",
      "Senior:  False\n"
     ]
    }
   ],
   "source": [
    "print \"Intern: \", classify(tree, { \"level\" : \"Intern\" } )\n",
    "print \"Senior: \", classify(tree, { \"level\" : \"Senior\" } )"
   ]
  },
  {
   "cell_type": "markdown",
   "metadata": {},
   "source": [
    "## 6.  Random Forests <a name=\"6\"></a>\n",
    "[Back to Table of Contents](#TOC)\n",
    "\n",
    "\"Given how closely decision trees can fit themselves to their training data, it’s not surprising that they have a tendency to overfit. One way of avoiding this is a technique called *random forests*, in which we build multiple decision trees and let them vote on how to classify inputs:"
   ]
  },
  {
   "cell_type": "code",
   "execution_count": 61,
   "metadata": {
    "collapsed": true
   },
   "outputs": [],
   "source": [
    "def forest_classify(trees, input):\n",
    "    votes = [classify(tree, input) for tree in trees]\n",
    "    vote_counts = Counter(votes)\n",
    "    return vote_counts.most_common(1)[0][0]"
   ]
  },
  {
   "cell_type": "markdown",
   "metadata": {},
   "source": [
    "\"Our tree-building process was deterministic, so how do we get random trees?  One piece involves bootstrapping data (recall “Digression: The Bootstrap” on page183).  Rather than training each tree on all the inputs in the training set, we train each tree on the result of `bootstrap_sample(inputs)`. Since each tree is built using different data, each tree will be different from every other tree. (A side benefit is that it’s totally fair to use the nonsampled data to test each tree, which means you can get away with using all of your data as the training set if you are clever in how you measure performance.) This technique is known as *bootstrap aggregating* or *bagging*.  \n",
    "\n",
    "A second source of randomness involves changing the way we chose the `best_attribute` to split on. Rather than looking at all the remaining attributes, we first choose a random subset of them and then split on whichever of those is best:"
   ]
  },
  {
   "cell_type": "code",
   "execution_count": 26,
   "metadata": {
    "collapsed": false
   },
   "outputs": [],
   "source": [
    "# # if there's already few enough split candidates, look at all of them\n",
    "# if len(split_candidates) <= self.num_split_candidates:\n",
    "#     sampled_split_candidates = split_candidates    \n",
    "# # otherwise pick a random sample\n",
    "# else:\n",
    "#     sampled_split_candidates = random.sample(split_candidates, self.num_split_candidates)\n",
    "    \n",
    "# # now choose the best attribute only from those candidates\n",
    "# best_attribute = min(sampled_split_candidates, key = partial(partition_entropy_by, inputs))\n",
    "\n",
    "# partitions=partition_by(inputs, best_attribute)"
   ]
  },
  {
   "cell_type": "markdown",
   "metadata": {},
   "source": [
    "\"This is an example of a broader technique called *ensemble learning* in which we combine several weak learners (typically high-bias, low-variance models) in order to produce an overall strong model.\n",
    "\n",
    "Random forests are one of the most popular and versatile models around."
   ]
  },
  {
   "cell_type": "markdown",
   "metadata": {},
   "source": [
    "## 7.  For Further Exploration <a name=\"7\"></a>\n",
    "[Back to Table of Contents](#TOC)\n",
    "\n",
    "- scikit-learn has many [`Decision Tree`](http://bit.ly/1ycPmuq) models. It also has an [`ensemble`](http://bit.ly/1ycPom1) module that includes a `RandomForestClassifier` as well as other ensemble methods.\n",
    "- We barely scratched the surface of decision trees and their algorithms. [Wikipedia](http://bit.ly/1ycPn1j) is a good starting point for broader exploration.\""
   ]
  },
  {
   "cell_type": "markdown",
   "metadata": {},
   "source": [
    "## 8.  HW4 \n",
    "[Back to Table of Contents](#TOC)"
   ]
  },
  {
   "cell_type": "markdown",
   "metadata": {
    "collapsed": true
   },
   "source": [
    "__HW4.1 Build a decision to predict whether you can play tennis or not <a name=\"8\"></a>__\n",
    "[Back to Table of Contents](#TOC)\n",
    "\n",
    "Decision Trees\n",
    "\n",
    "Write a program in Python (or in Spark; this part is optional) to implement the ID3 decision tree algorithm. You should build a tree to predict PlayTennis, based on the other attributes (but, do not use the Day attribute in your tree.). You should read in a space delimited dataset in a file called dataset.txt and output to the screen your decision tree and the training set accuracy in some readable format. For example, here is the tennis dataset. The first line will contain the names of the fields:\n",
    "\n",
    "<PRE>\n",
    "Day outlook temperature humidity wind playtennis\n",
    "d1 sunny hot high FALSE no\n",
    "d2 sunny hot high TRUE no\n",
    "d3 overcast hot high FALSE yes\n",
    "d4 rainy mild high FALSE yes\n",
    "d5 rainy cool normal FALSE yes\n",
    "d6 rainy cool normal TRUE no\n",
    "d6 overcast cool normal TRUE yes\n",
    "d7 sunny mild high FALSE no\n",
    "d8 sunny cool normal FALSE yes\n",
    "d9 rainy mild normal FALSE yes\n",
    "d10 sunny mild normal TRUE yes\n",
    "d11 overcast mild high TRUE yes\n",
    "d12 overcast hot normal FALSE yes\n",
    "d12 rainy mild high TRUE no\n",
    "</PRE>\n",
    "\n",
    "The last column is the classification attribute, and will always contain contain the values yes or no.\n",
    "\n",
    "For output, you can choose how to draw the tree so long as it is clear what the tree is. You might find it easier if you turn the decision tree on its side, and use indentation to show levels of the tree as it grows from the left. For example:\n",
    "\n",
    "<PRE>\n",
    "outlook = sunny\n",
    "|  humidity = high: no\n",
    "|  humidity = normal: yes\n",
    "outlook = overcast: yes\n",
    "outlook = rainy\n",
    "|  windy = TRUE: no\n",
    "|  windy = FALSE: yes\n",
    "\n",
    "</PRE>\n",
    "\n",
    "You don't need to make your tree output look exactly like above: feel free to print out something similarly readable if you think it is easier to code.\n",
    "\n",
    "You may find Python dictionaries especially useful here, as they will give you a quick an easy way to help manage counting the number of times you see a particular attribute.\n",
    "\n",
    "Here are some FAQs that I've gotten in the past regarding this assignment, and some I might get if I don't answer them now.\n",
    "\n",
    "__Should my code work for other datasets besides the tennis dataset?__ \n",
    "Yes. We will give your program a different dataset to try it out with. You may assume that our dataset is correct and well-formatted, but you should not make assumptions regrading number of rows, number of columns, or values that will appear within. The last column will also be the classification, and will always contain yes or no values.\n",
    "\n",
    "__Is it possible that some value, like \"normal,\" could appear in more than one column?__\n",
    "Yes. In addition to the column \"humidity\", we might have had another column called \"skycolor\" which could have values \"normal,\" \"weird,\" and \"bizarre.\"\n",
    "\n",
    "__Could \"yes\" and \"no\" appear as possible values in columns other than the classification column?__\n",
    "Yes. In addition to the classification column \"playtennis,\" we might have had another column called \"seasonalweather\" which would contain \"yes\" and \"no.\""
   ]
  },
  {
   "cell_type": "code",
   "execution_count": 51,
   "metadata": {
    "collapsed": false
   },
   "outputs": [
    {
     "name": "stdout",
     "output_type": "stream",
     "text": [
      "Writing dataset.txt\n"
     ]
    }
   ],
   "source": [
    "%%writefile dataset.txt\n",
    "\n",
    "Day outlook temperature humidity wind playtennis\n",
    "d1 sunny hot high FALSE no\n",
    "d2 sunny hot high TRUE no\n",
    "d3 overcast hot high FALSE yes\n",
    "d4 rainy mild high FALSE yes\n",
    "d5 rainy cool normal FALSE yes\n",
    "d6 rainy cool normal TRUE no\n",
    "d6 overcast cool normal TRUE yes\n",
    "d7 sunny mild high FALSE no\n",
    "d8 sunny cool normal FALSE yes\n",
    "d9 rainy mild normal FALSE yes\n",
    "d10 sunny mild normal TRUE yes\n",
    "d11 overcast mild high TRUE yes\n",
    "d12 overcast hot normal FALSE yes\n",
    "d12 rainy mild high TRUE no"
   ]
  },
  {
   "cell_type": "code",
   "execution_count": 52,
   "metadata": {
    "collapsed": false
   },
   "outputs": [
    {
     "name": "stdout",
     "output_type": "stream",
     "text": [
      "\r\n",
      "Day outlook temperature humidity wind playtennis\r\n",
      "d1 sunny hot high FALSE no\r\n",
      "d2 sunny hot high TRUE no\r\n",
      "d3 overcast hot high FALSE yes\r\n",
      "d4 rainy mild high FALSE yes\r\n",
      "d5 rainy cool normal FALSE yes\r\n",
      "d6 rainy cool normal TRUE no\r\n",
      "d6 overcast cool normal TRUE yes\r\n",
      "d7 sunny mild high FALSE no\r\n",
      "d8 sunny cool normal FALSE yes\r\n",
      "d9 rainy mild normal FALSE yes\r\n",
      "d10 sunny mild normal TRUE yes\r\n",
      "d11 overcast mild high TRUE yes\r\n",
      "d12 overcast hot normal FALSE yes\r\n",
      "d12 rainy mild high TRUE no"
     ]
    }
   ],
   "source": [
    "!cat dataset.txt"
   ]
  },
  {
   "cell_type": "code",
   "execution_count": null,
   "metadata": {
    "collapsed": true
   },
   "outputs": [],
   "source": [
    "def group_by(items, key_fn):\n",
    "    \"\"\"returns a defaultdict(list), where each input item \n",
    "    is in the list whose key is key_fn(item)\"\"\"\n",
    "    groups = defaultdict(list)\n",
    "    for item in items:\n",
    "        key = key_fn(item)\n",
    "        groups[key].append(item)\n",
    "    return groups\n",
    "    \n",
    "def partition_by(inputs, attribute):\n",
    "    \"\"\"returns a dict of inputs partitioned by the attribute\n",
    "    each input is a pair (attribute_dict, label)\"\"\"\n",
    "    return group_by(inputs, lambda x: x[0][attribute]) "
   ]
  },
  {
   "cell_type": "markdown",
   "metadata": {},
   "source": [
    "__ HW4.1.1 What is the classification accuracy of the tree on the training data?__\n"
   ]
  },
  {
   "cell_type": "code",
   "execution_count": null,
   "metadata": {
    "collapsed": true
   },
   "outputs": [],
   "source": []
  },
  {
   "cell_type": "markdown",
   "metadata": {},
   "source": [
    "__HW4.1.2  Is it possible to produce some set of correct training examples that will get the algorihtm\n",
    "to include the attribute Temperature in the learned tree, even though the true target concept is\n",
    "independent of Temperature? if no, explain. If yes, give such a set. __"
   ]
  },
  {
   "cell_type": "code",
   "execution_count": null,
   "metadata": {
    "collapsed": true
   },
   "outputs": [],
   "source": []
  },
  {
   "cell_type": "markdown",
   "metadata": {},
   "source": [
    "__HW4.1.3  Now, build a tree using only examples D1–D7. What is the classification accuracy for the\n",
    "training set? what is the accuracy for the test set (examples D8–D14)? explain why you think these\n",
    "are the results.__"
   ]
  },
  {
   "cell_type": "code",
   "execution_count": null,
   "metadata": {
    "collapsed": true
   },
   "outputs": [],
   "source": []
  },
  {
   "cell_type": "markdown",
   "metadata": {},
   "source": [
    "__HW4.1.4 In this case, and others, there are only a few labelled examples available for training (that\n",
    "is, no additional data is available for testing or validation). Suggest a concrete pruning strategy, that\n",
    "can be readily embedded in the algorithm, to avoid over fitting. Explain why you think this strategy\n",
    "should work.__"
   ]
  },
  {
   "cell_type": "code",
   "execution_count": null,
   "metadata": {
    "collapsed": true
   },
   "outputs": [],
   "source": []
  },
  {
   "cell_type": "markdown",
   "metadata": {},
   "source": [
    "## HW4.2 Regression Tree (OPTIONAL Homework) \n",
    "[Back to Table of Contents](#TOC)\n",
    "Implement a decision tree algorithm for regression for two input continous variables and one categorical input variable on a single core computer using Python. \n",
    "\n",
    "- Use the IRIS dataset to evaluate your code, where the input variables are: Petal.Length Petal.Width  Species  and the target or output variable is  Sepal.Length. \n",
    "- Use the same dataset to train and test your implementation. \n",
    "- Stop expanding nodes once you have less than ten (10) examples (along with the usual stopping criteria). \n",
    "- Report the mean squared error for your implementation and contrast that with the MSE from scikit-learn's implementation on this dataset (http://scikit-learn.org/stable/modules/generated/sklearn.tree.DecisionTreeRegressor.html)\n"
   ]
  },
  {
   "cell_type": "code",
   "execution_count": 31,
   "metadata": {
    "collapsed": false
   },
   "outputs": [],
   "source": [
    "## HW4.3 Predict survival on the Titanic using Python (Logistic regression, SVMs, Random Forests)\n",
    "# https://www.kaggle.com/c/titanic"
   ]
  },
  {
   "cell_type": "code",
   "execution_count": 92,
   "metadata": {
    "collapsed": false
   },
   "outputs": [
    {
     "name": "stdout",
     "output_type": "stream",
     "text": [
      "<class 'pyspark.rdd.RDD'>\n",
      "<class 'pyspark.rdd.PipelinedRDD'>\n"
     ]
    },
    {
     "data": {
      "text/plain": [
       "['1,0,3,\"Braund, Mr. Owen Harris\",male,22,1,0,A/5 21171,7.25,,S',\n",
       " '2,1,1,\"Cumings, Mrs. John Bradley (Florence Briggs Thayer)\",female,38,1,0,PC 17599,71.2833,C85,C',\n",
       " '3,1,3,\"Heikkinen, Miss. Laina\",female,26,0,0,STON/O2. 3101282,7.925,,S',\n",
       " '4,1,1,\"Futrelle, Mrs. Jacques Heath (Lily May Peel)\",female,35,1,0,113803,53.1,C123,S',\n",
       " '5,0,3,\"Allen, Mr. William Henry\",male,35,0,0,373450,8.05,,S',\n",
       " '6,0,3,\"Moran, Mr. James\",male,,0,0,330877,8.4583,,Q',\n",
       " '7,0,1,\"McCarthy, Mr. Timothy J\",male,54,0,0,17463,51.8625,E46,S',\n",
       " '8,0,3,\"Palsson, Master. Gosta Leonard\",male,2,3,1,349909,21.075,,S',\n",
       " '9,1,3,\"Johnson, Mrs. Oscar W (Elisabeth Vilhelmina Berg)\",female,27,0,2,347742,11.1333,,S',\n",
       " '10,1,2,\"Nasser, Mrs. Nicholas (Adele Achem)\",female,14,1,0,237736,30.0708,,C',\n",
       " '11,1,3,\"Sandstrom, Miss. Marguerite Rut\",female,4,1,1,PP 9549,16.7,G6,S',\n",
       " '12,1,1,\"Bonnell, Miss. Elizabeth\",female,58,0,0,113783,26.55,C103,S',\n",
       " '13,0,3,\"Saundercock, Mr. William Henry\",male,20,0,0,A/5. 2151,8.05,,S',\n",
       " '14,0,3,\"Andersson, Mr. Anders Johan\",male,39,1,5,347082,31.275,,S',\n",
       " '15,0,3,\"Vestrom, Miss. Hulda Amanda Adolfina\",female,14,0,0,350406,7.8542,,S',\n",
       " '16,1,2,\"Hewlett, Mrs. (Mary D Kingcome) \",female,55,0,0,248706,16,,S',\n",
       " '17,0,3,\"Rice, Master. Eugene\",male,2,4,1,382652,29.125,,Q',\n",
       " '18,1,2,\"Williams, Mr. Charles Eugene\",male,,0,0,244373,13,,S',\n",
       " '19,0,3,\"Vander Planke, Mrs. Julius (Emelia Maria Vandemoortele)\",female,31,1,0,345763,18,,S',\n",
       " '20,1,3,\"Masselmani, Mrs. Fatima\",female,,0,0,2649,7.225,,C',\n",
       " '21,0,2,\"Fynney, Mr. Joseph J\",male,35,0,0,239865,26,,S',\n",
       " '22,1,2,\"Beesley, Mr. Lawrence\",male,34,0,0,248698,13,D56,S',\n",
       " '23,1,3,\"McGowan, Miss. Anna \"\"Annie\"\"\",female,15,0,0,330923,8.0292,,Q',\n",
       " '24,1,1,\"Sloper, Mr. William Thompson\",male,28,0,0,113788,35.5,A6,S',\n",
       " '25,0,3,\"Palsson, Miss. Torborg Danira\",female,8,3,1,349909,21.075,,S',\n",
       " '26,1,3,\"Asplund, Mrs. Carl Oscar (Selma Augusta Emilia Johansson)\",female,38,1,5,347077,31.3875,,S',\n",
       " '27,0,3,\"Emir, Mr. Farred Chehab\",male,,0,0,2631,7.225,,C',\n",
       " '28,0,1,\"Fortune, Mr. Charles Alexander\",male,19,3,2,19950,263,C23 C25 C27,S',\n",
       " '29,1,3,\"O\\'Dwyer, Miss. Ellen \"\"Nellie\"\"\",female,,0,0,330959,7.8792,,Q',\n",
       " '30,0,3,\"Todoroff, Mr. Lalio\",male,,0,0,349216,7.8958,,S',\n",
       " '31,0,1,\"Uruchurtu, Don. Manuel E\",male,40,0,0,PC 17601,27.7208,,C',\n",
       " '32,1,1,\"Spencer, Mrs. William Augustus (Marie Eugenie)\",female,,1,0,PC 17569,146.5208,B78,C',\n",
       " '33,1,3,\"Glynn, Miss. Mary Agatha\",female,,0,0,335677,7.75,,Q',\n",
       " '34,0,2,\"Wheadon, Mr. Edward H\",male,66,0,0,C.A. 24579,10.5,,S',\n",
       " '35,0,1,\"Meyer, Mr. Edgar Joseph\",male,28,1,0,PC 17604,82.1708,,C',\n",
       " '36,0,1,\"Holverson, Mr. Alexander Oskar\",male,42,1,0,113789,52,,S',\n",
       " '37,1,3,\"Mamee, Mr. Hanna\",male,,0,0,2677,7.2292,,C',\n",
       " '38,0,3,\"Cann, Mr. Ernest Charles\",male,21,0,0,A./5. 2152,8.05,,S',\n",
       " '39,0,3,\"Vander Planke, Miss. Augusta Maria\",female,18,2,0,345764,18,,S',\n",
       " '40,1,3,\"Nicola-Yarred, Miss. Jamila\",female,14,1,0,2651,11.2417,,C',\n",
       " '41,0,3,\"Ahlin, Mrs. Johan (Johanna Persdotter Larsson)\",female,40,1,0,7546,9.475,,S',\n",
       " '42,0,2,\"Turpin, Mrs. William John Robert (Dorothy Ann Wonnacott)\",female,27,1,0,11668,21,,S',\n",
       " '43,0,3,\"Kraeff, Mr. Theodor\",male,,0,0,349253,7.8958,,C',\n",
       " '44,1,2,\"Laroche, Miss. Simonne Marie Anne Andree\",female,3,1,2,SC/Paris 2123,41.5792,,C',\n",
       " '45,1,3,\"Devaney, Miss. Margaret Delia\",female,19,0,0,330958,7.8792,,Q',\n",
       " '46,0,3,\"Rogers, Mr. William John\",male,,0,0,S.C./A.4. 23567,8.05,,S',\n",
       " '47,0,3,\"Lennon, Mr. Denis\",male,,1,0,370371,15.5,,Q',\n",
       " '48,1,3,\"O\\'Driscoll, Miss. Bridget\",female,,0,0,14311,7.75,,Q',\n",
       " '49,0,3,\"Samaan, Mr. Youssef\",male,,2,0,2662,21.6792,,C',\n",
       " '50,0,3,\"Arnold-Franchi, Mrs. Josef (Josefine Franchi)\",female,18,1,0,349237,17.8,,S',\n",
       " '51,0,3,\"Panula, Master. Juha Niilo\",male,7,4,1,3101295,39.6875,,S',\n",
       " '52,0,3,\"Nosworthy, Mr. Richard Cater\",male,21,0,0,A/4. 39886,7.8,,S',\n",
       " '53,1,1,\"Harper, Mrs. Henry Sleeper (Myna Haxtun)\",female,49,1,0,PC 17572,76.7292,D33,C',\n",
       " '54,1,2,\"Faunthorpe, Mrs. Lizzie (Elizabeth Anne Wilkinson)\",female,29,1,0,2926,26,,S',\n",
       " '55,0,1,\"Ostby, Mr. Engelhart Cornelius\",male,65,0,1,113509,61.9792,B30,C',\n",
       " '56,1,1,\"Woolner, Mr. Hugh\",male,,0,0,19947,35.5,C52,S',\n",
       " '57,1,2,\"Rugg, Miss. Emily\",female,21,0,0,C.A. 31026,10.5,,S',\n",
       " '58,0,3,\"Novel, Mr. Mansouer\",male,28.5,0,0,2697,7.2292,,C',\n",
       " '59,1,2,\"West, Miss. Constance Mirium\",female,5,1,2,C.A. 34651,27.75,,S',\n",
       " '60,0,3,\"Goodwin, Master. William Frederick\",male,11,5,2,CA 2144,46.9,,S',\n",
       " '61,0,3,\"Sirayanian, Mr. Orsen\",male,22,0,0,2669,7.2292,,C',\n",
       " '62,1,1,\"Icard, Miss. Amelie\",female,38,0,0,113572,80,B28,',\n",
       " '63,0,1,\"Harris, Mr. Henry Birkhardt\",male,45,1,0,36973,83.475,C83,S',\n",
       " '64,0,3,\"Skoog, Master. Harald\",male,4,3,2,347088,27.9,,S',\n",
       " '65,0,1,\"Stewart, Mr. Albert A\",male,,0,0,PC 17605,27.7208,,C',\n",
       " '66,1,3,\"Moubarek, Master. Gerios\",male,,1,1,2661,15.2458,,C',\n",
       " '67,1,2,\"Nye, Mrs. (Elizabeth Ramell)\",female,29,0,0,C.A. 29395,10.5,F33,S',\n",
       " '68,0,3,\"Crease, Mr. Ernest James\",male,19,0,0,S.P. 3464,8.1583,,S',\n",
       " '69,1,3,\"Andersson, Miss. Erna Alexandra\",female,17,4,2,3101281,7.925,,S',\n",
       " '70,0,3,\"Kink, Mr. Vincenz\",male,26,2,0,315151,8.6625,,S',\n",
       " '71,0,2,\"Jenkin, Mr. Stephen Curnow\",male,32,0,0,C.A. 33111,10.5,,S',\n",
       " '72,0,3,\"Goodwin, Miss. Lillian Amy\",female,16,5,2,CA 2144,46.9,,S',\n",
       " '73,0,2,\"Hood, Mr. Ambrose Jr\",male,21,0,0,S.O.C. 14879,73.5,,S',\n",
       " '74,0,3,\"Chronopoulos, Mr. Apostolos\",male,26,1,0,2680,14.4542,,C',\n",
       " '75,1,3,\"Bing, Mr. Lee\",male,32,0,0,1601,56.4958,,S',\n",
       " '76,0,3,\"Moen, Mr. Sigurd Hansen\",male,25,0,0,348123,7.65,F G73,S',\n",
       " '77,0,3,\"Staneff, Mr. Ivan\",male,,0,0,349208,7.8958,,S',\n",
       " '78,0,3,\"Moutal, Mr. Rahamin Haim\",male,,0,0,374746,8.05,,S',\n",
       " '79,1,2,\"Caldwell, Master. Alden Gates\",male,0.83,0,2,248738,29,,S',\n",
       " '80,1,3,\"Dowdell, Miss. Elizabeth\",female,30,0,0,364516,12.475,,S',\n",
       " '81,0,3,\"Waelens, Mr. Achille\",male,22,0,0,345767,9,,S',\n",
       " '82,1,3,\"Sheerlinck, Mr. Jan Baptist\",male,29,0,0,345779,9.5,,S',\n",
       " '83,1,3,\"McDermott, Miss. Brigdet Delia\",female,,0,0,330932,7.7875,,Q',\n",
       " '84,0,1,\"Carrau, Mr. Francisco M\",male,28,0,0,113059,47.1,,S',\n",
       " '85,1,2,\"Ilett, Miss. Bertha\",female,17,0,0,SO/C 14885,10.5,,S',\n",
       " '86,1,3,\"Backstrom, Mrs. Karl Alfred (Maria Mathilda Gustafsson)\",female,33,3,0,3101278,15.85,,S',\n",
       " '87,0,3,\"Ford, Mr. William Neal\",male,16,1,3,W./C. 6608,34.375,,S',\n",
       " '88,0,3,\"Slocovski, Mr. Selman Francis\",male,,0,0,SOTON/OQ 392086,8.05,,S',\n",
       " '89,1,1,\"Fortune, Miss. Mabel Helen\",female,23,3,2,19950,263,C23 C25 C27,S',\n",
       " '90,0,3,\"Celotti, Mr. Francesco\",male,24,0,0,343275,8.05,,S',\n",
       " '91,0,3,\"Christmann, Mr. Emil\",male,29,0,0,343276,8.05,,S',\n",
       " '92,0,3,\"Andreasson, Mr. Paul Edvin\",male,20,0,0,347466,7.8542,,S',\n",
       " '93,0,1,\"Chaffee, Mr. Herbert Fuller\",male,46,1,0,W.E.P. 5734,61.175,E31,S',\n",
       " '94,0,3,\"Dean, Mr. Bertram Frank\",male,26,1,2,C.A. 2315,20.575,,S',\n",
       " '95,0,3,\"Coxon, Mr. Daniel\",male,59,0,0,364500,7.25,,S',\n",
       " '96,0,3,\"Shorney, Mr. Charles Joseph\",male,,0,0,374910,8.05,,S',\n",
       " '97,0,1,\"Goldschmidt, Mr. George B\",male,71,0,0,PC 17754,34.6542,A5,C',\n",
       " '98,1,1,\"Greenfield, Mr. William Bertram\",male,23,0,1,PC 17759,63.3583,D10 D12,C',\n",
       " '99,1,2,\"Doling, Mrs. John T (Ada Julia Bone)\",female,34,0,1,231919,23,,S',\n",
       " '100,0,2,\"Kantor, Mr. Sinai\",male,34,1,0,244367,26,,S',\n",
       " '101,0,3,\"Petranec, Miss. Matilda\",female,28,0,0,349245,7.8958,,S',\n",
       " '102,0,3,\"Petroff, Mr. Pastcho (\"\"Pentcho\"\")\",male,,0,0,349215,7.8958,,S',\n",
       " '103,0,1,\"White, Mr. Richard Frasar\",male,21,0,1,35281,77.2875,D26,S',\n",
       " '104,0,3,\"Johansson, Mr. Gustaf Joel\",male,33,0,0,7540,8.6542,,S',\n",
       " '105,0,3,\"Gustafsson, Mr. Anders Vilhelm\",male,37,2,0,3101276,7.925,,S',\n",
       " '106,0,3,\"Mionoff, Mr. Stoytcho\",male,28,0,0,349207,7.8958,,S',\n",
       " '107,1,3,\"Salkjelsvik, Miss. Anna Kristine\",female,21,0,0,343120,7.65,,S',\n",
       " '108,1,3,\"Moss, Mr. Albert Johan\",male,,0,0,312991,7.775,,S',\n",
       " '109,0,3,\"Rekic, Mr. Tido\",male,38,0,0,349249,7.8958,,S',\n",
       " '110,1,3,\"Moran, Miss. Bertha\",female,,1,0,371110,24.15,,Q',\n",
       " '111,0,1,\"Porter, Mr. Walter Chamberlain\",male,47,0,0,110465,52,C110,S',\n",
       " '112,0,3,\"Zabour, Miss. Hileni\",female,14.5,1,0,2665,14.4542,,C',\n",
       " '113,0,3,\"Barton, Mr. David John\",male,22,0,0,324669,8.05,,S',\n",
       " '114,0,3,\"Jussila, Miss. Katriina\",female,20,1,0,4136,9.825,,S',\n",
       " '115,0,3,\"Attalah, Miss. Malake\",female,17,0,0,2627,14.4583,,C',\n",
       " '116,0,3,\"Pekoniemi, Mr. Edvard\",male,21,0,0,STON/O 2. 3101294,7.925,,S',\n",
       " '117,0,3,\"Connors, Mr. Patrick\",male,70.5,0,0,370369,7.75,,Q',\n",
       " '118,0,2,\"Turpin, Mr. William John Robert\",male,29,1,0,11668,21,,S',\n",
       " '119,0,1,\"Baxter, Mr. Quigg Edmond\",male,24,0,1,PC 17558,247.5208,B58 B60,C',\n",
       " '120,0,3,\"Andersson, Miss. Ellis Anna Maria\",female,2,4,2,347082,31.275,,S',\n",
       " '121,0,2,\"Hickman, Mr. Stanley George\",male,21,2,0,S.O.C. 14879,73.5,,S',\n",
       " '122,0,3,\"Moore, Mr. Leonard Charles\",male,,0,0,A4. 54510,8.05,,S',\n",
       " '123,0,2,\"Nasser, Mr. Nicholas\",male,32.5,1,0,237736,30.0708,,C',\n",
       " '124,1,2,\"Webber, Miss. Susan\",female,32.5,0,0,27267,13,E101,S',\n",
       " '125,0,1,\"White, Mr. Percival Wayland\",male,54,0,1,35281,77.2875,D26,S',\n",
       " '126,1,3,\"Nicola-Yarred, Master. Elias\",male,12,1,0,2651,11.2417,,C',\n",
       " '127,0,3,\"McMahon, Mr. Martin\",male,,0,0,370372,7.75,,Q',\n",
       " '128,1,3,\"Madsen, Mr. Fridtjof Arne\",male,24,0,0,C 17369,7.1417,,S',\n",
       " '129,1,3,\"Peter, Miss. Anna\",female,,1,1,2668,22.3583,F E69,C',\n",
       " '130,0,3,\"Ekstrom, Mr. Johan\",male,45,0,0,347061,6.975,,S',\n",
       " '131,0,3,\"Drazenoic, Mr. Jozef\",male,33,0,0,349241,7.8958,,C',\n",
       " '132,0,3,\"Coelho, Mr. Domingos Fernandeo\",male,20,0,0,SOTON/O.Q. 3101307,7.05,,S',\n",
       " '133,0,3,\"Robins, Mrs. Alexander A (Grace Charity Laury)\",female,47,1,0,A/5. 3337,14.5,,S',\n",
       " '134,1,2,\"Weisz, Mrs. Leopold (Mathilde Francoise Pede)\",female,29,1,0,228414,26,,S',\n",
       " '135,0,2,\"Sobey, Mr. Samuel James Hayden\",male,25,0,0,C.A. 29178,13,,S',\n",
       " '136,0,2,\"Richard, Mr. Emile\",male,23,0,0,SC/PARIS 2133,15.0458,,C',\n",
       " '137,1,1,\"Newsom, Miss. Helen Monypeny\",female,19,0,2,11752,26.2833,D47,S',\n",
       " '138,0,1,\"Futrelle, Mr. Jacques Heath\",male,37,1,0,113803,53.1,C123,S',\n",
       " '139,0,3,\"Osen, Mr. Olaf Elon\",male,16,0,0,7534,9.2167,,S',\n",
       " '140,0,1,\"Giglio, Mr. Victor\",male,24,0,0,PC 17593,79.2,B86,C',\n",
       " '141,0,3,\"Boulos, Mrs. Joseph (Sultana)\",female,,0,2,2678,15.2458,,C',\n",
       " '142,1,3,\"Nysten, Miss. Anna Sofia\",female,22,0,0,347081,7.75,,S',\n",
       " '143,1,3,\"Hakkarainen, Mrs. Pekka Pietari (Elin Matilda Dolck)\",female,24,1,0,STON/O2. 3101279,15.85,,S',\n",
       " '144,0,3,\"Burke, Mr. Jeremiah\",male,19,0,0,365222,6.75,,Q',\n",
       " '145,0,2,\"Andrew, Mr. Edgardo Samuel\",male,18,0,0,231945,11.5,,S',\n",
       " '146,0,2,\"Nicholls, Mr. Joseph Charles\",male,19,1,1,C.A. 33112,36.75,,S',\n",
       " '147,1,3,\"Andersson, Mr. August Edvard (\"\"Wennerstrom\"\")\",male,27,0,0,350043,7.7958,,S',\n",
       " '148,0,3,\"Ford, Miss. Robina Maggie \"\"Ruby\"\"\",female,9,2,2,W./C. 6608,34.375,,S',\n",
       " '149,0,2,\"Navratil, Mr. Michel (\"\"Louis M Hoffman\"\")\",male,36.5,0,2,230080,26,F2,S',\n",
       " '150,0,2,\"Byles, Rev. Thomas Roussel Davids\",male,42,0,0,244310,13,,S',\n",
       " '151,0,2,\"Bateman, Rev. Robert James\",male,51,0,0,S.O.P. 1166,12.525,,S',\n",
       " '152,1,1,\"Pears, Mrs. Thomas (Edith Wearne)\",female,22,1,0,113776,66.6,C2,S',\n",
       " '153,0,3,\"Meo, Mr. Alfonzo\",male,55.5,0,0,A.5. 11206,8.05,,S',\n",
       " '154,0,3,\"van Billiard, Mr. Austin Blyler\",male,40.5,0,2,A/5. 851,14.5,,S',\n",
       " '155,0,3,\"Olsen, Mr. Ole Martin\",male,,0,0,Fa 265302,7.3125,,S',\n",
       " '156,0,1,\"Williams, Mr. Charles Duane\",male,51,0,1,PC 17597,61.3792,,C',\n",
       " '157,1,3,\"Gilnagh, Miss. Katherine \"\"Katie\"\"\",female,16,0,0,35851,7.7333,,Q',\n",
       " '158,0,3,\"Corn, Mr. Harry\",male,30,0,0,SOTON/OQ 392090,8.05,,S',\n",
       " '159,0,3,\"Smiljanic, Mr. Mile\",male,,0,0,315037,8.6625,,S',\n",
       " '160,0,3,\"Sage, Master. Thomas Henry\",male,,8,2,CA. 2343,69.55,,S',\n",
       " '161,0,3,\"Cribb, Mr. John Hatfield\",male,44,0,1,371362,16.1,,S',\n",
       " '162,1,2,\"Watt, Mrs. James (Elizabeth \"\"Bessie\"\" Inglis Milne)\",female,40,0,0,C.A. 33595,15.75,,S',\n",
       " '163,0,3,\"Bengtsson, Mr. John Viktor\",male,26,0,0,347068,7.775,,S',\n",
       " '164,0,3,\"Calic, Mr. Jovo\",male,17,0,0,315093,8.6625,,S',\n",
       " '165,0,3,\"Panula, Master. Eino Viljami\",male,1,4,1,3101295,39.6875,,S',\n",
       " '166,1,3,\"Goldsmith, Master. Frank John William \"\"Frankie\"\"\",male,9,0,2,363291,20.525,,S',\n",
       " '167,1,1,\"Chibnall, Mrs. (Edith Martha Bowerman)\",female,,0,1,113505,55,E33,S',\n",
       " '168,0,3,\"Skoog, Mrs. William (Anna Bernhardina Karlsson)\",female,45,1,4,347088,27.9,,S',\n",
       " '169,0,1,\"Baumann, Mr. John D\",male,,0,0,PC 17318,25.925,,S',\n",
       " '170,0,3,\"Ling, Mr. Lee\",male,28,0,0,1601,56.4958,,S',\n",
       " '171,0,1,\"Van der hoef, Mr. Wyckoff\",male,61,0,0,111240,33.5,B19,S',\n",
       " '172,0,3,\"Rice, Master. Arthur\",male,4,4,1,382652,29.125,,Q',\n",
       " '173,1,3,\"Johnson, Miss. Eleanor Ileen\",female,1,1,1,347742,11.1333,,S',\n",
       " '174,0,3,\"Sivola, Mr. Antti Wilhelm\",male,21,0,0,STON/O 2. 3101280,7.925,,S',\n",
       " '175,0,1,\"Smith, Mr. James Clinch\",male,56,0,0,17764,30.6958,A7,C',\n",
       " '176,0,3,\"Klasen, Mr. Klas Albin\",male,18,1,1,350404,7.8542,,S',\n",
       " '177,0,3,\"Lefebre, Master. Henry Forbes\",male,,3,1,4133,25.4667,,S',\n",
       " '178,0,1,\"Isham, Miss. Ann Elizabeth\",female,50,0,0,PC 17595,28.7125,C49,C',\n",
       " '179,0,2,\"Hale, Mr. Reginald\",male,30,0,0,250653,13,,S',\n",
       " '180,0,3,\"Leonard, Mr. Lionel\",male,36,0,0,LINE,0,,S',\n",
       " '181,0,3,\"Sage, Miss. Constance Gladys\",female,,8,2,CA. 2343,69.55,,S',\n",
       " '182,0,2,\"Pernot, Mr. Rene\",male,,0,0,SC/PARIS 2131,15.05,,C',\n",
       " '183,0,3,\"Asplund, Master. Clarence Gustaf Hugo\",male,9,4,2,347077,31.3875,,S',\n",
       " '184,1,2,\"Becker, Master. Richard F\",male,1,2,1,230136,39,F4,S',\n",
       " '185,1,3,\"Kink-Heilmann, Miss. Luise Gretchen\",female,4,0,2,315153,22.025,,S',\n",
       " '186,0,1,\"Rood, Mr. Hugh Roscoe\",male,,0,0,113767,50,A32,S',\n",
       " '187,1,3,\"O\\'Brien, Mrs. Thomas (Johanna \"\"Hannah\"\" Godfrey)\",female,,1,0,370365,15.5,,Q',\n",
       " '188,1,1,\"Romaine, Mr. Charles Hallace (\"\"Mr C Rolmane\"\")\",male,45,0,0,111428,26.55,,S',\n",
       " '189,0,3,\"Bourke, Mr. John\",male,40,1,1,364849,15.5,,Q',\n",
       " '190,0,3,\"Turcin, Mr. Stjepan\",male,36,0,0,349247,7.8958,,S',\n",
       " '191,1,2,\"Pinsky, Mrs. (Rosa)\",female,32,0,0,234604,13,,S',\n",
       " '192,0,2,\"Carbines, Mr. William\",male,19,0,0,28424,13,,S',\n",
       " '193,1,3,\"Andersen-Jensen, Miss. Carla Christine Nielsine\",female,19,1,0,350046,7.8542,,S',\n",
       " '194,1,2,\"Navratil, Master. Michel M\",male,3,1,1,230080,26,F2,S',\n",
       " '195,1,1,\"Brown, Mrs. James Joseph (Margaret Tobin)\",female,44,0,0,PC 17610,27.7208,B4,C',\n",
       " '196,1,1,\"Lurette, Miss. Elise\",female,58,0,0,PC 17569,146.5208,B80,C',\n",
       " '197,0,3,\"Mernagh, Mr. Robert\",male,,0,0,368703,7.75,,Q',\n",
       " '198,0,3,\"Olsen, Mr. Karl Siegwart Andreas\",male,42,0,1,4579,8.4042,,S',\n",
       " '199,1,3,\"Madigan, Miss. Margaret \"\"Maggie\"\"\",female,,0,0,370370,7.75,,Q',\n",
       " '200,0,2,\"Yrois, Miss. Henriette (\"\"Mrs Harbeck\"\")\",female,24,0,0,248747,13,,S',\n",
       " '201,0,3,\"Vande Walle, Mr. Nestor Cyriel\",male,28,0,0,345770,9.5,,S',\n",
       " '202,0,3,\"Sage, Mr. Frederick\",male,,8,2,CA. 2343,69.55,,S',\n",
       " '203,0,3,\"Johanson, Mr. Jakob Alfred\",male,34,0,0,3101264,6.4958,,S',\n",
       " '204,0,3,\"Youseff, Mr. Gerious\",male,45.5,0,0,2628,7.225,,C',\n",
       " '205,1,3,\"Cohen, Mr. Gurshon \"\"Gus\"\"\",male,18,0,0,A/5 3540,8.05,,S',\n",
       " '206,0,3,\"Strom, Miss. Telma Matilda\",female,2,0,1,347054,10.4625,G6,S',\n",
       " '207,0,3,\"Backstrom, Mr. Karl Alfred\",male,32,1,0,3101278,15.85,,S',\n",
       " '208,1,3,\"Albimona, Mr. Nassef Cassem\",male,26,0,0,2699,18.7875,,C',\n",
       " '209,1,3,\"Carr, Miss. Helen \"\"Ellen\"\"\",female,16,0,0,367231,7.75,,Q',\n",
       " '210,1,1,\"Blank, Mr. Henry\",male,40,0,0,112277,31,A31,C',\n",
       " '211,0,3,\"Ali, Mr. Ahmed\",male,24,0,0,SOTON/O.Q. 3101311,7.05,,S',\n",
       " '212,1,2,\"Cameron, Miss. Clear Annie\",female,35,0,0,F.C.C. 13528,21,,S',\n",
       " '213,0,3,\"Perkin, Mr. John Henry\",male,22,0,0,A/5 21174,7.25,,S',\n",
       " '214,0,2,\"Givard, Mr. Hans Kristensen\",male,30,0,0,250646,13,,S',\n",
       " '215,0,3,\"Kiernan, Mr. Philip\",male,,1,0,367229,7.75,,Q',\n",
       " '216,1,1,\"Newell, Miss. Madeleine\",female,31,1,0,35273,113.275,D36,C',\n",
       " '217,1,3,\"Honkanen, Miss. Eliina\",female,27,0,0,STON/O2. 3101283,7.925,,S',\n",
       " '218,0,2,\"Jacobsohn, Mr. Sidney Samuel\",male,42,1,0,243847,27,,S',\n",
       " '219,1,1,\"Bazzani, Miss. Albina\",female,32,0,0,11813,76.2917,D15,C',\n",
       " '220,0,2,\"Harris, Mr. Walter\",male,30,0,0,W/C 14208,10.5,,S',\n",
       " '221,1,3,\"Sunderland, Mr. Victor Francis\",male,16,0,0,SOTON/OQ 392089,8.05,,S',\n",
       " '222,0,2,\"Bracken, Mr. James H\",male,27,0,0,220367,13,,S',\n",
       " '223,0,3,\"Green, Mr. George Henry\",male,51,0,0,21440,8.05,,S',\n",
       " '224,0,3,\"Nenkoff, Mr. Christo\",male,,0,0,349234,7.8958,,S',\n",
       " '225,1,1,\"Hoyt, Mr. Frederick Maxfield\",male,38,1,0,19943,90,C93,S',\n",
       " '226,0,3,\"Berglund, Mr. Karl Ivar Sven\",male,22,0,0,PP 4348,9.35,,S',\n",
       " '227,1,2,\"Mellors, Mr. William John\",male,19,0,0,SW/PP 751,10.5,,S',\n",
       " '228,0,3,\"Lovell, Mr. John Hall (\"\"Henry\"\")\",male,20.5,0,0,A/5 21173,7.25,,S',\n",
       " '229,0,2,\"Fahlstrom, Mr. Arne Jonas\",male,18,0,0,236171,13,,S',\n",
       " '230,0,3,\"Lefebre, Miss. Mathilde\",female,,3,1,4133,25.4667,,S',\n",
       " '231,1,1,\"Harris, Mrs. Henry Birkhardt (Irene Wallach)\",female,35,1,0,36973,83.475,C83,S',\n",
       " '232,0,3,\"Larsson, Mr. Bengt Edvin\",male,29,0,0,347067,7.775,,S',\n",
       " '233,0,2,\"Sjostedt, Mr. Ernst Adolf\",male,59,0,0,237442,13.5,,S',\n",
       " '234,1,3,\"Asplund, Miss. Lillian Gertrud\",female,5,4,2,347077,31.3875,,S',\n",
       " '235,0,2,\"Leyson, Mr. Robert William Norman\",male,24,0,0,C.A. 29566,10.5,,S',\n",
       " '236,0,3,\"Harknett, Miss. Alice Phoebe\",female,,0,0,W./C. 6609,7.55,,S',\n",
       " '237,0,2,\"Hold, Mr. Stephen\",male,44,1,0,26707,26,,S',\n",
       " '238,1,2,\"Collyer, Miss. Marjorie \"\"Lottie\"\"\",female,8,0,2,C.A. 31921,26.25,,S',\n",
       " '239,0,2,\"Pengelly, Mr. Frederick William\",male,19,0,0,28665,10.5,,S',\n",
       " '240,0,2,\"Hunt, Mr. George Henry\",male,33,0,0,SCO/W 1585,12.275,,S',\n",
       " '241,0,3,\"Zabour, Miss. Thamine\",female,,1,0,2665,14.4542,,C',\n",
       " '242,1,3,\"Murphy, Miss. Katherine \"\"Kate\"\"\",female,,1,0,367230,15.5,,Q',\n",
       " '243,0,2,\"Coleridge, Mr. Reginald Charles\",male,29,0,0,W./C. 14263,10.5,,S',\n",
       " '244,0,3,\"Maenpaa, Mr. Matti Alexanteri\",male,22,0,0,STON/O 2. 3101275,7.125,,S',\n",
       " '245,0,3,\"Attalah, Mr. Sleiman\",male,30,0,0,2694,7.225,,C',\n",
       " '246,0,1,\"Minahan, Dr. William Edward\",male,44,2,0,19928,90,C78,Q',\n",
       " '247,0,3,\"Lindahl, Miss. Agda Thorilda Viktoria\",female,25,0,0,347071,7.775,,S',\n",
       " '248,1,2,\"Hamalainen, Mrs. William (Anna)\",female,24,0,2,250649,14.5,,S',\n",
       " '249,1,1,\"Beckwith, Mr. Richard Leonard\",male,37,1,1,11751,52.5542,D35,S',\n",
       " '250,0,2,\"Carter, Rev. Ernest Courtenay\",male,54,1,0,244252,26,,S',\n",
       " '251,0,3,\"Reed, Mr. James George\",male,,0,0,362316,7.25,,S',\n",
       " '252,0,3,\"Strom, Mrs. Wilhelm (Elna Matilda Persson)\",female,29,1,1,347054,10.4625,G6,S',\n",
       " '253,0,1,\"Stead, Mr. William Thomas\",male,62,0,0,113514,26.55,C87,S',\n",
       " '254,0,3,\"Lobb, Mr. William Arthur\",male,30,1,0,A/5. 3336,16.1,,S',\n",
       " '255,0,3,\"Rosblom, Mrs. Viktor (Helena Wilhelmina)\",female,41,0,2,370129,20.2125,,S',\n",
       " '256,1,3,\"Touma, Mrs. Darwis (Hanne Youssef Razi)\",female,29,0,2,2650,15.2458,,C',\n",
       " '257,1,1,\"Thorne, Mrs. Gertrude Maybelle\",female,,0,0,PC 17585,79.2,,C',\n",
       " '258,1,1,\"Cherry, Miss. Gladys\",female,30,0,0,110152,86.5,B77,S',\n",
       " '259,1,1,\"Ward, Miss. Anna\",female,35,0,0,PC 17755,512.3292,,C',\n",
       " '260,1,2,\"Parrish, Mrs. (Lutie Davis)\",female,50,0,1,230433,26,,S',\n",
       " '261,0,3,\"Smith, Mr. Thomas\",male,,0,0,384461,7.75,,Q',\n",
       " '262,1,3,\"Asplund, Master. Edvin Rojj Felix\",male,3,4,2,347077,31.3875,,S',\n",
       " '263,0,1,\"Taussig, Mr. Emil\",male,52,1,1,110413,79.65,E67,S',\n",
       " '264,0,1,\"Harrison, Mr. William\",male,40,0,0,112059,0,B94,S',\n",
       " '265,0,3,\"Henry, Miss. Delia\",female,,0,0,382649,7.75,,Q',\n",
       " '266,0,2,\"Reeves, Mr. David\",male,36,0,0,C.A. 17248,10.5,,S',\n",
       " '267,0,3,\"Panula, Mr. Ernesti Arvid\",male,16,4,1,3101295,39.6875,,S',\n",
       " '268,1,3,\"Persson, Mr. Ernst Ulrik\",male,25,1,0,347083,7.775,,S',\n",
       " '269,1,1,\"Graham, Mrs. William Thompson (Edith Junkins)\",female,58,0,1,PC 17582,153.4625,C125,S',\n",
       " '270,1,1,\"Bissette, Miss. Amelia\",female,35,0,0,PC 17760,135.6333,C99,S',\n",
       " '271,0,1,\"Cairns, Mr. Alexander\",male,,0,0,113798,31,,S',\n",
       " '272,1,3,\"Tornquist, Mr. William Henry\",male,25,0,0,LINE,0,,S',\n",
       " '273,1,2,\"Mellinger, Mrs. (Elizabeth Anne Maidment)\",female,41,0,1,250644,19.5,,S',\n",
       " '274,0,1,\"Natsch, Mr. Charles H\",male,37,0,1,PC 17596,29.7,C118,C',\n",
       " '275,1,3,\"Healy, Miss. Hanora \"\"Nora\"\"\",female,,0,0,370375,7.75,,Q',\n",
       " '276,1,1,\"Andrews, Miss. Kornelia Theodosia\",female,63,1,0,13502,77.9583,D7,S',\n",
       " '277,0,3,\"Lindblom, Miss. Augusta Charlotta\",female,45,0,0,347073,7.75,,S',\n",
       " '278,0,2,\"Parkes, Mr. Francis \"\"Frank\"\"\",male,,0,0,239853,0,,S',\n",
       " '279,0,3,\"Rice, Master. Eric\",male,7,4,1,382652,29.125,,Q',\n",
       " '280,1,3,\"Abbott, Mrs. Stanton (Rosa Hunt)\",female,35,1,1,C.A. 2673,20.25,,S',\n",
       " '281,0,3,\"Duane, Mr. Frank\",male,65,0,0,336439,7.75,,Q',\n",
       " '282,0,3,\"Olsson, Mr. Nils Johan Goransson\",male,28,0,0,347464,7.8542,,S',\n",
       " '283,0,3,\"de Pelsmaeker, Mr. Alfons\",male,16,0,0,345778,9.5,,S',\n",
       " '284,1,3,\"Dorking, Mr. Edward Arthur\",male,19,0,0,A/5. 10482,8.05,,S',\n",
       " '285,0,1,\"Smith, Mr. Richard William\",male,,0,0,113056,26,A19,S',\n",
       " '286,0,3,\"Stankovic, Mr. Ivan\",male,33,0,0,349239,8.6625,,C',\n",
       " '287,1,3,\"de Mulder, Mr. Theodore\",male,30,0,0,345774,9.5,,S',\n",
       " '288,0,3,\"Naidenoff, Mr. Penko\",male,22,0,0,349206,7.8958,,S',\n",
       " '289,1,2,\"Hosono, Mr. Masabumi\",male,42,0,0,237798,13,,S',\n",
       " '290,1,3,\"Connolly, Miss. Kate\",female,22,0,0,370373,7.75,,Q',\n",
       " '291,1,1,\"Barber, Miss. Ellen \"\"Nellie\"\"\",female,26,0,0,19877,78.85,,S',\n",
       " '292,1,1,\"Bishop, Mrs. Dickinson H (Helen Walton)\",female,19,1,0,11967,91.0792,B49,C',\n",
       " '293,0,2,\"Levy, Mr. Rene Jacques\",male,36,0,0,SC/Paris 2163,12.875,D,C',\n",
       " '294,0,3,\"Haas, Miss. Aloisia\",female,24,0,0,349236,8.85,,S',\n",
       " '295,0,3,\"Mineff, Mr. Ivan\",male,24,0,0,349233,7.8958,,S',\n",
       " '296,0,1,\"Lewy, Mr. Ervin G\",male,,0,0,PC 17612,27.7208,,C',\n",
       " '297,0,3,\"Hanna, Mr. Mansour\",male,23.5,0,0,2693,7.2292,,C',\n",
       " '298,0,1,\"Allison, Miss. Helen Loraine\",female,2,1,2,113781,151.55,C22 C26,S',\n",
       " '299,1,1,\"Saalfeld, Mr. Adolphe\",male,,0,0,19988,30.5,C106,S',\n",
       " '300,1,1,\"Baxter, Mrs. James (Helene DeLaudeniere Chaput)\",female,50,0,1,PC 17558,247.5208,B58 B60,C',\n",
       " '301,1,3,\"Kelly, Miss. Anna Katherine \"\"Annie Kate\"\"\",female,,0,0,9234,7.75,,Q',\n",
       " '302,1,3,\"McCoy, Mr. Bernard\",male,,2,0,367226,23.25,,Q',\n",
       " '303,0,3,\"Johnson, Mr. William Cahoone Jr\",male,19,0,0,LINE,0,,S',\n",
       " '304,1,2,\"Keane, Miss. Nora A\",female,,0,0,226593,12.35,E101,Q',\n",
       " '305,0,3,\"Williams, Mr. Howard Hugh \"\"Harry\"\"\",male,,0,0,A/5 2466,8.05,,S',\n",
       " '306,1,1,\"Allison, Master. Hudson Trevor\",male,0.92,1,2,113781,151.55,C22 C26,S',\n",
       " '307,1,1,\"Fleming, Miss. Margaret\",female,,0,0,17421,110.8833,,C',\n",
       " '308,1,1,\"Penasco y Castellana, Mrs. Victor de Satode (Maria Josefa Perez de Soto y Vallejo)\",female,17,1,0,PC 17758,108.9,C65,C',\n",
       " '309,0,2,\"Abelson, Mr. Samuel\",male,30,1,0,P/PP 3381,24,,C',\n",
       " '310,1,1,\"Francatelli, Miss. Laura Mabel\",female,30,0,0,PC 17485,56.9292,E36,C',\n",
       " '311,1,1,\"Hays, Miss. Margaret Bechstein\",female,24,0,0,11767,83.1583,C54,C',\n",
       " '312,1,1,\"Ryerson, Miss. Emily Borie\",female,18,2,2,PC 17608,262.375,B57 B59 B63 B66,C',\n",
       " '313,0,2,\"Lahtinen, Mrs. William (Anna Sylfven)\",female,26,1,1,250651,26,,S',\n",
       " '314,0,3,\"Hendekovic, Mr. Ignjac\",male,28,0,0,349243,7.8958,,S',\n",
       " '315,0,2,\"Hart, Mr. Benjamin\",male,43,1,1,F.C.C. 13529,26.25,,S',\n",
       " '316,1,3,\"Nilsson, Miss. Helmina Josefina\",female,26,0,0,347470,7.8542,,S',\n",
       " '317,1,2,\"Kantor, Mrs. Sinai (Miriam Sternin)\",female,24,1,0,244367,26,,S',\n",
       " '318,0,2,\"Moraweck, Dr. Ernest\",male,54,0,0,29011,14,,S',\n",
       " '319,1,1,\"Wick, Miss. Mary Natalie\",female,31,0,2,36928,164.8667,C7,S',\n",
       " '320,1,1,\"Spedden, Mrs. Frederic Oakley (Margaretta Corning Stone)\",female,40,1,1,16966,134.5,E34,C',\n",
       " '321,0,3,\"Dennis, Mr. Samuel\",male,22,0,0,A/5 21172,7.25,,S',\n",
       " '322,0,3,\"Danoff, Mr. Yoto\",male,27,0,0,349219,7.8958,,S',\n",
       " '323,1,2,\"Slayter, Miss. Hilda Mary\",female,30,0,0,234818,12.35,,Q',\n",
       " '324,1,2,\"Caldwell, Mrs. Albert Francis (Sylvia Mae Harbaugh)\",female,22,1,1,248738,29,,S',\n",
       " '325,0,3,\"Sage, Mr. George John Jr\",male,,8,2,CA. 2343,69.55,,S',\n",
       " '326,1,1,\"Young, Miss. Marie Grice\",female,36,0,0,PC 17760,135.6333,C32,C',\n",
       " '327,0,3,\"Nysveen, Mr. Johan Hansen\",male,61,0,0,345364,6.2375,,S',\n",
       " '328,1,2,\"Ball, Mrs. (Ada E Hall)\",female,36,0,0,28551,13,D,S',\n",
       " '329,1,3,\"Goldsmith, Mrs. Frank John (Emily Alice Brown)\",female,31,1,1,363291,20.525,,S',\n",
       " '330,1,1,\"Hippach, Miss. Jean Gertrude\",female,16,0,1,111361,57.9792,B18,C',\n",
       " '331,1,3,\"McCoy, Miss. Agnes\",female,,2,0,367226,23.25,,Q',\n",
       " '332,0,1,\"Partner, Mr. Austen\",male,45.5,0,0,113043,28.5,C124,S',\n",
       " '333,0,1,\"Graham, Mr. George Edward\",male,38,0,1,PC 17582,153.4625,C91,S',\n",
       " '334,0,3,\"Vander Planke, Mr. Leo Edmondus\",male,16,2,0,345764,18,,S',\n",
       " '335,1,1,\"Frauenthal, Mrs. Henry William (Clara Heinsheimer)\",female,,1,0,PC 17611,133.65,,S',\n",
       " '336,0,3,\"Denkoff, Mr. Mitto\",male,,0,0,349225,7.8958,,S',\n",
       " '337,0,1,\"Pears, Mr. Thomas Clinton\",male,29,1,0,113776,66.6,C2,S',\n",
       " '338,1,1,\"Burns, Miss. Elizabeth Margaret\",female,41,0,0,16966,134.5,E40,C',\n",
       " '339,1,3,\"Dahl, Mr. Karl Edwart\",male,45,0,0,7598,8.05,,S',\n",
       " '340,0,1,\"Blackwell, Mr. Stephen Weart\",male,45,0,0,113784,35.5,T,S',\n",
       " '341,1,2,\"Navratil, Master. Edmond Roger\",male,2,1,1,230080,26,F2,S',\n",
       " '342,1,1,\"Fortune, Miss. Alice Elizabeth\",female,24,3,2,19950,263,C23 C25 C27,S',\n",
       " '343,0,2,\"Collander, Mr. Erik Gustaf\",male,28,0,0,248740,13,,S',\n",
       " '344,0,2,\"Sedgwick, Mr. Charles Frederick Waddington\",male,25,0,0,244361,13,,S',\n",
       " '345,0,2,\"Fox, Mr. Stanley Hubert\",male,36,0,0,229236,13,,S',\n",
       " '346,1,2,\"Brown, Miss. Amelia \"\"Mildred\"\"\",female,24,0,0,248733,13,F33,S',\n",
       " '347,1,2,\"Smith, Miss. Marion Elsie\",female,40,0,0,31418,13,,S',\n",
       " '348,1,3,\"Davison, Mrs. Thomas Henry (Mary E Finck)\",female,,1,0,386525,16.1,,S',\n",
       " '349,1,3,\"Coutts, Master. William Loch \"\"William\"\"\",male,3,1,1,C.A. 37671,15.9,,S',\n",
       " '350,0,3,\"Dimic, Mr. Jovan\",male,42,0,0,315088,8.6625,,S',\n",
       " '351,0,3,\"Odahl, Mr. Nils Martin\",male,23,0,0,7267,9.225,,S',\n",
       " '352,0,1,\"Williams-Lambert, Mr. Fletcher Fellows\",male,,0,0,113510,35,C128,S',\n",
       " '353,0,3,\"Elias, Mr. Tannous\",male,15,1,1,2695,7.2292,,C',\n",
       " '354,0,3,\"Arnold-Franchi, Mr. Josef\",male,25,1,0,349237,17.8,,S',\n",
       " '355,0,3,\"Yousif, Mr. Wazli\",male,,0,0,2647,7.225,,C',\n",
       " '356,0,3,\"Vanden Steen, Mr. Leo Peter\",male,28,0,0,345783,9.5,,S',\n",
       " '357,1,1,\"Bowerman, Miss. Elsie Edith\",female,22,0,1,113505,55,E33,S',\n",
       " '358,0,2,\"Funk, Miss. Annie Clemmer\",female,38,0,0,237671,13,,S',\n",
       " '359,1,3,\"McGovern, Miss. Mary\",female,,0,0,330931,7.8792,,Q',\n",
       " '360,1,3,\"Mockler, Miss. Helen Mary \"\"Ellie\"\"\",female,,0,0,330980,7.8792,,Q',\n",
       " '361,0,3,\"Skoog, Mr. Wilhelm\",male,40,1,4,347088,27.9,,S',\n",
       " '362,0,2,\"del Carlo, Mr. Sebastiano\",male,29,1,0,SC/PARIS 2167,27.7208,,C',\n",
       " '363,0,3,\"Barbara, Mrs. (Catherine David)\",female,45,0,1,2691,14.4542,,C',\n",
       " '364,0,3,\"Asim, Mr. Adola\",male,35,0,0,SOTON/O.Q. 3101310,7.05,,S',\n",
       " '365,0,3,\"O\\'Brien, Mr. Thomas\",male,,1,0,370365,15.5,,Q',\n",
       " '366,0,3,\"Adahl, Mr. Mauritz Nils Martin\",male,30,0,0,C 7076,7.25,,S',\n",
       " '367,1,1,\"Warren, Mrs. Frank Manley (Anna Sophia Atkinson)\",female,60,1,0,110813,75.25,D37,C',\n",
       " '368,1,3,\"Moussa, Mrs. (Mantoura Boulos)\",female,,0,0,2626,7.2292,,C',\n",
       " '369,1,3,\"Jermyn, Miss. Annie\",female,,0,0,14313,7.75,,Q',\n",
       " '370,1,1,\"Aubart, Mme. Leontine Pauline\",female,24,0,0,PC 17477,69.3,B35,C',\n",
       " '371,1,1,\"Harder, Mr. George Achilles\",male,25,1,0,11765,55.4417,E50,C',\n",
       " '372,0,3,\"Wiklund, Mr. Jakob Alfred\",male,18,1,0,3101267,6.4958,,S',\n",
       " '373,0,3,\"Beavan, Mr. William Thomas\",male,19,0,0,323951,8.05,,S',\n",
       " '374,0,1,\"Ringhini, Mr. Sante\",male,22,0,0,PC 17760,135.6333,,C',\n",
       " '375,0,3,\"Palsson, Miss. Stina Viola\",female,3,3,1,349909,21.075,,S',\n",
       " '376,1,1,\"Meyer, Mrs. Edgar Joseph (Leila Saks)\",female,,1,0,PC 17604,82.1708,,C',\n",
       " '377,1,3,\"Landergren, Miss. Aurora Adelia\",female,22,0,0,C 7077,7.25,,S',\n",
       " '378,0,1,\"Widener, Mr. Harry Elkins\",male,27,0,2,113503,211.5,C82,C',\n",
       " '379,0,3,\"Betros, Mr. Tannous\",male,20,0,0,2648,4.0125,,C',\n",
       " '380,0,3,\"Gustafsson, Mr. Karl Gideon\",male,19,0,0,347069,7.775,,S',\n",
       " '381,1,1,\"Bidois, Miss. Rosalie\",female,42,0,0,PC 17757,227.525,,C',\n",
       " '382,1,3,\"Nakid, Miss. Maria (\"\"Mary\"\")\",female,1,0,2,2653,15.7417,,C',\n",
       " '383,0,3,\"Tikkanen, Mr. Juho\",male,32,0,0,STON/O 2. 3101293,7.925,,S',\n",
       " '384,1,1,\"Holverson, Mrs. Alexander Oskar (Mary Aline Towner)\",female,35,1,0,113789,52,,S',\n",
       " '385,0,3,\"Plotcharsky, Mr. Vasil\",male,,0,0,349227,7.8958,,S',\n",
       " '386,0,2,\"Davies, Mr. Charles Henry\",male,18,0,0,S.O.C. 14879,73.5,,S',\n",
       " '387,0,3,\"Goodwin, Master. Sidney Leonard\",male,1,5,2,CA 2144,46.9,,S',\n",
       " '388,1,2,\"Buss, Miss. Kate\",female,36,0,0,27849,13,,S',\n",
       " '389,0,3,\"Sadlier, Mr. Matthew\",male,,0,0,367655,7.7292,,Q',\n",
       " '390,1,2,\"Lehmann, Miss. Bertha\",female,17,0,0,SC 1748,12,,C',\n",
       " '391,1,1,\"Carter, Mr. William Ernest\",male,36,1,2,113760,120,B96 B98,S',\n",
       " '392,1,3,\"Jansson, Mr. Carl Olof\",male,21,0,0,350034,7.7958,,S',\n",
       " '393,0,3,\"Gustafsson, Mr. Johan Birger\",male,28,2,0,3101277,7.925,,S',\n",
       " '394,1,1,\"Newell, Miss. Marjorie\",female,23,1,0,35273,113.275,D36,C',\n",
       " '395,1,3,\"Sandstrom, Mrs. Hjalmar (Agnes Charlotta Bengtsson)\",female,24,0,2,PP 9549,16.7,G6,S',\n",
       " '396,0,3,\"Johansson, Mr. Erik\",male,22,0,0,350052,7.7958,,S',\n",
       " '397,0,3,\"Olsson, Miss. Elina\",female,31,0,0,350407,7.8542,,S',\n",
       " '398,0,2,\"McKane, Mr. Peter David\",male,46,0,0,28403,26,,S',\n",
       " '399,0,2,\"Pain, Dr. Alfred\",male,23,0,0,244278,10.5,,S',\n",
       " '400,1,2,\"Trout, Mrs. William H (Jessie L)\",female,28,0,0,240929,12.65,,S',\n",
       " '401,1,3,\"Niskanen, Mr. Juha\",male,39,0,0,STON/O 2. 3101289,7.925,,S',\n",
       " '402,0,3,\"Adams, Mr. John\",male,26,0,0,341826,8.05,,S',\n",
       " '403,0,3,\"Jussila, Miss. Mari Aina\",female,21,1,0,4137,9.825,,S',\n",
       " '404,0,3,\"Hakkarainen, Mr. Pekka Pietari\",male,28,1,0,STON/O2. 3101279,15.85,,S',\n",
       " '405,0,3,\"Oreskovic, Miss. Marija\",female,20,0,0,315096,8.6625,,S',\n",
       " '406,0,2,\"Gale, Mr. Shadrach\",male,34,1,0,28664,21,,S',\n",
       " '407,0,3,\"Widegren, Mr. Carl/Charles Peter\",male,51,0,0,347064,7.75,,S',\n",
       " '408,1,2,\"Richards, Master. William Rowe\",male,3,1,1,29106,18.75,,S',\n",
       " '409,0,3,\"Birkeland, Mr. Hans Martin Monsen\",male,21,0,0,312992,7.775,,S',\n",
       " '410,0,3,\"Lefebre, Miss. Ida\",female,,3,1,4133,25.4667,,S',\n",
       " '411,0,3,\"Sdycoff, Mr. Todor\",male,,0,0,349222,7.8958,,S',\n",
       " '412,0,3,\"Hart, Mr. Henry\",male,,0,0,394140,6.8583,,Q',\n",
       " '413,1,1,\"Minahan, Miss. Daisy E\",female,33,1,0,19928,90,C78,Q',\n",
       " '414,0,2,\"Cunningham, Mr. Alfred Fleming\",male,,0,0,239853,0,,S',\n",
       " '415,1,3,\"Sundman, Mr. Johan Julian\",male,44,0,0,STON/O 2. 3101269,7.925,,S',\n",
       " '416,0,3,\"Meek, Mrs. Thomas (Annie Louise Rowley)\",female,,0,0,343095,8.05,,S',\n",
       " '417,1,2,\"Drew, Mrs. James Vivian (Lulu Thorne Christian)\",female,34,1,1,28220,32.5,,S',\n",
       " '418,1,2,\"Silven, Miss. Lyyli Karoliina\",female,18,0,2,250652,13,,S',\n",
       " '419,0,2,\"Matthews, Mr. William John\",male,30,0,0,28228,13,,S',\n",
       " '420,0,3,\"Van Impe, Miss. Catharina\",female,10,0,2,345773,24.15,,S',\n",
       " '421,0,3,\"Gheorgheff, Mr. Stanio\",male,,0,0,349254,7.8958,,C',\n",
       " '422,0,3,\"Charters, Mr. David\",male,21,0,0,A/5. 13032,7.7333,,Q',\n",
       " '423,0,3,\"Zimmerman, Mr. Leo\",male,29,0,0,315082,7.875,,S',\n",
       " '424,0,3,\"Danbom, Mrs. Ernst Gilbert (Anna Sigrid Maria Brogren)\",female,28,1,1,347080,14.4,,S',\n",
       " '425,0,3,\"Rosblom, Mr. Viktor Richard\",male,18,1,1,370129,20.2125,,S',\n",
       " '426,0,3,\"Wiseman, Mr. Phillippe\",male,,0,0,A/4. 34244,7.25,,S',\n",
       " '427,1,2,\"Clarke, Mrs. Charles V (Ada Maria Winfield)\",female,28,1,0,2003,26,,S',\n",
       " '428,1,2,\"Phillips, Miss. Kate Florence (\"\"Mrs Kate Louise Phillips Marshall\"\")\",female,19,0,0,250655,26,,S',\n",
       " '429,0,3,\"Flynn, Mr. James\",male,,0,0,364851,7.75,,Q',\n",
       " '430,1,3,\"Pickard, Mr. Berk (Berk Trembisky)\",male,32,0,0,SOTON/O.Q. 392078,8.05,E10,S',\n",
       " '431,1,1,\"Bjornstrom-Steffansson, Mr. Mauritz Hakan\",male,28,0,0,110564,26.55,C52,S',\n",
       " '432,1,3,\"Thorneycroft, Mrs. Percival (Florence Kate White)\",female,,1,0,376564,16.1,,S',\n",
       " '433,1,2,\"Louch, Mrs. Charles Alexander (Alice Adelaide Slow)\",female,42,1,0,SC/AH 3085,26,,S',\n",
       " '434,0,3,\"Kallio, Mr. Nikolai Erland\",male,17,0,0,STON/O 2. 3101274,7.125,,S',\n",
       " '435,0,1,\"Silvey, Mr. William Baird\",male,50,1,0,13507,55.9,E44,S',\n",
       " '436,1,1,\"Carter, Miss. Lucile Polk\",female,14,1,2,113760,120,B96 B98,S',\n",
       " '437,0,3,\"Ford, Miss. Doolina Margaret \"\"Daisy\"\"\",female,21,2,2,W./C. 6608,34.375,,S',\n",
       " '438,1,2,\"Richards, Mrs. Sidney (Emily Hocking)\",female,24,2,3,29106,18.75,,S',\n",
       " '439,0,1,\"Fortune, Mr. Mark\",male,64,1,4,19950,263,C23 C25 C27,S',\n",
       " '440,0,2,\"Kvillner, Mr. Johan Henrik Johannesson\",male,31,0,0,C.A. 18723,10.5,,S',\n",
       " '441,1,2,\"Hart, Mrs. Benjamin (Esther Ada Bloomfield)\",female,45,1,1,F.C.C. 13529,26.25,,S',\n",
       " '442,0,3,\"Hampe, Mr. Leon\",male,20,0,0,345769,9.5,,S',\n",
       " '443,0,3,\"Petterson, Mr. Johan Emil\",male,25,1,0,347076,7.775,,S',\n",
       " '444,1,2,\"Reynaldo, Ms. Encarnacion\",female,28,0,0,230434,13,,S',\n",
       " '445,1,3,\"Johannesen-Bratthammer, Mr. Bernt\",male,,0,0,65306,8.1125,,S',\n",
       " '446,1,1,\"Dodge, Master. Washington\",male,4,0,2,33638,81.8583,A34,S',\n",
       " '447,1,2,\"Mellinger, Miss. Madeleine Violet\",female,13,0,1,250644,19.5,,S',\n",
       " '448,1,1,\"Seward, Mr. Frederic Kimber\",male,34,0,0,113794,26.55,,S',\n",
       " '449,1,3,\"Baclini, Miss. Marie Catherine\",female,5,2,1,2666,19.2583,,C',\n",
       " '450,1,1,\"Peuchen, Major. Arthur Godfrey\",male,52,0,0,113786,30.5,C104,S',\n",
       " '451,0,2,\"West, Mr. Edwy Arthur\",male,36,1,2,C.A. 34651,27.75,,S',\n",
       " '452,0,3,\"Hagland, Mr. Ingvald Olai Olsen\",male,,1,0,65303,19.9667,,S',\n",
       " '453,0,1,\"Foreman, Mr. Benjamin Laventall\",male,30,0,0,113051,27.75,C111,C',\n",
       " '454,1,1,\"Goldenberg, Mr. Samuel L\",male,49,1,0,17453,89.1042,C92,C',\n",
       " '455,0,3,\"Peduzzi, Mr. Joseph\",male,,0,0,A/5 2817,8.05,,S',\n",
       " '456,1,3,\"Jalsevac, Mr. Ivan\",male,29,0,0,349240,7.8958,,C',\n",
       " '457,0,1,\"Millet, Mr. Francis Davis\",male,65,0,0,13509,26.55,E38,S',\n",
       " '458,1,1,\"Kenyon, Mrs. Frederick R (Marion)\",female,,1,0,17464,51.8625,D21,S',\n",
       " '459,1,2,\"Toomey, Miss. Ellen\",female,50,0,0,F.C.C. 13531,10.5,,S',\n",
       " '460,0,3,\"O\\'Connor, Mr. Maurice\",male,,0,0,371060,7.75,,Q',\n",
       " '461,1,1,\"Anderson, Mr. Harry\",male,48,0,0,19952,26.55,E12,S',\n",
       " '462,0,3,\"Morley, Mr. William\",male,34,0,0,364506,8.05,,S',\n",
       " '463,0,1,\"Gee, Mr. Arthur H\",male,47,0,0,111320,38.5,E63,S',\n",
       " '464,0,2,\"Milling, Mr. Jacob Christian\",male,48,0,0,234360,13,,S',\n",
       " '465,0,3,\"Maisner, Mr. Simon\",male,,0,0,A/S 2816,8.05,,S',\n",
       " '466,0,3,\"Goncalves, Mr. Manuel Estanslas\",male,38,0,0,SOTON/O.Q. 3101306,7.05,,S',\n",
       " '467,0,2,\"Campbell, Mr. William\",male,,0,0,239853,0,,S',\n",
       " '468,0,1,\"Smart, Mr. John Montgomery\",male,56,0,0,113792,26.55,,S',\n",
       " '469,0,3,\"Scanlan, Mr. James\",male,,0,0,36209,7.725,,Q',\n",
       " '470,1,3,\"Baclini, Miss. Helene Barbara\",female,0.75,2,1,2666,19.2583,,C',\n",
       " '471,0,3,\"Keefe, Mr. Arthur\",male,,0,0,323592,7.25,,S',\n",
       " '472,0,3,\"Cacic, Mr. Luka\",male,38,0,0,315089,8.6625,,S',\n",
       " '473,1,2,\"West, Mrs. Edwy Arthur (Ada Mary Worth)\",female,33,1,2,C.A. 34651,27.75,,S',\n",
       " '474,1,2,\"Jerwan, Mrs. Amin S (Marie Marthe Thuillard)\",female,23,0,0,SC/AH Basle 541,13.7917,D,C',\n",
       " '475,0,3,\"Strandberg, Miss. Ida Sofia\",female,22,0,0,7553,9.8375,,S',\n",
       " '476,0,1,\"Clifford, Mr. George Quincy\",male,,0,0,110465,52,A14,S',\n",
       " '477,0,2,\"Renouf, Mr. Peter Henry\",male,34,1,0,31027,21,,S',\n",
       " '478,0,3,\"Braund, Mr. Lewis Richard\",male,29,1,0,3460,7.0458,,S',\n",
       " '479,0,3,\"Karlsson, Mr. Nils August\",male,22,0,0,350060,7.5208,,S',\n",
       " '480,1,3,\"Hirvonen, Miss. Hildur E\",female,2,0,1,3101298,12.2875,,S',\n",
       " '481,0,3,\"Goodwin, Master. Harold Victor\",male,9,5,2,CA 2144,46.9,,S',\n",
       " '482,0,2,\"Frost, Mr. Anthony Wood \"\"Archie\"\"\",male,,0,0,239854,0,,S',\n",
       " '483,0,3,\"Rouse, Mr. Richard Henry\",male,50,0,0,A/5 3594,8.05,,S',\n",
       " '484,1,3,\"Turkula, Mrs. (Hedwig)\",female,63,0,0,4134,9.5875,,S',\n",
       " '485,1,1,\"Bishop, Mr. Dickinson H\",male,25,1,0,11967,91.0792,B49,C',\n",
       " '486,0,3,\"Lefebre, Miss. Jeannie\",female,,3,1,4133,25.4667,,S',\n",
       " '487,1,1,\"Hoyt, Mrs. Frederick Maxfield (Jane Anne Forby)\",female,35,1,0,19943,90,C93,S',\n",
       " '488,0,1,\"Kent, Mr. Edward Austin\",male,58,0,0,11771,29.7,B37,C',\n",
       " '489,0,3,\"Somerton, Mr. Francis William\",male,30,0,0,A.5. 18509,8.05,,S',\n",
       " '490,1,3,\"Coutts, Master. Eden Leslie \"\"Neville\"\"\",male,9,1,1,C.A. 37671,15.9,,S',\n",
       " '491,0,3,\"Hagland, Mr. Konrad Mathias Reiersen\",male,,1,0,65304,19.9667,,S',\n",
       " '492,0,3,\"Windelov, Mr. Einar\",male,21,0,0,SOTON/OQ 3101317,7.25,,S',\n",
       " '493,0,1,\"Molson, Mr. Harry Markland\",male,55,0,0,113787,30.5,C30,S',\n",
       " '494,0,1,\"Artagaveytia, Mr. Ramon\",male,71,0,0,PC 17609,49.5042,,C',\n",
       " '495,0,3,\"Stanley, Mr. Edward Roland\",male,21,0,0,A/4 45380,8.05,,S',\n",
       " '496,0,3,\"Yousseff, Mr. Gerious\",male,,0,0,2627,14.4583,,C',\n",
       " '497,1,1,\"Eustis, Miss. Elizabeth Mussey\",female,54,1,0,36947,78.2667,D20,C',\n",
       " '498,0,3,\"Shellard, Mr. Frederick William\",male,,0,0,C.A. 6212,15.1,,S',\n",
       " '499,0,1,\"Allison, Mrs. Hudson J C (Bessie Waldo Daniels)\",female,25,1,2,113781,151.55,C22 C26,S',\n",
       " '500,0,3,\"Svensson, Mr. Olof\",male,24,0,0,350035,7.7958,,S',\n",
       " '501,0,3,\"Calic, Mr. Petar\",male,17,0,0,315086,8.6625,,S',\n",
       " '502,0,3,\"Canavan, Miss. Mary\",female,21,0,0,364846,7.75,,Q',\n",
       " '503,0,3,\"O\\'Sullivan, Miss. Bridget Mary\",female,,0,0,330909,7.6292,,Q',\n",
       " '504,0,3,\"Laitinen, Miss. Kristina Sofia\",female,37,0,0,4135,9.5875,,S',\n",
       " '505,1,1,\"Maioni, Miss. Roberta\",female,16,0,0,110152,86.5,B79,S',\n",
       " '506,0,1,\"Penasco y Castellana, Mr. Victor de Satode\",male,18,1,0,PC 17758,108.9,C65,C',\n",
       " '507,1,2,\"Quick, Mrs. Frederick Charles (Jane Richards)\",female,33,0,2,26360,26,,S',\n",
       " '508,1,1,\"Bradley, Mr. George (\"\"George Arthur Brayton\"\")\",male,,0,0,111427,26.55,,S',\n",
       " '509,0,3,\"Olsen, Mr. Henry Margido\",male,28,0,0,C 4001,22.525,,S',\n",
       " '510,1,3,\"Lang, Mr. Fang\",male,26,0,0,1601,56.4958,,S',\n",
       " '511,1,3,\"Daly, Mr. Eugene Patrick\",male,29,0,0,382651,7.75,,Q',\n",
       " '512,0,3,\"Webber, Mr. James\",male,,0,0,SOTON/OQ 3101316,8.05,,S',\n",
       " '513,1,1,\"McGough, Mr. James Robert\",male,36,0,0,PC 17473,26.2875,E25,S',\n",
       " '514,1,1,\"Rothschild, Mrs. Martin (Elizabeth L. Barrett)\",female,54,1,0,PC 17603,59.4,,C',\n",
       " '515,0,3,\"Coleff, Mr. Satio\",male,24,0,0,349209,7.4958,,S',\n",
       " '516,0,1,\"Walker, Mr. William Anderson\",male,47,0,0,36967,34.0208,D46,S',\n",
       " '517,1,2,\"Lemore, Mrs. (Amelia Milley)\",female,34,0,0,C.A. 34260,10.5,F33,S',\n",
       " '518,0,3,\"Ryan, Mr. Patrick\",male,,0,0,371110,24.15,,Q',\n",
       " '519,1,2,\"Angle, Mrs. William A (Florence \"\"Mary\"\" Agnes Hughes)\",female,36,1,0,226875,26,,S',\n",
       " '520,0,3,\"Pavlovic, Mr. Stefo\",male,32,0,0,349242,7.8958,,S',\n",
       " '521,1,1,\"Perreault, Miss. Anne\",female,30,0,0,12749,93.5,B73,S',\n",
       " '522,0,3,\"Vovk, Mr. Janko\",male,22,0,0,349252,7.8958,,S',\n",
       " '523,0,3,\"Lahoud, Mr. Sarkis\",male,,0,0,2624,7.225,,C',\n",
       " '524,1,1,\"Hippach, Mrs. Louis Albert (Ida Sophia Fischer)\",female,44,0,1,111361,57.9792,B18,C',\n",
       " '525,0,3,\"Kassem, Mr. Fared\",male,,0,0,2700,7.2292,,C',\n",
       " '526,0,3,\"Farrell, Mr. James\",male,40.5,0,0,367232,7.75,,Q',\n",
       " '527,1,2,\"Ridsdale, Miss. Lucy\",female,50,0,0,W./C. 14258,10.5,,S',\n",
       " '528,0,1,\"Farthing, Mr. John\",male,,0,0,PC 17483,221.7792,C95,S',\n",
       " '529,0,3,\"Salonen, Mr. Johan Werner\",male,39,0,0,3101296,7.925,,S',\n",
       " '530,0,2,\"Hocking, Mr. Richard George\",male,23,2,1,29104,11.5,,S',\n",
       " '531,1,2,\"Quick, Miss. Phyllis May\",female,2,1,1,26360,26,,S',\n",
       " '532,0,3,\"Toufik, Mr. Nakli\",male,,0,0,2641,7.2292,,C',\n",
       " '533,0,3,\"Elias, Mr. Joseph Jr\",male,17,1,1,2690,7.2292,,C',\n",
       " '534,1,3,\"Peter, Mrs. Catherine (Catherine Rizk)\",female,,0,2,2668,22.3583,,C',\n",
       " '535,0,3,\"Cacic, Miss. Marija\",female,30,0,0,315084,8.6625,,S',\n",
       " '536,1,2,\"Hart, Miss. Eva Miriam\",female,7,0,2,F.C.C. 13529,26.25,,S',\n",
       " '537,0,1,\"Butt, Major. Archibald Willingham\",male,45,0,0,113050,26.55,B38,S',\n",
       " '538,1,1,\"LeRoy, Miss. Bertha\",female,30,0,0,PC 17761,106.425,,C',\n",
       " '539,0,3,\"Risien, Mr. Samuel Beard\",male,,0,0,364498,14.5,,S',\n",
       " '540,1,1,\"Frolicher, Miss. Hedwig Margaritha\",female,22,0,2,13568,49.5,B39,C',\n",
       " '541,1,1,\"Crosby, Miss. Harriet R\",female,36,0,2,WE/P 5735,71,B22,S',\n",
       " '542,0,3,\"Andersson, Miss. Ingeborg Constanzia\",female,9,4,2,347082,31.275,,S',\n",
       " '543,0,3,\"Andersson, Miss. Sigrid Elisabeth\",female,11,4,2,347082,31.275,,S',\n",
       " '544,1,2,\"Beane, Mr. Edward\",male,32,1,0,2908,26,,S',\n",
       " '545,0,1,\"Douglas, Mr. Walter Donald\",male,50,1,0,PC 17761,106.425,C86,C',\n",
       " '546,0,1,\"Nicholson, Mr. Arthur Ernest\",male,64,0,0,693,26,,S',\n",
       " '547,1,2,\"Beane, Mrs. Edward (Ethel Clarke)\",female,19,1,0,2908,26,,S',\n",
       " '548,1,2,\"Padro y Manent, Mr. Julian\",male,,0,0,SC/PARIS 2146,13.8625,,C',\n",
       " '549,0,3,\"Goldsmith, Mr. Frank John\",male,33,1,1,363291,20.525,,S',\n",
       " '550,1,2,\"Davies, Master. John Morgan Jr\",male,8,1,1,C.A. 33112,36.75,,S',\n",
       " '551,1,1,\"Thayer, Mr. John Borland Jr\",male,17,0,2,17421,110.8833,C70,C',\n",
       " '552,0,2,\"Sharp, Mr. Percival James R\",male,27,0,0,244358,26,,S',\n",
       " '553,0,3,\"O\\'Brien, Mr. Timothy\",male,,0,0,330979,7.8292,,Q',\n",
       " '554,1,3,\"Leeni, Mr. Fahim (\"\"Philip Zenni\"\")\",male,22,0,0,2620,7.225,,C',\n",
       " '555,1,3,\"Ohman, Miss. Velin\",female,22,0,0,347085,7.775,,S',\n",
       " '556,0,1,\"Wright, Mr. George\",male,62,0,0,113807,26.55,,S',\n",
       " '557,1,1,\"Duff Gordon, Lady. (Lucille Christiana Sutherland) (\"\"Mrs Morgan\"\")\",female,48,1,0,11755,39.6,A16,C',\n",
       " '558,0,1,\"Robbins, Mr. Victor\",male,,0,0,PC 17757,227.525,,C',\n",
       " '559,1,1,\"Taussig, Mrs. Emil (Tillie Mandelbaum)\",female,39,1,1,110413,79.65,E67,S',\n",
       " '560,1,3,\"de Messemaeker, Mrs. Guillaume Joseph (Emma)\",female,36,1,0,345572,17.4,,S',\n",
       " '561,0,3,\"Morrow, Mr. Thomas Rowan\",male,,0,0,372622,7.75,,Q',\n",
       " '562,0,3,\"Sivic, Mr. Husein\",male,40,0,0,349251,7.8958,,S',\n",
       " '563,0,2,\"Norman, Mr. Robert Douglas\",male,28,0,0,218629,13.5,,S',\n",
       " '564,0,3,\"Simmons, Mr. John\",male,,0,0,SOTON/OQ 392082,8.05,,S',\n",
       " '565,0,3,\"Meanwell, Miss. (Marion Ogden)\",female,,0,0,SOTON/O.Q. 392087,8.05,,S',\n",
       " '566,0,3,\"Davies, Mr. Alfred J\",male,24,2,0,A/4 48871,24.15,,S',\n",
       " '567,0,3,\"Stoytcheff, Mr. Ilia\",male,19,0,0,349205,7.8958,,S',\n",
       " '568,0,3,\"Palsson, Mrs. Nils (Alma Cornelia Berglund)\",female,29,0,4,349909,21.075,,S',\n",
       " '569,0,3,\"Doharr, Mr. Tannous\",male,,0,0,2686,7.2292,,C',\n",
       " '570,1,3,\"Jonsson, Mr. Carl\",male,32,0,0,350417,7.8542,,S',\n",
       " '571,1,2,\"Harris, Mr. George\",male,62,0,0,S.W./PP 752,10.5,,S',\n",
       " '572,1,1,\"Appleton, Mrs. Edward Dale (Charlotte Lamson)\",female,53,2,0,11769,51.4792,C101,S',\n",
       " '573,1,1,\"Flynn, Mr. John Irwin (\"\"Irving\"\")\",male,36,0,0,PC 17474,26.3875,E25,S',\n",
       " '574,1,3,\"Kelly, Miss. Mary\",female,,0,0,14312,7.75,,Q',\n",
       " '575,0,3,\"Rush, Mr. Alfred George John\",male,16,0,0,A/4. 20589,8.05,,S',\n",
       " '576,0,3,\"Patchett, Mr. George\",male,19,0,0,358585,14.5,,S',\n",
       " '577,1,2,\"Garside, Miss. Ethel\",female,34,0,0,243880,13,,S',\n",
       " '578,1,1,\"Silvey, Mrs. William Baird (Alice Munger)\",female,39,1,0,13507,55.9,E44,S',\n",
       " '579,0,3,\"Caram, Mrs. Joseph (Maria Elias)\",female,,1,0,2689,14.4583,,C',\n",
       " '580,1,3,\"Jussila, Mr. Eiriik\",male,32,0,0,STON/O 2. 3101286,7.925,,S',\n",
       " '581,1,2,\"Christy, Miss. Julie Rachel\",female,25,1,1,237789,30,,S',\n",
       " '582,1,1,\"Thayer, Mrs. John Borland (Marian Longstreth Morris)\",female,39,1,1,17421,110.8833,C68,C',\n",
       " '583,0,2,\"Downton, Mr. William James\",male,54,0,0,28403,26,,S',\n",
       " '584,0,1,\"Ross, Mr. John Hugo\",male,36,0,0,13049,40.125,A10,C',\n",
       " '585,0,3,\"Paulner, Mr. Uscher\",male,,0,0,3411,8.7125,,C',\n",
       " '586,1,1,\"Taussig, Miss. Ruth\",female,18,0,2,110413,79.65,E68,S',\n",
       " '587,0,2,\"Jarvis, Mr. John Denzil\",male,47,0,0,237565,15,,S',\n",
       " '588,1,1,\"Frolicher-Stehli, Mr. Maxmillian\",male,60,1,1,13567,79.2,B41,C',\n",
       " '589,0,3,\"Gilinski, Mr. Eliezer\",male,22,0,0,14973,8.05,,S',\n",
       " '590,0,3,\"Murdlin, Mr. Joseph\",male,,0,0,A./5. 3235,8.05,,S',\n",
       " '591,0,3,\"Rintamaki, Mr. Matti\",male,35,0,0,STON/O 2. 3101273,7.125,,S',\n",
       " '592,1,1,\"Stephenson, Mrs. Walter Bertram (Martha Eustis)\",female,52,1,0,36947,78.2667,D20,C',\n",
       " '593,0,3,\"Elsbury, Mr. William James\",male,47,0,0,A/5 3902,7.25,,S',\n",
       " '594,0,3,\"Bourke, Miss. Mary\",female,,0,2,364848,7.75,,Q',\n",
       " '595,0,2,\"Chapman, Mr. John Henry\",male,37,1,0,SC/AH 29037,26,,S',\n",
       " '596,0,3,\"Van Impe, Mr. Jean Baptiste\",male,36,1,1,345773,24.15,,S',\n",
       " '597,1,2,\"Leitch, Miss. Jessie Wills\",female,,0,0,248727,33,,S',\n",
       " '598,0,3,\"Johnson, Mr. Alfred\",male,49,0,0,LINE,0,,S',\n",
       " '599,0,3,\"Boulos, Mr. Hanna\",male,,0,0,2664,7.225,,C',\n",
       " '600,1,1,\"Duff Gordon, Sir. Cosmo Edmund (\"\"Mr Morgan\"\")\",male,49,1,0,PC 17485,56.9292,A20,C',\n",
       " '601,1,2,\"Jacobsohn, Mrs. Sidney Samuel (Amy Frances Christy)\",female,24,2,1,243847,27,,S',\n",
       " '602,0,3,\"Slabenoff, Mr. Petco\",male,,0,0,349214,7.8958,,S',\n",
       " '603,0,1,\"Harrington, Mr. Charles H\",male,,0,0,113796,42.4,,S',\n",
       " '604,0,3,\"Torber, Mr. Ernst William\",male,44,0,0,364511,8.05,,S',\n",
       " '605,1,1,\"Homer, Mr. Harry (\"\"Mr E Haven\"\")\",male,35,0,0,111426,26.55,,C',\n",
       " '606,0,3,\"Lindell, Mr. Edvard Bengtsson\",male,36,1,0,349910,15.55,,S',\n",
       " '607,0,3,\"Karaic, Mr. Milan\",male,30,0,0,349246,7.8958,,S',\n",
       " '608,1,1,\"Daniel, Mr. Robert Williams\",male,27,0,0,113804,30.5,,S',\n",
       " '609,1,2,\"Laroche, Mrs. Joseph (Juliette Marie Louise Lafargue)\",female,22,1,2,SC/Paris 2123,41.5792,,C',\n",
       " '610,1,1,\"Shutes, Miss. Elizabeth W\",female,40,0,0,PC 17582,153.4625,C125,S',\n",
       " '611,0,3,\"Andersson, Mrs. Anders Johan (Alfrida Konstantia Brogren)\",female,39,1,5,347082,31.275,,S',\n",
       " '612,0,3,\"Jardin, Mr. Jose Neto\",male,,0,0,SOTON/O.Q. 3101305,7.05,,S',\n",
       " '613,1,3,\"Murphy, Miss. Margaret Jane\",female,,1,0,367230,15.5,,Q',\n",
       " '614,0,3,\"Horgan, Mr. John\",male,,0,0,370377,7.75,,Q',\n",
       " '615,0,3,\"Brocklebank, Mr. William Alfred\",male,35,0,0,364512,8.05,,S',\n",
       " '616,1,2,\"Herman, Miss. Alice\",female,24,1,2,220845,65,,S',\n",
       " '617,0,3,\"Danbom, Mr. Ernst Gilbert\",male,34,1,1,347080,14.4,,S',\n",
       " '618,0,3,\"Lobb, Mrs. William Arthur (Cordelia K Stanlick)\",female,26,1,0,A/5. 3336,16.1,,S',\n",
       " '619,1,2,\"Becker, Miss. Marion Louise\",female,4,2,1,230136,39,F4,S',\n",
       " '620,0,2,\"Gavey, Mr. Lawrence\",male,26,0,0,31028,10.5,,S',\n",
       " '621,0,3,\"Yasbeck, Mr. Antoni\",male,27,1,0,2659,14.4542,,C',\n",
       " '622,1,1,\"Kimball, Mr. Edwin Nelson Jr\",male,42,1,0,11753,52.5542,D19,S',\n",
       " '623,1,3,\"Nakid, Mr. Sahid\",male,20,1,1,2653,15.7417,,C',\n",
       " '624,0,3,\"Hansen, Mr. Henry Damsgaard\",male,21,0,0,350029,7.8542,,S',\n",
       " '625,0,3,\"Bowen, Mr. David John \"\"Dai\"\"\",male,21,0,0,54636,16.1,,S',\n",
       " '626,0,1,\"Sutton, Mr. Frederick\",male,61,0,0,36963,32.3208,D50,S',\n",
       " '627,0,2,\"Kirkland, Rev. Charles Leonard\",male,57,0,0,219533,12.35,,Q',\n",
       " '628,1,1,\"Longley, Miss. Gretchen Fiske\",female,21,0,0,13502,77.9583,D9,S',\n",
       " '629,0,3,\"Bostandyeff, Mr. Guentcho\",male,26,0,0,349224,7.8958,,S',\n",
       " '630,0,3,\"O\\'Connell, Mr. Patrick D\",male,,0,0,334912,7.7333,,Q',\n",
       " '631,1,1,\"Barkworth, Mr. Algernon Henry Wilson\",male,80,0,0,27042,30,A23,S',\n",
       " '632,0,3,\"Lundahl, Mr. Johan Svensson\",male,51,0,0,347743,7.0542,,S',\n",
       " '633,1,1,\"Stahelin-Maeglin, Dr. Max\",male,32,0,0,13214,30.5,B50,C',\n",
       " '634,0,1,\"Parr, Mr. William Henry Marsh\",male,,0,0,112052,0,,S',\n",
       " '635,0,3,\"Skoog, Miss. Mabel\",female,9,3,2,347088,27.9,,S',\n",
       " '636,1,2,\"Davis, Miss. Mary\",female,28,0,0,237668,13,,S',\n",
       " '637,0,3,\"Leinonen, Mr. Antti Gustaf\",male,32,0,0,STON/O 2. 3101292,7.925,,S',\n",
       " '638,0,2,\"Collyer, Mr. Harvey\",male,31,1,1,C.A. 31921,26.25,,S',\n",
       " '639,0,3,\"Panula, Mrs. Juha (Maria Emilia Ojala)\",female,41,0,5,3101295,39.6875,,S',\n",
       " '640,0,3,\"Thorneycroft, Mr. Percival\",male,,1,0,376564,16.1,,S',\n",
       " '641,0,3,\"Jensen, Mr. Hans Peder\",male,20,0,0,350050,7.8542,,S',\n",
       " '642,1,1,\"Sagesser, Mlle. Emma\",female,24,0,0,PC 17477,69.3,B35,C',\n",
       " '643,0,3,\"Skoog, Miss. Margit Elizabeth\",female,2,3,2,347088,27.9,,S',\n",
       " '644,1,3,\"Foo, Mr. Choong\",male,,0,0,1601,56.4958,,S',\n",
       " '645,1,3,\"Baclini, Miss. Eugenie\",female,0.75,2,1,2666,19.2583,,C',\n",
       " '646,1,1,\"Harper, Mr. Henry Sleeper\",male,48,1,0,PC 17572,76.7292,D33,C',\n",
       " '647,0,3,\"Cor, Mr. Liudevit\",male,19,0,0,349231,7.8958,,S',\n",
       " '648,1,1,\"Simonius-Blumer, Col. Oberst Alfons\",male,56,0,0,13213,35.5,A26,C',\n",
       " '649,0,3,\"Willey, Mr. Edward\",male,,0,0,S.O./P.P. 751,7.55,,S',\n",
       " '650,1,3,\"Stanley, Miss. Amy Zillah Elsie\",female,23,0,0,CA. 2314,7.55,,S',\n",
       " '651,0,3,\"Mitkoff, Mr. Mito\",male,,0,0,349221,7.8958,,S',\n",
       " '652,1,2,\"Doling, Miss. Elsie\",female,18,0,1,231919,23,,S',\n",
       " '653,0,3,\"Kalvik, Mr. Johannes Halvorsen\",male,21,0,0,8475,8.4333,,S',\n",
       " '654,1,3,\"O\\'Leary, Miss. Hanora \"\"Norah\"\"\",female,,0,0,330919,7.8292,,Q',\n",
       " '655,0,3,\"Hegarty, Miss. Hanora \"\"Nora\"\"\",female,18,0,0,365226,6.75,,Q',\n",
       " '656,0,2,\"Hickman, Mr. Leonard Mark\",male,24,2,0,S.O.C. 14879,73.5,,S',\n",
       " '657,0,3,\"Radeff, Mr. Alexander\",male,,0,0,349223,7.8958,,S',\n",
       " '658,0,3,\"Bourke, Mrs. John (Catherine)\",female,32,1,1,364849,15.5,,Q',\n",
       " '659,0,2,\"Eitemiller, Mr. George Floyd\",male,23,0,0,29751,13,,S',\n",
       " '660,0,1,\"Newell, Mr. Arthur Webster\",male,58,0,2,35273,113.275,D48,C',\n",
       " '661,1,1,\"Frauenthal, Dr. Henry William\",male,50,2,0,PC 17611,133.65,,S',\n",
       " '662,0,3,\"Badt, Mr. Mohamed\",male,40,0,0,2623,7.225,,C',\n",
       " '663,0,1,\"Colley, Mr. Edward Pomeroy\",male,47,0,0,5727,25.5875,E58,S',\n",
       " '664,0,3,\"Coleff, Mr. Peju\",male,36,0,0,349210,7.4958,,S',\n",
       " '665,1,3,\"Lindqvist, Mr. Eino William\",male,20,1,0,STON/O 2. 3101285,7.925,,S',\n",
       " '666,0,2,\"Hickman, Mr. Lewis\",male,32,2,0,S.O.C. 14879,73.5,,S',\n",
       " '667,0,2,\"Butler, Mr. Reginald Fenton\",male,25,0,0,234686,13,,S',\n",
       " '668,0,3,\"Rommetvedt, Mr. Knud Paust\",male,,0,0,312993,7.775,,S',\n",
       " '669,0,3,\"Cook, Mr. Jacob\",male,43,0,0,A/5 3536,8.05,,S',\n",
       " '670,1,1,\"Taylor, Mrs. Elmer Zebley (Juliet Cummins Wright)\",female,,1,0,19996,52,C126,S',\n",
       " '671,1,2,\"Brown, Mrs. Thomas William Solomon (Elizabeth Catherine Ford)\",female,40,1,1,29750,39,,S',\n",
       " '672,0,1,\"Davidson, Mr. Thornton\",male,31,1,0,F.C. 12750,52,B71,S',\n",
       " '673,0,2,\"Mitchell, Mr. Henry Michael\",male,70,0,0,C.A. 24580,10.5,,S',\n",
       " '674,1,2,\"Wilhelms, Mr. Charles\",male,31,0,0,244270,13,,S',\n",
       " '675,0,2,\"Watson, Mr. Ennis Hastings\",male,,0,0,239856,0,,S',\n",
       " '676,0,3,\"Edvardsson, Mr. Gustaf Hjalmar\",male,18,0,0,349912,7.775,,S',\n",
       " '677,0,3,\"Sawyer, Mr. Frederick Charles\",male,24.5,0,0,342826,8.05,,S',\n",
       " '678,1,3,\"Turja, Miss. Anna Sofia\",female,18,0,0,4138,9.8417,,S',\n",
       " '679,0,3,\"Goodwin, Mrs. Frederick (Augusta Tyler)\",female,43,1,6,CA 2144,46.9,,S',\n",
       " '680,1,1,\"Cardeza, Mr. Thomas Drake Martinez\",male,36,0,1,PC 17755,512.3292,B51 B53 B55,C',\n",
       " '681,0,3,\"Peters, Miss. Katie\",female,,0,0,330935,8.1375,,Q',\n",
       " '682,1,1,\"Hassab, Mr. Hammad\",male,27,0,0,PC 17572,76.7292,D49,C',\n",
       " '683,0,3,\"Olsvigen, Mr. Thor Anderson\",male,20,0,0,6563,9.225,,S',\n",
       " '684,0,3,\"Goodwin, Mr. Charles Edward\",male,14,5,2,CA 2144,46.9,,S',\n",
       " '685,0,2,\"Brown, Mr. Thomas William Solomon\",male,60,1,1,29750,39,,S',\n",
       " '686,0,2,\"Laroche, Mr. Joseph Philippe Lemercier\",male,25,1,2,SC/Paris 2123,41.5792,,C',\n",
       " '687,0,3,\"Panula, Mr. Jaako Arnold\",male,14,4,1,3101295,39.6875,,S',\n",
       " '688,0,3,\"Dakic, Mr. Branko\",male,19,0,0,349228,10.1708,,S',\n",
       " '689,0,3,\"Fischer, Mr. Eberhard Thelander\",male,18,0,0,350036,7.7958,,S',\n",
       " '690,1,1,\"Madill, Miss. Georgette Alexandra\",female,15,0,1,24160,211.3375,B5,S',\n",
       " '691,1,1,\"Dick, Mr. Albert Adrian\",male,31,1,0,17474,57,B20,S',\n",
       " '692,1,3,\"Karun, Miss. Manca\",female,4,0,1,349256,13.4167,,C',\n",
       " '693,1,3,\"Lam, Mr. Ali\",male,,0,0,1601,56.4958,,S',\n",
       " '694,0,3,\"Saad, Mr. Khalil\",male,25,0,0,2672,7.225,,C',\n",
       " '695,0,1,\"Weir, Col. John\",male,60,0,0,113800,26.55,,S',\n",
       " '696,0,2,\"Chapman, Mr. Charles Henry\",male,52,0,0,248731,13.5,,S',\n",
       " '697,0,3,\"Kelly, Mr. James\",male,44,0,0,363592,8.05,,S',\n",
       " '698,1,3,\"Mullens, Miss. Katherine \"\"Katie\"\"\",female,,0,0,35852,7.7333,,Q',\n",
       " '699,0,1,\"Thayer, Mr. John Borland\",male,49,1,1,17421,110.8833,C68,C',\n",
       " '700,0,3,\"Humblen, Mr. Adolf Mathias Nicolai Olsen\",male,42,0,0,348121,7.65,F G63,S',\n",
       " '701,1,1,\"Astor, Mrs. John Jacob (Madeleine Talmadge Force)\",female,18,1,0,PC 17757,227.525,C62 C64,C',\n",
       " '702,1,1,\"Silverthorne, Mr. Spencer Victor\",male,35,0,0,PC 17475,26.2875,E24,S',\n",
       " '703,0,3,\"Barbara, Miss. Saiide\",female,18,0,1,2691,14.4542,,C',\n",
       " '704,0,3,\"Gallagher, Mr. Martin\",male,25,0,0,36864,7.7417,,Q',\n",
       " '705,0,3,\"Hansen, Mr. Henrik Juul\",male,26,1,0,350025,7.8542,,S',\n",
       " '706,0,2,\"Morley, Mr. Henry Samuel (\"\"Mr Henry Marshall\"\")\",male,39,0,0,250655,26,,S',\n",
       " '707,1,2,\"Kelly, Mrs. Florence \"\"Fannie\"\"\",female,45,0,0,223596,13.5,,S',\n",
       " '708,1,1,\"Calderhead, Mr. Edward Pennington\",male,42,0,0,PC 17476,26.2875,E24,S',\n",
       " '709,1,1,\"Cleaver, Miss. Alice\",female,22,0,0,113781,151.55,,S',\n",
       " '710,1,3,\"Moubarek, Master. Halim Gonios (\"\"William George\"\")\",male,,1,1,2661,15.2458,,C',\n",
       " '711,1,1,\"Mayne, Mlle. Berthe Antonine (\"\"Mrs de Villiers\"\")\",female,24,0,0,PC 17482,49.5042,C90,C',\n",
       " '712,0,1,\"Klaber, Mr. Herman\",male,,0,0,113028,26.55,C124,S',\n",
       " '713,1,1,\"Taylor, Mr. Elmer Zebley\",male,48,1,0,19996,52,C126,S',\n",
       " '714,0,3,\"Larsson, Mr. August Viktor\",male,29,0,0,7545,9.4833,,S',\n",
       " '715,0,2,\"Greenberg, Mr. Samuel\",male,52,0,0,250647,13,,S',\n",
       " '716,0,3,\"Soholt, Mr. Peter Andreas Lauritz Andersen\",male,19,0,0,348124,7.65,F G73,S',\n",
       " '717,1,1,\"Endres, Miss. Caroline Louise\",female,38,0,0,PC 17757,227.525,C45,C',\n",
       " '718,1,2,\"Troutt, Miss. Edwina Celia \"\"Winnie\"\"\",female,27,0,0,34218,10.5,E101,S',\n",
       " '719,0,3,\"McEvoy, Mr. Michael\",male,,0,0,36568,15.5,,Q',\n",
       " '720,0,3,\"Johnson, Mr. Malkolm Joackim\",male,33,0,0,347062,7.775,,S',\n",
       " '721,1,2,\"Harper, Miss. Annie Jessie \"\"Nina\"\"\",female,6,0,1,248727,33,,S',\n",
       " '722,0,3,\"Jensen, Mr. Svend Lauritz\",male,17,1,0,350048,7.0542,,S',\n",
       " '723,0,2,\"Gillespie, Mr. William Henry\",male,34,0,0,12233,13,,S',\n",
       " '724,0,2,\"Hodges, Mr. Henry Price\",male,50,0,0,250643,13,,S',\n",
       " '725,1,1,\"Chambers, Mr. Norman Campbell\",male,27,1,0,113806,53.1,E8,S',\n",
       " '726,0,3,\"Oreskovic, Mr. Luka\",male,20,0,0,315094,8.6625,,S',\n",
       " '727,1,2,\"Renouf, Mrs. Peter Henry (Lillian Jefferys)\",female,30,3,0,31027,21,,S',\n",
       " '728,1,3,\"Mannion, Miss. Margareth\",female,,0,0,36866,7.7375,,Q',\n",
       " '729,0,2,\"Bryhl, Mr. Kurt Arnold Gottfrid\",male,25,1,0,236853,26,,S',\n",
       " '730,0,3,\"Ilmakangas, Miss. Pieta Sofia\",female,25,1,0,STON/O2. 3101271,7.925,,S',\n",
       " '731,1,1,\"Allen, Miss. Elisabeth Walton\",female,29,0,0,24160,211.3375,B5,S',\n",
       " '732,0,3,\"Hassan, Mr. Houssein G N\",male,11,0,0,2699,18.7875,,C',\n",
       " '733,0,2,\"Knight, Mr. Robert J\",male,,0,0,239855,0,,S',\n",
       " '734,0,2,\"Berriman, Mr. William John\",male,23,0,0,28425,13,,S',\n",
       " '735,0,2,\"Troupiansky, Mr. Moses Aaron\",male,23,0,0,233639,13,,S',\n",
       " '736,0,3,\"Williams, Mr. Leslie\",male,28.5,0,0,54636,16.1,,S',\n",
       " '737,0,3,\"Ford, Mrs. Edward (Margaret Ann Watson)\",female,48,1,3,W./C. 6608,34.375,,S',\n",
       " '738,1,1,\"Lesurer, Mr. Gustave J\",male,35,0,0,PC 17755,512.3292,B101,C',\n",
       " '739,0,3,\"Ivanoff, Mr. Kanio\",male,,0,0,349201,7.8958,,S',\n",
       " '740,0,3,\"Nankoff, Mr. Minko\",male,,0,0,349218,7.8958,,S',\n",
       " '741,1,1,\"Hawksford, Mr. Walter James\",male,,0,0,16988,30,D45,S',\n",
       " '742,0,1,\"Cavendish, Mr. Tyrell William\",male,36,1,0,19877,78.85,C46,S',\n",
       " '743,1,1,\"Ryerson, Miss. Susan Parker \"\"Suzette\"\"\",female,21,2,2,PC 17608,262.375,B57 B59 B63 B66,C',\n",
       " '744,0,3,\"McNamee, Mr. Neal\",male,24,1,0,376566,16.1,,S',\n",
       " '745,1,3,\"Stranden, Mr. Juho\",male,31,0,0,STON/O 2. 3101288,7.925,,S',\n",
       " '746,0,1,\"Crosby, Capt. Edward Gifford\",male,70,1,1,WE/P 5735,71,B22,S',\n",
       " '747,0,3,\"Abbott, Mr. Rossmore Edward\",male,16,1,1,C.A. 2673,20.25,,S',\n",
       " '748,1,2,\"Sinkkonen, Miss. Anna\",female,30,0,0,250648,13,,S',\n",
       " '749,0,1,\"Marvin, Mr. Daniel Warner\",male,19,1,0,113773,53.1,D30,S',\n",
       " '750,0,3,\"Connaghton, Mr. Michael\",male,31,0,0,335097,7.75,,Q',\n",
       " '751,1,2,\"Wells, Miss. Joan\",female,4,1,1,29103,23,,S',\n",
       " '752,1,3,\"Moor, Master. Meier\",male,6,0,1,392096,12.475,E121,S',\n",
       " '753,0,3,\"Vande Velde, Mr. Johannes Joseph\",male,33,0,0,345780,9.5,,S',\n",
       " '754,0,3,\"Jonkoff, Mr. Lalio\",male,23,0,0,349204,7.8958,,S',\n",
       " '755,1,2,\"Herman, Mrs. Samuel (Jane Laver)\",female,48,1,2,220845,65,,S',\n",
       " '756,1,2,\"Hamalainen, Master. Viljo\",male,0.67,1,1,250649,14.5,,S',\n",
       " '757,0,3,\"Carlsson, Mr. August Sigfrid\",male,28,0,0,350042,7.7958,,S',\n",
       " '758,0,2,\"Bailey, Mr. Percy Andrew\",male,18,0,0,29108,11.5,,S',\n",
       " '759,0,3,\"Theobald, Mr. Thomas Leonard\",male,34,0,0,363294,8.05,,S',\n",
       " '760,1,1,\"Rothes, the Countess. of (Lucy Noel Martha Dyer-Edwards)\",female,33,0,0,110152,86.5,B77,S',\n",
       " '761,0,3,\"Garfirth, Mr. John\",male,,0,0,358585,14.5,,S',\n",
       " '762,0,3,\"Nirva, Mr. Iisakki Antino Aijo\",male,41,0,0,SOTON/O2 3101272,7.125,,S',\n",
       " '763,1,3,\"Barah, Mr. Hanna Assi\",male,20,0,0,2663,7.2292,,C',\n",
       " '764,1,1,\"Carter, Mrs. William Ernest (Lucile Polk)\",female,36,1,2,113760,120,B96 B98,S',\n",
       " '765,0,3,\"Eklund, Mr. Hans Linus\",male,16,0,0,347074,7.775,,S',\n",
       " '766,1,1,\"Hogeboom, Mrs. John C (Anna Andrews)\",female,51,1,0,13502,77.9583,D11,S',\n",
       " '767,0,1,\"Brewe, Dr. Arthur Jackson\",male,,0,0,112379,39.6,,C',\n",
       " '768,0,3,\"Mangan, Miss. Mary\",female,30.5,0,0,364850,7.75,,Q',\n",
       " '769,0,3,\"Moran, Mr. Daniel J\",male,,1,0,371110,24.15,,Q',\n",
       " '770,0,3,\"Gronnestad, Mr. Daniel Danielsen\",male,32,0,0,8471,8.3625,,S',\n",
       " '771,0,3,\"Lievens, Mr. Rene Aime\",male,24,0,0,345781,9.5,,S',\n",
       " '772,0,3,\"Jensen, Mr. Niels Peder\",male,48,0,0,350047,7.8542,,S',\n",
       " '773,0,2,\"Mack, Mrs. (Mary)\",female,57,0,0,S.O./P.P. 3,10.5,E77,S',\n",
       " '774,0,3,\"Elias, Mr. Dibo\",male,,0,0,2674,7.225,,C',\n",
       " '775,1,2,\"Hocking, Mrs. Elizabeth (Eliza Needs)\",female,54,1,3,29105,23,,S',\n",
       " '776,0,3,\"Myhrman, Mr. Pehr Fabian Oliver Malkolm\",male,18,0,0,347078,7.75,,S',\n",
       " '777,0,3,\"Tobin, Mr. Roger\",male,,0,0,383121,7.75,F38,Q',\n",
       " '778,1,3,\"Emanuel, Miss. Virginia Ethel\",female,5,0,0,364516,12.475,,S',\n",
       " '779,0,3,\"Kilgannon, Mr. Thomas J\",male,,0,0,36865,7.7375,,Q',\n",
       " '780,1,1,\"Robert, Mrs. Edward Scott (Elisabeth Walton McMillan)\",female,43,0,1,24160,211.3375,B3,S',\n",
       " '781,1,3,\"Ayoub, Miss. Banoura\",female,13,0,0,2687,7.2292,,C',\n",
       " '782,1,1,\"Dick, Mrs. Albert Adrian (Vera Gillespie)\",female,17,1,0,17474,57,B20,S',\n",
       " '783,0,1,\"Long, Mr. Milton Clyde\",male,29,0,0,113501,30,D6,S',\n",
       " '784,0,3,\"Johnston, Mr. Andrew G\",male,,1,2,W./C. 6607,23.45,,S',\n",
       " '785,0,3,\"Ali, Mr. William\",male,25,0,0,SOTON/O.Q. 3101312,7.05,,S',\n",
       " '786,0,3,\"Harmer, Mr. Abraham (David Lishin)\",male,25,0,0,374887,7.25,,S',\n",
       " '787,1,3,\"Sjoblom, Miss. Anna Sofia\",female,18,0,0,3101265,7.4958,,S',\n",
       " '788,0,3,\"Rice, Master. George Hugh\",male,8,4,1,382652,29.125,,Q',\n",
       " '789,1,3,\"Dean, Master. Bertram Vere\",male,1,1,2,C.A. 2315,20.575,,S',\n",
       " '790,0,1,\"Guggenheim, Mr. Benjamin\",male,46,0,0,PC 17593,79.2,B82 B84,C',\n",
       " '791,0,3,\"Keane, Mr. Andrew \"\"Andy\"\"\",male,,0,0,12460,7.75,,Q',\n",
       " '792,0,2,\"Gaskell, Mr. Alfred\",male,16,0,0,239865,26,,S',\n",
       " '793,0,3,\"Sage, Miss. Stella Anna\",female,,8,2,CA. 2343,69.55,,S',\n",
       " '794,0,1,\"Hoyt, Mr. William Fisher\",male,,0,0,PC 17600,30.6958,,C',\n",
       " '795,0,3,\"Dantcheff, Mr. Ristiu\",male,25,0,0,349203,7.8958,,S',\n",
       " '796,0,2,\"Otter, Mr. Richard\",male,39,0,0,28213,13,,S',\n",
       " '797,1,1,\"Leader, Dr. Alice (Farnham)\",female,49,0,0,17465,25.9292,D17,S',\n",
       " '798,1,3,\"Osman, Mrs. Mara\",female,31,0,0,349244,8.6833,,S',\n",
       " '799,0,3,\"Ibrahim Shawah, Mr. Yousseff\",male,30,0,0,2685,7.2292,,C',\n",
       " '800,0,3,\"Van Impe, Mrs. Jean Baptiste (Rosalie Paula Govaert)\",female,30,1,1,345773,24.15,,S',\n",
       " '801,0,2,\"Ponesell, Mr. Martin\",male,34,0,0,250647,13,,S',\n",
       " '802,1,2,\"Collyer, Mrs. Harvey (Charlotte Annie Tate)\",female,31,1,1,C.A. 31921,26.25,,S',\n",
       " '803,1,1,\"Carter, Master. William Thornton II\",male,11,1,2,113760,120,B96 B98,S',\n",
       " '804,1,3,\"Thomas, Master. Assad Alexander\",male,0.42,0,1,2625,8.5167,,C',\n",
       " '805,1,3,\"Hedman, Mr. Oskar Arvid\",male,27,0,0,347089,6.975,,S',\n",
       " '806,0,3,\"Johansson, Mr. Karl Johan\",male,31,0,0,347063,7.775,,S',\n",
       " '807,0,1,\"Andrews, Mr. Thomas Jr\",male,39,0,0,112050,0,A36,S',\n",
       " '808,0,3,\"Pettersson, Miss. Ellen Natalia\",female,18,0,0,347087,7.775,,S',\n",
       " '809,0,2,\"Meyer, Mr. August\",male,39,0,0,248723,13,,S',\n",
       " '810,1,1,\"Chambers, Mrs. Norman Campbell (Bertha Griggs)\",female,33,1,0,113806,53.1,E8,S',\n",
       " '811,0,3,\"Alexander, Mr. William\",male,26,0,0,3474,7.8875,,S',\n",
       " '812,0,3,\"Lester, Mr. James\",male,39,0,0,A/4 48871,24.15,,S',\n",
       " '813,0,2,\"Slemen, Mr. Richard James\",male,35,0,0,28206,10.5,,S',\n",
       " '814,0,3,\"Andersson, Miss. Ebba Iris Alfrida\",female,6,4,2,347082,31.275,,S',\n",
       " '815,0,3,\"Tomlin, Mr. Ernest Portage\",male,30.5,0,0,364499,8.05,,S',\n",
       " '816,0,1,\"Fry, Mr. Richard\",male,,0,0,112058,0,B102,S',\n",
       " '817,0,3,\"Heininen, Miss. Wendla Maria\",female,23,0,0,STON/O2. 3101290,7.925,,S',\n",
       " '818,0,2,\"Mallet, Mr. Albert\",male,31,1,1,S.C./PARIS 2079,37.0042,,C',\n",
       " '819,0,3,\"Holm, Mr. John Fredrik Alexander\",male,43,0,0,C 7075,6.45,,S',\n",
       " '820,0,3,\"Skoog, Master. Karl Thorsten\",male,10,3,2,347088,27.9,,S',\n",
       " '821,1,1,\"Hays, Mrs. Charles Melville (Clara Jennings Gregg)\",female,52,1,1,12749,93.5,B69,S',\n",
       " '822,1,3,\"Lulic, Mr. Nikola\",male,27,0,0,315098,8.6625,,S',\n",
       " '823,0,1,\"Reuchlin, Jonkheer. John George\",male,38,0,0,19972,0,,S',\n",
       " '824,1,3,\"Moor, Mrs. (Beila)\",female,27,0,1,392096,12.475,E121,S',\n",
       " '825,0,3,\"Panula, Master. Urho Abraham\",male,2,4,1,3101295,39.6875,,S',\n",
       " '826,0,3,\"Flynn, Mr. John\",male,,0,0,368323,6.95,,Q',\n",
       " '827,0,3,\"Lam, Mr. Len\",male,,0,0,1601,56.4958,,S',\n",
       " '828,1,2,\"Mallet, Master. Andre\",male,1,0,2,S.C./PARIS 2079,37.0042,,C',\n",
       " '829,1,3,\"McCormack, Mr. Thomas Joseph\",male,,0,0,367228,7.75,,Q',\n",
       " '830,1,1,\"Stone, Mrs. George Nelson (Martha Evelyn)\",female,62,0,0,113572,80,B28,',\n",
       " '831,1,3,\"Yasbeck, Mrs. Antoni (Selini Alexander)\",female,15,1,0,2659,14.4542,,C',\n",
       " '832,1,2,\"Richards, Master. George Sibley\",male,0.83,1,1,29106,18.75,,S',\n",
       " '833,0,3,\"Saad, Mr. Amin\",male,,0,0,2671,7.2292,,C',\n",
       " '834,0,3,\"Augustsson, Mr. Albert\",male,23,0,0,347468,7.8542,,S',\n",
       " '835,0,3,\"Allum, Mr. Owen George\",male,18,0,0,2223,8.3,,S',\n",
       " '836,1,1,\"Compton, Miss. Sara Rebecca\",female,39,1,1,PC 17756,83.1583,E49,C',\n",
       " '837,0,3,\"Pasic, Mr. Jakob\",male,21,0,0,315097,8.6625,,S',\n",
       " '838,0,3,\"Sirota, Mr. Maurice\",male,,0,0,392092,8.05,,S',\n",
       " '839,1,3,\"Chip, Mr. Chang\",male,32,0,0,1601,56.4958,,S',\n",
       " '840,1,1,\"Marechal, Mr. Pierre\",male,,0,0,11774,29.7,C47,C',\n",
       " '841,0,3,\"Alhomaki, Mr. Ilmari Rudolf\",male,20,0,0,SOTON/O2 3101287,7.925,,S',\n",
       " '842,0,2,\"Mudd, Mr. Thomas Charles\",male,16,0,0,S.O./P.P. 3,10.5,,S',\n",
       " '843,1,1,\"Serepeca, Miss. Augusta\",female,30,0,0,113798,31,,C',\n",
       " '844,0,3,\"Lemberopolous, Mr. Peter L\",male,34.5,0,0,2683,6.4375,,C',\n",
       " '845,0,3,\"Culumovic, Mr. Jeso\",male,17,0,0,315090,8.6625,,S',\n",
       " '846,0,3,\"Abbing, Mr. Anthony\",male,42,0,0,C.A. 5547,7.55,,S',\n",
       " '847,0,3,\"Sage, Mr. Douglas Bullen\",male,,8,2,CA. 2343,69.55,,S',\n",
       " '848,0,3,\"Markoff, Mr. Marin\",male,35,0,0,349213,7.8958,,C',\n",
       " '849,0,2,\"Harper, Rev. John\",male,28,0,1,248727,33,,S',\n",
       " '850,1,1,\"Goldenberg, Mrs. Samuel L (Edwiga Grabowska)\",female,,1,0,17453,89.1042,C92,C',\n",
       " '851,0,3,\"Andersson, Master. Sigvard Harald Elias\",male,4,4,2,347082,31.275,,S',\n",
       " '852,0,3,\"Svensson, Mr. Johan\",male,74,0,0,347060,7.775,,S',\n",
       " '853,0,3,\"Boulos, Miss. Nourelain\",female,9,1,1,2678,15.2458,,C',\n",
       " '854,1,1,\"Lines, Miss. Mary Conover\",female,16,0,1,PC 17592,39.4,D28,S',\n",
       " '855,0,2,\"Carter, Mrs. Ernest Courtenay (Lilian Hughes)\",female,44,1,0,244252,26,,S',\n",
       " '856,1,3,\"Aks, Mrs. Sam (Leah Rosen)\",female,18,0,1,392091,9.35,,S',\n",
       " '857,1,1,\"Wick, Mrs. George Dennick (Mary Hitchcock)\",female,45,1,1,36928,164.8667,,S',\n",
       " '858,1,1,\"Daly, Mr. Peter Denis \",male,51,0,0,113055,26.55,E17,S',\n",
       " '859,1,3,\"Baclini, Mrs. Solomon (Latifa Qurban)\",female,24,0,3,2666,19.2583,,C',\n",
       " '860,0,3,\"Razi, Mr. Raihed\",male,,0,0,2629,7.2292,,C',\n",
       " '861,0,3,\"Hansen, Mr. Claus Peter\",male,41,2,0,350026,14.1083,,S',\n",
       " '862,0,2,\"Giles, Mr. Frederick Edward\",male,21,1,0,28134,11.5,,S',\n",
       " '863,1,1,\"Swift, Mrs. Frederick Joel (Margaret Welles Barron)\",female,48,0,0,17466,25.9292,D17,S',\n",
       " '864,0,3,\"Sage, Miss. Dorothy Edith \"\"Dolly\"\"\",female,,8,2,CA. 2343,69.55,,S',\n",
       " '865,0,2,\"Gill, Mr. John William\",male,24,0,0,233866,13,,S',\n",
       " '866,1,2,\"Bystrom, Mrs. (Karolina)\",female,42,0,0,236852,13,,S',\n",
       " '867,1,2,\"Duran y More, Miss. Asuncion\",female,27,1,0,SC/PARIS 2149,13.8583,,C',\n",
       " '868,0,1,\"Roebling, Mr. Washington Augustus II\",male,31,0,0,PC 17590,50.4958,A24,S',\n",
       " '869,0,3,\"van Melkebeke, Mr. Philemon\",male,,0,0,345777,9.5,,S',\n",
       " '870,1,3,\"Johnson, Master. Harold Theodor\",male,4,1,1,347742,11.1333,,S',\n",
       " '871,0,3,\"Balkic, Mr. Cerin\",male,26,0,0,349248,7.8958,,S',\n",
       " '872,1,1,\"Beckwith, Mrs. Richard Leonard (Sallie Monypeny)\",female,47,1,1,11751,52.5542,D35,S',\n",
       " '873,0,1,\"Carlsson, Mr. Frans Olof\",male,33,0,0,695,5,B51 B53 B55,S',\n",
       " '874,0,3,\"Vander Cruyssen, Mr. Victor\",male,47,0,0,345765,9,,S',\n",
       " '875,1,2,\"Abelson, Mrs. Samuel (Hannah Wizosky)\",female,28,1,0,P/PP 3381,24,,C',\n",
       " '876,1,3,\"Najib, Miss. Adele Kiamie \"\"Jane\"\"\",female,15,0,0,2667,7.225,,C',\n",
       " '877,0,3,\"Gustafsson, Mr. Alfred Ossian\",male,20,0,0,7534,9.8458,,S',\n",
       " '878,0,3,\"Petroff, Mr. Nedelio\",male,19,0,0,349212,7.8958,,S',\n",
       " '879,0,3,\"Laleff, Mr. Kristo\",male,,0,0,349217,7.8958,,S',\n",
       " '880,1,1,\"Potter, Mrs. Thomas Jr (Lily Alexenia Wilson)\",female,56,0,1,11767,83.1583,C50,C',\n",
       " '881,1,2,\"Shelley, Mrs. William (Imanita Parrish Hall)\",female,25,0,1,230433,26,,S',\n",
       " '882,0,3,\"Markun, Mr. Johann\",male,33,0,0,349257,7.8958,,S',\n",
       " '883,0,3,\"Dahlberg, Miss. Gerda Ulrika\",female,22,0,0,7552,10.5167,,S',\n",
       " '884,0,2,\"Banfield, Mr. Frederick James\",male,28,0,0,C.A./SOTON 34068,10.5,,S',\n",
       " '885,0,3,\"Sutehall, Mr. Henry Jr\",male,25,0,0,SOTON/OQ 392076,7.05,,S',\n",
       " '886,0,3,\"Rice, Mrs. William (Margaret Norton)\",female,39,0,5,382652,29.125,,Q',\n",
       " '887,0,2,\"Montvila, Rev. Juozas\",male,27,0,0,211536,13,,S',\n",
       " '888,1,1,\"Graham, Miss. Margaret Edith\",female,19,0,0,112053,30,B42,S',\n",
       " '889,0,3,\"Johnston, Miss. Catherine Helen \"\"Carrie\"\"\",female,,1,2,W./C. 6607,23.45,,S',\n",
       " '890,1,1,\"Behr, Mr. Karl Howell\",male,26,0,0,111369,30,C148,C',\n",
       " '891,0,3,\"Dooley, Mr. Patrick\",male,32,0,0,370376,7.75,,Q']"
      ]
     },
     "execution_count": 92,
     "metadata": {},
     "output_type": "execute_result"
    }
   ],
   "source": [
    "# input training data\n",
    "#train_data_csv = '/home/jovyan/work/root/Documents/Target DS Training 2016/TargetDSTraining/HW4/titanic_train.csv'\n",
    "t_train = sc.textFile(\"titanic_train.csv\")\n",
    "print (type(t_train))\n",
    "\n",
    "t_train_utf = t_train.map(lambda x: x.encode(\"ascii\", \"ignore\"))\n",
    "col_names = t_train_utf.map(lambda x: x[1:])\n",
    "print (type(col_names))\n",
    "#print (col_names.collect())\n",
    "col_names.collect()\n",
    "\n",
    "t_train = t_train_utf.cache()\n",
    "# test the data\n",
    "t_train.collect()[1:]\n",
    "#t_train.take(100)[1:]"
   ]
  },
  {
   "cell_type": "code",
   "execution_count": 89,
   "metadata": {
    "collapsed": false
   },
   "outputs": [
    {
     "name": "stdout",
     "output_type": "stream",
     "text": [
      "<type 'list'>\n",
      "<type 'list'>\n"
     ]
    },
    {
     "ename": "TypeError",
     "evalue": "Can not infer schema for type: <type 'str'>",
     "output_type": "error",
     "traceback": [
      "\u001b[1;31m---------------------------------------------------------------------------\u001b[0m",
      "\u001b[1;31mTypeError\u001b[0m                                 Traceback (most recent call last)",
      "\u001b[1;32m<ipython-input-89-32b35ebc4de3>\u001b[0m in \u001b[0;36m<module>\u001b[1;34m()\u001b[0m\n\u001b[0;32m     12\u001b[0m \u001b[1;33m\u001b[0m\u001b[0m\n\u001b[0;32m     13\u001b[0m \u001b[1;31m#df = sqlContext.createDataFrame(rdd, ['name', 'age'])\u001b[0m\u001b[1;33m\u001b[0m\u001b[1;33m\u001b[0m\u001b[0m\n\u001b[1;32m---> 14\u001b[1;33m \u001b[0mdf\u001b[0m \u001b[1;33m=\u001b[0m \u001b[0msqlContext\u001b[0m\u001b[1;33m.\u001b[0m\u001b[0mcreateDataFrame\u001b[0m\u001b[1;33m(\u001b[0m\u001b[0mt_train\u001b[0m\u001b[1;33m,\u001b[0m \u001b[1;33m[\u001b[0m\u001b[1;34m\"PassengerId\"\u001b[0m\u001b[1;33m,\u001b[0m\u001b[1;34m\"Survived\"\u001b[0m\u001b[1;33m,\u001b[0m\u001b[1;34m\"Pclass\"\u001b[0m\u001b[1;33m,\u001b[0m\u001b[1;34m\"Name\"\u001b[0m\u001b[1;33m,\u001b[0m\u001b[1;34m\"Sex\"\u001b[0m\u001b[1;33m,\u001b[0m\u001b[1;34m\"Age\"\u001b[0m\u001b[1;33m,\u001b[0m\u001b[1;34m\"SibSp\"\u001b[0m\u001b[1;33m,\u001b[0m\u001b[1;34m\"Parch\"\u001b[0m\u001b[1;33m,\u001b[0m\u001b[1;34m\"Ticket\"\u001b[0m\u001b[1;33m,\u001b[0m\u001b[1;34m\"Fare\"\u001b[0m\u001b[1;33m,\u001b[0m\u001b[1;34m\"Cabin\"\u001b[0m\u001b[1;33m,\u001b[0m\u001b[1;34m\"Embarked\"\u001b[0m\u001b[1;33m]\u001b[0m\u001b[1;33m)\u001b[0m\u001b[1;33m\u001b[0m\u001b[0m\n\u001b[0m\u001b[0;32m     15\u001b[0m \u001b[0mdf\u001b[0m\u001b[1;33m.\u001b[0m\u001b[0mcollect\u001b[0m\u001b[1;33m(\u001b[0m\u001b[1;33m)\u001b[0m\u001b[1;33m\u001b[0m\u001b[0m\n\u001b[0;32m     16\u001b[0m \u001b[1;31m#for i in people:\u001b[0m\u001b[1;33m\u001b[0m\u001b[1;33m\u001b[0m\u001b[0m\n",
      "\u001b[1;32mC:\\Apps\\Apache\\spark-2.0.0\\python\\pyspark\\sql\\context.pyc\u001b[0m in \u001b[0;36mcreateDataFrame\u001b[1;34m(self, data, schema, samplingRatio)\u001b[0m\n\u001b[0;32m    297\u001b[0m         \u001b[0mPy4JJavaError\u001b[0m\u001b[1;33m:\u001b[0m \u001b[1;33m.\u001b[0m\u001b[1;33m.\u001b[0m\u001b[1;33m.\u001b[0m\u001b[1;33m\u001b[0m\u001b[0m\n\u001b[0;32m    298\u001b[0m         \"\"\"\n\u001b[1;32m--> 299\u001b[1;33m         \u001b[1;32mreturn\u001b[0m \u001b[0mself\u001b[0m\u001b[1;33m.\u001b[0m\u001b[0msparkSession\u001b[0m\u001b[1;33m.\u001b[0m\u001b[0mcreateDataFrame\u001b[0m\u001b[1;33m(\u001b[0m\u001b[0mdata\u001b[0m\u001b[1;33m,\u001b[0m \u001b[0mschema\u001b[0m\u001b[1;33m,\u001b[0m \u001b[0msamplingRatio\u001b[0m\u001b[1;33m)\u001b[0m\u001b[1;33m\u001b[0m\u001b[0m\n\u001b[0m\u001b[0;32m    300\u001b[0m \u001b[1;33m\u001b[0m\u001b[0m\n\u001b[0;32m    301\u001b[0m     \u001b[1;33m@\u001b[0m\u001b[0msince\u001b[0m\u001b[1;33m(\u001b[0m\u001b[1;36m1.3\u001b[0m\u001b[1;33m)\u001b[0m\u001b[1;33m\u001b[0m\u001b[0m\n",
      "\u001b[1;32mC:\\Apps\\Apache\\spark-2.0.0\\python\\pyspark\\sql\\session.pyc\u001b[0m in \u001b[0;36mcreateDataFrame\u001b[1;34m(self, data, schema, samplingRatio)\u001b[0m\n\u001b[0;32m    518\u001b[0m \u001b[1;33m\u001b[0m\u001b[0m\n\u001b[0;32m    519\u001b[0m         \u001b[1;32mif\u001b[0m \u001b[0misinstance\u001b[0m\u001b[1;33m(\u001b[0m\u001b[0mdata\u001b[0m\u001b[1;33m,\u001b[0m \u001b[0mRDD\u001b[0m\u001b[1;33m)\u001b[0m\u001b[1;33m:\u001b[0m\u001b[1;33m\u001b[0m\u001b[0m\n\u001b[1;32m--> 520\u001b[1;33m             \u001b[0mrdd\u001b[0m\u001b[1;33m,\u001b[0m \u001b[0mschema\u001b[0m \u001b[1;33m=\u001b[0m \u001b[0mself\u001b[0m\u001b[1;33m.\u001b[0m\u001b[0m_createFromRDD\u001b[0m\u001b[1;33m(\u001b[0m\u001b[0mdata\u001b[0m\u001b[1;33m.\u001b[0m\u001b[0mmap\u001b[0m\u001b[1;33m(\u001b[0m\u001b[0mprepare\u001b[0m\u001b[1;33m)\u001b[0m\u001b[1;33m,\u001b[0m \u001b[0mschema\u001b[0m\u001b[1;33m,\u001b[0m \u001b[0msamplingRatio\u001b[0m\u001b[1;33m)\u001b[0m\u001b[1;33m\u001b[0m\u001b[0m\n\u001b[0m\u001b[0;32m    521\u001b[0m         \u001b[1;32melse\u001b[0m\u001b[1;33m:\u001b[0m\u001b[1;33m\u001b[0m\u001b[0m\n\u001b[0;32m    522\u001b[0m             \u001b[0mrdd\u001b[0m\u001b[1;33m,\u001b[0m \u001b[0mschema\u001b[0m \u001b[1;33m=\u001b[0m \u001b[0mself\u001b[0m\u001b[1;33m.\u001b[0m\u001b[0m_createFromLocal\u001b[0m\u001b[1;33m(\u001b[0m\u001b[0mmap\u001b[0m\u001b[1;33m(\u001b[0m\u001b[0mprepare\u001b[0m\u001b[1;33m,\u001b[0m \u001b[0mdata\u001b[0m\u001b[1;33m)\u001b[0m\u001b[1;33m,\u001b[0m \u001b[0mschema\u001b[0m\u001b[1;33m)\u001b[0m\u001b[1;33m\u001b[0m\u001b[0m\n",
      "\u001b[1;32mC:\\Apps\\Apache\\spark-2.0.0\\python\\pyspark\\sql\\session.pyc\u001b[0m in \u001b[0;36m_createFromRDD\u001b[1;34m(self, rdd, schema, samplingRatio)\u001b[0m\n\u001b[0;32m    358\u001b[0m         \"\"\"\n\u001b[0;32m    359\u001b[0m         \u001b[1;32mif\u001b[0m \u001b[0mschema\u001b[0m \u001b[1;32mis\u001b[0m \u001b[0mNone\u001b[0m \u001b[1;32mor\u001b[0m \u001b[0misinstance\u001b[0m\u001b[1;33m(\u001b[0m\u001b[0mschema\u001b[0m\u001b[1;33m,\u001b[0m \u001b[1;33m(\u001b[0m\u001b[0mlist\u001b[0m\u001b[1;33m,\u001b[0m \u001b[0mtuple\u001b[0m\u001b[1;33m)\u001b[0m\u001b[1;33m)\u001b[0m\u001b[1;33m:\u001b[0m\u001b[1;33m\u001b[0m\u001b[0m\n\u001b[1;32m--> 360\u001b[1;33m             \u001b[0mstruct\u001b[0m \u001b[1;33m=\u001b[0m \u001b[0mself\u001b[0m\u001b[1;33m.\u001b[0m\u001b[0m_inferSchema\u001b[0m\u001b[1;33m(\u001b[0m\u001b[0mrdd\u001b[0m\u001b[1;33m,\u001b[0m \u001b[0msamplingRatio\u001b[0m\u001b[1;33m)\u001b[0m\u001b[1;33m\u001b[0m\u001b[0m\n\u001b[0m\u001b[0;32m    361\u001b[0m             \u001b[0mconverter\u001b[0m \u001b[1;33m=\u001b[0m \u001b[0m_create_converter\u001b[0m\u001b[1;33m(\u001b[0m\u001b[0mstruct\u001b[0m\u001b[1;33m)\u001b[0m\u001b[1;33m\u001b[0m\u001b[0m\n\u001b[0;32m    362\u001b[0m             \u001b[0mrdd\u001b[0m \u001b[1;33m=\u001b[0m \u001b[0mrdd\u001b[0m\u001b[1;33m.\u001b[0m\u001b[0mmap\u001b[0m\u001b[1;33m(\u001b[0m\u001b[0mconverter\u001b[0m\u001b[1;33m)\u001b[0m\u001b[1;33m\u001b[0m\u001b[0m\n",
      "\u001b[1;32mC:\\Apps\\Apache\\spark-2.0.0\\python\\pyspark\\sql\\session.pyc\u001b[0m in \u001b[0;36m_inferSchema\u001b[1;34m(self, rdd, samplingRatio)\u001b[0m\n\u001b[0;32m    338\u001b[0m \u001b[1;33m\u001b[0m\u001b[0m\n\u001b[0;32m    339\u001b[0m         \u001b[1;32mif\u001b[0m \u001b[0msamplingRatio\u001b[0m \u001b[1;32mis\u001b[0m \u001b[0mNone\u001b[0m\u001b[1;33m:\u001b[0m\u001b[1;33m\u001b[0m\u001b[0m\n\u001b[1;32m--> 340\u001b[1;33m             \u001b[0mschema\u001b[0m \u001b[1;33m=\u001b[0m \u001b[0m_infer_schema\u001b[0m\u001b[1;33m(\u001b[0m\u001b[0mfirst\u001b[0m\u001b[1;33m)\u001b[0m\u001b[1;33m\u001b[0m\u001b[0m\n\u001b[0m\u001b[0;32m    341\u001b[0m             \u001b[1;32mif\u001b[0m \u001b[0m_has_nulltype\u001b[0m\u001b[1;33m(\u001b[0m\u001b[0mschema\u001b[0m\u001b[1;33m)\u001b[0m\u001b[1;33m:\u001b[0m\u001b[1;33m\u001b[0m\u001b[0m\n\u001b[0;32m    342\u001b[0m                 \u001b[1;32mfor\u001b[0m \u001b[0mrow\u001b[0m \u001b[1;32min\u001b[0m \u001b[0mrdd\u001b[0m\u001b[1;33m.\u001b[0m\u001b[0mtake\u001b[0m\u001b[1;33m(\u001b[0m\u001b[1;36m100\u001b[0m\u001b[1;33m)\u001b[0m\u001b[1;33m[\u001b[0m\u001b[1;36m1\u001b[0m\u001b[1;33m:\u001b[0m\u001b[1;33m]\u001b[0m\u001b[1;33m:\u001b[0m\u001b[1;33m\u001b[0m\u001b[0m\n",
      "\u001b[1;32mC:\\Apps\\Apache\\spark-2.0.0\\python\\pyspark\\sql\\types.pyc\u001b[0m in \u001b[0;36m_infer_schema\u001b[1;34m(row)\u001b[0m\n\u001b[0;32m    987\u001b[0m \u001b[1;33m\u001b[0m\u001b[0m\n\u001b[0;32m    988\u001b[0m     \u001b[1;32melse\u001b[0m\u001b[1;33m:\u001b[0m\u001b[1;33m\u001b[0m\u001b[0m\n\u001b[1;32m--> 989\u001b[1;33m         \u001b[1;32mraise\u001b[0m \u001b[0mTypeError\u001b[0m\u001b[1;33m(\u001b[0m\u001b[1;34m\"Can not infer schema for type: %s\"\u001b[0m \u001b[1;33m%\u001b[0m \u001b[0mtype\u001b[0m\u001b[1;33m(\u001b[0m\u001b[0mrow\u001b[0m\u001b[1;33m)\u001b[0m\u001b[1;33m)\u001b[0m\u001b[1;33m\u001b[0m\u001b[0m\n\u001b[0m\u001b[0;32m    990\u001b[0m \u001b[1;33m\u001b[0m\u001b[0m\n\u001b[0;32m    991\u001b[0m     \u001b[0mfields\u001b[0m \u001b[1;33m=\u001b[0m \u001b[1;33m[\u001b[0m\u001b[0mStructField\u001b[0m\u001b[1;33m(\u001b[0m\u001b[0mk\u001b[0m\u001b[1;33m,\u001b[0m \u001b[0m_infer_type\u001b[0m\u001b[1;33m(\u001b[0m\u001b[0mv\u001b[0m\u001b[1;33m)\u001b[0m\u001b[1;33m,\u001b[0m \u001b[0mTrue\u001b[0m\u001b[1;33m)\u001b[0m \u001b[1;32mfor\u001b[0m \u001b[0mk\u001b[0m\u001b[1;33m,\u001b[0m \u001b[0mv\u001b[0m \u001b[1;32min\u001b[0m \u001b[0mitems\u001b[0m\u001b[1;33m]\u001b[0m\u001b[1;33m\u001b[0m\u001b[0m\n",
      "\u001b[1;31mTypeError\u001b[0m: Can not infer schema for type: <type 'str'>"
     ]
    }
   ],
   "source": [
    "# Start by parsing the training data\n",
    "t_train_rdd_1 = t_train.map(lambda x: Row(x.split(',')))\n",
    "t_train_rdd_1.first()\n",
    "#print t_train_rdd_1.collect()\n",
    "                            \n",
    "from pyspark.sql import Row\n",
    "from pyspark.sql import DataFrame\n",
    "parts = t_train.map(lambda l: l.split(\",\"))\n",
    "print (type(people))\n",
    "#people = t_train.map(lambda p: Row() for c in parts).collect() #, age=int(p[1])))\n",
    "print (type(people))\n",
    "\n",
    "#df = sqlContext.createDataFrame(rdd, ['name', 'age'])\n",
    "df = sqlContext.createDataFrame(t_train, [\"PassengerId\",\"Survived\",\"Pclass\",\"Name\",\"Sex\",\"Age\",\"SibSp\",\"Parch\",\"Ticket\",\"Fare\",\"Cabin\",\"Embarked\"])\n",
    "df.collect()\n",
    "#for i in people:\n",
    " #   print i\n",
    "\n",
    "#sqlContext.createDataFrame(t_train , ('PassengerId','Survived','Pclass','Name','Sex','Age','SibSp','Parch','Ticket','Fare','Cabin','Embarked')).collect()"
   ]
  },
  {
   "cell_type": "code",
   "execution_count": 77,
   "metadata": {
    "collapsed": false
   },
   "outputs": [
    {
     "name": "stdout",
     "output_type": "stream",
     "text": [
      "<class 'pyspark.sql.types.Row'>\n"
     ]
    }
   ],
   "source": [
    "#sqlContext.createDataFrame()\n",
    "#.printSchema\n",
    "Person = Row(\"name\", \"age\")\n",
    "print type(Person)\n"
   ]
  },
  {
   "cell_type": "code",
   "execution_count": 47,
   "metadata": {
    "collapsed": false
   },
   "outputs": [
    {
     "ename": "AssertionError",
     "evalue": "the data should be RDD of LabeledPoint",
     "output_type": "error",
     "traceback": [
      "\u001b[1;31m\u001b[0m",
      "\u001b[1;31mAssertionError\u001b[0mTraceback (most recent call last)",
      "\u001b[1;32m<ipython-input-47-7515436f79a8>\u001b[0m in \u001b[0;36m<module>\u001b[1;34m()\u001b[0m\n\u001b[0;32m      4\u001b[0m \u001b[0mt0\u001b[0m \u001b[1;33m=\u001b[0m \u001b[0mtime\u001b[0m\u001b[1;33m(\u001b[0m\u001b[1;33m)\u001b[0m\u001b[1;33m\u001b[0m\u001b[0m\n\u001b[0;32m      5\u001b[0m model = DecisionTree.trainClassifier(t_train_rdd_1, numClasses=2, categoricalFeaturesInfo={},\n\u001b[1;32m----> 6\u001b[1;33m                                      impurity='gini', maxDepth=5, maxBins=32)\n\u001b[0m\u001b[0;32m      7\u001b[0m \u001b[0mt1\u001b[0m \u001b[1;33m=\u001b[0m \u001b[0mtime\u001b[0m\u001b[1;33m(\u001b[0m\u001b[1;33m)\u001b[0m\u001b[1;33m\u001b[0m\u001b[0m\n\u001b[0;32m      8\u001b[0m \u001b[1;33m\u001b[0m\u001b[0m\n",
      "\u001b[1;32m/usr/local/spark/python/pyspark/mllib/tree.py\u001b[0m in \u001b[0;36mtrainClassifier\u001b[1;34m(cls, data, numClasses, categoricalFeaturesInfo, impurity, maxDepth, maxBins, minInstancesPerNode, minInfoGain)\u001b[0m\n\u001b[0;32m    204\u001b[0m         \"\"\"\n\u001b[0;32m    205\u001b[0m         return cls._train(data, \"classification\", numClasses, categoricalFeaturesInfo,\n\u001b[1;32m--> 206\u001b[1;33m                           impurity, maxDepth, maxBins, minInstancesPerNode, minInfoGain)\n\u001b[0m\u001b[0;32m    207\u001b[0m \u001b[1;33m\u001b[0m\u001b[0m\n\u001b[0;32m    208\u001b[0m     \u001b[1;33m@\u001b[0m\u001b[0mclassmethod\u001b[0m\u001b[1;33m\u001b[0m\u001b[0m\n",
      "\u001b[1;32m/usr/local/spark/python/pyspark/mllib/tree.py\u001b[0m in \u001b[0;36m_train\u001b[1;34m(cls, data, type, numClasses, features, impurity, maxDepth, maxBins, minInstancesPerNode, minInfoGain)\u001b[0m\n\u001b[0;32m    142\u001b[0m                minInstancesPerNode=1, minInfoGain=0.0):\n\u001b[0;32m    143\u001b[0m         \u001b[0mfirst\u001b[0m \u001b[1;33m=\u001b[0m \u001b[0mdata\u001b[0m\u001b[1;33m.\u001b[0m\u001b[0mfirst\u001b[0m\u001b[1;33m(\u001b[0m\u001b[1;33m)\u001b[0m\u001b[1;33m\u001b[0m\u001b[0m\n\u001b[1;32m--> 144\u001b[1;33m         \u001b[1;32massert\u001b[0m \u001b[0misinstance\u001b[0m\u001b[1;33m(\u001b[0m\u001b[0mfirst\u001b[0m\u001b[1;33m,\u001b[0m \u001b[0mLabeledPoint\u001b[0m\u001b[1;33m)\u001b[0m\u001b[1;33m,\u001b[0m \u001b[1;34m\"the data should be RDD of LabeledPoint\"\u001b[0m\u001b[1;33m\u001b[0m\u001b[0m\n\u001b[0m\u001b[0;32m    145\u001b[0m         model = callMLlibFunc(\"trainDecisionTreeModel\", data, type, numClasses, features,\n\u001b[0;32m    146\u001b[0m                               impurity, maxDepth, maxBins, minInstancesPerNode, minInfoGain)\n",
      "\u001b[1;31mAssertionError\u001b[0m: the data should be RDD of LabeledPoint"
     ]
    }
   ],
   "source": [
    "# Using mllib :\n",
    "from pyspark.mllib.tree import DecisionTree, DecisionTreeModel\n",
    "from time import time\n",
    "from pyspark.mllib.util import MLUtils\n",
    "\n",
    "model = DecisionTree.trainClassifier(t_train, numClasses=2, categoricalFeaturesInfo={},\n",
    "                                     impurity='gini', maxDepth=5, maxBins=32)\n",
    "\n",
    "t0 = time()\n",
    "model = DecisionTree.trainClassifier(t_train_rdd_1, numClasses=2, categoricalFeaturesInfo={},\n",
    "                                     impurity='gini', maxDepth=5, maxBins=32)\n",
    "t1 = time()\n",
    "\n",
    "print t1 - t0"
   ]
  },
  {
   "cell_type": "code",
   "execution_count": null,
   "metadata": {
    "collapsed": false,
    "scrolled": true
   },
   "outputs": [],
   "source": []
  },
  {
   "cell_type": "markdown",
   "metadata": {},
   "source": [
    "## HW4.4 Heritage Healthcare Prize\n",
    "\n",
    "Please the following notebooks\n",
    "- Spark SQL + MLLib solution (with optional \n",
    "- Spark Map-Reduce + MMLlib solution"
   ]
  },
  {
   "cell_type": "code",
   "execution_count": 29,
   "metadata": {
    "collapsed": true
   },
   "outputs": [],
   "source": [
    "sc.stop()"
   ]
  },
  {
   "cell_type": "code",
   "execution_count": null,
   "metadata": {
    "collapsed": true
   },
   "outputs": [],
   "source": []
  }
 ],
 "metadata": {
  "kernelspec": {
   "display_name": "Python 2",
   "language": "python",
   "name": "python2"
  },
  "language_info": {
   "codemirror_mode": {
    "name": "ipython",
    "version": 2
   },
   "file_extension": ".py",
   "mimetype": "text/x-python",
   "name": "python",
   "nbconvert_exporter": "python",
   "pygments_lexer": "ipython2",
   "version": "2.7.11"
  }
 },
 "nbformat": 4,
 "nbformat_minor": 0
}
